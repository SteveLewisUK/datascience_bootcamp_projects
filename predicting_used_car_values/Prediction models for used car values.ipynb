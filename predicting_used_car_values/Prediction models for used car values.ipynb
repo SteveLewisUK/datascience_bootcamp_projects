{
 "cells": [
  {
   "cell_type": "markdown",
   "metadata": {},
   "source": [
    "# Prediction Models for Used Car Values"
   ]
  },
  {
   "cell_type": "markdown",
   "metadata": {},
   "source": [
    "The Rusty Bargain used car sales service wishes to develop an app to attract new customers. In that app, customers will quickly be able to find out the market value of their car. \n",
    "\n",
    "We have access to historical data (technical specifications, trim versions, and prices) and we will build models to determine the market values. \n",
    "\n",
    "The company is interested in the following:\n",
    "\n",
    "- the quality of the prediction\n",
    "- the speed of the prediction\n",
    "- the time required for training."
   ]
  },
  {
   "cell_type": "code",
   "execution_count": 1,
   "metadata": {},
   "outputs": [],
   "source": [
    "import pandas as pd\n",
    "from IPython.display import display\n",
    "import numpy as np\n",
    "from scipy import stats as st\n",
    "import matplotlib.pyplot as plt\n",
    "%matplotlib inline\n",
    "from sklearn.model_selection import train_test_split\n",
    "from sklearn.preprocessing import StandardScaler\n",
    "from sklearn.linear_model import LinearRegression\n",
    "from sklearn.metrics import mean_squared_error\n",
    "from sklearn.ensemble import RandomForestRegressor\n",
    "from sklearn.preprocessing import OrdinalEncoder\n",
    "from sklearn.tree import DecisionTreeRegressor\n",
    "from sklearn import metrics\n",
    "import lightgbm as lgb\n",
    "import xgboost as xgb\n",
    "import catboost as cb\n",
    "from timeit import default_timer as timer\n",
    "import sys\n",
    "import warnings\n",
    "if not sys.warnoptions:\n",
    "    warnings.simplefilter(\"ignore\")"
   ]
  },
  {
   "cell_type": "markdown",
   "metadata": {},
   "source": [
    "## Data Preparation"
   ]
  },
  {
   "cell_type": "markdown",
   "metadata": {},
   "source": [
    "Importing and investigating the data:"
   ]
  },
  {
   "cell_type": "code",
   "execution_count": 2,
   "metadata": {},
   "outputs": [],
   "source": [
    "try:\n",
    "    data = pd.read_csv('/datasets/car_data.csv')\n",
    "except:\n",
    "    data = pd.read_csv('/Users/Steve Lewis/practicum_datasets/car_data.csv')"
   ]
  },
  {
   "cell_type": "code",
   "execution_count": 3,
   "metadata": {},
   "outputs": [
    {
     "data": {
      "text/html": [
       "<div>\n",
       "<style scoped>\n",
       "    .dataframe tbody tr th:only-of-type {\n",
       "        vertical-align: middle;\n",
       "    }\n",
       "\n",
       "    .dataframe tbody tr th {\n",
       "        vertical-align: top;\n",
       "    }\n",
       "\n",
       "    .dataframe thead th {\n",
       "        text-align: right;\n",
       "    }\n",
       "</style>\n",
       "<table border=\"1\" class=\"dataframe\">\n",
       "  <thead>\n",
       "    <tr style=\"text-align: right;\">\n",
       "      <th></th>\n",
       "      <th>DateCrawled</th>\n",
       "      <th>Price</th>\n",
       "      <th>VehicleType</th>\n",
       "      <th>RegistrationYear</th>\n",
       "      <th>Gearbox</th>\n",
       "      <th>Power</th>\n",
       "      <th>Model</th>\n",
       "      <th>Mileage</th>\n",
       "      <th>RegistrationMonth</th>\n",
       "      <th>FuelType</th>\n",
       "      <th>Brand</th>\n",
       "      <th>NotRepaired</th>\n",
       "      <th>DateCreated</th>\n",
       "      <th>NumberOfPictures</th>\n",
       "      <th>PostalCode</th>\n",
       "      <th>LastSeen</th>\n",
       "    </tr>\n",
       "  </thead>\n",
       "  <tbody>\n",
       "    <tr>\n",
       "      <td>0</td>\n",
       "      <td>24/03/2016 11:52</td>\n",
       "      <td>480</td>\n",
       "      <td>NaN</td>\n",
       "      <td>1993</td>\n",
       "      <td>manual</td>\n",
       "      <td>0</td>\n",
       "      <td>golf</td>\n",
       "      <td>150000</td>\n",
       "      <td>0</td>\n",
       "      <td>petrol</td>\n",
       "      <td>volkswagen</td>\n",
       "      <td>NaN</td>\n",
       "      <td>24/03/2016 00:00</td>\n",
       "      <td>0</td>\n",
       "      <td>70435</td>\n",
       "      <td>07/04/2016 03:16</td>\n",
       "    </tr>\n",
       "    <tr>\n",
       "      <td>1</td>\n",
       "      <td>24/03/2016 10:58</td>\n",
       "      <td>18300</td>\n",
       "      <td>coupe</td>\n",
       "      <td>2011</td>\n",
       "      <td>manual</td>\n",
       "      <td>190</td>\n",
       "      <td>NaN</td>\n",
       "      <td>125000</td>\n",
       "      <td>5</td>\n",
       "      <td>gasoline</td>\n",
       "      <td>audi</td>\n",
       "      <td>yes</td>\n",
       "      <td>24/03/2016 00:00</td>\n",
       "      <td>0</td>\n",
       "      <td>66954</td>\n",
       "      <td>07/04/2016 01:46</td>\n",
       "    </tr>\n",
       "    <tr>\n",
       "      <td>2</td>\n",
       "      <td>14/03/2016 12:52</td>\n",
       "      <td>9800</td>\n",
       "      <td>suv</td>\n",
       "      <td>2004</td>\n",
       "      <td>auto</td>\n",
       "      <td>163</td>\n",
       "      <td>grand</td>\n",
       "      <td>125000</td>\n",
       "      <td>8</td>\n",
       "      <td>gasoline</td>\n",
       "      <td>jeep</td>\n",
       "      <td>NaN</td>\n",
       "      <td>14/03/2016 00:00</td>\n",
       "      <td>0</td>\n",
       "      <td>90480</td>\n",
       "      <td>05/04/2016 12:47</td>\n",
       "    </tr>\n",
       "    <tr>\n",
       "      <td>3</td>\n",
       "      <td>17/03/2016 16:54</td>\n",
       "      <td>1500</td>\n",
       "      <td>small</td>\n",
       "      <td>2001</td>\n",
       "      <td>manual</td>\n",
       "      <td>75</td>\n",
       "      <td>golf</td>\n",
       "      <td>150000</td>\n",
       "      <td>6</td>\n",
       "      <td>petrol</td>\n",
       "      <td>volkswagen</td>\n",
       "      <td>no</td>\n",
       "      <td>17/03/2016 00:00</td>\n",
       "      <td>0</td>\n",
       "      <td>91074</td>\n",
       "      <td>17/03/2016 17:40</td>\n",
       "    </tr>\n",
       "    <tr>\n",
       "      <td>4</td>\n",
       "      <td>31/03/2016 17:25</td>\n",
       "      <td>3600</td>\n",
       "      <td>small</td>\n",
       "      <td>2008</td>\n",
       "      <td>manual</td>\n",
       "      <td>69</td>\n",
       "      <td>fabia</td>\n",
       "      <td>90000</td>\n",
       "      <td>7</td>\n",
       "      <td>gasoline</td>\n",
       "      <td>skoda</td>\n",
       "      <td>no</td>\n",
       "      <td>31/03/2016 00:00</td>\n",
       "      <td>0</td>\n",
       "      <td>60437</td>\n",
       "      <td>06/04/2016 10:17</td>\n",
       "    </tr>\n",
       "    <tr>\n",
       "      <td>...</td>\n",
       "      <td>...</td>\n",
       "      <td>...</td>\n",
       "      <td>...</td>\n",
       "      <td>...</td>\n",
       "      <td>...</td>\n",
       "      <td>...</td>\n",
       "      <td>...</td>\n",
       "      <td>...</td>\n",
       "      <td>...</td>\n",
       "      <td>...</td>\n",
       "      <td>...</td>\n",
       "      <td>...</td>\n",
       "      <td>...</td>\n",
       "      <td>...</td>\n",
       "      <td>...</td>\n",
       "      <td>...</td>\n",
       "    </tr>\n",
       "    <tr>\n",
       "      <td>354364</td>\n",
       "      <td>21/03/2016 09:50</td>\n",
       "      <td>0</td>\n",
       "      <td>NaN</td>\n",
       "      <td>2005</td>\n",
       "      <td>manual</td>\n",
       "      <td>0</td>\n",
       "      <td>colt</td>\n",
       "      <td>150000</td>\n",
       "      <td>7</td>\n",
       "      <td>petrol</td>\n",
       "      <td>mitsubishi</td>\n",
       "      <td>yes</td>\n",
       "      <td>21/03/2016 00:00</td>\n",
       "      <td>0</td>\n",
       "      <td>2694</td>\n",
       "      <td>21/03/2016 10:42</td>\n",
       "    </tr>\n",
       "    <tr>\n",
       "      <td>354365</td>\n",
       "      <td>14/03/2016 17:48</td>\n",
       "      <td>2200</td>\n",
       "      <td>NaN</td>\n",
       "      <td>2005</td>\n",
       "      <td>NaN</td>\n",
       "      <td>0</td>\n",
       "      <td>NaN</td>\n",
       "      <td>20000</td>\n",
       "      <td>1</td>\n",
       "      <td>NaN</td>\n",
       "      <td>sonstige_autos</td>\n",
       "      <td>NaN</td>\n",
       "      <td>14/03/2016 00:00</td>\n",
       "      <td>0</td>\n",
       "      <td>39576</td>\n",
       "      <td>06/04/2016 00:46</td>\n",
       "    </tr>\n",
       "    <tr>\n",
       "      <td>354366</td>\n",
       "      <td>05/03/2016 19:56</td>\n",
       "      <td>1199</td>\n",
       "      <td>convertible</td>\n",
       "      <td>2000</td>\n",
       "      <td>auto</td>\n",
       "      <td>101</td>\n",
       "      <td>fortwo</td>\n",
       "      <td>125000</td>\n",
       "      <td>3</td>\n",
       "      <td>petrol</td>\n",
       "      <td>smart</td>\n",
       "      <td>no</td>\n",
       "      <td>05/03/2016 00:00</td>\n",
       "      <td>0</td>\n",
       "      <td>26135</td>\n",
       "      <td>11/03/2016 18:17</td>\n",
       "    </tr>\n",
       "    <tr>\n",
       "      <td>354367</td>\n",
       "      <td>19/03/2016 18:57</td>\n",
       "      <td>9200</td>\n",
       "      <td>bus</td>\n",
       "      <td>1996</td>\n",
       "      <td>manual</td>\n",
       "      <td>102</td>\n",
       "      <td>transporter</td>\n",
       "      <td>150000</td>\n",
       "      <td>3</td>\n",
       "      <td>gasoline</td>\n",
       "      <td>volkswagen</td>\n",
       "      <td>no</td>\n",
       "      <td>19/03/2016 00:00</td>\n",
       "      <td>0</td>\n",
       "      <td>87439</td>\n",
       "      <td>07/04/2016 07:15</td>\n",
       "    </tr>\n",
       "    <tr>\n",
       "      <td>354368</td>\n",
       "      <td>20/03/2016 19:41</td>\n",
       "      <td>3400</td>\n",
       "      <td>wagon</td>\n",
       "      <td>2002</td>\n",
       "      <td>manual</td>\n",
       "      <td>100</td>\n",
       "      <td>golf</td>\n",
       "      <td>150000</td>\n",
       "      <td>6</td>\n",
       "      <td>gasoline</td>\n",
       "      <td>volkswagen</td>\n",
       "      <td>NaN</td>\n",
       "      <td>20/03/2016 00:00</td>\n",
       "      <td>0</td>\n",
       "      <td>40764</td>\n",
       "      <td>24/03/2016 12:45</td>\n",
       "    </tr>\n",
       "  </tbody>\n",
       "</table>\n",
       "<p>354369 rows × 16 columns</p>\n",
       "</div>"
      ],
      "text/plain": [
       "             DateCrawled  Price  VehicleType  RegistrationYear Gearbox  Power  \\\n",
       "0       24/03/2016 11:52    480          NaN              1993  manual      0   \n",
       "1       24/03/2016 10:58  18300        coupe              2011  manual    190   \n",
       "2       14/03/2016 12:52   9800          suv              2004    auto    163   \n",
       "3       17/03/2016 16:54   1500        small              2001  manual     75   \n",
       "4       31/03/2016 17:25   3600        small              2008  manual     69   \n",
       "...                  ...    ...          ...               ...     ...    ...   \n",
       "354364  21/03/2016 09:50      0          NaN              2005  manual      0   \n",
       "354365  14/03/2016 17:48   2200          NaN              2005     NaN      0   \n",
       "354366  05/03/2016 19:56   1199  convertible              2000    auto    101   \n",
       "354367  19/03/2016 18:57   9200          bus              1996  manual    102   \n",
       "354368  20/03/2016 19:41   3400        wagon              2002  manual    100   \n",
       "\n",
       "              Model  Mileage  RegistrationMonth  FuelType           Brand  \\\n",
       "0              golf   150000                  0    petrol      volkswagen   \n",
       "1               NaN   125000                  5  gasoline            audi   \n",
       "2             grand   125000                  8  gasoline            jeep   \n",
       "3              golf   150000                  6    petrol      volkswagen   \n",
       "4             fabia    90000                  7  gasoline           skoda   \n",
       "...             ...      ...                ...       ...             ...   \n",
       "354364         colt   150000                  7    petrol      mitsubishi   \n",
       "354365          NaN    20000                  1       NaN  sonstige_autos   \n",
       "354366       fortwo   125000                  3    petrol           smart   \n",
       "354367  transporter   150000                  3  gasoline      volkswagen   \n",
       "354368         golf   150000                  6  gasoline      volkswagen   \n",
       "\n",
       "       NotRepaired       DateCreated  NumberOfPictures  PostalCode  \\\n",
       "0              NaN  24/03/2016 00:00                 0       70435   \n",
       "1              yes  24/03/2016 00:00                 0       66954   \n",
       "2              NaN  14/03/2016 00:00                 0       90480   \n",
       "3               no  17/03/2016 00:00                 0       91074   \n",
       "4               no  31/03/2016 00:00                 0       60437   \n",
       "...            ...               ...               ...         ...   \n",
       "354364         yes  21/03/2016 00:00                 0        2694   \n",
       "354365         NaN  14/03/2016 00:00                 0       39576   \n",
       "354366          no  05/03/2016 00:00                 0       26135   \n",
       "354367          no  19/03/2016 00:00                 0       87439   \n",
       "354368         NaN  20/03/2016 00:00                 0       40764   \n",
       "\n",
       "                LastSeen  \n",
       "0       07/04/2016 03:16  \n",
       "1       07/04/2016 01:46  \n",
       "2       05/04/2016 12:47  \n",
       "3       17/03/2016 17:40  \n",
       "4       06/04/2016 10:17  \n",
       "...                  ...  \n",
       "354364  21/03/2016 10:42  \n",
       "354365  06/04/2016 00:46  \n",
       "354366  11/03/2016 18:17  \n",
       "354367  07/04/2016 07:15  \n",
       "354368  24/03/2016 12:45  \n",
       "\n",
       "[354369 rows x 16 columns]"
      ]
     },
     "execution_count": 3,
     "metadata": {},
     "output_type": "execute_result"
    }
   ],
   "source": [
    "data"
   ]
  },
  {
   "cell_type": "code",
   "execution_count": 4,
   "metadata": {},
   "outputs": [
    {
     "name": "stdout",
     "output_type": "stream",
     "text": [
      "<class 'pandas.core.frame.DataFrame'>\n",
      "RangeIndex: 354369 entries, 0 to 354368\n",
      "Data columns (total 16 columns):\n",
      "DateCrawled          354369 non-null object\n",
      "Price                354369 non-null int64\n",
      "VehicleType          316879 non-null object\n",
      "RegistrationYear     354369 non-null int64\n",
      "Gearbox              334536 non-null object\n",
      "Power                354369 non-null int64\n",
      "Model                334664 non-null object\n",
      "Mileage              354369 non-null int64\n",
      "RegistrationMonth    354369 non-null int64\n",
      "FuelType             321474 non-null object\n",
      "Brand                354369 non-null object\n",
      "NotRepaired          283215 non-null object\n",
      "DateCreated          354369 non-null object\n",
      "NumberOfPictures     354369 non-null int64\n",
      "PostalCode           354369 non-null int64\n",
      "LastSeen             354369 non-null object\n",
      "dtypes: int64(7), object(9)\n",
      "memory usage: 43.3+ MB\n"
     ]
    }
   ],
   "source": [
    "data.info()"
   ]
  },
  {
   "cell_type": "markdown",
   "metadata": {},
   "source": [
    "There are 354369 rows of data and 16 columns (variables).\n",
    "\n",
    "As stated at the outset, the job is to build and compare models that predict the market value (ie the 'expected price') of a car. \n",
    "\n",
    "From the information above it can immediately be seen that there are three 'date' columns in the dataset that will not be useful as features for our models, so I will immediately drop them from the dataset.\n",
    "\n",
    "I will also drop the 'PostalCode' column as it is assumed that the postal code of the seller will not affect the price of the car being sold."
   ]
  },
  {
   "cell_type": "code",
   "execution_count": 5,
   "metadata": {},
   "outputs": [],
   "source": [
    "columns_to_drop = ['DateCrawled', 'DateCreated', 'LastSeen', 'PostalCode']"
   ]
  },
  {
   "cell_type": "code",
   "execution_count": 6,
   "metadata": {},
   "outputs": [],
   "source": [
    "data = data.drop(columns = columns_to_drop)"
   ]
  },
  {
   "cell_type": "code",
   "execution_count": 7,
   "metadata": {},
   "outputs": [
    {
     "data": {
      "text/plain": [
       "(354369, 12)"
      ]
     },
     "execution_count": 7,
     "metadata": {},
     "output_type": "execute_result"
    }
   ],
   "source": [
    "data.shape"
   ]
  },
  {
   "cell_type": "markdown",
   "metadata": {},
   "source": [
    "These 4 columns have been successfully dropped.\n",
    "\n",
    "In the above, it was also clear that the dataset contains missing values.  These will now be examined further: "
   ]
  },
  {
   "cell_type": "code",
   "execution_count": 8,
   "metadata": {},
   "outputs": [
    {
     "data": {
      "text/plain": [
       "Price                    0\n",
       "VehicleType          37490\n",
       "RegistrationYear         0\n",
       "Gearbox              19833\n",
       "Power                    0\n",
       "Model                19705\n",
       "Mileage                  0\n",
       "RegistrationMonth        0\n",
       "FuelType             32895\n",
       "Brand                    0\n",
       "NotRepaired          71154\n",
       "NumberOfPictures         0\n",
       "dtype: int64"
      ]
     },
     "execution_count": 8,
     "metadata": {},
     "output_type": "execute_result"
    }
   ],
   "source": [
    "data.isnull().sum()"
   ]
  },
  {
   "cell_type": "code",
   "execution_count": 9,
   "metadata": {},
   "outputs": [
    {
     "data": {
      "text/plain": [
       "NotRepaired          20.079070\n",
       "VehicleType          10.579368\n",
       "FuelType              9.282697\n",
       "Gearbox               5.596709\n",
       "Model                 5.560588\n",
       "NumberOfPictures      0.000000\n",
       "Brand                 0.000000\n",
       "RegistrationMonth     0.000000\n",
       "Mileage               0.000000\n",
       "Power                 0.000000\n",
       "RegistrationYear      0.000000\n",
       "Price                 0.000000\n",
       "dtype: float64"
      ]
     },
     "execution_count": 9,
     "metadata": {},
     "output_type": "execute_result"
    }
   ],
   "source": [
    "100*data.isnull().sum().sort_values(ascending = False)/len(data)"
   ]
  },
  {
   "cell_type": "markdown",
   "metadata": {},
   "source": [
    "5 columns have missing values.  The column with the largest amount is 'NotRepaired' where over 20% are missing, followed by 'VehicleType' where 10.57% are missing."
   ]
  },
  {
   "cell_type": "code",
   "execution_count": 10,
   "metadata": {},
   "outputs": [
    {
     "data": {
      "text/plain": [
       "Price                 int64\n",
       "VehicleType          object\n",
       "RegistrationYear      int64\n",
       "Gearbox              object\n",
       "Power                 int64\n",
       "Model                object\n",
       "Mileage               int64\n",
       "RegistrationMonth     int64\n",
       "FuelType             object\n",
       "Brand                object\n",
       "NotRepaired          object\n",
       "NumberOfPictures      int64\n",
       "dtype: object"
      ]
     },
     "execution_count": 10,
     "metadata": {},
     "output_type": "execute_result"
    }
   ],
   "source": [
    "data.dtypes"
   ]
  },
  {
   "cell_type": "markdown",
   "metadata": {},
   "source": [
    "The 5 columns with missing values are all of the 'object' datatype.  We will replace the null values with 'unknown':"
   ]
  },
  {
   "cell_type": "code",
   "execution_count": 11,
   "metadata": {},
   "outputs": [],
   "source": [
    "data = data.fillna('unknown')"
   ]
  },
  {
   "cell_type": "code",
   "execution_count": 12,
   "metadata": {},
   "outputs": [
    {
     "data": {
      "text/plain": [
       "Price                0\n",
       "VehicleType          0\n",
       "RegistrationYear     0\n",
       "Gearbox              0\n",
       "Power                0\n",
       "Model                0\n",
       "Mileage              0\n",
       "RegistrationMonth    0\n",
       "FuelType             0\n",
       "Brand                0\n",
       "NotRepaired          0\n",
       "NumberOfPictures     0\n",
       "dtype: int64"
      ]
     },
     "execution_count": 12,
     "metadata": {},
     "output_type": "execute_result"
    }
   ],
   "source": [
    "data.isna().sum()"
   ]
  },
  {
   "cell_type": "markdown",
   "metadata": {},
   "source": [
    "The missing values have successfully been removed.  \n",
    "\n",
    "Now I investigate the distribution of the numeric columns:"
   ]
  },
  {
   "cell_type": "code",
   "execution_count": 13,
   "metadata": {},
   "outputs": [
    {
     "data": {
      "text/html": [
       "<div>\n",
       "<style scoped>\n",
       "    .dataframe tbody tr th:only-of-type {\n",
       "        vertical-align: middle;\n",
       "    }\n",
       "\n",
       "    .dataframe tbody tr th {\n",
       "        vertical-align: top;\n",
       "    }\n",
       "\n",
       "    .dataframe thead th {\n",
       "        text-align: right;\n",
       "    }\n",
       "</style>\n",
       "<table border=\"1\" class=\"dataframe\">\n",
       "  <thead>\n",
       "    <tr style=\"text-align: right;\">\n",
       "      <th></th>\n",
       "      <th>Price</th>\n",
       "      <th>RegistrationYear</th>\n",
       "      <th>Power</th>\n",
       "      <th>Mileage</th>\n",
       "      <th>RegistrationMonth</th>\n",
       "      <th>NumberOfPictures</th>\n",
       "    </tr>\n",
       "  </thead>\n",
       "  <tbody>\n",
       "    <tr>\n",
       "      <td>count</td>\n",
       "      <td>354369.000000</td>\n",
       "      <td>354369.000000</td>\n",
       "      <td>354369.000000</td>\n",
       "      <td>354369.000000</td>\n",
       "      <td>354369.000000</td>\n",
       "      <td>354369.0</td>\n",
       "    </tr>\n",
       "    <tr>\n",
       "      <td>mean</td>\n",
       "      <td>4416.656776</td>\n",
       "      <td>2004.234448</td>\n",
       "      <td>110.094337</td>\n",
       "      <td>128211.172535</td>\n",
       "      <td>5.714645</td>\n",
       "      <td>0.0</td>\n",
       "    </tr>\n",
       "    <tr>\n",
       "      <td>std</td>\n",
       "      <td>4514.158514</td>\n",
       "      <td>90.227958</td>\n",
       "      <td>189.850405</td>\n",
       "      <td>37905.341530</td>\n",
       "      <td>3.726421</td>\n",
       "      <td>0.0</td>\n",
       "    </tr>\n",
       "    <tr>\n",
       "      <td>min</td>\n",
       "      <td>0.000000</td>\n",
       "      <td>1000.000000</td>\n",
       "      <td>0.000000</td>\n",
       "      <td>5000.000000</td>\n",
       "      <td>0.000000</td>\n",
       "      <td>0.0</td>\n",
       "    </tr>\n",
       "    <tr>\n",
       "      <td>25%</td>\n",
       "      <td>1050.000000</td>\n",
       "      <td>1999.000000</td>\n",
       "      <td>69.000000</td>\n",
       "      <td>125000.000000</td>\n",
       "      <td>3.000000</td>\n",
       "      <td>0.0</td>\n",
       "    </tr>\n",
       "    <tr>\n",
       "      <td>50%</td>\n",
       "      <td>2700.000000</td>\n",
       "      <td>2003.000000</td>\n",
       "      <td>105.000000</td>\n",
       "      <td>150000.000000</td>\n",
       "      <td>6.000000</td>\n",
       "      <td>0.0</td>\n",
       "    </tr>\n",
       "    <tr>\n",
       "      <td>75%</td>\n",
       "      <td>6400.000000</td>\n",
       "      <td>2008.000000</td>\n",
       "      <td>143.000000</td>\n",
       "      <td>150000.000000</td>\n",
       "      <td>9.000000</td>\n",
       "      <td>0.0</td>\n",
       "    </tr>\n",
       "    <tr>\n",
       "      <td>max</td>\n",
       "      <td>20000.000000</td>\n",
       "      <td>9999.000000</td>\n",
       "      <td>20000.000000</td>\n",
       "      <td>150000.000000</td>\n",
       "      <td>12.000000</td>\n",
       "      <td>0.0</td>\n",
       "    </tr>\n",
       "  </tbody>\n",
       "</table>\n",
       "</div>"
      ],
      "text/plain": [
       "               Price  RegistrationYear          Power        Mileage  \\\n",
       "count  354369.000000     354369.000000  354369.000000  354369.000000   \n",
       "mean     4416.656776       2004.234448     110.094337  128211.172535   \n",
       "std      4514.158514         90.227958     189.850405   37905.341530   \n",
       "min         0.000000       1000.000000       0.000000    5000.000000   \n",
       "25%      1050.000000       1999.000000      69.000000  125000.000000   \n",
       "50%      2700.000000       2003.000000     105.000000  150000.000000   \n",
       "75%      6400.000000       2008.000000     143.000000  150000.000000   \n",
       "max     20000.000000       9999.000000   20000.000000  150000.000000   \n",
       "\n",
       "       RegistrationMonth  NumberOfPictures  \n",
       "count      354369.000000          354369.0  \n",
       "mean            5.714645               0.0  \n",
       "std             3.726421               0.0  \n",
       "min             0.000000               0.0  \n",
       "25%             3.000000               0.0  \n",
       "50%             6.000000               0.0  \n",
       "75%             9.000000               0.0  \n",
       "max            12.000000               0.0  "
      ]
     },
     "execution_count": 13,
     "metadata": {},
     "output_type": "execute_result"
    }
   ],
   "source": [
    "data.describe()"
   ]
  },
  {
   "cell_type": "markdown",
   "metadata": {},
   "source": [
    "The following have been discovered:\n",
    "\n",
    "1. There are some errors in the 'RegistrationYear' column, with dates as low as 1000 and as high as 9999; the rows with the infeasible dates will be deleted\n",
    "2. The maximum 'Power' is infeasibly large; such extreme outliers will also be deleted \n",
    "3. The minimum 'RegistrationMonth' should be 1 (corresponding to January), not zero\n",
    "4. There is no useful information in the 'NumberOfPictures' column, so the entire column will be deleted \n",
    "5. The 'Price' and 'Mileage' columns will be left as they are.  The values seem feasible, however there is no further information to confirm or dispute that.\n",
    "\n",
    "We will now proceed to execute the above, starting with the 'RegistrationYear' column."
   ]
  },
  {
   "cell_type": "markdown",
   "metadata": {},
   "source": [
    "### RegistrationYear"
   ]
  },
  {
   "cell_type": "markdown",
   "metadata": {},
   "source": [
    "Let's investigate the distribution of this column on a boxplot:"
   ]
  },
  {
   "cell_type": "code",
   "execution_count": 14,
   "metadata": {},
   "outputs": [
    {
     "data": {
      "image/png": "[encoded data removed]",
      "text/plain": [
       "<Figure size 432x288 with 1 Axes>"
      ]
     },
     "metadata": {
      "needs_background": "light"
     },
     "output_type": "display_data"
    }
   ],
   "source": [
    "data['RegistrationYear'].plot(kind = 'box')\n",
    "plt.title('Distribution of \"RegistrationYear\"')\n",
    "plt.show()"
   ]
  },
  {
   "cell_type": "markdown",
   "metadata": {},
   "source": [
    "It appears that there are plenty of 'outlier' values so this plot is not too helpful. Lets investigate the distribution of Registration Years on a histogram:"
   ]
  },
  {
   "cell_type": "code",
   "execution_count": 15,
   "metadata": {},
   "outputs": [
    {
     "data": {
      "image/png": "[encoded data removed]",
      "text/plain": [
       "<Figure size 504x360 with 1 Axes>"
      ]
     },
     "metadata": {
      "needs_background": "light"
     },
     "output_type": "display_data"
    }
   ],
   "source": [
    "data['RegistrationYear'].plot(kind = 'hist', bins = 2000, xlim = (1950, 2025), figsize = (7,5))\n",
    "plt.title('Distribution of \"RegistrationYear\"')\n",
    "plt.xlabel('RegistrationYear')\n",
    "plt.ylabel('Frequency')\n",
    "plt.show()"
   ]
  },
  {
   "cell_type": "markdown",
   "metadata": {},
   "source": [
    "We see the distribution from the plot.  We will remove the rows with 'RegistrationYear' year values below 1955 and greater than 2021."
   ]
  },
  {
   "cell_type": "code",
   "execution_count": 16,
   "metadata": {},
   "outputs": [
    {
     "data": {
      "text/plain": [
       "(353954, 12)"
      ]
     },
     "execution_count": 16,
     "metadata": {},
     "output_type": "execute_result"
    }
   ],
   "source": [
    "data_mod = data.loc[((data['RegistrationYear'] >= 1955) & (data['RegistrationYear'] <= 2021)),:]\n",
    "data_mod.shape"
   ]
  },
  {
   "cell_type": "markdown",
   "metadata": {},
   "source": [
    "415 rows of data were successfully removed."
   ]
  },
  {
   "cell_type": "markdown",
   "metadata": {},
   "source": [
    "### Power"
   ]
  },
  {
   "cell_type": "markdown",
   "metadata": {},
   "source": [
    "To now plot a histogram to see the distribution of the 'Power' valiable:"
   ]
  },
  {
   "cell_type": "code",
   "execution_count": 18,
   "metadata": {},
   "outputs": [
    {
     "data": {
      "image/png": "[encoded data removed]",
      "text/plain": [
       "<Figure size 504x360 with 1 Axes>"
      ]
     },
     "metadata": {
      "needs_background": "light"
     },
     "output_type": "display_data"
    }
   ],
   "source": [
    "data_mod['Power'].plot(kind = 'hist', bins = 500, xlim = (0, 500), figsize = (7,5))\n",
    "plt.title('Distribution of \"Power\"')\n",
    "plt.xlabel('Power (hp)')\n",
    "plt.ylabel('Frequency')\n",
    "plt.show()"
   ]
  },
  {
   "cell_type": "markdown",
   "metadata": {},
   "source": [
    "It seems that very few cars have power (hp) greater than 500.  From research, a Ferrari 812 has 789bhp and Lamborghini Aventador 740bhp, so will will use 790 as the cut off point and delete all rows with Power values > 790, assuming them to be errors:"
   ]
  },
  {
   "cell_type": "code",
   "execution_count": 19,
   "metadata": {},
   "outputs": [
    {
     "data": {
      "text/plain": [
       "(353626, 12)"
      ]
     },
     "execution_count": 19,
     "metadata": {},
     "output_type": "execute_result"
    }
   ],
   "source": [
    "data_mod = data_mod.loc[(data_mod['Power'] < 790),:]\n",
    "data_mod.shape"
   ]
  },
  {
   "cell_type": "markdown",
   "metadata": {},
   "source": [
    "A further 328 rows have been dropped."
   ]
  },
  {
   "cell_type": "markdown",
   "metadata": {},
   "source": [
    "### Registration Month"
   ]
  },
  {
   "cell_type": "markdown",
   "metadata": {},
   "source": [
    "We now investigate the number of registrations in each month and plot this on a bar chart:"
   ]
  },
  {
   "cell_type": "code",
   "execution_count": 20,
   "metadata": {},
   "outputs": [
    {
     "data": {
      "text/plain": [
       "0     37071\n",
       "1     23151\n",
       "2     21228\n",
       "3     34330\n",
       "4     29233\n",
       "5     29119\n",
       "6     31451\n",
       "7     27167\n",
       "8     22607\n",
       "9     23782\n",
       "10    26074\n",
       "11    24162\n",
       "12    24251\n",
       "Name: RegistrationMonth, dtype: int64"
      ]
     },
     "execution_count": 20,
     "metadata": {},
     "output_type": "execute_result"
    }
   ],
   "source": [
    "months = data_mod['RegistrationMonth'].value_counts().sort_index(ascending = True)\n",
    "months"
   ]
  },
  {
   "cell_type": "code",
   "execution_count": 21,
   "metadata": {},
   "outputs": [
    {
     "data": {
      "image/png": "[encoded data removed]",
      "text/plain": [
       "<Figure size 504x360 with 1 Axes>"
      ]
     },
     "metadata": {
      "needs_background": "light"
     },
     "output_type": "display_data"
    }
   ],
   "source": [
    "months.plot(kind = 'bar', figsize = (7,5), rot=0)\n",
    "plt.title('RegistrationMonth')\n",
    "plt.xlabel('Month')\n",
    "plt.ylabel('Number of Registrations')\n",
    "plt.show()"
   ]
  },
  {
   "cell_type": "markdown",
   "metadata": {},
   "source": [
    "There is a problem with some of this data: the registration month for 37071 vehicles was incorrectly recorded as 0. \n",
    "\n",
    "We will remove these vehicles from the data:"
   ]
  },
  {
   "cell_type": "code",
   "execution_count": 22,
   "metadata": {},
   "outputs": [
    {
     "data": {
      "text/plain": [
       "(316555, 12)"
      ]
     },
     "execution_count": 22,
     "metadata": {},
     "output_type": "execute_result"
    }
   ],
   "source": [
    "data_mod = data_mod.loc[(data_mod['RegistrationMonth'] > 0),:]\n",
    "data_mod.shape"
   ]
  },
  {
   "cell_type": "markdown",
   "metadata": {},
   "source": [
    "### Number of Pictures"
   ]
  },
  {
   "cell_type": "markdown",
   "metadata": {},
   "source": [
    "As stated above, we will drop this column as it contains no useful information."
   ]
  },
  {
   "cell_type": "code",
   "execution_count": 23,
   "metadata": {},
   "outputs": [
    {
     "data": {
      "text/plain": [
       "(316555, 11)"
      ]
     },
     "execution_count": 23,
     "metadata": {},
     "output_type": "execute_result"
    }
   ],
   "source": [
    "data_mod = data_mod.drop(columns = ['NumberOfPictures'])\n",
    "data_mod.shape"
   ]
  },
  {
   "cell_type": "markdown",
   "metadata": {},
   "source": [
    "### Checking for Duplicates:"
   ]
  },
  {
   "cell_type": "markdown",
   "metadata": {},
   "source": [
    "Now we check for duplicate rows in the dataset:"
   ]
  },
  {
   "cell_type": "code",
   "execution_count": 24,
   "metadata": {},
   "outputs": [
    {
     "data": {
      "text/plain": [
       "24942"
      ]
     },
     "execution_count": 24,
     "metadata": {},
     "output_type": "execute_result"
    }
   ],
   "source": [
    "data_mod.duplicated().sum()"
   ]
  },
  {
   "cell_type": "code",
   "execution_count": 25,
   "metadata": {},
   "outputs": [
    {
     "data": {
      "text/plain": [
       "7.879199507194643"
      ]
     },
     "execution_count": 25,
     "metadata": {},
     "output_type": "execute_result"
    }
   ],
   "source": [
    "100*data_mod.duplicated().sum()/len(data_mod)"
   ]
  },
  {
   "cell_type": "markdown",
   "metadata": {},
   "source": [
    "There are many duplicated rows in this dataset in fact 7.88% of the rows are duplicated), so we need to remove them:"
   ]
  },
  {
   "cell_type": "code",
   "execution_count": 26,
   "metadata": {},
   "outputs": [
    {
     "data": {
      "text/plain": [
       "(291613, 11)"
      ]
     },
     "execution_count": 26,
     "metadata": {},
     "output_type": "execute_result"
    }
   ],
   "source": [
    "data_mod = data_mod.drop_duplicates()\n",
    "data_mod.shape"
   ]
  },
  {
   "cell_type": "markdown",
   "metadata": {},
   "source": [
    "The duplicated rows have been removed from the dataset."
   ]
  },
  {
   "cell_type": "code",
   "execution_count": 27,
   "metadata": {},
   "outputs": [
    {
     "data": {
      "text/html": [
       "<div>\n",
       "<style scoped>\n",
       "    .dataframe tbody tr th:only-of-type {\n",
       "        vertical-align: middle;\n",
       "    }\n",
       "\n",
       "    .dataframe tbody tr th {\n",
       "        vertical-align: top;\n",
       "    }\n",
       "\n",
       "    .dataframe thead th {\n",
       "        text-align: right;\n",
       "    }\n",
       "</style>\n",
       "<table border=\"1\" class=\"dataframe\">\n",
       "  <thead>\n",
       "    <tr style=\"text-align: right;\">\n",
       "      <th></th>\n",
       "      <th>Price</th>\n",
       "      <th>VehicleType</th>\n",
       "      <th>RegistrationYear</th>\n",
       "      <th>Gearbox</th>\n",
       "      <th>Power</th>\n",
       "      <th>Model</th>\n",
       "      <th>Mileage</th>\n",
       "      <th>RegistrationMonth</th>\n",
       "      <th>FuelType</th>\n",
       "      <th>Brand</th>\n",
       "      <th>NotRepaired</th>\n",
       "    </tr>\n",
       "  </thead>\n",
       "  <tbody>\n",
       "    <tr>\n",
       "      <td>1</td>\n",
       "      <td>18300</td>\n",
       "      <td>coupe</td>\n",
       "      <td>2011</td>\n",
       "      <td>manual</td>\n",
       "      <td>190</td>\n",
       "      <td>unknown</td>\n",
       "      <td>125000</td>\n",
       "      <td>5</td>\n",
       "      <td>gasoline</td>\n",
       "      <td>audi</td>\n",
       "      <td>yes</td>\n",
       "    </tr>\n",
       "    <tr>\n",
       "      <td>2</td>\n",
       "      <td>9800</td>\n",
       "      <td>suv</td>\n",
       "      <td>2004</td>\n",
       "      <td>auto</td>\n",
       "      <td>163</td>\n",
       "      <td>grand</td>\n",
       "      <td>125000</td>\n",
       "      <td>8</td>\n",
       "      <td>gasoline</td>\n",
       "      <td>jeep</td>\n",
       "      <td>unknown</td>\n",
       "    </tr>\n",
       "    <tr>\n",
       "      <td>3</td>\n",
       "      <td>1500</td>\n",
       "      <td>small</td>\n",
       "      <td>2001</td>\n",
       "      <td>manual</td>\n",
       "      <td>75</td>\n",
       "      <td>golf</td>\n",
       "      <td>150000</td>\n",
       "      <td>6</td>\n",
       "      <td>petrol</td>\n",
       "      <td>volkswagen</td>\n",
       "      <td>no</td>\n",
       "    </tr>\n",
       "    <tr>\n",
       "      <td>4</td>\n",
       "      <td>3600</td>\n",
       "      <td>small</td>\n",
       "      <td>2008</td>\n",
       "      <td>manual</td>\n",
       "      <td>69</td>\n",
       "      <td>fabia</td>\n",
       "      <td>90000</td>\n",
       "      <td>7</td>\n",
       "      <td>gasoline</td>\n",
       "      <td>skoda</td>\n",
       "      <td>no</td>\n",
       "    </tr>\n",
       "    <tr>\n",
       "      <td>5</td>\n",
       "      <td>650</td>\n",
       "      <td>sedan</td>\n",
       "      <td>1995</td>\n",
       "      <td>manual</td>\n",
       "      <td>102</td>\n",
       "      <td>3er</td>\n",
       "      <td>150000</td>\n",
       "      <td>10</td>\n",
       "      <td>petrol</td>\n",
       "      <td>bmw</td>\n",
       "      <td>yes</td>\n",
       "    </tr>\n",
       "    <tr>\n",
       "      <td>...</td>\n",
       "      <td>...</td>\n",
       "      <td>...</td>\n",
       "      <td>...</td>\n",
       "      <td>...</td>\n",
       "      <td>...</td>\n",
       "      <td>...</td>\n",
       "      <td>...</td>\n",
       "      <td>...</td>\n",
       "      <td>...</td>\n",
       "      <td>...</td>\n",
       "      <td>...</td>\n",
       "    </tr>\n",
       "    <tr>\n",
       "      <td>354364</td>\n",
       "      <td>0</td>\n",
       "      <td>unknown</td>\n",
       "      <td>2005</td>\n",
       "      <td>manual</td>\n",
       "      <td>0</td>\n",
       "      <td>colt</td>\n",
       "      <td>150000</td>\n",
       "      <td>7</td>\n",
       "      <td>petrol</td>\n",
       "      <td>mitsubishi</td>\n",
       "      <td>yes</td>\n",
       "    </tr>\n",
       "    <tr>\n",
       "      <td>354365</td>\n",
       "      <td>2200</td>\n",
       "      <td>unknown</td>\n",
       "      <td>2005</td>\n",
       "      <td>unknown</td>\n",
       "      <td>0</td>\n",
       "      <td>unknown</td>\n",
       "      <td>20000</td>\n",
       "      <td>1</td>\n",
       "      <td>unknown</td>\n",
       "      <td>sonstige_autos</td>\n",
       "      <td>unknown</td>\n",
       "    </tr>\n",
       "    <tr>\n",
       "      <td>354366</td>\n",
       "      <td>1199</td>\n",
       "      <td>convertible</td>\n",
       "      <td>2000</td>\n",
       "      <td>auto</td>\n",
       "      <td>101</td>\n",
       "      <td>fortwo</td>\n",
       "      <td>125000</td>\n",
       "      <td>3</td>\n",
       "      <td>petrol</td>\n",
       "      <td>smart</td>\n",
       "      <td>no</td>\n",
       "    </tr>\n",
       "    <tr>\n",
       "      <td>354367</td>\n",
       "      <td>9200</td>\n",
       "      <td>bus</td>\n",
       "      <td>1996</td>\n",
       "      <td>manual</td>\n",
       "      <td>102</td>\n",
       "      <td>transporter</td>\n",
       "      <td>150000</td>\n",
       "      <td>3</td>\n",
       "      <td>gasoline</td>\n",
       "      <td>volkswagen</td>\n",
       "      <td>no</td>\n",
       "    </tr>\n",
       "    <tr>\n",
       "      <td>354368</td>\n",
       "      <td>3400</td>\n",
       "      <td>wagon</td>\n",
       "      <td>2002</td>\n",
       "      <td>manual</td>\n",
       "      <td>100</td>\n",
       "      <td>golf</td>\n",
       "      <td>150000</td>\n",
       "      <td>6</td>\n",
       "      <td>gasoline</td>\n",
       "      <td>volkswagen</td>\n",
       "      <td>unknown</td>\n",
       "    </tr>\n",
       "  </tbody>\n",
       "</table>\n",
       "<p>291613 rows × 11 columns</p>\n",
       "</div>"
      ],
      "text/plain": [
       "        Price  VehicleType  RegistrationYear  Gearbox  Power        Model  \\\n",
       "1       18300        coupe              2011   manual    190      unknown   \n",
       "2        9800          suv              2004     auto    163        grand   \n",
       "3        1500        small              2001   manual     75         golf   \n",
       "4        3600        small              2008   manual     69        fabia   \n",
       "5         650        sedan              1995   manual    102          3er   \n",
       "...       ...          ...               ...      ...    ...          ...   \n",
       "354364      0      unknown              2005   manual      0         colt   \n",
       "354365   2200      unknown              2005  unknown      0      unknown   \n",
       "354366   1199  convertible              2000     auto    101       fortwo   \n",
       "354367   9200          bus              1996   manual    102  transporter   \n",
       "354368   3400        wagon              2002   manual    100         golf   \n",
       "\n",
       "        Mileage  RegistrationMonth  FuelType           Brand NotRepaired  \n",
       "1        125000                  5  gasoline            audi         yes  \n",
       "2        125000                  8  gasoline            jeep     unknown  \n",
       "3        150000                  6    petrol      volkswagen          no  \n",
       "4         90000                  7  gasoline           skoda          no  \n",
       "5        150000                 10    petrol             bmw         yes  \n",
       "...         ...                ...       ...             ...         ...  \n",
       "354364   150000                  7    petrol      mitsubishi         yes  \n",
       "354365    20000                  1   unknown  sonstige_autos     unknown  \n",
       "354366   125000                  3    petrol           smart          no  \n",
       "354367   150000                  3  gasoline      volkswagen          no  \n",
       "354368   150000                  6  gasoline      volkswagen     unknown  \n",
       "\n",
       "[291613 rows x 11 columns]"
      ]
     },
     "execution_count": 27,
     "metadata": {},
     "output_type": "execute_result"
    }
   ],
   "source": [
    "data_mod"
   ]
  },
  {
   "cell_type": "markdown",
   "metadata": {},
   "source": [
    "This initial pre-processing has resulted in a dataset with 291,613 rows and 11 columns."
   ]
  },
  {
   "cell_type": "markdown",
   "metadata": {},
   "source": [
    "### Categorical Variables"
   ]
  },
  {
   "cell_type": "markdown",
   "metadata": {},
   "source": [
    "Now we will investigate further the six columns containing catagorical data:"
   ]
  },
  {
   "cell_type": "code",
   "execution_count": 28,
   "metadata": {},
   "outputs": [],
   "source": [
    "categorical_data = ['VehicleType', 'Gearbox', 'Model', 'FuelType', 'Brand', 'NotRepaired']"
   ]
  },
  {
   "cell_type": "markdown",
   "metadata": {},
   "source": [
    "For each of these columns we will investigate the number of unique values: "
   ]
  },
  {
   "cell_type": "code",
   "execution_count": 29,
   "metadata": {},
   "outputs": [
    {
     "name": "stdout",
     "output_type": "stream",
     "text": [
      "VehicleType\n",
      "Number of Unique Values: 9\n",
      "\n",
      "Gearbox\n",
      "Number of Unique Values: 3\n",
      "\n",
      "Model\n",
      "Number of Unique Values: 250\n",
      "\n",
      "FuelType\n",
      "Number of Unique Values: 8\n",
      "\n",
      "Brand\n",
      "Number of Unique Values: 40\n",
      "\n",
      "NotRepaired\n",
      "Number of Unique Values: 3\n",
      "\n"
     ]
    }
   ],
   "source": [
    "for category in categorical_data:\n",
    "    print(category)\n",
    "    print('Number of Unique Values:', data_mod[category].value_counts().count())\n",
    "    print()"
   ]
  },
  {
   "cell_type": "markdown",
   "metadata": {},
   "source": [
    "The 'Model' column has 250 unique values and the 'Brand' column has 40.  When using One Hot Encoding (OHE) to transform categorical variables to numeric ones, this would create 250 and 40 additional columns respectively. \n",
    "\n",
    "Therefore, in order to keep the models manageable, we will remove the 'Model' column from the data. If we had more information, we could potentially have created groups of car models to streamline the data, eg small, mid-size, SUV etc.  However, as we do not have this additional information currently, we will remove the column completely when using OHE.\n",
    "\n",
    "This concludes the initial data investigation and preparation and we now move on to training the models:"
   ]
  },
  {
   "cell_type": "markdown",
   "metadata": {},
   "source": [
    "## Model training"
   ]
  },
  {
   "cell_type": "markdown",
   "metadata": {},
   "source": [
    "Before training, we need to encode the categorical variables. We shall compare two encoding techniques: One Hot Encoding (OHE) and Ordinal Encoding.\n",
    "\n",
    "First we split the features from the target (price) and then divide the data into training, validation and test sets:"
   ]
  },
  {
   "cell_type": "code",
   "execution_count": 30,
   "metadata": {},
   "outputs": [
    {
     "data": {
      "text/plain": [
       "(291613, 10)"
      ]
     },
     "execution_count": 30,
     "metadata": {},
     "output_type": "execute_result"
    }
   ],
   "source": [
    "X = data_mod.drop(columns = ['Price'])\n",
    "X.shape"
   ]
  },
  {
   "cell_type": "code",
   "execution_count": 31,
   "metadata": {},
   "outputs": [
    {
     "data": {
      "text/plain": [
       "(291613,)"
      ]
     },
     "execution_count": 31,
     "metadata": {},
     "output_type": "execute_result"
    }
   ],
   "source": [
    "y = data_mod['Price']\n",
    "y.shape"
   ]
  },
  {
   "cell_type": "markdown",
   "metadata": {},
   "source": [
    "### One Hot Encoding"
   ]
  },
  {
   "cell_type": "markdown",
   "metadata": {},
   "source": [
    "As noted above, before we encoding using OHE, we will drop the 'Model' column, :"
   ]
  },
  {
   "cell_type": "code",
   "execution_count": 32,
   "metadata": {},
   "outputs": [
    {
     "data": {
      "text/plain": [
       "(291613, 9)"
      ]
     },
     "execution_count": 32,
     "metadata": {},
     "output_type": "execute_result"
    }
   ],
   "source": [
    "X_OHE = X.copy()\n",
    "X_OHE = X_OHE.drop(columns = 'Model')\n",
    "X_OHE.shape"
   ]
  },
  {
   "cell_type": "markdown",
   "metadata": {},
   "source": [
    "Now we transform the remaining categorial features using OHE:"
   ]
  },
  {
   "cell_type": "code",
   "execution_count": 33,
   "metadata": {},
   "outputs": [],
   "source": [
    "categorical_data_mod = ['VehicleType', 'Gearbox', 'FuelType', 'Brand', 'NotRepaired']"
   ]
  },
  {
   "cell_type": "code",
   "execution_count": 34,
   "metadata": {},
   "outputs": [
    {
     "data": {
      "text/plain": [
       "(291613, 62)"
      ]
     },
     "execution_count": 34,
     "metadata": {},
     "output_type": "execute_result"
    }
   ],
   "source": [
    "X_OHE = pd.get_dummies(X_OHE, columns=categorical_data_mod, drop_first = True)\n",
    "X_OHE.shape"
   ]
  },
  {
   "cell_type": "markdown",
   "metadata": {},
   "source": [
    "We now split the data. OHE is be applied before splitting the dataset into training, validation and test sets as otherwise it could lead to a mismatch in the number of columns in each set:"
   ]
  },
  {
   "cell_type": "code",
   "execution_count": 35,
   "metadata": {},
   "outputs": [
    {
     "data": {
      "text/plain": [
       "(174967, 62)"
      ]
     },
     "execution_count": 35,
     "metadata": {},
     "output_type": "execute_result"
    }
   ],
   "source": [
    "X_train_OHE, X_temp_OHE, y_train, y_temp = train_test_split(X_OHE, y, test_size=0.4, random_state=12345)\n",
    "X_valid_OHE, X_test_OHE, y_valid, y_test = train_test_split(X_temp_OHE, y_temp, test_size=0.5, random_state=12345)\n",
    "X_train_OHE.shape"
   ]
  },
  {
   "cell_type": "code",
   "execution_count": 36,
   "metadata": {},
   "outputs": [
    {
     "data": {
      "text/plain": [
       "(58323, 62)"
      ]
     },
     "execution_count": 36,
     "metadata": {},
     "output_type": "execute_result"
    }
   ],
   "source": [
    "X_valid_OHE.shape"
   ]
  },
  {
   "cell_type": "code",
   "execution_count": 37,
   "metadata": {},
   "outputs": [
    {
     "data": {
      "text/plain": [
       "(58323, 62)"
      ]
     },
     "execution_count": 37,
     "metadata": {},
     "output_type": "execute_result"
    }
   ],
   "source": [
    "X_test_OHE.shape"
   ]
  },
  {
   "cell_type": "markdown",
   "metadata": {},
   "source": [
    "We now have the 3 datasets ready for training."
   ]
  },
  {
   "cell_type": "markdown",
   "metadata": {},
   "source": [
    "## Linear Regression"
   ]
  },
  {
   "cell_type": "markdown",
   "metadata": {},
   "source": [
    "We will train two Linear Regression models: the first with the data encoded with OHE and the second with data encoded with Ordinal Encoding.\n",
    "\n",
    "We will measure how long it takes to train the model and then how long to make predictions with it.  The quality of the model will be measured with the RMSE (Root Mean Squared Error)."
   ]
  },
  {
   "cell_type": "code",
   "execution_count": 38,
   "metadata": {},
   "outputs": [
    {
     "data": {
      "text/plain": [
       "2.001"
      ]
     },
     "execution_count": 38,
     "metadata": {},
     "output_type": "execute_result"
    }
   ],
   "source": [
    "start = timer()\n",
    "\n",
    "lr_OHE_model = LinearRegression()\n",
    "lr_OHE_model.fit(X_train_OHE, y_train)\n",
    "\n",
    "end = timer()\n",
    "time_lr_OHE_train = end - start\n",
    "round(time_lr_OHE_train, 3)"
   ]
  },
  {
   "cell_type": "markdown",
   "metadata": {},
   "source": [
    "We define a function to return the RMSE as follows:"
   ]
  },
  {
   "cell_type": "code",
   "execution_count": 39,
   "metadata": {},
   "outputs": [],
   "source": [
    "def RMSE(target, predictions):\n",
    "    MSE = mean_squared_error(target, predictions)\n",
    "    RMSE = (MSE**0.5).round(2)\n",
    "    return RMSE"
   ]
  },
  {
   "cell_type": "markdown",
   "metadata": {},
   "source": [
    "Now we use the model to make predictions on the validation set:"
   ]
  },
  {
   "cell_type": "code",
   "execution_count": 40,
   "metadata": {},
   "outputs": [
    {
     "data": {
      "text/plain": [
       "0.1038"
      ]
     },
     "execution_count": 40,
     "metadata": {},
     "output_type": "execute_result"
    }
   ],
   "source": [
    "start = timer()\n",
    "\n",
    "valid_predictions_lr_OHE = lr_OHE_model.predict(X_valid_OHE)\n",
    "\n",
    "end = timer()\n",
    "time_lr_OHE_pred = end - start\n",
    "round(time_lr_OHE_pred, 4)"
   ]
  },
  {
   "cell_type": "code",
   "execution_count": null,
   "metadata": {},
   "outputs": [],
   "source": [
    "And use the predictions generated to measure RMSE:"
   ]
  },
  {
   "cell_type": "code",
   "execution_count": 41,
   "metadata": {},
   "outputs": [
    {
     "data": {
      "text/plain": [
       "2885.62"
      ]
     },
     "execution_count": 41,
     "metadata": {},
     "output_type": "execute_result"
    }
   ],
   "source": [
    "lr_OHE_RMSE = RMSE(y_valid, valid_predictions_lr_OHE)\n",
    "lr_OHE_RMSE"
   ]
  },
  {
   "cell_type": "markdown",
   "metadata": {},
   "source": [
    "This is the standard deviation of the prediction errors (the square root of average squared errors between the actual and the predicted values of the 'Price'). \n",
    "\n",
    "We will now encode the data with Ordinal Encoding and compare the RMSE obtained. We will also use the dataset that excludes the 'model' column."
   ]
  },
  {
   "cell_type": "markdown",
   "metadata": {},
   "source": [
    "### Ordinal Encoding"
   ]
  },
  {
   "cell_type": "markdown",
   "metadata": {},
   "source": [
    "When using Ordinal Encoding, we need to split the data first:"
   ]
  },
  {
   "cell_type": "code",
   "execution_count": 42,
   "metadata": {},
   "outputs": [
    {
     "data": {
      "text/plain": [
       "(291613, 9)"
      ]
     },
     "execution_count": 42,
     "metadata": {},
     "output_type": "execute_result"
    }
   ],
   "source": [
    "X_ord = X.copy()\n",
    "X_ord = X_ord.drop(columns = 'Model')\n",
    "X_ord.shape"
   ]
  },
  {
   "cell_type": "code",
   "execution_count": 43,
   "metadata": {},
   "outputs": [],
   "source": [
    "X_train_ord, X_temp_ord, y_train, y_temp = train_test_split(X_ord, y, test_size=0.4, random_state=12345)\n",
    "X_valid_ord, X_test_ord, y_valid, y_test = train_test_split(X_temp_ord, y_temp, test_size=0.5, random_state=12345)"
   ]
  },
  {
   "cell_type": "code",
   "execution_count": 44,
   "metadata": {},
   "outputs": [
    {
     "data": {
      "text/plain": [
       "(174967, 9)"
      ]
     },
     "execution_count": 44,
     "metadata": {},
     "output_type": "execute_result"
    }
   ],
   "source": [
    "X_train_ord.shape"
   ]
  },
  {
   "cell_type": "markdown",
   "metadata": {},
   "source": [
    "We define OrdinalEncoder() as object and fit it only on the train set.  We then apply that encoder to the train, valid and test sets:"
   ]
  },
  {
   "cell_type": "code",
   "execution_count": 45,
   "metadata": {},
   "outputs": [
    {
     "data": {
      "text/plain": [
       "OrdinalEncoder(categories='auto', dtype=<class 'numpy.float64'>)"
      ]
     },
     "execution_count": 45,
     "metadata": {},
     "output_type": "execute_result"
    }
   ],
   "source": [
    "encoder = OrdinalEncoder()\n",
    "encoder.fit(X_train_ord[categorical_data_mod])"
   ]
  },
  {
   "cell_type": "code",
   "execution_count": 46,
   "metadata": {},
   "outputs": [],
   "source": [
    "X_train_ord[categorical_data_mod] = encoder.transform(X_train_ord[categorical_data_mod])"
   ]
  },
  {
   "cell_type": "code",
   "execution_count": 47,
   "metadata": {},
   "outputs": [
    {
     "data": {
      "text/html": [
       "<div>\n",
       "<style scoped>\n",
       "    .dataframe tbody tr th:only-of-type {\n",
       "        vertical-align: middle;\n",
       "    }\n",
       "\n",
       "    .dataframe tbody tr th {\n",
       "        vertical-align: top;\n",
       "    }\n",
       "\n",
       "    .dataframe thead th {\n",
       "        text-align: right;\n",
       "    }\n",
       "</style>\n",
       "<table border=\"1\" class=\"dataframe\">\n",
       "  <thead>\n",
       "    <tr style=\"text-align: right;\">\n",
       "      <th></th>\n",
       "      <th>VehicleType</th>\n",
       "      <th>Gearbox</th>\n",
       "      <th>FuelType</th>\n",
       "      <th>Brand</th>\n",
       "      <th>NotRepaired</th>\n",
       "    </tr>\n",
       "  </thead>\n",
       "  <tbody>\n",
       "    <tr>\n",
       "      <td>191340</td>\n",
       "      <td>4.0</td>\n",
       "      <td>1.0</td>\n",
       "      <td>6.0</td>\n",
       "      <td>2.0</td>\n",
       "      <td>0.0</td>\n",
       "    </tr>\n",
       "    <tr>\n",
       "      <td>291728</td>\n",
       "      <td>5.0</td>\n",
       "      <td>1.0</td>\n",
       "      <td>6.0</td>\n",
       "      <td>30.0</td>\n",
       "      <td>0.0</td>\n",
       "    </tr>\n",
       "    <tr>\n",
       "      <td>175052</td>\n",
       "      <td>4.0</td>\n",
       "      <td>1.0</td>\n",
       "      <td>2.0</td>\n",
       "      <td>1.0</td>\n",
       "      <td>0.0</td>\n",
       "    </tr>\n",
       "    <tr>\n",
       "      <td>14292</td>\n",
       "      <td>4.0</td>\n",
       "      <td>1.0</td>\n",
       "      <td>2.0</td>\n",
       "      <td>20.0</td>\n",
       "      <td>0.0</td>\n",
       "    </tr>\n",
       "    <tr>\n",
       "      <td>169093</td>\n",
       "      <td>3.0</td>\n",
       "      <td>1.0</td>\n",
       "      <td>2.0</td>\n",
       "      <td>27.0</td>\n",
       "      <td>0.0</td>\n",
       "    </tr>\n",
       "    <tr>\n",
       "      <td>...</td>\n",
       "      <td>...</td>\n",
       "      <td>...</td>\n",
       "      <td>...</td>\n",
       "      <td>...</td>\n",
       "      <td>...</td>\n",
       "    </tr>\n",
       "    <tr>\n",
       "      <td>186539</td>\n",
       "      <td>0.0</td>\n",
       "      <td>1.0</td>\n",
       "      <td>2.0</td>\n",
       "      <td>38.0</td>\n",
       "      <td>0.0</td>\n",
       "    </tr>\n",
       "    <tr>\n",
       "      <td>54516</td>\n",
       "      <td>7.0</td>\n",
       "      <td>1.0</td>\n",
       "      <td>6.0</td>\n",
       "      <td>10.0</td>\n",
       "      <td>1.0</td>\n",
       "    </tr>\n",
       "    <tr>\n",
       "      <td>99591</td>\n",
       "      <td>8.0</td>\n",
       "      <td>1.0</td>\n",
       "      <td>6.0</td>\n",
       "      <td>31.0</td>\n",
       "      <td>2.0</td>\n",
       "    </tr>\n",
       "    <tr>\n",
       "      <td>88844</td>\n",
       "      <td>8.0</td>\n",
       "      <td>0.0</td>\n",
       "      <td>2.0</td>\n",
       "      <td>2.0</td>\n",
       "      <td>1.0</td>\n",
       "    </tr>\n",
       "    <tr>\n",
       "      <td>259439</td>\n",
       "      <td>8.0</td>\n",
       "      <td>1.0</td>\n",
       "      <td>7.0</td>\n",
       "      <td>1.0</td>\n",
       "      <td>1.0</td>\n",
       "    </tr>\n",
       "  </tbody>\n",
       "</table>\n",
       "<p>174967 rows × 5 columns</p>\n",
       "</div>"
      ],
      "text/plain": [
       "        VehicleType  Gearbox  FuelType  Brand  NotRepaired\n",
       "191340          4.0      1.0       6.0    2.0          0.0\n",
       "291728          5.0      1.0       6.0   30.0          0.0\n",
       "175052          4.0      1.0       2.0    1.0          0.0\n",
       "14292           4.0      1.0       2.0   20.0          0.0\n",
       "169093          3.0      1.0       2.0   27.0          0.0\n",
       "...             ...      ...       ...    ...          ...\n",
       "186539          0.0      1.0       2.0   38.0          0.0\n",
       "54516           7.0      1.0       6.0   10.0          1.0\n",
       "99591           8.0      1.0       6.0   31.0          2.0\n",
       "88844           8.0      0.0       2.0    2.0          1.0\n",
       "259439          8.0      1.0       7.0    1.0          1.0\n",
       "\n",
       "[174967 rows x 5 columns]"
      ]
     },
     "execution_count": 47,
     "metadata": {},
     "output_type": "execute_result"
    }
   ],
   "source": [
    "X_train_ord[categorical_data_mod]"
   ]
  },
  {
   "cell_type": "code",
   "execution_count": 48,
   "metadata": {},
   "outputs": [],
   "source": [
    "X_valid_ord[categorical_data_mod] = encoder.transform(X_valid_ord[categorical_data_mod])\n",
    "X_test_ord[categorical_data_mod] = encoder.transform(X_test_ord[categorical_data_mod])"
   ]
  },
  {
   "cell_type": "markdown",
   "metadata": {},
   "source": [
    "Now we train this second Linear Regression model:"
   ]
  },
  {
   "cell_type": "code",
   "execution_count": 49,
   "metadata": {},
   "outputs": [
    {
     "data": {
      "text/plain": [
       "0.041"
      ]
     },
     "execution_count": 49,
     "metadata": {},
     "output_type": "execute_result"
    }
   ],
   "source": [
    "start = timer()\n",
    "\n",
    "lr_ord_model = LinearRegression()\n",
    "lr_ord_model.fit(X_train_ord, y_train)\n",
    "\n",
    "end = timer()\n",
    "time_lr_ord_train = end - start\n",
    "round(time_lr_ord_train, 3)"
   ]
  },
  {
   "cell_type": "markdown",
   "metadata": {},
   "source": [
    "Now we make predictions on the validation set:"
   ]
  },
  {
   "cell_type": "code",
   "execution_count": 50,
   "metadata": {},
   "outputs": [
    {
     "data": {
      "text/plain": [
       "0.006"
      ]
     },
     "execution_count": 50,
     "metadata": {},
     "output_type": "execute_result"
    }
   ],
   "source": [
    "start = timer()\n",
    "\n",
    "valid_predictions_lr_ord = lr_ord_model.predict(X_valid_ord)\n",
    "\n",
    "end = timer()\n",
    "time_lr_ord_pred = end - start\n",
    "round(time_lr_ord_pred, 4)"
   ]
  },
  {
   "cell_type": "markdown",
   "metadata": {},
   "source": [
    "And now we measure the RMSE on the validation set:"
   ]
  },
  {
   "cell_type": "code",
   "execution_count": 51,
   "metadata": {},
   "outputs": [
    {
     "data": {
      "text/plain": [
       "3124.33"
      ]
     },
     "execution_count": 51,
     "metadata": {},
     "output_type": "execute_result"
    }
   ],
   "source": [
    "lr_ord_RMSE = RMSE(y_valid, valid_predictions_lr_ord)\n",
    "lr_ord_RMSE"
   ]
  },
  {
   "cell_type": "markdown",
   "metadata": {},
   "source": [
    "The RMSE for the linear regression model trained with data coded with One Hot Encoding is smaller when compared to the model trained with data encoded with Ordinal Encoding. This is to be expected as Ordinal Encoding typically performs better with tree-based algorithms."
   ]
  },
  {
   "cell_type": "markdown",
   "metadata": {},
   "source": [
    "## Random Forest Regression"
   ]
  },
  {
   "cell_type": "markdown",
   "metadata": {},
   "source": [
    "We will also train separate Random Forest Regression models using the data encoded with both One Hot Encoding and Ordinal Encoding.  We will tune these models using the n_estimators hyperparameter. \n",
    "\n",
    "We first train the data ecoded with OHE.\n",
    "\n",
    "Having trained the model with all values of the n_estimators parameter from 1 to 41, only the following is presented to save on running time:"
   ]
  },
  {
   "cell_type": "code",
   "execution_count": 52,
   "metadata": {},
   "outputs": [
    {
     "name": "stdout",
     "output_type": "stream",
     "text": [
      "n_estimators = 37 | RMSE = 1856.83\n",
      "n_estimators = 38 | RMSE = 1856.75\n",
      "n_estimators = 39 | RMSE = 1856.97\n",
      "CPU times: user 2min 8s, sys: 1.03 s, total: 2min 9s\n",
      "Wall time: 2min 10s\n"
     ]
    }
   ],
   "source": [
    "%%time\n",
    "\n",
    "for estimator in range(37,40):\n",
    "    model = RandomForestRegressor(random_state=12345, n_estimators=estimator)\n",
    "    model.fit(X_train_OHE, y_train)\n",
    "    valid_predictions = model.predict(X_valid_OHE)\n",
    "    print('n_estimators =', estimator, '|', 'RMSE =', RMSE(y_valid, valid_predictions))"
   ]
  },
  {
   "cell_type": "markdown",
   "metadata": {},
   "source": [
    "The Random Forest Regression model (using data encoded with One Hot Encoding) with n_estimators = 38 has the lowest RMSE.  We will train this model:"
   ]
  },
  {
   "cell_type": "code",
   "execution_count": 53,
   "metadata": {},
   "outputs": [
    {
     "data": {
      "text/plain": [
       "22.351"
      ]
     },
     "execution_count": 53,
     "metadata": {},
     "output_type": "execute_result"
    }
   ],
   "source": [
    "start = timer()\n",
    "\n",
    "rf_OHE_model = RandomForestRegressor(random_state=12345, n_estimators=19)\n",
    "rf_OHE_model.fit(X_train_OHE, y_train)\n",
    "\n",
    "end = timer()\n",
    "time_rf_OHE_train = end - start\n",
    "round(time_rf_OHE_train, 3)"
   ]
  },
  {
   "cell_type": "markdown",
   "metadata": {},
   "source": [
    "Now we use it to make predictions:"
   ]
  },
  {
   "cell_type": "code",
   "execution_count": 54,
   "metadata": {},
   "outputs": [
    {
     "data": {
      "text/plain": [
       "0.5158"
      ]
     },
     "execution_count": 54,
     "metadata": {},
     "output_type": "execute_result"
    }
   ],
   "source": [
    "start = timer()\n",
    "\n",
    "valid_predictions_rf_OHE = rf_OHE_model.predict(X_valid_OHE)\n",
    "\n",
    "end = timer()\n",
    "time_rf_OHE_pred = end - start\n",
    "round(time_rf_OHE_pred, 4)"
   ]
  },
  {
   "cell_type": "markdown",
   "metadata": {},
   "source": [
    "And now we measure the RMSE:"
   ]
  },
  {
   "cell_type": "code",
   "execution_count": 55,
   "metadata": {},
   "outputs": [
    {
     "data": {
      "text/plain": [
       "1874.87"
      ]
     },
     "execution_count": 55,
     "metadata": {},
     "output_type": "execute_result"
    }
   ],
   "source": [
    "rf_OHE_RMSE = RMSE(y_valid, valid_predictions_rf_OHE)\n",
    "rf_OHE_RMSE"
   ]
  },
  {
   "cell_type": "markdown",
   "metadata": {},
   "source": [
    "This is a significant improvement on the Linear Regression models.\n",
    "\n",
    "To compare, we will now train a Random Forest Regression model using the data encoded with Ordinal Encoding.  We will again tune the n_estimators hyperparameter. \n",
    "\n",
    "(Note: Only a few loops of the for-loop are presented to save on model running time):"
   ]
  },
  {
   "cell_type": "code",
   "execution_count": 56,
   "metadata": {},
   "outputs": [
    {
     "name": "stdout",
     "output_type": "stream",
     "text": [
      "n_estimators = 46 | RMSE = 1863.68\n",
      "n_estimators = 47 | RMSE = 1863.3\n",
      "n_estimators = 48 | RMSE = 1863.24\n",
      "n_estimators = 49 | RMSE = 1862.37\n",
      "CPU times: user 1min 23s, sys: 114 ms, total: 1min 23s\n",
      "Wall time: 1min 29s\n"
     ]
    }
   ],
   "source": [
    "%%time\n",
    "\n",
    "for estimator in range(46,50):\n",
    "    model = RandomForestRegressor(random_state=12345, n_estimators=estimator)\n",
    "    model.fit(X_train_ord, y_train)\n",
    "    valid_predictions = model.predict(X_valid_ord)\n",
    "    print('n_estimators =', estimator, '|', 'RMSE =', RMSE(y_valid, valid_predictions))"
   ]
  },
  {
   "cell_type": "markdown",
   "metadata": {},
   "source": [
    "We select the Random Forest Regression model (using data encoded with Ordinal Encoding) with n_estimators = 49"
   ]
  },
  {
   "cell_type": "code",
   "execution_count": 57,
   "metadata": {},
   "outputs": [
    {
     "data": {
      "text/plain": [
       "22.569"
      ]
     },
     "execution_count": 57,
     "metadata": {},
     "output_type": "execute_result"
    }
   ],
   "source": [
    "start = timer()\n",
    "\n",
    "rf_ord_model = RandomForestRegressor(random_state=12345, n_estimators=49)\n",
    "rf_ord_model.fit(X_train_ord, y_train)\n",
    "\n",
    "end = timer()\n",
    "time_rf_ord_train = end - start\n",
    "round(time_rf_ord_train, 3)"
   ]
  },
  {
   "cell_type": "code",
   "execution_count": 58,
   "metadata": {},
   "outputs": [
    {
     "data": {
      "text/plain": [
       "1.1684"
      ]
     },
     "execution_count": 58,
     "metadata": {},
     "output_type": "execute_result"
    }
   ],
   "source": [
    "start = timer()\n",
    "\n",
    "valid_predictions_rf_ord = rf_ord_model.predict(X_valid_ord)\n",
    "\n",
    "end = timer()\n",
    "time_rf_ord_pred = end - start\n",
    "round(time_rf_ord_pred, 4) "
   ]
  },
  {
   "cell_type": "code",
   "execution_count": 59,
   "metadata": {},
   "outputs": [
    {
     "data": {
      "text/plain": [
       "1862.37"
      ]
     },
     "execution_count": 59,
     "metadata": {},
     "output_type": "execute_result"
    }
   ],
   "source": [
    "rf_ord_RMSE = RMSE(y_valid, valid_predictions_rf_ord)\n",
    "rf_ord_RMSE"
   ]
  },
  {
   "cell_type": "markdown",
   "metadata": {},
   "source": [
    "The Random Forest Regression model with Ordinal Encoding does slightly better than the Random Forest Regression model with One Hot Encoding."
   ]
  },
  {
   "cell_type": "markdown",
   "metadata": {},
   "source": [
    "## Decision Tree Regression"
   ]
  },
  {
   "cell_type": "markdown",
   "metadata": {},
   "source": [
    "We turn now to Decision Tree Regression models and we first train a model using OHE encoded data:"
   ]
  },
  {
   "cell_type": "code",
   "execution_count": 60,
   "metadata": {},
   "outputs": [
    {
     "name": "stdout",
     "output_type": "stream",
     "text": [
      "max_depth = 5 | RMSE = 2543.27\n",
      "max_depth = 6 | RMSE = 2410.67\n",
      "max_depth = 7 | RMSE = 2306.11\n",
      "max_depth = 8 | RMSE = 2230.62\n",
      "max_depth = 9 | RMSE = 2168.97\n",
      "max_depth = 10 | RMSE = 2127.2\n",
      "max_depth = 11 | RMSE = 2088.9\n",
      "max_depth = 12 | RMSE = 2067.27\n",
      "max_depth = 13 | RMSE = 2065.79\n",
      "max_depth = 14 | RMSE = 2076.99\n",
      "CPU times: user 8.27 s, sys: 15.7 ms, total: 8.29 s\n",
      "Wall time: 8.82 s\n"
     ]
    }
   ],
   "source": [
    "%%time\n",
    "\n",
    "for depth in range(5,15):\n",
    "    model = DecisionTreeRegressor(random_state=12345, max_depth=depth)\n",
    "    model.fit(X_train_OHE, y_train)\n",
    "    valid_predictions = model.predict(X_valid_OHE)\n",
    "    print('max_depth =', depth, '|', 'RMSE =', RMSE(y_valid, valid_predictions))"
   ]
  },
  {
   "cell_type": "markdown",
   "metadata": {},
   "source": [
    "The Decision Tree Regression model (using data encoded with One Hot Encoding) with max_depth = 13 has the lowest RMSE.\n",
    "\n",
    "We train this model:"
   ]
  },
  {
   "cell_type": "code",
   "execution_count": 61,
   "metadata": {},
   "outputs": [
    {
     "data": {
      "text/plain": [
       "1.172"
      ]
     },
     "execution_count": 61,
     "metadata": {},
     "output_type": "execute_result"
    }
   ],
   "source": [
    "start = timer()\n",
    "\n",
    "dt_OHE_model = DecisionTreeRegressor(random_state=12345, max_depth=13)\n",
    "dt_OHE_model.fit(X_train_OHE, y_train)\n",
    "\n",
    "end = timer()\n",
    "time_dt_OHE_train = end - start\n",
    "round(time_dt_OHE_train, 3)"
   ]
  },
  {
   "cell_type": "code",
   "execution_count": null,
   "metadata": {},
   "outputs": [],
   "source": [
    "We make predictions with this model:"
   ]
  },
  {
   "cell_type": "code",
   "execution_count": 62,
   "metadata": {},
   "outputs": [
    {
     "data": {
      "text/plain": [
       "0.017"
      ]
     },
     "execution_count": 62,
     "metadata": {},
     "output_type": "execute_result"
    }
   ],
   "source": [
    "start = timer()\n",
    "\n",
    "valid_predictions_dt_OHE = dt_OHE_model.predict(X_valid_OHE)\n",
    "\n",
    "end = timer()\n",
    "time_dt_OHE_pred = end - start\n",
    "round(time_dt_OHE_pred, 4) "
   ]
  },
  {
   "cell_type": "code",
   "execution_count": null,
   "metadata": {},
   "outputs": [],
   "source": [
    "And we mesure the RMSE of the predictions:"
   ]
  },
  {
   "cell_type": "code",
   "execution_count": 63,
   "metadata": {},
   "outputs": [
    {
     "data": {
      "text/plain": [
       "2065.79"
      ]
     },
     "execution_count": 63,
     "metadata": {},
     "output_type": "execute_result"
    }
   ],
   "source": [
    "dt_OHE_RMSE = RMSE(y_valid, valid_predictions_dt_OHE)\n",
    "dt_OHE_RMSE"
   ]
  },
  {
   "cell_type": "markdown",
   "metadata": {},
   "source": [
    "We now compare this to a Decision Tree Regression model trained using data encoded with Ordinal Encoding:"
   ]
  },
  {
   "cell_type": "code",
   "execution_count": 64,
   "metadata": {},
   "outputs": [
    {
     "name": "stdout",
     "output_type": "stream",
     "text": [
      "max_depth = 1 | RMSE = 3803.18\n",
      "max_depth = 2 | RMSE = 3318.03\n",
      "max_depth = 3 | RMSE = 3033.14\n",
      "max_depth = 4 | RMSE = 2735.59\n",
      "max_depth = 5 | RMSE = 2538.41\n",
      "max_depth = 6 | RMSE = 2398.39\n",
      "max_depth = 7 | RMSE = 2281.8\n",
      "max_depth = 8 | RMSE = 2203.86\n",
      "max_depth = 9 | RMSE = 2137.81\n",
      "max_depth = 10 | RMSE = 2108.04\n",
      "max_depth = 11 | RMSE = 2082.48\n",
      "max_depth = 12 | RMSE = 2086.53\n",
      "max_depth = 13 | RMSE = 2082.61\n",
      "max_depth = 14 | RMSE = 2128.76\n",
      "CPU times: user 3.08 s, sys: 15.8 ms, total: 3.1 s\n",
      "Wall time: 3.15 s\n"
     ]
    }
   ],
   "source": [
    "%%time\n",
    "\n",
    "for depth in range(1,15):\n",
    "    model = DecisionTreeRegressor(random_state=12345, max_depth=depth)\n",
    "    model.fit(X_train_ord, y_train)\n",
    "    valid_predictions = model.predict(X_valid_ord)\n",
    "    print('max_depth =', depth, '|', 'RMSE =', RMSE(y_valid, valid_predictions))"
   ]
  },
  {
   "cell_type": "markdown",
   "metadata": {},
   "source": [
    "The Decision Tree Regression model (using data encoded with Ordinal Encoding) with max_depth = 11 has the lowest RMSE, so we use this one:"
   ]
  },
  {
   "cell_type": "code",
   "execution_count": 65,
   "metadata": {},
   "outputs": [
    {
     "data": {
      "text/plain": [
       "0.309"
      ]
     },
     "execution_count": 65,
     "metadata": {},
     "output_type": "execute_result"
    }
   ],
   "source": [
    "start = timer()\n",
    "\n",
    "dt_ord_model = DecisionTreeRegressor(random_state=12345, max_depth=11)\n",
    "dt_ord_model.fit(X_train_ord, y_train)\n",
    "\n",
    "end = timer()\n",
    "time_dt_ord_train = end - start\n",
    "round(time_dt_ord_train, 3)"
   ]
  },
  {
   "cell_type": "markdown",
   "metadata": {},
   "source": [
    "We now use it to make predictions:"
   ]
  },
  {
   "cell_type": "code",
   "execution_count": 66,
   "metadata": {},
   "outputs": [
    {
     "data": {
      "text/plain": [
       "0.0071"
      ]
     },
     "execution_count": 66,
     "metadata": {},
     "output_type": "execute_result"
    }
   ],
   "source": [
    "start = timer()\n",
    "\n",
    "valid_predictions_dt_ord = dt_ord_model.predict(X_valid_ord)\n",
    "\n",
    "end = timer()\n",
    "time_dt_ord_pred = end - start\n",
    "round(time_dt_ord_pred, 4) "
   ]
  },
  {
   "cell_type": "code",
   "execution_count": null,
   "metadata": {},
   "outputs": [],
   "source": [
    "And we measure the RMSE of the predictions:"
   ]
  },
  {
   "cell_type": "code",
   "execution_count": 67,
   "metadata": {},
   "outputs": [
    {
     "data": {
      "text/plain": [
       "2082.48"
      ]
     },
     "execution_count": 67,
     "metadata": {},
     "output_type": "execute_result"
    }
   ],
   "source": [
    "dt_ord_RMSE = RMSE(y_valid, valid_predictions_dt_ord)\n",
    "dt_ord_RMSE"
   ]
  },
  {
   "cell_type": "markdown",
   "metadata": {},
   "source": [
    "# Gradient Boosting Algorithms"
   ]
  },
  {
   "cell_type": "markdown",
   "metadata": {},
   "source": [
    "We will now train models using 3 gradient boosting algorithms: LightGBM, XGBoost and Catboost. Gradient boosting combines 'boosting' and 'gradient descent'.  \n",
    "    \n",
    "Boosting utliises a group, or ensemble, of sequential models constructed from decision tree models. A single model may not perform well individually due to high variance or high bias. However, when they are aggregated, their combination reduces bias or variance. Trees are added one at a time to the ensemble and fit to correct the prediction errors made by prior models, ie gradient boosting algorithms train on the residual errors of the previous predictor.\n",
    "\n",
    "First we will use LightGBM:"
   ]
  },
  {
   "cell_type": "markdown",
   "metadata": {},
   "source": [
    "## LightGBM"
   ]
  },
  {
   "cell_type": "markdown",
   "metadata": {},
   "source": [
    "LightGBM uses a 'leaf-wise algorithm' and controls model complexity by num_leaves (the maximum number of leaves each model has). Compared with depth-wise growth, this leaf-wise algorithm can converge much faster. However, it may over-fit if not used with the appropriate parameters.\n",
    "\n",
    "We will train models using LGBMRegressor using the X_train_OHE dataset, the data coded with One Hot Encoding.  \n",
    "\n",
    "We will first vary the num_leaves parameter as that is one of the most important parameters that controls the complexity of the LGBM model.  We will first set n_estimators=50 and learning_rate=0.1."
   ]
  },
  {
   "cell_type": "code",
   "execution_count": 69,
   "metadata": {},
   "outputs": [
    {
     "name": "stdout",
     "output_type": "stream",
     "text": [
      "num_leaves = 300 | RMSE = 1754.41\n",
      "num_leaves = 400 | RMSE = 1750.78\n",
      "num_leaves = 500 | RMSE = 1743.81\n",
      "num_leaves = 600 | RMSE = 1743.35\n",
      "num_leaves = 700 | RMSE = 1742.53\n",
      "num_leaves = 800 | RMSE = 1745.0\n",
      "num_leaves = 900 | RMSE = 1742.59\n",
      "num_leaves = 1000 | RMSE = 1745.38\n",
      "num_leaves = 1100 | RMSE = 1746.43\n",
      "num_leaves = 1200 | RMSE = 1745.95\n",
      "CPU times: user 2min 16s, sys: 1.52 s, total: 2min 17s\n",
      "Wall time: 2min 20s\n"
     ]
    }
   ],
   "source": [
    "%%time\n",
    "\n",
    "for leaves in range(300, 1300, 100):\n",
    "    model = lgb.LGBMRegressor(num_leaves=leaves, learning_rate=0.1, n_estimators=50, max_depth=-1, seed = 12345)\n",
    "    model.fit(X_train_OHE, y_train, verbose=5)\n",
    "    y_pred = model.predict(X_valid_OHE)\n",
    "    print('num_leaves =', leaves, '|', 'RMSE =', RMSE(y_valid, y_pred))"
   ]
  },
  {
   "cell_type": "markdown",
   "metadata": {},
   "source": [
    "We will now run the same analysis with n_estimators = 100:"
   ]
  },
  {
   "cell_type": "code",
   "execution_count": 70,
   "metadata": {},
   "outputs": [
    {
     "name": "stdout",
     "output_type": "stream",
     "text": [
      "num_leaves = 300 | RMSE = 1729.56\n",
      "num_leaves = 400 | RMSE = 1732.25\n",
      "num_leaves = 500 | RMSE = 1729.09\n",
      "num_leaves = 600 | RMSE = 1731.24\n",
      "num_leaves = 700 | RMSE = 1733.79\n",
      "num_leaves = 800 | RMSE = 1738.24\n",
      "num_leaves = 900 | RMSE = 1739.28\n",
      "num_leaves = 1000 | RMSE = 1741.58\n",
      "num_leaves = 1100 | RMSE = 1746.74\n",
      "num_leaves = 1200 | RMSE = 1745.94\n",
      "CPU times: user 4min 12s, sys: 2.54 s, total: 4min 14s\n",
      "Wall time: 4min 19s\n"
     ]
    }
   ],
   "source": [
    "%%time\n",
    "\n",
    "for leaves in range(300, 1300, 100):\n",
    "    model = lgb.LGBMRegressor(num_leaves=leaves, learning_rate=0.1, n_estimators=100, max_depth=-1, seed = 12345)\n",
    "    model.fit(X_train_OHE, y_train, verbose=5)\n",
    "    y_pred = model.predict(X_valid_OHE)\n",
    "    print('num_leaves =', leaves, '|', 'RMSE =', RMSE(y_valid, y_pred))"
   ]
  },
  {
   "cell_type": "markdown",
   "metadata": {},
   "source": [
    "With n_estimators=100, the lowest RMSE is acheived when num_leaves = 500. We will now vary n_estimators further to see if we can reduce RMSE still further:"
   ]
  },
  {
   "cell_type": "code",
   "execution_count": 71,
   "metadata": {},
   "outputs": [
    {
     "name": "stdout",
     "output_type": "stream",
     "text": [
      "n_estimators = 50 | RMSE = 1743.81\n",
      "n_estimators = 60 | RMSE = 1736.34\n",
      "n_estimators = 70 | RMSE = 1732.94\n",
      "n_estimators = 80 | RMSE = 1730.85\n",
      "n_estimators = 90 | RMSE = 1729.6\n",
      "n_estimators = 100 | RMSE = 1729.09\n",
      "n_estimators = 110 | RMSE = 1728.9\n",
      "n_estimators = 120 | RMSE = 1729.02\n",
      "n_estimators = 130 | RMSE = 1729.47\n",
      "n_estimators = 140 | RMSE = 1730.14\n",
      "CPU times: user 3min 2s, sys: 1.63 s, total: 3min 4s\n",
      "Wall time: 3min 8s\n"
     ]
    }
   ],
   "source": [
    "%%time\n",
    "\n",
    "for estimator in range(50, 150, 10):\n",
    "    model = lgb.LGBMRegressor(num_leaves=500, learning_rate=0.1, n_estimators=estimator, max_depth=-1, seed = 12345)\n",
    "    model.fit(X_train_OHE, y_train, verbose=5)\n",
    "    y_pred = model.predict(X_valid_OHE)\n",
    "    print('n_estimators =', estimator, '|', 'RMSE =', RMSE(y_valid, y_pred))"
   ]
  },
  {
   "cell_type": "markdown",
   "metadata": {},
   "source": [
    "In the analysis above, the model with num_leaves=500 and n_estimators = 110 has the lowest RMSE.\n",
    "\n",
    "We now train the model using those hyperparameters:"
   ]
  },
  {
   "cell_type": "code",
   "execution_count": 72,
   "metadata": {},
   "outputs": [
    {
     "data": {
      "text/plain": [
       "20.005"
      ]
     },
     "execution_count": 72,
     "metadata": {},
     "output_type": "execute_result"
    }
   ],
   "source": [
    "start = timer()\n",
    "\n",
    "LGBM_model = lgb.LGBMRegressor(num_leaves=500, learning_rate=0.1, n_estimators=110, max_depth=-1, seed = 12345)\n",
    "LGBM_model.fit(X_train_OHE, y_train, verbose=5)\n",
    "\n",
    "end = timer()\n",
    "time_LGBM_train = end - start\n",
    "round(time_LGBM_train, 3)"
   ]
  },
  {
   "cell_type": "code",
   "execution_count": null,
   "metadata": {},
   "outputs": [],
   "source": [
    "No we make predictions on the validation set with that model:"
   ]
  },
  {
   "cell_type": "code",
   "execution_count": 73,
   "metadata": {},
   "outputs": [
    {
     "data": {
      "text/plain": [
       "1.0976"
      ]
     },
     "execution_count": 73,
     "metadata": {},
     "output_type": "execute_result"
    }
   ],
   "source": [
    "start = timer()\n",
    "\n",
    "valid_predictions_LGBM = LGBM_model.predict(X_valid_OHE)\n",
    "\n",
    "end = timer()\n",
    "time_LGBM_pred = end - start\n",
    "round(time_LGBM_pred, 4) "
   ]
  },
  {
   "cell_type": "code",
   "execution_count": null,
   "metadata": {},
   "outputs": [],
   "source": [
    "Now we calculate the RMSE:"
   ]
  },
  {
   "cell_type": "code",
   "execution_count": 74,
   "metadata": {},
   "outputs": [
    {
     "data": {
      "text/plain": [
       "1728.9"
      ]
     },
     "execution_count": 74,
     "metadata": {},
     "output_type": "execute_result"
    }
   ],
   "source": [
    "LGBM_RMSE = RMSE(y_valid, valid_predictions_LGBM)\n",
    "LGBM_RMSE"
   ]
  },
  {
   "cell_type": "markdown",
   "metadata": {},
   "source": [
    "We can plot the relative importance of the features:"
   ]
  },
  {
   "cell_type": "code",
   "execution_count": 75,
   "metadata": {},
   "outputs": [
    {
     "data": {
      "image/png": "[encoded data removed]",
      "text/plain": [
       "<Figure size 432x288 with 1 Axes>"
      ]
     },
     "metadata": {
      "needs_background": "light"
     },
     "output_type": "display_data"
    }
   ],
   "source": [
    "lgb.plot_importance(LGBM_model, height=0.5)\n",
    "plt.rcParams['figure.figsize'] = [15, 15]\n",
    "plt.yticks(fontsize=10)\n",
    "plt.show()"
   ]
  },
  {
   "cell_type": "markdown",
   "metadata": {},
   "source": [
    "In this model, Power, Registration Month and Registration year are the most important factors in determining the value of the car, followed by the mileage of the car."
   ]
  },
  {
   "cell_type": "markdown",
   "metadata": {},
   "source": [
    "## XGBoost"
   ]
  },
  {
   "cell_type": "markdown",
   "metadata": {},
   "source": [
    "XGBoost (short for 'Extreme Gradient Boosting') is another popular gradient boosting library. It is an optimized distributed gradient boosting library and grows trees depth-wise. Model complexity is controlled by the max_depth hyperparameter. \n",
    "\n",
    "We will train the model on the data encoded with OHE and first optimise the n_estimator parameter:"
   ]
  },
  {
   "cell_type": "code",
   "execution_count": 77,
   "metadata": {},
   "outputs": [
    {
     "name": "stdout",
     "output_type": "stream",
     "text": [
      "n_estimators = 100 | RMSE = 1923.14\n",
      "n_estimators = 110 | RMSE = 1915.4\n",
      "n_estimators = 120 | RMSE = 1901.55\n",
      "n_estimators = 130 | RMSE = 1896.71\n",
      "n_estimators = 140 | RMSE = 1891.89\n",
      "n_estimators = 150 | RMSE = 1885.32\n",
      "n_estimators = 160 | RMSE = 1880.5\n",
      "n_estimators = 170 | RMSE = 1876.7\n",
      "n_estimators = 180 | RMSE = 1870.47\n",
      "n_estimators = 190 | RMSE = 1865.49\n",
      "CPU times: user 3min 31s, sys: 134 ms, total: 3min 31s\n",
      "Wall time: 3min 33s\n"
     ]
    }
   ],
   "source": [
    "%%time\n",
    "\n",
    "for estimator in range(100, 200, 10):\n",
    "    XGB_model = xgb.XGBRegressor(objective ='reg:squarederror', colsample_bytree = 0.3, learning_rate = 0.1,\n",
    "                max_depth = 5, alpha = 10, n_estimators = estimator)\n",
    "    XGB_model.fit(X_train_OHE,y_train)\n",
    "    y_pred = XGB_model.predict(X_valid_OHE)\n",
    "    print('n_estimators =', estimator, '|', 'RMSE =', RMSE(y_valid, y_pred))"
   ]
  },
  {
   "cell_type": "markdown",
   "metadata": {},
   "source": [
    "In the above, the model with n_estimators = 190 had the lowest RMSE. By further increasing n_estimators, it appears this could be reduced further.\n",
    "\n",
    "We will keep n_estimators at 190 and now see what effect varying max_depth has on the results:"
   ]
  },
  {
   "cell_type": "code",
   "execution_count": 78,
   "metadata": {},
   "outputs": [
    {
     "name": "stdout",
     "output_type": "stream",
     "text": [
      "max_depth = 9 | RMSE = 1760.15\n",
      "max_depth = 10 | RMSE = 1751.62\n",
      "max_depth = 11 | RMSE = 1744.09\n",
      "max_depth = 12 | RMSE = 1742.98\n",
      "max_depth = 13 | RMSE = 1743.98\n",
      "CPU times: user 5min 44s, sys: 129 ms, total: 5min 44s\n",
      "Wall time: 5min 46s\n"
     ]
    }
   ],
   "source": [
    "%%time\n",
    "\n",
    "for depth in range(9, 14):\n",
    "    XGB_model = xgb.XGBRegressor(objective ='reg:squarederror', colsample_bytree = 0.3, learning_rate = 0.1,\n",
    "                max_depth = depth, alpha = 10, n_estimators = 190)\n",
    "    XGB_model.fit(X_train_OHE,y_train)\n",
    "    y_pred = XGB_model.predict(X_valid_OHE)\n",
    "    print('max_depth =', depth, '|', 'RMSE =', RMSE(y_valid, y_pred))"
   ]
  },
  {
   "cell_type": "code",
   "execution_count": null,
   "metadata": {},
   "outputs": [],
   "source": [
    "We will run the model with max_depth = 13 and calculate the RMSE:"
   ]
  },
  {
   "cell_type": "code",
   "execution_count": 79,
   "metadata": {},
   "outputs": [
    {
     "name": "stdout",
     "output_type": "stream",
     "text": [
      "RMSE = 1743.98\n",
      "CPU times: user 1min 25s, sys: 81.6 ms, total: 1min 25s\n",
      "Wall time: 1min 25s\n"
     ]
    }
   ],
   "source": [
    "%%time\n",
    "\n",
    "XGB_model1 = xgb.XGBRegressor(objective ='reg:squarederror', colsample_bytree = 0.3, learning_rate = 0.1,\n",
    "                max_depth = 13, alpha = 10, n_estimators = 190)\n",
    "XGB_model1.fit(X_train_OHE,y_train)\n",
    "valid_predictions_XBG1 = XGB_model1.predict(X_valid_OHE)\n",
    "RMSE_XBG1 = RMSE(y_valid, valid_predictions_XBG1)\n",
    "print('RMSE =', RMSE_XBG1)"
   ]
  },
  {
   "cell_type": "markdown",
   "metadata": {},
   "source": [
    "We will now increase the colsample_bytree parameter to 0.4 to see what effect that has on the RMSE (we note however that high values can lead to overfitting)"
   ]
  },
  {
   "cell_type": "code",
   "execution_count": 80,
   "metadata": {},
   "outputs": [
    {
     "data": {
      "text/plain": [
       "106.263"
      ]
     },
     "execution_count": 80,
     "metadata": {},
     "output_type": "execute_result"
    }
   ],
   "source": [
    "start = timer()\n",
    "\n",
    "XGB_model2 = xgb.XGBRegressor(objective ='reg:squarederror', colsample_bytree = 0.4, learning_rate = 0.1,\n",
    "                max_depth = 13, alpha = 10, n_estimators = 190)\n",
    "XGB_model2.fit(X_train_OHE,y_train)\n",
    "\n",
    "end = timer()\n",
    "time_XGB_model2_train = end - start\n",
    "round(time_XGB_model2_train, 3)"
   ]
  },
  {
   "cell_type": "code",
   "execution_count": 81,
   "metadata": {},
   "outputs": [
    {
     "data": {
      "text/plain": [
       "1.7403"
      ]
     },
     "execution_count": 81,
     "metadata": {},
     "output_type": "execute_result"
    }
   ],
   "source": [
    "start = timer()\n",
    "\n",
    "valid_predictions_XBG2 = XGB_model2.predict(X_valid_OHE)\n",
    "\n",
    "end = timer()\n",
    "time_XGB_model2_pred = end - start\n",
    "round(time_XGB_model2_pred, 4) "
   ]
  },
  {
   "cell_type": "code",
   "execution_count": 82,
   "metadata": {},
   "outputs": [
    {
     "name": "stdout",
     "output_type": "stream",
     "text": [
      "RMSE = 1725.13\n"
     ]
    }
   ],
   "source": [
    "RMSE_XBG2 = RMSE(y_valid, valid_predictions_XBG2)\n",
    "print('RMSE =', RMSE_XBG2)"
   ]
  },
  {
   "cell_type": "code",
   "execution_count": null,
   "metadata": {},
   "outputs": [],
   "source": [
    "We have managed to reduce the RMSE still further."
   ]
  },
  {
   "cell_type": "markdown",
   "metadata": {},
   "source": [
    "We now plot the relative importance of the features of this last model:"
   ]
  },
  {
   "cell_type": "code",
   "execution_count": 83,
   "metadata": {},
   "outputs": [
    {
     "data": {
      "image/png": "[encoded data removed]",
      "text/plain": [
       "<Figure size 1080x1080 with 1 Axes>"
      ]
     },
     "metadata": {
      "needs_background": "light"
     },
     "output_type": "display_data"
    }
   ],
   "source": [
    "xgb.plot_importance(XGB_model2, height=0.5)\n",
    "plt.rcParams['figure.figsize'] = [15, 15]\n",
    "plt.yticks(fontsize=10)\n",
    "plt.show()"
   ]
  },
  {
   "cell_type": "markdown",
   "metadata": {},
   "source": [
    "In this model too are Power, Registration Month and Registration year the most important factors in determining the value of the car, followed by the mileage of the car."
   ]
  },
  {
   "cell_type": "markdown",
   "metadata": {},
   "source": [
    "## CatBoost "
   ]
  },
  {
   "cell_type": "markdown",
   "metadata": {},
   "source": [
    "CatBoost (categorical boosting) is also a gradient boosting library, but it differs from the other two above in that it can handle non-numeric values. That is, it applies various encoding techniques for categorical features so encoding does not need to be done separately in advance. So we need to use non-ended data."
   ]
  },
  {
   "cell_type": "code",
   "execution_count": 85,
   "metadata": {},
   "outputs": [
    {
     "data": {
      "text/plain": [
       "(174967, 10)"
      ]
     },
     "execution_count": 85,
     "metadata": {},
     "output_type": "execute_result"
    }
   ],
   "source": [
    "X_train, X_temp, y_train, y_temp = train_test_split(X, y, test_size=0.4, random_state=12345)\n",
    "X_valid, X_test, y_valid, y_test = train_test_split(X_temp, y_temp, test_size=0.5, random_state=12345)\n",
    "X_train.shape"
   ]
  },
  {
   "cell_type": "markdown",
   "metadata": {},
   "source": [
    "We will first train the model with 50 iterations.  \n",
    "\n",
    "We use the RMSE measure as the loss function because this is a regression task:"
   ]
  },
  {
   "cell_type": "code",
   "execution_count": 86,
   "metadata": {},
   "outputs": [
    {
     "name": "stdout",
     "output_type": "stream",
     "text": [
      "0:\tlearn: 4504.7408693\ttotal: 233ms\tremaining: 11.4s\n",
      "10:\tlearn: 3788.9776333\ttotal: 1.94s\tremaining: 6.86s\n",
      "20:\tlearn: 3292.7488094\ttotal: 3.63s\tremaining: 5.01s\n",
      "30:\tlearn: 2956.4293223\ttotal: 5.32s\tremaining: 3.26s\n",
      "40:\tlearn: 2710.3218430\ttotal: 7.01s\tremaining: 1.54s\n",
      "49:\tlearn: 2542.8391416\ttotal: 8.43s\tremaining: 0us\n",
      "RMSE_cb = 2523.92\n",
      "CPU times: user 8.26 s, sys: 843 ms, total: 9.1 s\n",
      "Wall time: 9.99 s\n"
     ]
    }
   ],
   "source": [
    "%%time\n",
    "\n",
    "cb_model = cb.CatBoostRegressor(loss_function= 'RMSE', iterations=50)\n",
    "categorical_data = ['VehicleType', 'Gearbox', 'Model', 'FuelType', 'Brand', 'NotRepaired']\n",
    "cb_model.fit(X_train, y_train, cat_features=categorical_data, verbose=10)\n",
    "valid_predictions_cb = cb_model.predict(X_valid)\n",
    "RMSE_cb = RMSE(y_valid, valid_predictions_cb)\n",
    "print('RMSE_cb =', RMSE_cb)"
   ]
  },
  {
   "cell_type": "markdown",
   "metadata": {},
   "source": [
    "We will now attempt to improve on this RMSE by increasing the number of iterations to 500:"
   ]
  },
  {
   "cell_type": "code",
   "execution_count": 87,
   "metadata": {},
   "outputs": [
    {
     "name": "stdout",
     "output_type": "stream",
     "text": [
      "0:\tlearn: 4503.4082424\ttotal: 400ms\tremaining: 3m 19s\n",
      "50:\tlearn: 2497.1381805\ttotal: 19s\tremaining: 2m 47s\n",
      "100:\tlearn: 2100.8039529\ttotal: 36s\tremaining: 2m 22s\n",
      "150:\tlearn: 1997.7589574\ttotal: 53.6s\tremaining: 2m 3s\n",
      "200:\tlearn: 1948.6648601\ttotal: 1m 11s\tremaining: 1m 46s\n",
      "250:\tlearn: 1916.3574733\ttotal: 1m 28s\tremaining: 1m 28s\n",
      "300:\tlearn: 1888.4768057\ttotal: 1m 45s\tremaining: 1m 9s\n",
      "350:\tlearn: 1869.3517792\ttotal: 2m 3s\tremaining: 52.4s\n",
      "400:\tlearn: 1852.5267722\ttotal: 2m 21s\tremaining: 35s\n",
      "450:\tlearn: 1837.3031744\ttotal: 2m 39s\tremaining: 17.4s\n",
      "499:\tlearn: 1824.3965304\ttotal: 2m 57s\tremaining: 0us\n"
     ]
    },
    {
     "data": {
      "text/plain": [
       "179.747"
      ]
     },
     "execution_count": 87,
     "metadata": {},
     "output_type": "execute_result"
    }
   ],
   "source": [
    "start = timer()\n",
    "\n",
    "cb_model2 = cb.CatBoostRegressor(loss_function= 'RMSE', iterations=500)\n",
    "categorical_data = ['VehicleType', 'Gearbox', 'Model', 'FuelType', 'Brand', 'NotRepaired']\n",
    "cb_model2.fit(X_train, y_train, cat_features=categorical_data, verbose=50)\n",
    "\n",
    "end = timer()\n",
    "time_cb_model2_train = end - start\n",
    "round(time_cb_model2_train, 3)"
   ]
  },
  {
   "cell_type": "markdown",
   "metadata": {},
   "source": [
    "Increasing the number of iterations has had the desired effect; RMSE on the training set has decreased.\n",
    "\n",
    "We now use this second model to make predictions:"
   ]
  },
  {
   "cell_type": "code",
   "execution_count": 88,
   "metadata": {},
   "outputs": [
    {
     "data": {
      "text/plain": [
       "0.2103"
      ]
     },
     "execution_count": 88,
     "metadata": {},
     "output_type": "execute_result"
    }
   ],
   "source": [
    "start = timer()\n",
    "\n",
    "valid_predictions_cb2 = cb_model2.predict(X_valid)\n",
    "\n",
    "end = timer()\n",
    "time_cb_model2_pred = end - start\n",
    "round(time_cb_model2_pred, 4) "
   ]
  },
  {
   "cell_type": "markdown",
   "metadata": {},
   "source": [
    "And we measure the RMSE on these predictions:"
   ]
  },
  {
   "cell_type": "code",
   "execution_count": 89,
   "metadata": {},
   "outputs": [
    {
     "name": "stdout",
     "output_type": "stream",
     "text": [
      "RMSE = 1809.47\n"
     ]
    }
   ],
   "source": [
    "RMSE_cb2 = RMSE(y_valid, valid_predictions_cb2)\n",
    "print('RMSE =', RMSE_cb2)"
   ]
  },
  {
   "cell_type": "markdown",
   "metadata": {},
   "source": [
    "It appears that we could potentially even decrease the RMSE still further by increasing the number of iterations.\n",
    "\n",
    "We plot the importance of the features:"
   ]
  },
  {
   "cell_type": "code",
   "execution_count": 90,
   "metadata": {},
   "outputs": [],
   "source": [
    "from catboost import Pool"
   ]
  },
  {
   "cell_type": "code",
   "execution_count": 91,
   "metadata": {},
   "outputs": [
    {
     "data": {
      "text/plain": [
       "array([11.5214495 , 37.41470471,  0.47064706, 22.60852609,  3.6820735 ,\n",
       "       11.50253672,  0.09316126,  1.80633104,  7.78540329,  3.11516684])"
      ]
     },
     "execution_count": 91,
     "metadata": {},
     "output_type": "execute_result"
    }
   ],
   "source": [
    "train_pool = cb_model2.get_feature_importance(Pool(X_train, y_train, cat_features=categorical_data))\n",
    "train_pool"
   ]
  },
  {
   "cell_type": "code",
   "execution_count": 92,
   "metadata": {},
   "outputs": [
    {
     "data": {
      "text/plain": [
       "Index(['VehicleType', 'RegistrationYear', 'Gearbox', 'Power', 'Model',\n",
       "       'Mileage', 'RegistrationMonth', 'FuelType', 'Brand', 'NotRepaired'],\n",
       "      dtype='object')"
      ]
     },
     "execution_count": 92,
     "metadata": {},
     "output_type": "execute_result"
    }
   ],
   "source": [
    "X_train.columns"
   ]
  },
  {
   "cell_type": "code",
   "execution_count": 93,
   "metadata": {},
   "outputs": [
    {
     "data": {
      "text/html": [
       "<div>\n",
       "<style scoped>\n",
       "    .dataframe tbody tr th:only-of-type {\n",
       "        vertical-align: middle;\n",
       "    }\n",
       "\n",
       "    .dataframe tbody tr th {\n",
       "        vertical-align: top;\n",
       "    }\n",
       "\n",
       "    .dataframe thead th {\n",
       "        text-align: right;\n",
       "    }\n",
       "</style>\n",
       "<table border=\"1\" class=\"dataframe\">\n",
       "  <thead>\n",
       "    <tr style=\"text-align: right;\">\n",
       "      <th></th>\n",
       "      <th>feature_names</th>\n",
       "      <th>feature_importance</th>\n",
       "    </tr>\n",
       "  </thead>\n",
       "  <tbody>\n",
       "    <tr>\n",
       "      <td>6</td>\n",
       "      <td>RegistrationMonth</td>\n",
       "      <td>0.093161</td>\n",
       "    </tr>\n",
       "    <tr>\n",
       "      <td>2</td>\n",
       "      <td>Gearbox</td>\n",
       "      <td>0.470647</td>\n",
       "    </tr>\n",
       "    <tr>\n",
       "      <td>7</td>\n",
       "      <td>FuelType</td>\n",
       "      <td>1.806331</td>\n",
       "    </tr>\n",
       "    <tr>\n",
       "      <td>9</td>\n",
       "      <td>NotRepaired</td>\n",
       "      <td>3.115167</td>\n",
       "    </tr>\n",
       "    <tr>\n",
       "      <td>4</td>\n",
       "      <td>Model</td>\n",
       "      <td>3.682073</td>\n",
       "    </tr>\n",
       "    <tr>\n",
       "      <td>8</td>\n",
       "      <td>Brand</td>\n",
       "      <td>7.785403</td>\n",
       "    </tr>\n",
       "    <tr>\n",
       "      <td>5</td>\n",
       "      <td>Mileage</td>\n",
       "      <td>11.502537</td>\n",
       "    </tr>\n",
       "    <tr>\n",
       "      <td>0</td>\n",
       "      <td>VehicleType</td>\n",
       "      <td>11.521450</td>\n",
       "    </tr>\n",
       "    <tr>\n",
       "      <td>3</td>\n",
       "      <td>Power</td>\n",
       "      <td>22.608526</td>\n",
       "    </tr>\n",
       "    <tr>\n",
       "      <td>1</td>\n",
       "      <td>RegistrationYear</td>\n",
       "      <td>37.414705</td>\n",
       "    </tr>\n",
       "  </tbody>\n",
       "</table>\n",
       "</div>"
      ],
      "text/plain": [
       "       feature_names  feature_importance\n",
       "6  RegistrationMonth            0.093161\n",
       "2            Gearbox            0.470647\n",
       "7           FuelType            1.806331\n",
       "9        NotRepaired            3.115167\n",
       "4              Model            3.682073\n",
       "8              Brand            7.785403\n",
       "5            Mileage           11.502537\n",
       "0        VehicleType           11.521450\n",
       "3              Power           22.608526\n",
       "1   RegistrationYear           37.414705"
      ]
     },
     "execution_count": 93,
     "metadata": {},
     "output_type": "execute_result"
    }
   ],
   "source": [
    "catboost_df = pd.DataFrame({'feature_names': X_train.columns, 'feature_importance': train_pool}).sort_values(by=['feature_importance'])\n",
    "catboost_df"
   ]
  },
  {
   "cell_type": "code",
   "execution_count": 94,
   "metadata": {},
   "outputs": [
    {
     "data": {
      "image/png": "[encoded data removed]",
      "text/plain": [
       "<Figure size 1080x1080 with 1 Axes>"
      ]
     },
     "metadata": {
      "needs_background": "light"
     },
     "output_type": "display_data"
    }
   ],
   "source": [
    "catboost_df.plot(kind = 'barh', x='feature_names', y='feature_importance', legend=None, fontsize=10)\n",
    "plt.title('Feature Importance', fontsize=10)\n",
    "plt.yticks(fontsize=10)\n",
    "plt.xlabel('')\n",
    "plt.show()"
   ]
  },
  {
   "cell_type": "code",
   "execution_count": null,
   "metadata": {},
   "outputs": [],
   "source": [
    "In this model, 'Registration Year' is the mosr important feature, followed by 'Power'."
   ]
  },
  {
   "cell_type": "markdown",
   "metadata": {},
   "source": [
    "## Summary and Model Comparison"
   ]
  },
  {
   "cell_type": "markdown",
   "metadata": {},
   "source": [
    "### Quality of Predictions (Validation Set)"
   ]
  },
  {
   "cell_type": "markdown",
   "metadata": {},
   "source": [
    "The following is a summary of the RMSE metrics obtained from the various models we have trained and tuned on the validation dataset:"
   ]
  },
  {
   "cell_type": "code",
   "execution_count": 95,
   "metadata": {},
   "outputs": [],
   "source": [
    "columns = ['Model', 'RMSE for One Hot Encoding', 'RMSE for Ordinal Encoding', 'RMSE with no encoding']"
   ]
  },
  {
   "cell_type": "code",
   "execution_count": 96,
   "metadata": {},
   "outputs": [],
   "source": [
    "lr = ['Linear Regression', lr_OHE_RMSE, lr_ord_RMSE, '']\n",
    "rf = ['Random Forest Regression', rf_OHE_RMSE, rf_ord_RMSE, '']\n",
    "dt = ['Decision Tree Regression', dt_OHE_RMSE, dt_ord_RMSE, '']\n",
    "lgbm = ['LGBM Regression', LGBM_RMSE, '', '']\n",
    "xgb = ['XGBoost Regression', RMSE_XBG2, '', '']\n",
    "cb = ['Catboost Regression', '', '', RMSE_cb2]"
   ]
  },
  {
   "cell_type": "code",
   "execution_count": 97,
   "metadata": {},
   "outputs": [
    {
     "data": {
      "text/html": [
       "<div>\n",
       "<style scoped>\n",
       "    .dataframe tbody tr th:only-of-type {\n",
       "        vertical-align: middle;\n",
       "    }\n",
       "\n",
       "    .dataframe tbody tr th {\n",
       "        vertical-align: top;\n",
       "    }\n",
       "\n",
       "    .dataframe thead th {\n",
       "        text-align: right;\n",
       "    }\n",
       "</style>\n",
       "<table border=\"1\" class=\"dataframe\">\n",
       "  <thead>\n",
       "    <tr style=\"text-align: right;\">\n",
       "      <th></th>\n",
       "      <th>Model</th>\n",
       "      <th>RMSE for One Hot Encoding</th>\n",
       "      <th>RMSE for Ordinal Encoding</th>\n",
       "      <th>RMSE with no encoding</th>\n",
       "    </tr>\n",
       "  </thead>\n",
       "  <tbody>\n",
       "    <tr>\n",
       "      <td>0</td>\n",
       "      <td>Linear Regression</td>\n",
       "      <td>2885.62</td>\n",
       "      <td>3124.33</td>\n",
       "      <td></td>\n",
       "    </tr>\n",
       "    <tr>\n",
       "      <td>1</td>\n",
       "      <td>Random Forest Regression</td>\n",
       "      <td>1874.87</td>\n",
       "      <td>1862.37</td>\n",
       "      <td></td>\n",
       "    </tr>\n",
       "    <tr>\n",
       "      <td>2</td>\n",
       "      <td>Decision Tree Regression</td>\n",
       "      <td>2065.79</td>\n",
       "      <td>2082.48</td>\n",
       "      <td></td>\n",
       "    </tr>\n",
       "    <tr>\n",
       "      <td>3</td>\n",
       "      <td>LGBM Regression</td>\n",
       "      <td>1728.9</td>\n",
       "      <td></td>\n",
       "      <td></td>\n",
       "    </tr>\n",
       "    <tr>\n",
       "      <td>4</td>\n",
       "      <td>XGBoost Regression</td>\n",
       "      <td>1725.13</td>\n",
       "      <td></td>\n",
       "      <td></td>\n",
       "    </tr>\n",
       "    <tr>\n",
       "      <td>5</td>\n",
       "      <td>Catboost Regression</td>\n",
       "      <td></td>\n",
       "      <td></td>\n",
       "      <td>1809.47</td>\n",
       "    </tr>\n",
       "  </tbody>\n",
       "</table>\n",
       "</div>"
      ],
      "text/plain": [
       "                      Model RMSE for One Hot Encoding  \\\n",
       "0         Linear Regression                   2885.62   \n",
       "1  Random Forest Regression                   1874.87   \n",
       "2  Decision Tree Regression                   2065.79   \n",
       "3           LGBM Regression                    1728.9   \n",
       "4        XGBoost Regression                   1725.13   \n",
       "5       Catboost Regression                             \n",
       "\n",
       "  RMSE for Ordinal Encoding RMSE with no encoding  \n",
       "0                   3124.33                        \n",
       "1                   1862.37                        \n",
       "2                   2082.48                        \n",
       "3                                                  \n",
       "4                                                  \n",
       "5                                         1809.47  "
      ]
     },
     "execution_count": 97,
     "metadata": {},
     "output_type": "execute_result"
    }
   ],
   "source": [
    "RMSE_validation = pd.DataFrame([lr, rf, dt, lgbm, xgb, cb], columns=list(columns))\n",
    "RMSE_validation"
   ]
  },
  {
   "cell_type": "markdown",
   "metadata": {},
   "source": [
    "The XGBoost model had the lowest RMSE for the validation data, closely followed by the LGBM model."
   ]
  },
  {
   "cell_type": "markdown",
   "metadata": {},
   "source": [
    "### Time Required for Training and Speed of Predictions (measured in seconds)"
   ]
  },
  {
   "cell_type": "markdown",
   "metadata": {},
   "source": [
    "We now build a table to show the training times and speed of prediction for the various models:"
   ]
  },
  {
   "cell_type": "code",
   "execution_count": 98,
   "metadata": {},
   "outputs": [],
   "source": [
    "columns_time = ['Model', 'Training Time (OHE)', 'Training Time (Ordinal)', 'Training Time (No Encoding)', 'Speed of Prediction (OHE)', 'Speed of Prediction (Ordinal)', 'Speed of Prediction (No Encoding)']"
   ]
  },
  {
   "cell_type": "code",
   "execution_count": 99,
   "metadata": {},
   "outputs": [],
   "source": [
    "lr_time = ['Linear Regression', time_lr_OHE_train, time_lr_ord_train, '',time_lr_OHE_pred, time_lr_ord_pred, '']\n",
    "rf_time = ['Random Forest Regression', time_rf_OHE_train, time_rf_ord_train, '',time_rf_OHE_pred, time_rf_ord_pred, '']\n",
    "dt_time = ['Decision Tree Regression', time_dt_OHE_train, time_dt_ord_train, '',time_dt_OHE_pred, time_dt_ord_pred, '']\n",
    "lgbm_time = ['LGBM Regression', time_LGBM_train, '', '', time_LGBM_pred,'','']\n",
    "xgb_time = ['XGBoost Regression', time_XGB_model2_train, '', '',time_XGB_model2_pred,'', '']\n",
    "cb_time = ['Catboost Regression', '', '', time_cb_model2_train, '', '', time_cb_model2_pred]"
   ]
  },
  {
   "cell_type": "code",
   "execution_count": 100,
   "metadata": {},
   "outputs": [
    {
     "data": {
      "text/html": [
       "<div>\n",
       "<style scoped>\n",
       "    .dataframe tbody tr th:only-of-type {\n",
       "        vertical-align: middle;\n",
       "    }\n",
       "\n",
       "    .dataframe tbody tr th {\n",
       "        vertical-align: top;\n",
       "    }\n",
       "\n",
       "    .dataframe thead th {\n",
       "        text-align: right;\n",
       "    }\n",
       "</style>\n",
       "<table border=\"1\" class=\"dataframe\">\n",
       "  <thead>\n",
       "    <tr style=\"text-align: right;\">\n",
       "      <th></th>\n",
       "      <th>Model</th>\n",
       "      <th>Training Time (OHE)</th>\n",
       "      <th>Training Time (Ordinal)</th>\n",
       "      <th>Training Time (No Encoding)</th>\n",
       "      <th>Speed of Prediction (OHE)</th>\n",
       "      <th>Speed of Prediction (Ordinal)</th>\n",
       "      <th>Speed of Prediction (No Encoding)</th>\n",
       "    </tr>\n",
       "  </thead>\n",
       "  <tbody>\n",
       "    <tr>\n",
       "      <td>0</td>\n",
       "      <td>Linear Regression</td>\n",
       "      <td>2.00071</td>\n",
       "      <td>0.0413313</td>\n",
       "      <td></td>\n",
       "      <td>0.103835</td>\n",
       "      <td>0.00601013</td>\n",
       "      <td></td>\n",
       "    </tr>\n",
       "    <tr>\n",
       "      <td>1</td>\n",
       "      <td>Random Forest Regression</td>\n",
       "      <td>22.3513</td>\n",
       "      <td>22.569</td>\n",
       "      <td></td>\n",
       "      <td>0.515764</td>\n",
       "      <td>1.16837</td>\n",
       "      <td></td>\n",
       "    </tr>\n",
       "    <tr>\n",
       "      <td>2</td>\n",
       "      <td>Decision Tree Regression</td>\n",
       "      <td>1.17214</td>\n",
       "      <td>0.308695</td>\n",
       "      <td></td>\n",
       "      <td>0.0170165</td>\n",
       "      <td>0.00713868</td>\n",
       "      <td></td>\n",
       "    </tr>\n",
       "    <tr>\n",
       "      <td>3</td>\n",
       "      <td>LGBM Regression</td>\n",
       "      <td>20.0046</td>\n",
       "      <td></td>\n",
       "      <td></td>\n",
       "      <td>1.09761</td>\n",
       "      <td></td>\n",
       "      <td></td>\n",
       "    </tr>\n",
       "    <tr>\n",
       "      <td>4</td>\n",
       "      <td>XGBoost Regression</td>\n",
       "      <td>106.263</td>\n",
       "      <td></td>\n",
       "      <td></td>\n",
       "      <td>1.74032</td>\n",
       "      <td></td>\n",
       "      <td></td>\n",
       "    </tr>\n",
       "    <tr>\n",
       "      <td>5</td>\n",
       "      <td>Catboost Regression</td>\n",
       "      <td></td>\n",
       "      <td></td>\n",
       "      <td>179.747</td>\n",
       "      <td></td>\n",
       "      <td></td>\n",
       "      <td>0.210254</td>\n",
       "    </tr>\n",
       "  </tbody>\n",
       "</table>\n",
       "</div>"
      ],
      "text/plain": [
       "                      Model Training Time (OHE) Training Time (Ordinal)  \\\n",
       "0         Linear Regression             2.00071               0.0413313   \n",
       "1  Random Forest Regression             22.3513                  22.569   \n",
       "2  Decision Tree Regression             1.17214                0.308695   \n",
       "3           LGBM Regression             20.0046                           \n",
       "4        XGBoost Regression             106.263                           \n",
       "5       Catboost Regression                                               \n",
       "\n",
       "  Training Time (No Encoding) Speed of Prediction (OHE)  \\\n",
       "0                                              0.103835   \n",
       "1                                              0.515764   \n",
       "2                                             0.0170165   \n",
       "3                                               1.09761   \n",
       "4                                               1.74032   \n",
       "5                     179.747                             \n",
       "\n",
       "  Speed of Prediction (Ordinal) Speed of Prediction (No Encoding)  \n",
       "0                    0.00601013                                    \n",
       "1                       1.16837                                    \n",
       "2                    0.00713868                                    \n",
       "3                                                                  \n",
       "4                                                                  \n",
       "5                                                        0.210254  "
      ]
     },
     "execution_count": 100,
     "metadata": {},
     "output_type": "execute_result"
    }
   ],
   "source": [
    "Timings = pd.DataFrame([lr_time, rf_time, dt_time, lgbm_time, xgb_time, cb_time], columns=list(columns_time))\n",
    "Timings"
   ]
  },
  {
   "cell_type": "markdown",
   "metadata": {},
   "source": [
    "### Quality of Predictions (Test Set)"
   ]
  },
  {
   "cell_type": "markdown",
   "metadata": {},
   "source": [
    "Finally, we will run the models on the test set data and again compare the RMSEs obtained:"
   ]
  },
  {
   "cell_type": "code",
   "execution_count": 101,
   "metadata": {},
   "outputs": [],
   "source": [
    "test_predictions_lr_OHE = lr_OHE_model.predict(X_test_OHE)\n",
    "test_predictions_lr_ord = lr_ord_model.predict(X_test_ord)\n",
    "test_predictions_rf_OHE = rf_OHE_model.predict(X_test_OHE)\n",
    "test_predictions_rf_ord = rf_ord_model.predict(X_test_ord)\n",
    "test_predictions_dt_OHE = dt_OHE_model.predict(X_test_OHE)\n",
    "test_predictions_dt_ord = dt_ord_model.predict(X_test_ord)\n",
    "test_predictions_LGBM = LGBM_model.predict(X_test_OHE)\n",
    "test_predictions_XBG2 = XGB_model2.predict(X_test_OHE)\n",
    "test_predictions_cb2 = cb_model2.predict(X_test)"
   ]
  },
  {
   "cell_type": "code",
   "execution_count": 102,
   "metadata": {},
   "outputs": [],
   "source": [
    "lr_t = ['Linear Regression', RMSE(y_test, test_predictions_lr_OHE), RMSE(y_test, test_predictions_lr_ord), '']\n",
    "rf_t = ['Random Forest Regression', RMSE(y_test, test_predictions_rf_OHE), RMSE(y_test, test_predictions_rf_ord), '']\n",
    "dt_t = ['Decision Tree Regression', RMSE(y_test, test_predictions_dt_OHE), RMSE(y_test, test_predictions_dt_ord), '']\n",
    "lgbm_t = ['LGBM Regression', RMSE(y_test, test_predictions_LGBM), '', '']\n",
    "xgb_t = ['XGBoost Regression', RMSE(y_test, test_predictions_XBG2), '', '']\n",
    "cb_t = ['Catboost Regression', '', '', RMSE(y_test, test_predictions_cb2)]"
   ]
  },
  {
   "cell_type": "code",
   "execution_count": 103,
   "metadata": {},
   "outputs": [
    {
     "data": {
      "text/html": [
       "<div>\n",
       "<style scoped>\n",
       "    .dataframe tbody tr th:only-of-type {\n",
       "        vertical-align: middle;\n",
       "    }\n",
       "\n",
       "    .dataframe tbody tr th {\n",
       "        vertical-align: top;\n",
       "    }\n",
       "\n",
       "    .dataframe thead th {\n",
       "        text-align: right;\n",
       "    }\n",
       "</style>\n",
       "<table border=\"1\" class=\"dataframe\">\n",
       "  <thead>\n",
       "    <tr style=\"text-align: right;\">\n",
       "      <th></th>\n",
       "      <th>Model</th>\n",
       "      <th>RMSE for One Hot Encoding</th>\n",
       "      <th>RMSE for Ordinal Encoding</th>\n",
       "      <th>RMSE with no encoding</th>\n",
       "    </tr>\n",
       "  </thead>\n",
       "  <tbody>\n",
       "    <tr>\n",
       "      <td>0</td>\n",
       "      <td>Linear Regression</td>\n",
       "      <td>2890.96</td>\n",
       "      <td>3133.91</td>\n",
       "      <td></td>\n",
       "    </tr>\n",
       "    <tr>\n",
       "      <td>1</td>\n",
       "      <td>Random Forest Regression</td>\n",
       "      <td>1900.65</td>\n",
       "      <td>1897.43</td>\n",
       "      <td></td>\n",
       "    </tr>\n",
       "    <tr>\n",
       "      <td>2</td>\n",
       "      <td>Decision Tree Regression</td>\n",
       "      <td>2099.34</td>\n",
       "      <td>2117.91</td>\n",
       "      <td></td>\n",
       "    </tr>\n",
       "    <tr>\n",
       "      <td>3</td>\n",
       "      <td>LGBM Regression</td>\n",
       "      <td>1760.97</td>\n",
       "      <td></td>\n",
       "      <td></td>\n",
       "    </tr>\n",
       "    <tr>\n",
       "      <td>4</td>\n",
       "      <td>XGBoost Regression</td>\n",
       "      <td>1756.28</td>\n",
       "      <td></td>\n",
       "      <td></td>\n",
       "    </tr>\n",
       "    <tr>\n",
       "      <td>5</td>\n",
       "      <td>Catboost Regression</td>\n",
       "      <td></td>\n",
       "      <td></td>\n",
       "      <td>1841.7</td>\n",
       "    </tr>\n",
       "  </tbody>\n",
       "</table>\n",
       "</div>"
      ],
      "text/plain": [
       "                      Model RMSE for One Hot Encoding  \\\n",
       "0         Linear Regression                   2890.96   \n",
       "1  Random Forest Regression                   1900.65   \n",
       "2  Decision Tree Regression                   2099.34   \n",
       "3           LGBM Regression                   1760.97   \n",
       "4        XGBoost Regression                   1756.28   \n",
       "5       Catboost Regression                             \n",
       "\n",
       "  RMSE for Ordinal Encoding RMSE with no encoding  \n",
       "0                   3133.91                        \n",
       "1                   1897.43                        \n",
       "2                   2117.91                        \n",
       "3                                                  \n",
       "4                                                  \n",
       "5                                          1841.7  "
      ]
     },
     "execution_count": 103,
     "metadata": {},
     "output_type": "execute_result"
    }
   ],
   "source": [
    "RMSE_testing = pd.DataFrame([lr_t, rf_t, dt_t, lgbm_t, xgb_t, cb_t], columns=list(columns))\n",
    "RMSE_testing"
   ]
  },
  {
   "cell_type": "markdown",
   "metadata": {},
   "source": [
    "### Conclusions\n",
    "\n",
    "1. <u>Quality of the models</u>\n",
    "\n",
    "The RMSE of Predictions on the test set data are very similar for the XGBoost and Catboost Regression models, with LGBM close behind.  It is possible that with further tuning of the Catboost model parameters, accuracy could be further improved.  All three of these gradient boosting models significantly outperform models that do not employ gradient boosting. \n",
    "\n",
    "\n",
    "2. <u>Speed of the models for training and predicting</u>\n",
    "\n",
    "The Catboost model took the longest to train at 180 seconds, followed by XGBoost at 106. The Random Forest took 22 seconds, but tuning the hyperparameters took much longer. \n",
    "\n",
    "Catboost had a much faster speed of prediction than both XGBoost and LGBM.\n",
    "\n",
    "\n",
    "3. <u>Feature importance</u>\n",
    "\n",
    "For the LGBM model, Power is the most important feature followed by Registration Year and then some way behind that is Registration Month. \n",
    "For the XGBoost model, Power is the most important feature, followed by Registration month and Registration year which are both similar in importance.\n",
    "For the Catboost model, Registration Year is the most important feature, followed by 'Power'. Registration month has almost no importance at all. "
   ]
  }
 ],
 "metadata": {
  "ExecuteTimeLog": [
   {
    "duration": 1192,
    "start_time": "2021-11-22T09:27:32.045Z"
   },
   {
    "duration": 524,
    "start_time": "2021-11-22T09:27:33.238Z"
   },
   {
    "duration": 31,
    "start_time": "2021-11-22T09:27:33.764Z"
   },
   {
    "duration": 108,
    "start_time": "2021-11-22T09:27:33.796Z"
   },
   {
    "duration": 3,
    "start_time": "2021-11-22T09:27:33.905Z"
   },
   {
    "duration": 26,
    "start_time": "2021-11-22T09:27:33.909Z"
   },
   {
    "duration": 4,
    "start_time": "2021-11-22T09:27:33.937Z"
   },
   {
    "duration": 88,
    "start_time": "2021-11-22T09:27:33.943Z"
   },
   {
    "duration": 78,
    "start_time": "2021-11-22T09:27:34.033Z"
   },
   {
    "duration": 4,
    "start_time": "2021-11-22T09:27:34.112Z"
   },
   {
    "duration": 146,
    "start_time": "2021-11-22T09:27:34.118Z"
   },
   {
    "duration": 73,
    "start_time": "2021-11-22T09:27:34.265Z"
   },
   {
    "duration": 79,
    "start_time": "2021-11-22T09:27:34.340Z"
   },
   {
    "duration": 146,
    "start_time": "2021-11-22T09:27:34.421Z"
   },
   {
    "duration": 2937,
    "start_time": "2021-11-22T09:27:34.569Z"
   },
   {
    "duration": 28,
    "start_time": "2021-11-22T09:27:37.508Z"
   },
   {
    "duration": 160,
    "start_time": "2021-11-22T09:27:37.538Z"
   },
   {
    "duration": 820,
    "start_time": "2021-11-22T09:27:37.700Z"
   },
   {
    "duration": 30,
    "start_time": "2021-11-22T09:27:38.521Z"
   },
   {
    "duration": 7,
    "start_time": "2021-11-22T09:27:38.552Z"
   },
   {
    "duration": 188,
    "start_time": "2021-11-22T09:27:38.560Z"
   },
   {
    "duration": 26,
    "start_time": "2021-11-22T09:27:38.750Z"
   },
   {
    "duration": 16,
    "start_time": "2021-11-22T09:27:38.787Z"
   },
   {
    "duration": 104,
    "start_time": "2021-11-22T09:27:38.805Z"
   },
   {
    "duration": 98,
    "start_time": "2021-11-22T09:27:38.911Z"
   },
   {
    "duration": 114,
    "start_time": "2021-11-22T09:27:39.010Z"
   },
   {
    "duration": 15,
    "start_time": "2021-11-22T09:27:39.126Z"
   },
   {
    "duration": 17,
    "start_time": "2021-11-22T09:27:39.142Z"
   },
   {
    "duration": 150,
    "start_time": "2021-11-22T09:27:39.161Z"
   },
   {
    "duration": 176,
    "start_time": "2021-11-22T09:27:39.313Z"
   },
   {
    "duration": 3,
    "start_time": "2021-11-22T09:27:39.490Z"
   },
   {
    "duration": 59,
    "start_time": "2021-11-22T09:27:39.495Z"
   },
   {
    "duration": 42,
    "start_time": "2021-11-22T09:27:39.555Z"
   },
   {
    "duration": 3,
    "start_time": "2021-11-22T09:27:39.598Z"
   },
   {
    "duration": 5,
    "start_time": "2021-11-22T09:27:39.603Z"
   },
   {
    "duration": 4,
    "start_time": "2021-11-22T09:27:39.609Z"
   },
   {
    "duration": 19,
    "start_time": "2021-11-22T09:27:39.615Z"
   },
   {
    "duration": 2,
    "start_time": "2021-11-22T09:27:39.635Z"
   },
   {
    "duration": 152,
    "start_time": "2021-11-22T09:27:39.638Z"
   },
   {
    "duration": 2109,
    "start_time": "2021-11-22T09:27:39.792Z"
   },
   {
    "duration": 85,
    "start_time": "2021-11-22T09:27:41.903Z"
   },
   {
    "duration": 6,
    "start_time": "2021-11-22T09:27:41.991Z"
   },
   {
    "duration": 96,
    "start_time": "2021-11-22T09:27:42.000Z"
   },
   {
    "duration": 386,
    "start_time": "2021-11-22T09:27:42.097Z"
   },
   {
    "duration": 10,
    "start_time": "2021-11-22T09:27:42.487Z"
   },
   {
    "duration": 231,
    "start_time": "2021-11-22T09:27:42.499Z"
   },
   {
    "duration": 71,
    "start_time": "2021-11-22T09:27:42.731Z"
   },
   {
    "duration": 88,
    "start_time": "2021-11-22T09:27:42.804Z"
   },
   {
    "duration": 62655,
    "start_time": "2021-11-22T09:27:42.895Z"
   },
   {
    "duration": 24183,
    "start_time": "2021-11-22T09:28:45.551Z"
   },
   {
    "duration": 5,
    "start_time": "2021-11-22T09:29:09.735Z"
   },
   {
    "duration": 101747,
    "start_time": "2021-11-22T09:29:09.742Z"
   },
   {
    "duration": 25724,
    "start_time": "2021-11-22T09:30:51.490Z"
   },
   {
    "duration": 5,
    "start_time": "2021-11-22T09:31:17.216Z"
   },
   {
    "duration": 8851,
    "start_time": "2021-11-22T09:31:17.222Z"
   },
   {
    "duration": 1165,
    "start_time": "2021-11-22T09:31:26.074Z"
   },
   {
    "duration": 4,
    "start_time": "2021-11-22T09:31:27.241Z"
   },
   {
    "duration": 3834,
    "start_time": "2021-11-22T09:31:27.247Z"
   },
   {
    "duration": 406,
    "start_time": "2021-11-22T09:31:31.087Z"
   },
   {
    "duration": 5,
    "start_time": "2021-11-22T09:31:31.495Z"
   },
   {
    "duration": 2733,
    "start_time": "2021-11-22T09:31:31.502Z"
   },
   {
    "duration": 223552,
    "start_time": "2021-11-22T09:31:34.237Z"
   },
   {
    "duration": 295705,
    "start_time": "2021-11-22T09:35:17.791Z"
   },
   {
    "duration": 198802,
    "start_time": "2021-11-22T09:40:13.497Z"
   },
   {
    "duration": 22992,
    "start_time": "2021-11-22T09:43:32.301Z"
   },
   {
    "duration": 1077,
    "start_time": "2021-11-22T09:43:55.295Z"
   },
   {
    "duration": 2173,
    "start_time": "2021-11-22T09:43:56.374Z"
   },
   {
    "duration": 221680,
    "start_time": "2021-11-22T09:43:58.552Z"
   },
   {
    "duration": 365600,
    "start_time": "2021-11-22T09:47:40.234Z"
   },
   {
    "duration": 87090,
    "start_time": "2021-11-22T09:53:45.835Z"
   },
   {
    "duration": 106785,
    "start_time": "2021-11-22T09:55:12.927Z"
   },
   {
    "duration": 2221,
    "start_time": "2021-11-22T09:56:59.713Z"
   },
   {
    "duration": 2315,
    "start_time": "2021-11-22T09:57:01.936Z"
   },
   {
    "duration": 12106,
    "start_time": "2021-11-22T09:57:04.253Z"
   },
   {
    "duration": 186713,
    "start_time": "2021-11-22T09:57:16.388Z"
   },
   {
    "duration": 2,
    "start_time": "2021-11-22T10:00:23.103Z"
   },
   {
    "duration": 1019,
    "start_time": "2021-11-22T10:00:23.107Z"
   },
   {
    "duration": 4,
    "start_time": "2021-11-22T10:00:24.128Z"
   },
   {
    "duration": 52,
    "start_time": "2021-11-22T10:00:24.133Z"
   },
   {
    "duration": 425,
    "start_time": "2021-11-22T10:00:24.186Z"
   },
   {
    "duration": 3,
    "start_time": "2021-11-22T10:00:24.612Z"
   },
   {
    "duration": 50,
    "start_time": "2021-11-22T10:00:24.616Z"
   },
   {
    "duration": 87,
    "start_time": "2021-11-22T10:00:24.668Z"
   },
   {
    "duration": 4840,
    "start_time": "2021-11-22T10:00:24.756Z"
   },
   {
    "duration": 9,
    "start_time": "2021-11-22T10:00:29.597Z"
   },
   {
    "duration": 65,
    "start_time": "2021-11-22T10:00:29.607Z"
   },
   {
    "duration": 22,
    "start_time": "2021-11-22T10:49:32.308Z"
   },
   {
    "duration": 107,
    "start_time": "2021-11-22T10:52:20.792Z"
   },
   {
    "duration": 130,
    "start_time": "2021-11-22T11:10:01.313Z"
   },
   {
    "duration": 148,
    "start_time": "2021-11-22T11:20:02.226Z"
   },
   {
    "duration": 54,
    "start_time": "2021-11-22T11:20:05.013Z"
   },
   {
    "duration": 3,
    "start_time": "2021-11-22T11:20:07.031Z"
   },
   {
    "duration": 4,
    "start_time": "2021-11-22T11:20:11.541Z"
   },
   {
    "duration": 4,
    "start_time": "2021-11-22T11:20:16.698Z"
   },
   {
    "duration": 3027,
    "start_time": "2021-11-22T11:22:05.161Z"
   },
   {
    "duration": 9,
    "start_time": "2021-11-22T11:22:08.197Z"
   },
   {
    "duration": 8,
    "start_time": "2021-11-22T11:22:08.289Z"
   },
   {
    "duration": 161,
    "start_time": "2021-11-22T11:31:55.413Z"
   },
   {
    "duration": 58,
    "start_time": "2021-11-22T11:31:56.026Z"
   },
   {
    "duration": 5,
    "start_time": "2021-11-22T11:31:56.720Z"
   },
   {
    "duration": 5,
    "start_time": "2021-11-22T11:31:57.626Z"
   },
   {
    "duration": 4,
    "start_time": "2021-11-22T11:31:58.357Z"
   },
   {
    "duration": 2918,
    "start_time": "2021-11-22T11:32:18.676Z"
   },
   {
    "duration": 86,
    "start_time": "2021-11-22T11:32:21.603Z"
   },
   {
    "duration": 16,
    "start_time": "2021-11-22T11:32:21.692Z"
   },
   {
    "duration": 119,
    "start_time": "2021-11-22T11:32:58.778Z"
   },
   {
    "duration": 4,
    "start_time": "2021-11-22T11:33:13.807Z"
   },
   {
    "duration": 598,
    "start_time": "2021-11-22T11:40:59.316Z"
   },
   {
    "duration": 48,
    "start_time": "2021-11-22T11:59:49.032Z"
   },
   {
    "duration": 619,
    "start_time": "2021-11-22T11:59:54.216Z"
   },
   {
    "duration": 328,
    "start_time": "2021-11-22T12:01:20.371Z"
   },
   {
    "duration": 13,
    "start_time": "2021-11-22T12:02:09.517Z"
   },
   {
    "duration": 113,
    "start_time": "2021-11-22T12:02:45.016Z"
   },
   {
    "duration": 3,
    "start_time": "2021-11-22T12:02:48.228Z"
   },
   {
    "duration": 15,
    "start_time": "2021-11-22T12:02:51.041Z"
   },
   {
    "duration": 56,
    "start_time": "2021-11-22T12:02:58.176Z"
   },
   {
    "duration": 411,
    "start_time": "2021-11-22T12:03:03.417Z"
   },
   {
    "duration": 240,
    "start_time": "2021-11-22T12:03:13.507Z"
   },
   {
    "duration": 240,
    "start_time": "2021-11-22T12:05:13.862Z"
   },
   {
    "duration": 4,
    "start_time": "2021-11-22T12:06:43.460Z"
   },
   {
    "duration": 30,
    "start_time": "2021-11-22T12:07:03.036Z"
   },
   {
    "duration": 118,
    "start_time": "2021-11-22T12:08:14.583Z"
   },
   {
    "duration": 4,
    "start_time": "2021-11-22T12:08:15.781Z"
   },
   {
    "duration": 3,
    "start_time": "2021-11-22T12:08:17.314Z"
   },
   {
    "duration": 18,
    "start_time": "2021-11-22T12:08:25.293Z"
   },
   {
    "duration": 18,
    "start_time": "2021-11-22T12:08:46.967Z"
   },
   {
    "duration": 50,
    "start_time": "2021-11-22T12:08:55.937Z"
   },
   {
    "duration": 63,
    "start_time": "2021-11-22T12:09:59.383Z"
   },
   {
    "duration": 670,
    "start_time": "2021-11-22T12:10:02.272Z"
   },
   {
    "duration": 265,
    "start_time": "2021-11-22T12:12:04.459Z"
   },
   {
    "duration": 86,
    "start_time": "2021-11-22T12:12:12.555Z"
   },
   {
    "duration": 4,
    "start_time": "2021-11-22T12:12:13.308Z"
   },
   {
    "duration": 48,
    "start_time": "2021-11-22T12:12:14.710Z"
   },
   {
    "duration": 369,
    "start_time": "2021-11-22T12:12:16.807Z"
   },
   {
    "duration": 316,
    "start_time": "2021-11-22T12:12:23.194Z"
   },
   {
    "duration": 13,
    "start_time": "2021-11-22T12:12:51.840Z"
   },
   {
    "duration": 17,
    "start_time": "2021-11-22T12:13:24.055Z"
   },
   {
    "duration": 6,
    "start_time": "2021-11-22T12:14:23.208Z"
   },
   {
    "duration": 252,
    "start_time": "2021-11-22T12:15:30.254Z"
   },
   {
    "duration": 329,
    "start_time": "2021-11-22T12:15:45.070Z"
   },
   {
    "duration": 297,
    "start_time": "2021-11-22T12:20:05.214Z"
   },
   {
    "duration": 238,
    "start_time": "2021-11-22T12:34:19.579Z"
   },
   {
    "duration": 293,
    "start_time": "2021-11-22T12:37:42.648Z"
   },
   {
    "duration": 38,
    "start_time": "2021-11-22T12:38:04.706Z"
   },
   {
    "duration": 328,
    "start_time": "2021-11-22T12:38:10.459Z"
   },
   {
    "duration": 13,
    "start_time": "2021-11-22T12:38:13.800Z"
   },
   {
    "duration": 263,
    "start_time": "2021-11-22T12:41:52.748Z"
   },
   {
    "duration": 30,
    "start_time": "2021-11-22T12:45:26.226Z"
   },
   {
    "duration": 69,
    "start_time": "2021-11-22T12:52:02.410Z"
   },
   {
    "duration": 6,
    "start_time": "2021-11-22T12:52:05.563Z"
   },
   {
    "duration": 39,
    "start_time": "2021-11-22T12:52:30.341Z"
   },
   {
    "duration": 268,
    "start_time": "2021-11-22T12:53:22.314Z"
   },
   {
    "duration": 254,
    "start_time": "2021-11-22T12:53:30.862Z"
   },
   {
    "duration": 15,
    "start_time": "2021-11-22T12:53:38.790Z"
   },
   {
    "duration": 88,
    "start_time": "2021-11-22T12:54:10.474Z"
   },
   {
    "duration": 255,
    "start_time": "2021-11-22T12:54:40.961Z"
   },
   {
    "duration": 27,
    "start_time": "2021-11-22T12:54:57.685Z"
   },
   {
    "duration": 72,
    "start_time": "2021-11-22T12:54:58.462Z"
   },
   {
    "duration": 3,
    "start_time": "2021-11-22T12:54:59.084Z"
   },
   {
    "duration": 39,
    "start_time": "2021-11-22T12:54:59.686Z"
   },
   {
    "duration": 279,
    "start_time": "2021-11-22T12:55:02.451Z"
   },
   {
    "duration": 15,
    "start_time": "2021-11-22T12:55:03.148Z"
   },
   {
    "duration": 170,
    "start_time": "2021-11-22T12:55:06.042Z"
   },
   {
    "duration": 118,
    "start_time": "2021-11-22T12:55:50.870Z"
   },
   {
    "duration": 4,
    "start_time": "2021-11-22T12:55:56.481Z"
   },
   {
    "duration": 12,
    "start_time": "2021-11-22T12:57:15.602Z"
   },
   {
    "duration": 76,
    "start_time": "2021-11-22T12:57:17.303Z"
   },
   {
    "duration": 3,
    "start_time": "2021-11-22T12:57:18.126Z"
   },
   {
    "duration": 47,
    "start_time": "2021-11-22T12:57:19.295Z"
   },
   {
    "duration": 365,
    "start_time": "2021-11-22T12:57:20.196Z"
   },
   {
    "duration": 17,
    "start_time": "2021-11-22T12:57:23.080Z"
   },
   {
    "duration": 273,
    "start_time": "2021-11-22T12:57:26.340Z"
   },
   {
    "duration": 25,
    "start_time": "2021-11-22T12:58:13.618Z"
   },
   {
    "duration": 70,
    "start_time": "2021-11-22T12:58:14.390Z"
   },
   {
    "duration": 4,
    "start_time": "2021-11-22T12:58:15.373Z"
   },
   {
    "duration": 39,
    "start_time": "2021-11-22T12:58:16.219Z"
   },
   {
    "duration": 271,
    "start_time": "2021-11-22T12:58:18.837Z"
   },
   {
    "duration": 15,
    "start_time": "2021-11-22T12:58:19.749Z"
   },
   {
    "duration": 168,
    "start_time": "2021-11-22T12:58:22.229Z"
   },
   {
    "duration": 100,
    "start_time": "2021-11-22T12:58:27.090Z"
   },
   {
    "duration": 4,
    "start_time": "2021-11-22T12:58:27.942Z"
   },
   {
    "duration": 93,
    "start_time": "2021-11-22T13:00:48.606Z"
   },
   {
    "duration": 143369,
    "start_time": "2021-11-22T13:13:17.740Z"
   },
   {
    "duration": 11,
    "start_time": "2021-11-22T13:15:41.111Z"
   },
   {
    "duration": 68,
    "start_time": "2021-11-22T13:15:41.124Z"
   },
   {
    "duration": 318,
    "start_time": "2021-11-22T13:16:10.359Z"
   },
   {
    "duration": 394,
    "start_time": "2021-11-22T13:16:42.702Z"
   },
   {
    "duration": 84,
    "start_time": "2021-11-22T13:16:52.308Z"
   },
   {
    "duration": 35,
    "start_time": "2021-11-22T13:16:57.849Z"
   },
   {
    "duration": 5,
    "start_time": "2021-11-22T13:16:59.408Z"
   },
   {
    "duration": 63,
    "start_time": "2021-11-22T13:17:03.429Z"
   },
   {
    "duration": 5,
    "start_time": "2021-11-22T13:17:05.580Z"
   },
   {
    "duration": 108,
    "start_time": "2021-11-22T13:17:08.581Z"
   },
   {
    "duration": 81,
    "start_time": "2021-11-22T13:18:18.311Z"
   },
   {
    "duration": 6,
    "start_time": "2021-11-22T13:20:12.776Z"
   },
   {
    "duration": 4,
    "start_time": "2021-11-22T13:20:16.537Z"
   },
   {
    "duration": 367,
    "start_time": "2021-11-22T13:40:05.086Z"
   },
   {
    "duration": 35,
    "start_time": "2021-11-22T13:42:40.112Z"
   },
   {
    "duration": 35,
    "start_time": "2021-11-22T13:43:03.933Z"
   },
   {
    "duration": 336,
    "start_time": "2021-11-22T13:45:23.005Z"
   },
   {
    "duration": 46,
    "start_time": "2021-11-22T13:46:25.473Z"
   },
   {
    "duration": 36,
    "start_time": "2021-11-22T13:46:33.324Z"
   },
   {
    "duration": 5,
    "start_time": "2021-11-22T13:47:01.259Z"
   },
   {
    "duration": 4,
    "start_time": "2021-11-22T13:47:07.453Z"
   },
   {
    "duration": 2256,
    "start_time": "2021-11-22T13:52:45.944Z"
   },
   {
    "duration": 2012,
    "start_time": "2021-11-22T13:52:57.680Z"
   },
   {
    "duration": 2420,
    "start_time": "2021-11-22T13:53:05.175Z"
   },
   {
    "duration": 2045,
    "start_time": "2021-11-22T13:53:15.046Z"
   },
   {
    "duration": 2046,
    "start_time": "2021-11-22T13:54:01.446Z"
   },
   {
    "duration": 4,
    "start_time": "2021-11-22T13:55:33.062Z"
   },
   {
    "duration": 4,
    "start_time": "2021-11-22T13:55:36.585Z"
   },
   {
    "duration": 35,
    "start_time": "2021-11-22T20:32:57.852Z"
   },
   {
    "duration": 35,
    "start_time": "2021-11-22T20:33:07.008Z"
   },
   {
    "duration": 38,
    "start_time": "2021-11-22T20:33:18.301Z"
   },
   {
    "duration": 37,
    "start_time": "2021-11-22T20:33:34.110Z"
   },
   {
    "duration": 3127,
    "start_time": "2021-11-22T20:41:01.962Z"
   },
   {
    "duration": 81,
    "start_time": "2021-11-22T20:41:11.508Z"
   },
   {
    "duration": 4,
    "start_time": "2021-11-22T20:41:16.694Z"
   },
   {
    "duration": 32,
    "start_time": "2021-11-22T20:46:16.966Z"
   },
   {
    "duration": 6,
    "start_time": "2021-11-22T20:46:20.040Z"
   },
   {
    "duration": 14,
    "start_time": "2021-11-22T20:48:01.066Z"
   },
   {
    "duration": 4,
    "start_time": "2021-11-22T20:48:03.272Z"
   },
   {
    "duration": 38,
    "start_time": "2021-11-22T20:48:05.551Z"
   },
   {
    "duration": 25221,
    "start_time": "2021-11-22T20:49:07.613Z"
   },
   {
    "duration": 606,
    "start_time": "2021-11-22T20:50:17.855Z"
   },
   {
    "duration": 4,
    "start_time": "2021-11-22T20:50:34.242Z"
   },
   {
    "duration": 20227,
    "start_time": "2021-11-22T20:51:30.738Z"
   },
   {
    "duration": 514,
    "start_time": "2021-11-22T20:52:22.731Z"
   },
   {
    "duration": 20216,
    "start_time": "2021-11-22T20:52:31.679Z"
   },
   {
    "duration": 20576,
    "start_time": "2021-11-22T20:52:51.897Z"
   },
   {
    "duration": 1117,
    "start_time": "2021-11-22T20:53:26.450Z"
   },
   {
    "duration": 4,
    "start_time": "2021-11-22T20:53:35.191Z"
   },
   {
    "duration": 1018,
    "start_time": "2021-11-22T20:55:33.032Z"
   },
   {
    "duration": 23,
    "start_time": "2021-11-22T21:54:39.951Z"
   },
   {
    "duration": 5,
    "start_time": "2021-11-22T21:54:46.618Z"
   },
   {
    "duration": 23,
    "start_time": "2021-11-22T21:55:31.703Z"
   },
   {
    "duration": 333,
    "start_time": "2021-11-22T21:56:29.929Z"
   },
   {
    "duration": 12,
    "start_time": "2021-11-22T21:57:11.968Z"
   },
   {
    "duration": 4,
    "start_time": "2021-11-22T21:57:15.930Z"
   },
   {
    "duration": 3868,
    "start_time": "2021-11-22T21:58:58.628Z"
   },
   {
    "duration": 873,
    "start_time": "2021-11-22T21:59:48.587Z"
   },
   {
    "duration": 4,
    "start_time": "2021-11-22T21:59:56.389Z"
   },
   {
    "duration": 979,
    "start_time": "2021-11-22T22:00:08.374Z"
   },
   {
    "duration": 1330,
    "start_time": "2021-11-22T22:00:27.517Z"
   },
   {
    "duration": 1232,
    "start_time": "2021-11-22T22:00:36.244Z"
   },
   {
    "duration": 1155,
    "start_time": "2021-11-22T22:00:45.296Z"
   },
   {
    "duration": 103843,
    "start_time": "2021-11-22T22:02:39.662Z"
   },
   {
    "duration": 1699,
    "start_time": "2021-11-22T22:04:23.506Z"
   },
   {
    "duration": 4,
    "start_time": "2021-11-22T22:04:25.206Z"
   },
   {
    "duration": 256,
    "start_time": "2021-11-22T22:05:25.295Z"
   },
   {
    "duration": 81,
    "start_time": "2021-11-22T22:12:47.039Z"
   },
   {
    "duration": 9930,
    "start_time": "2021-11-22T22:13:18.262Z"
   },
   {
    "duration": 177776,
    "start_time": "2021-11-22T22:13:38.258Z"
   },
   {
    "duration": 265,
    "start_time": "2021-11-22T22:16:36.035Z"
   },
   {
    "duration": 4,
    "start_time": "2021-11-22T22:16:36.302Z"
   },
   {
    "duration": 3,
    "start_time": "2021-11-22T22:21:29.761Z"
   },
   {
    "duration": 2,
    "start_time": "2021-11-22T22:25:37.033Z"
   },
   {
    "duration": 2,
    "start_time": "2021-11-22T22:25:39.058Z"
   },
   {
    "duration": 241,
    "start_time": "2021-11-22T22:25:41.442Z"
   },
   {
    "duration": 249,
    "start_time": "2021-11-22T22:26:13.876Z"
   },
   {
    "duration": 2,
    "start_time": "2021-11-22T22:28:50.291Z"
   },
   {
    "duration": 8,
    "start_time": "2021-11-22T22:28:53.602Z"
   },
   {
    "duration": 129,
    "start_time": "2021-11-22T22:41:51.761Z"
   },
   {
    "duration": 4,
    "start_time": "2021-11-22T22:42:06.695Z"
   },
   {
    "duration": 236,
    "start_time": "2021-11-22T22:42:09.778Z"
   },
   {
    "duration": 264,
    "start_time": "2021-11-22T22:43:24.982Z"
   },
   {
    "duration": 259,
    "start_time": "2021-11-22T22:43:38.062Z"
   },
   {
    "duration": 2,
    "start_time": "2021-11-22T22:43:57.497Z"
   },
   {
    "duration": 4,
    "start_time": "2021-11-22T22:43:59.536Z"
   },
   {
    "duration": 10,
    "start_time": "2021-11-22T22:44:01.316Z"
   },
   {
    "duration": 1012,
    "start_time": "2021-11-22T22:44:52.161Z"
   },
   {
    "duration": 21,
    "start_time": "2021-11-22T22:45:02.355Z"
   },
   {
    "duration": 308,
    "start_time": "2021-11-22T22:45:11.609Z"
   },
   {
    "duration": 11,
    "start_time": "2021-11-22T22:45:16.987Z"
   },
   {
    "duration": 10,
    "start_time": "2021-11-22T22:45:29.506Z"
   },
   {
    "duration": 3,
    "start_time": "2021-11-22T22:46:21.573Z"
   },
   {
    "duration": 9,
    "start_time": "2021-11-22T22:46:23.983Z"
   },
   {
    "duration": 1166,
    "start_time": "2021-11-22T22:57:07.270Z"
   },
   {
    "duration": 585,
    "start_time": "2021-11-22T22:57:08.438Z"
   },
   {
    "duration": 24,
    "start_time": "2021-11-22T22:57:09.024Z"
   },
   {
    "duration": 116,
    "start_time": "2021-11-22T22:57:09.049Z"
   },
   {
    "duration": 3,
    "start_time": "2021-11-22T22:57:09.166Z"
   },
   {
    "duration": 36,
    "start_time": "2021-11-22T22:57:09.170Z"
   },
   {
    "duration": 5,
    "start_time": "2021-11-22T22:57:09.207Z"
   },
   {
    "duration": 78,
    "start_time": "2021-11-22T22:57:09.215Z"
   },
   {
    "duration": 75,
    "start_time": "2021-11-22T22:57:09.294Z"
   },
   {
    "duration": 4,
    "start_time": "2021-11-22T22:57:09.371Z"
   },
   {
    "duration": 153,
    "start_time": "2021-11-22T22:57:09.388Z"
   },
   {
    "duration": 80,
    "start_time": "2021-11-22T22:57:09.543Z"
   },
   {
    "duration": 79,
    "start_time": "2021-11-22T22:57:09.624Z"
   },
   {
    "duration": 139,
    "start_time": "2021-11-22T22:57:09.704Z"
   },
   {
    "duration": 2891,
    "start_time": "2021-11-22T22:57:09.844Z"
   },
   {
    "duration": 29,
    "start_time": "2021-11-22T22:57:12.737Z"
   },
   {
    "duration": 159,
    "start_time": "2021-11-22T22:57:12.767Z"
   },
   {
    "duration": 807,
    "start_time": "2021-11-22T22:57:12.927Z"
   },
   {
    "duration": 32,
    "start_time": "2021-11-22T22:57:13.736Z"
   },
   {
    "duration": 24,
    "start_time": "2021-11-22T22:57:13.769Z"
   },
   {
    "duration": 176,
    "start_time": "2021-11-22T22:57:13.794Z"
   },
   {
    "duration": 33,
    "start_time": "2021-11-22T22:57:13.972Z"
   },
   {
    "duration": 18,
    "start_time": "2021-11-22T22:57:14.008Z"
   },
   {
    "duration": 115,
    "start_time": "2021-11-22T22:57:14.029Z"
   },
   {
    "duration": 102,
    "start_time": "2021-11-22T22:57:14.146Z"
   },
   {
    "duration": 112,
    "start_time": "2021-11-22T22:57:14.250Z"
   },
   {
    "duration": 25,
    "start_time": "2021-11-22T22:57:14.363Z"
   },
   {
    "duration": 2,
    "start_time": "2021-11-22T22:57:14.390Z"
   },
   {
    "duration": 149,
    "start_time": "2021-11-22T22:57:14.394Z"
   },
   {
    "duration": 206,
    "start_time": "2021-11-22T22:57:14.545Z"
   },
   {
    "duration": 3,
    "start_time": "2021-11-22T22:57:14.753Z"
   },
   {
    "duration": 44,
    "start_time": "2021-11-22T22:57:14.757Z"
   },
   {
    "duration": 2,
    "start_time": "2021-11-22T22:57:14.802Z"
   },
   {
    "duration": 124,
    "start_time": "2021-11-22T22:57:14.806Z"
   },
   {
    "duration": 1171,
    "start_time": "2021-11-22T22:57:14.932Z"
   },
   {
    "duration": -396,
    "start_time": "2021-11-22T22:57:16.502Z"
   },
   {
    "duration": -779,
    "start_time": "2021-11-22T22:57:16.886Z"
   },
   {
    "duration": -822,
    "start_time": "2021-11-22T22:57:16.930Z"
   },
   {
    "duration": -866,
    "start_time": "2021-11-22T22:57:16.975Z"
   },
   {
    "duration": -905,
    "start_time": "2021-11-22T22:57:17.014Z"
   },
   {
    "duration": -967,
    "start_time": "2021-11-22T22:57:17.077Z"
   },
   {
    "duration": -1005,
    "start_time": "2021-11-22T22:57:17.116Z"
   },
   {
    "duration": -1069,
    "start_time": "2021-11-22T22:57:17.181Z"
   },
   {
    "duration": -1108,
    "start_time": "2021-11-22T22:57:17.221Z"
   },
   {
    "duration": -1138,
    "start_time": "2021-11-22T22:57:17.252Z"
   },
   {
    "duration": -1181,
    "start_time": "2021-11-22T22:57:17.296Z"
   },
   {
    "duration": -1224,
    "start_time": "2021-11-22T22:57:17.339Z"
   },
   {
    "duration": -1278,
    "start_time": "2021-11-22T22:57:17.394Z"
   },
   {
    "duration": -1324,
    "start_time": "2021-11-22T22:57:17.441Z"
   },
   {
    "duration": -1359,
    "start_time": "2021-11-22T22:57:17.477Z"
   },
   {
    "duration": -1397,
    "start_time": "2021-11-22T22:57:17.516Z"
   },
   {
    "duration": -1438,
    "start_time": "2021-11-22T22:57:17.558Z"
   },
   {
    "duration": -1486,
    "start_time": "2021-11-22T22:57:17.607Z"
   },
   {
    "duration": -1515,
    "start_time": "2021-11-22T22:57:17.636Z"
   },
   {
    "duration": -1559,
    "start_time": "2021-11-22T22:57:17.681Z"
   },
   {
    "duration": -1600,
    "start_time": "2021-11-22T22:57:17.723Z"
   },
   {
    "duration": -1653,
    "start_time": "2021-11-22T22:57:17.777Z"
   },
   {
    "duration": -1702,
    "start_time": "2021-11-22T22:57:17.827Z"
   },
   {
    "duration": -1749,
    "start_time": "2021-11-22T22:57:17.875Z"
   },
   {
    "duration": -1777,
    "start_time": "2021-11-22T22:57:17.904Z"
   },
   {
    "duration": -1839,
    "start_time": "2021-11-22T22:57:17.967Z"
   },
   {
    "duration": -1923,
    "start_time": "2021-11-22T22:57:18.052Z"
   },
   {
    "duration": -2019,
    "start_time": "2021-11-22T22:57:18.149Z"
   },
   {
    "duration": -2106,
    "start_time": "2021-11-22T22:57:18.236Z"
   },
   {
    "duration": -2181,
    "start_time": "2021-11-22T22:57:18.312Z"
   },
   {
    "duration": -2288,
    "start_time": "2021-11-22T22:57:18.420Z"
   },
   {
    "duration": -2422,
    "start_time": "2021-11-22T22:57:18.555Z"
   },
   {
    "duration": -2489,
    "start_time": "2021-11-22T22:57:18.623Z"
   },
   {
    "duration": -2525,
    "start_time": "2021-11-22T22:57:18.660Z"
   },
   {
    "duration": -2565,
    "start_time": "2021-11-22T22:57:18.701Z"
   },
   {
    "duration": -2608,
    "start_time": "2021-11-22T22:57:18.745Z"
   },
   {
    "duration": -2650,
    "start_time": "2021-11-22T22:57:18.788Z"
   },
   {
    "duration": -2680,
    "start_time": "2021-11-22T22:57:18.818Z"
   },
   {
    "duration": -2714,
    "start_time": "2021-11-22T22:57:18.853Z"
   },
   {
    "duration": -2749,
    "start_time": "2021-11-22T22:57:18.889Z"
   },
   {
    "duration": -2778,
    "start_time": "2021-11-22T22:57:18.919Z"
   },
   {
    "duration": -2831,
    "start_time": "2021-11-22T22:57:18.973Z"
   },
   {
    "duration": -2861,
    "start_time": "2021-11-22T22:57:19.004Z"
   },
   {
    "duration": -2891,
    "start_time": "2021-11-22T22:57:19.035Z"
   },
   {
    "duration": -2956,
    "start_time": "2021-11-22T22:57:19.100Z"
   },
   {
    "duration": -3010,
    "start_time": "2021-11-22T22:57:19.155Z"
   },
   {
    "duration": -3067,
    "start_time": "2021-11-22T22:57:19.213Z"
   },
   {
    "duration": -3123,
    "start_time": "2021-11-22T22:57:19.269Z"
   },
   {
    "duration": -3225,
    "start_time": "2021-11-22T22:57:19.413Z"
   },
   {
    "duration": -3313,
    "start_time": "2021-11-22T22:57:19.502Z"
   },
   {
    "duration": -3367,
    "start_time": "2021-11-22T22:57:19.557Z"
   },
   {
    "duration": -3393,
    "start_time": "2021-11-22T22:57:19.584Z"
   },
   {
    "duration": -3441,
    "start_time": "2021-11-22T22:57:19.632Z"
   },
   {
    "duration": -3477,
    "start_time": "2021-11-22T22:57:19.669Z"
   },
   {
    "duration": -3515,
    "start_time": "2021-11-22T22:57:19.708Z"
   },
   {
    "duration": -3542,
    "start_time": "2021-11-22T22:57:19.736Z"
   },
   {
    "duration": -3577,
    "start_time": "2021-11-22T22:57:19.772Z"
   },
   {
    "duration": -3613,
    "start_time": "2021-11-22T22:57:19.809Z"
   },
   {
    "duration": -3637,
    "start_time": "2021-11-22T22:57:19.834Z"
   },
   {
    "duration": -3674,
    "start_time": "2021-11-22T22:57:19.872Z"
   },
   {
    "duration": -3714,
    "start_time": "2021-11-22T22:57:19.912Z"
   },
   {
    "duration": -3760,
    "start_time": "2021-11-22T22:57:19.959Z"
   },
   {
    "duration": -3817,
    "start_time": "2021-11-22T22:57:20.017Z"
   },
   {
    "duration": -3889,
    "start_time": "2021-11-22T22:57:20.090Z"
   },
   {
    "duration": -3947,
    "start_time": "2021-11-22T22:57:20.149Z"
   },
   {
    "duration": -3999,
    "start_time": "2021-11-22T22:57:20.202Z"
   },
   {
    "duration": -4052,
    "start_time": "2021-11-22T22:57:20.256Z"
   },
   {
    "duration": -4107,
    "start_time": "2021-11-22T22:57:20.312Z"
   },
   {
    "duration": 172,
    "start_time": "2021-11-22T23:25:57.027Z"
   },
   {
    "duration": 1053,
    "start_time": "2021-11-22T23:26:11.038Z"
   },
   {
    "duration": 587,
    "start_time": "2021-11-22T23:26:12.092Z"
   },
   {
    "duration": 27,
    "start_time": "2021-11-22T23:26:12.681Z"
   },
   {
    "duration": 114,
    "start_time": "2021-11-22T23:26:12.710Z"
   },
   {
    "duration": 7,
    "start_time": "2021-11-22T23:26:12.826Z"
   },
   {
    "duration": 26,
    "start_time": "2021-11-22T23:26:12.835Z"
   },
   {
    "duration": 5,
    "start_time": "2021-11-22T23:26:12.863Z"
   },
   {
    "duration": 82,
    "start_time": "2021-11-22T23:26:12.870Z"
   },
   {
    "duration": 84,
    "start_time": "2021-11-22T23:26:12.953Z"
   },
   {
    "duration": 4,
    "start_time": "2021-11-22T23:26:13.038Z"
   },
   {
    "duration": 153,
    "start_time": "2021-11-22T23:26:13.044Z"
   },
   {
    "duration": 74,
    "start_time": "2021-11-22T23:26:13.198Z"
   },
   {
    "duration": 78,
    "start_time": "2021-11-22T23:26:13.274Z"
   },
   {
    "duration": 145,
    "start_time": "2021-11-22T23:26:13.354Z"
   },
   {
    "duration": 2846,
    "start_time": "2021-11-22T23:26:13.501Z"
   },
   {
    "duration": 61,
    "start_time": "2021-11-22T23:26:16.349Z"
   },
   {
    "duration": 210,
    "start_time": "2021-11-22T23:26:16.420Z"
   },
   {
    "duration": 799,
    "start_time": "2021-11-22T23:26:16.632Z"
   },
   {
    "duration": 32,
    "start_time": "2021-11-22T23:26:17.433Z"
   },
   {
    "duration": 23,
    "start_time": "2021-11-22T23:26:17.467Z"
   },
   {
    "duration": 169,
    "start_time": "2021-11-22T23:26:17.491Z"
   },
   {
    "duration": 37,
    "start_time": "2021-11-22T23:26:17.662Z"
   },
   {
    "duration": 17,
    "start_time": "2021-11-22T23:26:17.702Z"
   },
   {
    "duration": 104,
    "start_time": "2021-11-22T23:26:17.721Z"
   },
   {
    "duration": 94,
    "start_time": "2021-11-22T23:26:17.827Z"
   },
   {
    "duration": 112,
    "start_time": "2021-11-22T23:26:17.922Z"
   },
   {
    "duration": 15,
    "start_time": "2021-11-22T23:26:18.036Z"
   },
   {
    "duration": 3,
    "start_time": "2021-11-22T23:26:18.052Z"
   },
   {
    "duration": 148,
    "start_time": "2021-11-22T23:26:18.056Z"
   },
   {
    "duration": 192,
    "start_time": "2021-11-22T23:26:18.205Z"
   },
   {
    "duration": 3,
    "start_time": "2021-11-22T23:26:18.398Z"
   },
   {
    "duration": 29,
    "start_time": "2021-11-22T23:26:18.403Z"
   },
   {
    "duration": 2,
    "start_time": "2021-11-22T23:26:18.433Z"
   },
   {
    "duration": 129,
    "start_time": "2021-11-22T23:26:18.436Z"
   },
   {
    "duration": 177,
    "start_time": "2021-11-22T23:26:18.566Z"
   },
   {
    "duration": 3,
    "start_time": "2021-11-22T23:26:18.744Z"
   },
   {
    "duration": 7,
    "start_time": "2021-11-22T23:26:18.749Z"
   },
   {
    "duration": 1837,
    "start_time": "2021-11-22T23:26:18.758Z"
   },
   {
    "duration": 91,
    "start_time": "2021-11-22T23:26:20.597Z"
   },
   {
    "duration": 114,
    "start_time": "2021-11-22T23:26:20.690Z"
   },
   {
    "duration": 87,
    "start_time": "2021-11-22T23:26:20.806Z"
   },
   {
    "duration": 118,
    "start_time": "2021-11-22T23:26:20.895Z"
   },
   {
    "duration": 88,
    "start_time": "2021-11-22T23:26:21.015Z"
   },
   {
    "duration": 3,
    "start_time": "2021-11-22T23:26:21.105Z"
   },
   {
    "duration": 44,
    "start_time": "2021-11-22T23:26:21.109Z"
   },
   {
    "duration": 289,
    "start_time": "2021-11-22T23:26:21.155Z"
   },
   {
    "duration": 15,
    "start_time": "2021-11-22T23:26:21.445Z"
   },
   {
    "duration": 176,
    "start_time": "2021-11-22T23:26:21.461Z"
   },
   {
    "duration": 51,
    "start_time": "2021-11-22T23:26:21.639Z"
   },
   {
    "duration": 9,
    "start_time": "2021-11-22T23:26:21.691Z"
   },
   {
    "duration": 91,
    "start_time": "2021-11-22T23:26:21.702Z"
   },
   {
    "duration": 138129,
    "start_time": "2021-11-22T23:26:21.796Z"
   },
   {
    "duration": 23760,
    "start_time": "2021-11-22T23:28:39.926Z"
   },
   {
    "duration": -346,
    "start_time": "2021-11-22T23:29:04.035Z"
   },
   {
    "duration": -386,
    "start_time": "2021-11-22T23:29:04.076Z"
   },
   {
    "duration": -417,
    "start_time": "2021-11-22T23:29:04.108Z"
   },
   {
    "duration": -574,
    "start_time": "2021-11-22T23:29:04.265Z"
   },
   {
    "duration": -603,
    "start_time": "2021-11-22T23:29:04.295Z"
   },
   {
    "duration": -623,
    "start_time": "2021-11-22T23:29:04.316Z"
   },
   {
    "duration": -652,
    "start_time": "2021-11-22T23:29:04.345Z"
   },
   {
    "duration": -687,
    "start_time": "2021-11-22T23:29:04.381Z"
   },
   {
    "duration": -719,
    "start_time": "2021-11-22T23:29:04.414Z"
   },
   {
    "duration": -750,
    "start_time": "2021-11-22T23:29:04.445Z"
   },
   {
    "duration": -774,
    "start_time": "2021-11-22T23:29:04.470Z"
   },
   {
    "duration": -799,
    "start_time": "2021-11-22T23:29:04.496Z"
   },
   {
    "duration": -824,
    "start_time": "2021-11-22T23:29:04.521Z"
   },
   {
    "duration": -870,
    "start_time": "2021-11-22T23:29:04.568Z"
   },
   {
    "duration": -902,
    "start_time": "2021-11-22T23:29:04.601Z"
   },
   {
    "duration": -937,
    "start_time": "2021-11-22T23:29:04.636Z"
   },
   {
    "duration": -969,
    "start_time": "2021-11-22T23:29:04.669Z"
   },
   {
    "duration": -1016,
    "start_time": "2021-11-22T23:29:04.717Z"
   },
   {
    "duration": -1048,
    "start_time": "2021-11-22T23:29:04.749Z"
   },
   {
    "duration": -1079,
    "start_time": "2021-11-22T23:29:04.781Z"
   },
   {
    "duration": -1112,
    "start_time": "2021-11-22T23:29:04.814Z"
   },
   {
    "duration": -1149,
    "start_time": "2021-11-22T23:29:04.852Z"
   },
   {
    "duration": -1180,
    "start_time": "2021-11-22T23:29:04.884Z"
   },
   {
    "duration": -1211,
    "start_time": "2021-11-22T23:29:04.915Z"
   },
   {
    "duration": -1242,
    "start_time": "2021-11-22T23:29:04.947Z"
   },
   {
    "duration": -1279,
    "start_time": "2021-11-22T23:29:04.985Z"
   },
   {
    "duration": -1310,
    "start_time": "2021-11-22T23:29:05.016Z"
   },
   {
    "duration": -1341,
    "start_time": "2021-11-22T23:29:05.048Z"
   },
   {
    "duration": -1377,
    "start_time": "2021-11-22T23:29:05.085Z"
   },
   {
    "duration": -1411,
    "start_time": "2021-11-22T23:29:05.119Z"
   },
   {
    "duration": -1442,
    "start_time": "2021-11-22T23:29:05.151Z"
   },
   {
    "duration": -1476,
    "start_time": "2021-11-22T23:29:05.185Z"
   },
   {
    "duration": -1510,
    "start_time": "2021-11-22T23:29:05.220Z"
   },
   {
    "duration": -1543,
    "start_time": "2021-11-22T23:29:05.254Z"
   },
   {
    "duration": -1574,
    "start_time": "2021-11-22T23:29:05.286Z"
   },
   {
    "duration": -1608,
    "start_time": "2021-11-22T23:29:05.320Z"
   },
   {
    "duration": -1648,
    "start_time": "2021-11-22T23:29:05.361Z"
   },
   {
    "duration": -1675,
    "start_time": "2021-11-22T23:29:05.388Z"
   },
   {
    "duration": -1698,
    "start_time": "2021-11-22T23:29:05.412Z"
   },
   {
    "duration": -1722,
    "start_time": "2021-11-22T23:29:05.437Z"
   },
   {
    "duration": -1754,
    "start_time": "2021-11-22T23:29:05.469Z"
   },
   {
    "duration": -1794,
    "start_time": "2021-11-22T23:29:05.510Z"
   },
   {
    "duration": -1816,
    "start_time": "2021-11-22T23:29:05.533Z"
   },
   {
    "duration": -1848,
    "start_time": "2021-11-22T23:29:05.565Z"
   },
   {
    "duration": -1881,
    "start_time": "2021-11-22T23:29:05.599Z"
   },
   {
    "duration": -1913,
    "start_time": "2021-11-22T23:29:05.632Z"
   },
   {
    "duration": -1949,
    "start_time": "2021-11-22T23:29:05.668Z"
   },
   {
    "duration": -1983,
    "start_time": "2021-11-22T23:29:05.703Z"
   },
   {
    "duration": -2021,
    "start_time": "2021-11-22T23:29:05.741Z"
   },
   {
    "duration": -2046,
    "start_time": "2021-11-22T23:29:05.767Z"
   },
   {
    "duration": 1096,
    "start_time": "2021-11-22T23:31:16.542Z"
   },
   {
    "duration": 551,
    "start_time": "2021-11-22T23:31:17.639Z"
   },
   {
    "duration": 24,
    "start_time": "2021-11-22T23:31:18.192Z"
   },
   {
    "duration": 114,
    "start_time": "2021-11-22T23:31:18.218Z"
   },
   {
    "duration": 2,
    "start_time": "2021-11-22T23:31:18.334Z"
   },
   {
    "duration": 30,
    "start_time": "2021-11-22T23:31:18.337Z"
   },
   {
    "duration": 4,
    "start_time": "2021-11-22T23:31:18.369Z"
   },
   {
    "duration": 80,
    "start_time": "2021-11-22T23:31:18.375Z"
   },
   {
    "duration": 82,
    "start_time": "2021-11-22T23:31:18.457Z"
   },
   {
    "duration": 4,
    "start_time": "2021-11-22T23:31:18.540Z"
   },
   {
    "duration": 154,
    "start_time": "2021-11-22T23:31:18.545Z"
   },
   {
    "duration": 67,
    "start_time": "2021-11-22T23:31:18.700Z"
   },
   {
    "duration": 79,
    "start_time": "2021-11-22T23:31:18.769Z"
   },
   {
    "duration": 143,
    "start_time": "2021-11-22T23:31:18.850Z"
   },
   {
    "duration": 2800,
    "start_time": "2021-11-22T23:31:18.995Z"
   },
   {
    "duration": 29,
    "start_time": "2021-11-22T23:31:21.797Z"
   },
   {
    "duration": 159,
    "start_time": "2021-11-22T23:31:21.828Z"
   },
   {
    "duration": 799,
    "start_time": "2021-11-22T23:31:21.989Z"
   },
   {
    "duration": 34,
    "start_time": "2021-11-22T23:31:22.789Z"
   },
   {
    "duration": 9,
    "start_time": "2021-11-22T23:31:22.825Z"
   },
   {
    "duration": 192,
    "start_time": "2021-11-22T23:31:22.835Z"
   },
   {
    "duration": 30,
    "start_time": "2021-11-22T23:31:23.029Z"
   },
   {
    "duration": 35,
    "start_time": "2021-11-22T23:31:23.064Z"
   },
   {
    "duration": 111,
    "start_time": "2021-11-22T23:31:23.103Z"
   },
   {
    "duration": 100,
    "start_time": "2021-11-22T23:31:23.216Z"
   },
   {
    "duration": 114,
    "start_time": "2021-11-22T23:31:23.318Z"
   },
   {
    "duration": 17,
    "start_time": "2021-11-22T23:31:23.433Z"
   },
   {
    "duration": 3,
    "start_time": "2021-11-22T23:31:23.452Z"
   },
   {
    "duration": 435,
    "start_time": "2021-11-22T23:31:23.457Z"
   },
   {
    "duration": 14,
    "start_time": "2021-11-22T23:31:23.893Z"
   },
   {
    "duration": 3,
    "start_time": "2021-11-22T23:31:23.909Z"
   },
   {
    "duration": 30,
    "start_time": "2021-11-22T23:31:23.913Z"
   },
   {
    "duration": 2,
    "start_time": "2021-11-22T23:31:23.945Z"
   },
   {
    "duration": 136,
    "start_time": "2021-11-22T23:31:23.948Z"
   },
   {
    "duration": 181,
    "start_time": "2021-11-22T23:31:24.085Z"
   },
   {
    "duration": 3,
    "start_time": "2021-11-22T23:31:24.268Z"
   },
   {
    "duration": 17,
    "start_time": "2021-11-22T23:31:24.272Z"
   },
   {
    "duration": 2006,
    "start_time": "2021-11-22T23:31:24.291Z"
   },
   {
    "duration": 4,
    "start_time": "2021-11-22T23:31:26.388Z"
   },
   {
    "duration": 113,
    "start_time": "2021-11-22T23:31:26.395Z"
   },
   {
    "duration": 6,
    "start_time": "2021-11-22T23:31:26.588Z"
   },
   {
    "duration": 120,
    "start_time": "2021-11-22T23:31:26.596Z"
   },
   {
    "duration": 91,
    "start_time": "2021-11-22T23:31:26.717Z"
   },
   {
    "duration": 3,
    "start_time": "2021-11-22T23:31:26.810Z"
   },
   {
    "duration": 46,
    "start_time": "2021-11-22T23:31:26.814Z"
   },
   {
    "duration": 304,
    "start_time": "2021-11-22T23:31:26.862Z"
   },
   {
    "duration": 20,
    "start_time": "2021-11-22T23:31:27.168Z"
   },
   {
    "duration": 170,
    "start_time": "2021-11-22T23:31:27.190Z"
   },
   {
    "duration": 44,
    "start_time": "2021-11-22T23:31:27.361Z"
   },
   {
    "duration": 8,
    "start_time": "2021-11-22T23:31:27.406Z"
   },
   {
    "duration": 6,
    "start_time": "2021-11-22T23:31:27.487Z"
   },
   {
    "duration": 130392,
    "start_time": "2021-11-22T23:31:27.496Z"
   },
   {
    "duration": 20308,
    "start_time": "2021-11-22T23:33:37.890Z"
   },
   {
    "duration": 838,
    "start_time": "2021-11-22T23:33:58.199Z"
   },
   {
    "duration": -387,
    "start_time": "2021-11-22T23:33:59.428Z"
   },
   {
    "duration": -422,
    "start_time": "2021-11-22T23:33:59.464Z"
   },
   {
    "duration": -570,
    "start_time": "2021-11-22T23:33:59.613Z"
   },
   {
    "duration": -603,
    "start_time": "2021-11-22T23:33:59.648Z"
   },
   {
    "duration": -632,
    "start_time": "2021-11-22T23:33:59.678Z"
   },
   {
    "duration": -657,
    "start_time": "2021-11-22T23:33:59.704Z"
   },
   {
    "duration": -677,
    "start_time": "2021-11-22T23:33:59.725Z"
   },
   {
    "duration": -704,
    "start_time": "2021-11-22T23:33:59.753Z"
   },
   {
    "duration": -723,
    "start_time": "2021-11-22T23:33:59.774Z"
   },
   {
    "duration": -752,
    "start_time": "2021-11-22T23:33:59.804Z"
   },
   {
    "duration": -770,
    "start_time": "2021-11-22T23:33:59.823Z"
   },
   {
    "duration": -802,
    "start_time": "2021-11-22T23:33:59.856Z"
   },
   {
    "duration": -823,
    "start_time": "2021-11-22T23:33:59.878Z"
   },
   {
    "duration": -851,
    "start_time": "2021-11-22T23:33:59.907Z"
   },
   {
    "duration": -882,
    "start_time": "2021-11-22T23:33:59.939Z"
   },
   {
    "duration": -905,
    "start_time": "2021-11-22T23:33:59.963Z"
   },
   {
    "duration": -936,
    "start_time": "2021-11-22T23:33:59.995Z"
   },
   {
    "duration": -1081,
    "start_time": "2021-11-22T23:34:00.141Z"
   },
   {
    "duration": -1119,
    "start_time": "2021-11-22T23:34:00.179Z"
   },
   {
    "duration": -1182,
    "start_time": "2021-11-22T23:34:00.244Z"
   },
   {
    "duration": -1242,
    "start_time": "2021-11-22T23:34:00.305Z"
   },
   {
    "duration": -1294,
    "start_time": "2021-11-22T23:34:00.358Z"
   },
   {
    "duration": -1359,
    "start_time": "2021-11-22T23:34:00.424Z"
   },
   {
    "duration": -1392,
    "start_time": "2021-11-22T23:34:00.458Z"
   },
   {
    "duration": -1429,
    "start_time": "2021-11-22T23:34:00.496Z"
   },
   {
    "duration": -1459,
    "start_time": "2021-11-22T23:34:00.526Z"
   },
   {
    "duration": -1488,
    "start_time": "2021-11-22T23:34:00.556Z"
   },
   {
    "duration": -1511,
    "start_time": "2021-11-22T23:34:00.580Z"
   },
   {
    "duration": -1540,
    "start_time": "2021-11-22T23:34:00.610Z"
   },
   {
    "duration": -1571,
    "start_time": "2021-11-22T23:34:00.642Z"
   },
   {
    "duration": -1600,
    "start_time": "2021-11-22T23:34:00.672Z"
   },
   {
    "duration": -1622,
    "start_time": "2021-11-22T23:34:00.695Z"
   },
   {
    "duration": -1651,
    "start_time": "2021-11-22T23:34:00.725Z"
   },
   {
    "duration": -1677,
    "start_time": "2021-11-22T23:34:00.752Z"
   },
   {
    "duration": -1702,
    "start_time": "2021-11-22T23:34:00.778Z"
   },
   {
    "duration": -1738,
    "start_time": "2021-11-22T23:34:00.815Z"
   },
   {
    "duration": -1771,
    "start_time": "2021-11-22T23:34:00.848Z"
   },
   {
    "duration": -1807,
    "start_time": "2021-11-22T23:34:00.887Z"
   },
   {
    "duration": -1831,
    "start_time": "2021-11-22T23:34:00.912Z"
   },
   {
    "duration": -1858,
    "start_time": "2021-11-22T23:34:00.945Z"
   },
   {
    "duration": -1916,
    "start_time": "2021-11-22T23:34:01.004Z"
   },
   {
    "duration": -1959,
    "start_time": "2021-11-22T23:34:01.048Z"
   },
   {
    "duration": -1999,
    "start_time": "2021-11-22T23:34:01.088Z"
   },
   {
    "duration": -2043,
    "start_time": "2021-11-22T23:34:01.133Z"
   },
   {
    "duration": -2065,
    "start_time": "2021-11-22T23:34:01.156Z"
   },
   {
    "duration": -2107,
    "start_time": "2021-11-22T23:34:01.199Z"
   },
   {
    "duration": -2173,
    "start_time": "2021-11-22T23:34:01.265Z"
   },
   {
    "duration": -2239,
    "start_time": "2021-11-22T23:34:01.332Z"
   },
   {
    "duration": -2264,
    "start_time": "2021-11-22T23:34:01.358Z"
   },
   {
    "duration": 1133,
    "start_time": "2021-11-22T23:36:55.711Z"
   },
   {
    "duration": 569,
    "start_time": "2021-11-22T23:36:56.846Z"
   },
   {
    "duration": 23,
    "start_time": "2021-11-22T23:36:57.416Z"
   },
   {
    "duration": 114,
    "start_time": "2021-11-22T23:36:57.441Z"
   },
   {
    "duration": 3,
    "start_time": "2021-11-22T23:36:57.556Z"
   },
   {
    "duration": 35,
    "start_time": "2021-11-22T23:36:57.560Z"
   },
   {
    "duration": 4,
    "start_time": "2021-11-22T23:36:57.597Z"
   },
   {
    "duration": 73,
    "start_time": "2021-11-22T23:36:57.603Z"
   },
   {
    "duration": 76,
    "start_time": "2021-11-22T23:36:57.687Z"
   },
   {
    "duration": 4,
    "start_time": "2021-11-22T23:36:57.765Z"
   },
   {
    "duration": 161,
    "start_time": "2021-11-22T23:36:57.770Z"
   },
   {
    "duration": 77,
    "start_time": "2021-11-22T23:36:57.933Z"
   },
   {
    "duration": 82,
    "start_time": "2021-11-22T23:36:58.012Z"
   },
   {
    "duration": 143,
    "start_time": "2021-11-22T23:36:58.095Z"
   },
   {
    "duration": 2859,
    "start_time": "2021-11-22T23:36:58.240Z"
   },
   {
    "duration": 30,
    "start_time": "2021-11-22T23:37:01.101Z"
   },
   {
    "duration": 166,
    "start_time": "2021-11-22T23:37:01.133Z"
   },
   {
    "duration": 826,
    "start_time": "2021-11-22T23:37:01.300Z"
   },
   {
    "duration": 35,
    "start_time": "2021-11-22T23:37:02.127Z"
   },
   {
    "duration": 28,
    "start_time": "2021-11-22T23:37:02.164Z"
   },
   {
    "duration": 181,
    "start_time": "2021-11-22T23:37:02.194Z"
   },
   {
    "duration": 33,
    "start_time": "2021-11-22T23:37:02.377Z"
   },
   {
    "duration": 18,
    "start_time": "2021-11-22T23:37:02.414Z"
   },
   {
    "duration": 109,
    "start_time": "2021-11-22T23:37:02.434Z"
   },
   {
    "duration": 98,
    "start_time": "2021-11-22T23:37:02.544Z"
   },
   {
    "duration": 114,
    "start_time": "2021-11-22T23:37:02.644Z"
   },
   {
    "duration": 194,
    "start_time": "2021-11-22T23:37:02.760Z"
   },
   {
    "duration": 4,
    "start_time": "2021-11-22T23:37:02.956Z"
   },
   {
    "duration": 141,
    "start_time": "2021-11-22T23:37:02.961Z"
   },
   {
    "duration": 14,
    "start_time": "2021-11-22T23:37:03.104Z"
   },
   {
    "duration": 3,
    "start_time": "2021-11-22T23:37:03.119Z"
   },
   {
    "duration": 29,
    "start_time": "2021-11-22T23:37:03.124Z"
   },
   {
    "duration": 2,
    "start_time": "2021-11-22T23:37:03.155Z"
   },
   {
    "duration": 132,
    "start_time": "2021-11-22T23:37:03.158Z"
   },
   {
    "duration": 181,
    "start_time": "2021-11-22T23:37:03.291Z"
   },
   {
    "duration": 3,
    "start_time": "2021-11-22T23:37:03.473Z"
   },
   {
    "duration": 10,
    "start_time": "2021-11-22T23:37:03.478Z"
   },
   {
    "duration": 2006,
    "start_time": "2021-11-22T23:37:03.489Z"
   },
   {
    "duration": 91,
    "start_time": "2021-11-22T23:37:05.497Z"
   },
   {
    "duration": 196,
    "start_time": "2021-11-22T23:37:05.591Z"
   },
   {
    "duration": 5,
    "start_time": "2021-11-22T23:37:05.790Z"
   },
   {
    "duration": 32,
    "start_time": "2021-11-22T23:37:05.889Z"
   },
   {
    "duration": 83,
    "start_time": "2021-11-22T23:37:05.923Z"
   },
   {
    "duration": 4,
    "start_time": "2021-11-22T23:37:06.007Z"
   },
   {
    "duration": 42,
    "start_time": "2021-11-22T23:37:06.012Z"
   },
   {
    "duration": 300,
    "start_time": "2021-11-22T23:37:06.056Z"
   },
   {
    "duration": 16,
    "start_time": "2021-11-22T23:37:06.358Z"
   },
   {
    "duration": 180,
    "start_time": "2021-11-22T23:37:06.376Z"
   },
   {
    "duration": 46,
    "start_time": "2021-11-22T23:37:06.557Z"
   },
   {
    "duration": 11,
    "start_time": "2021-11-22T23:37:06.605Z"
   },
   {
    "duration": 74,
    "start_time": "2021-11-22T23:37:06.618Z"
   },
   {
    "duration": 130653,
    "start_time": "2021-11-22T23:37:06.694Z"
   },
   {
    "duration": 22356,
    "start_time": "2021-11-22T23:39:17.348Z"
   },
   {
    "duration": 520,
    "start_time": "2021-11-22T23:39:39.705Z"
   },
   {
    "duration": 5,
    "start_time": "2021-11-22T23:39:40.227Z"
   },
   {
    "duration": 89043,
    "start_time": "2021-11-22T23:39:40.233Z"
   },
   {
    "duration": 22581,
    "start_time": "2021-11-22T23:41:09.278Z"
   },
   {
    "duration": 1172,
    "start_time": "2021-11-22T23:41:31.860Z"
   },
   {
    "duration": 4,
    "start_time": "2021-11-22T23:41:33.034Z"
   },
   {
    "duration": 8830,
    "start_time": "2021-11-22T23:41:33.039Z"
   },
   {
    "duration": 1176,
    "start_time": "2021-11-22T23:41:41.871Z"
   },
   {
    "duration": 21,
    "start_time": "2021-11-22T23:41:43.048Z"
   },
   {
    "duration": 4,
    "start_time": "2021-11-22T23:41:43.070Z"
   },
   {
    "duration": 3155,
    "start_time": "2021-11-22T23:41:43.088Z"
   },
   {
    "duration": 313,
    "start_time": "2021-11-22T23:41:46.244Z"
   },
   {
    "duration": 11,
    "start_time": "2021-11-22T23:41:46.558Z"
   },
   {
    "duration": 18,
    "start_time": "2021-11-22T23:41:46.570Z"
   },
   {
    "duration": 2030,
    "start_time": "2021-11-22T23:41:46.593Z"
   },
   {
    "duration": 140372,
    "start_time": "2021-11-22T23:41:48.625Z"
   },
   {
    "duration": 259800,
    "start_time": "2021-11-22T23:44:08.999Z"
   },
   {
    "duration": 188088,
    "start_time": "2021-11-22T23:48:28.801Z"
   },
   {
    "duration": 20009,
    "start_time": "2021-11-22T23:51:36.891Z"
   },
   {
    "duration": 1102,
    "start_time": "2021-11-22T23:51:56.901Z"
   },
   {
    "duration": 5,
    "start_time": "2021-11-22T23:51:58.004Z"
   },
   {
    "duration": 1044,
    "start_time": "2021-11-22T23:51:58.010Z"
   },
   {
    "duration": 2397,
    "start_time": "2021-11-22T23:51:59.056Z"
   },
   {
    "duration": 213539,
    "start_time": "2021-11-22T23:52:01.455Z"
   },
   {
    "duration": 346858,
    "start_time": "2021-11-22T23:55:34.995Z"
   },
   {
    "duration": 85767,
    "start_time": "2021-11-23T00:01:21.854Z"
   },
   {
    "duration": 106268,
    "start_time": "2021-11-23T00:02:47.622Z"
   },
   {
    "duration": 1744,
    "start_time": "2021-11-23T00:04:33.891Z"
   },
   {
    "duration": 4,
    "start_time": "2021-11-23T00:04:35.636Z"
   },
   {
    "duration": 2048,
    "start_time": "2021-11-23T00:04:35.642Z"
   },
   {
    "duration": 2118,
    "start_time": "2021-11-23T00:04:37.692Z"
   },
   {
    "duration": 86,
    "start_time": "2021-11-23T00:04:39.811Z"
   },
   {
    "duration": 9995,
    "start_time": "2021-11-23T00:04:39.898Z"
   },
   {
    "duration": 179795,
    "start_time": "2021-11-23T00:04:49.894Z"
   },
   {
    "duration": 214,
    "start_time": "2021-11-23T00:07:49.690Z"
   },
   {
    "duration": 82,
    "start_time": "2021-11-23T00:07:49.906Z"
   },
   {
    "duration": 3,
    "start_time": "2021-11-23T00:07:49.989Z"
   },
   {
    "duration": 931,
    "start_time": "2021-11-23T00:07:49.993Z"
   },
   {
    "duration": 4,
    "start_time": "2021-11-23T00:07:50.925Z"
   },
   {
    "duration": 11,
    "start_time": "2021-11-23T00:07:50.930Z"
   },
   {
    "duration": 354,
    "start_time": "2021-11-23T00:07:50.942Z"
   },
   {
    "duration": 2,
    "start_time": "2021-11-23T00:07:51.298Z"
   },
   {
    "duration": 5,
    "start_time": "2021-11-23T00:07:51.301Z"
   },
   {
    "duration": 10,
    "start_time": "2021-11-23T00:07:51.307Z"
   },
   {
    "duration": 3,
    "start_time": "2021-11-23T00:07:51.319Z"
   },
   {
    "duration": 5,
    "start_time": "2021-11-23T00:07:51.323Z"
   },
   {
    "duration": 13,
    "start_time": "2021-11-23T00:07:51.329Z"
   },
   {
    "duration": 5056,
    "start_time": "2021-11-23T00:07:51.343Z"
   },
   {
    "duration": 9,
    "start_time": "2021-11-23T00:07:56.401Z"
   },
   {
    "duration": 14,
    "start_time": "2021-11-23T00:07:56.411Z"
   },
   {
    "duration": 543,
    "start_time": "2021-11-23T20:45:41.839Z"
   },
   {
    "duration": 17,
    "start_time": "2021-11-23T20:46:19.162Z"
   },
   {
    "duration": 470,
    "start_time": "2021-11-23T20:46:43.363Z"
   },
   {
    "duration": 343,
    "start_time": "2021-11-23T20:47:33.102Z"
   },
   {
    "duration": 409,
    "start_time": "2021-11-23T20:47:44.121Z"
   }
  ],
  "kernelspec": {
   "display_name": "Python 3 (ipykernel)",
   "language": "python",
   "name": "python3"
  },
  "language_info": {
   "codemirror_mode": {
    "name": "ipython",
    "version": 3
   },
   "file_extension": ".py",
   "mimetype": "text/x-python",
   "name": "python",
   "nbconvert_exporter": "python",
   "pygments_lexer": "ipython3",
   "version": "3.8.12"
  },
  "toc": {
   "base_numbering": 1,
   "nav_menu": {},
   "number_sections": true,
   "sideBar": true,
   "skip_h1_title": true,
   "title_cell": "Table of Contents",
   "title_sidebar": "Contents",
   "toc_cell": false,
   "toc_position": {},
   "toc_section_display": true,
   "toc_window_display": false
  }
 },
 "nbformat": 4,
 "nbformat_minor": 2
}
