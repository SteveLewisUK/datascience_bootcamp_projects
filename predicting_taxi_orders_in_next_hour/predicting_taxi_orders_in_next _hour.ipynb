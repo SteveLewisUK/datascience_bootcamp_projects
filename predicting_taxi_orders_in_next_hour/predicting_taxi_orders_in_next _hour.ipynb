{
 "cells": [
  {
   "cell_type": "markdown",
   "metadata": {},
   "source": [
    "# Predicting Taxi Orders in the Next Hour\n",
    "\n",
    "The Sweet Lift Taxi company needs more drivers during peak hours.  It has collected historical data on taxi orders at airports and it wishes to predict the amount of taxi orders for the next hour. \n",
    "\n",
    "This project is to train and compare different models with different hyperparameters to make these predictions. The stated aim is to acheive an RMSE metric on the test set of not more than 48."
   ]
  },
  {
   "cell_type": "code",
   "execution_count": 1,
   "metadata": {},
   "outputs": [],
   "source": [
    "import pandas as pd\n",
    "from IPython.display import display\n",
    "import numpy as np\n",
    "import matplotlib.pyplot as plt\n",
    "%matplotlib inline\n",
    "from statsmodels.tsa.seasonal import seasonal_decompose\n",
    "from sklearn.model_selection import train_test_split\n",
    "from sklearn.linear_model import LinearRegression\n",
    "from sklearn.ensemble import RandomForestRegressor\n",
    "from sklearn.tree import DecisionTreeRegressor\n",
    "from sklearn.metrics import mean_squared_error\n",
    "import lightgbm as lgb\n",
    "import xgboost as xgb\n",
    "import catboost as cb\n",
    "import sys\n",
    "import warnings\n",
    "if not sys.warnoptions:\n",
    "    warnings.simplefilter(\"ignore\")"
   ]
  },
  {
   "cell_type": "markdown",
   "metadata": {},
   "source": [
    "## Data Preparation"
   ]
  },
  {
   "cell_type": "markdown",
   "metadata": {},
   "source": [
    "We first import and investigate the data:"
   ]
  },
  {
   "cell_type": "code",
   "execution_count": 2,
   "metadata": {},
   "outputs": [],
   "source": [
    "try:\n",
    "    data = pd.read_csv('/datasets/taxi.csv')\n",
    "except:\n",
    "    data = pd.read_csv('/Users/Steve Lewis/practicum_datasets/taxi.csv')"
   ]
  },
  {
   "cell_type": "code",
   "execution_count": 3,
   "metadata": {},
   "outputs": [
    {
     "data": {
      "text/html": [
       "<div>\n",
       "<style scoped>\n",
       "    .dataframe tbody tr th:only-of-type {\n",
       "        vertical-align: middle;\n",
       "    }\n",
       "\n",
       "    .dataframe tbody tr th {\n",
       "        vertical-align: top;\n",
       "    }\n",
       "\n",
       "    .dataframe thead th {\n",
       "        text-align: right;\n",
       "    }\n",
       "</style>\n",
       "<table border=\"1\" class=\"dataframe\">\n",
       "  <thead>\n",
       "    <tr style=\"text-align: right;\">\n",
       "      <th></th>\n",
       "      <th>datetime</th>\n",
       "      <th>num_orders</th>\n",
       "    </tr>\n",
       "  </thead>\n",
       "  <tbody>\n",
       "    <tr>\n",
       "      <th>0</th>\n",
       "      <td>2018-03-01 00:00:00</td>\n",
       "      <td>9</td>\n",
       "    </tr>\n",
       "    <tr>\n",
       "      <th>1</th>\n",
       "      <td>2018-03-01 00:10:00</td>\n",
       "      <td>14</td>\n",
       "    </tr>\n",
       "    <tr>\n",
       "      <th>2</th>\n",
       "      <td>2018-03-01 00:20:00</td>\n",
       "      <td>28</td>\n",
       "    </tr>\n",
       "    <tr>\n",
       "      <th>3</th>\n",
       "      <td>2018-03-01 00:30:00</td>\n",
       "      <td>20</td>\n",
       "    </tr>\n",
       "    <tr>\n",
       "      <th>4</th>\n",
       "      <td>2018-03-01 00:40:00</td>\n",
       "      <td>32</td>\n",
       "    </tr>\n",
       "    <tr>\n",
       "      <th>...</th>\n",
       "      <td>...</td>\n",
       "      <td>...</td>\n",
       "    </tr>\n",
       "    <tr>\n",
       "      <th>26491</th>\n",
       "      <td>2018-08-31 23:10:00</td>\n",
       "      <td>32</td>\n",
       "    </tr>\n",
       "    <tr>\n",
       "      <th>26492</th>\n",
       "      <td>2018-08-31 23:20:00</td>\n",
       "      <td>24</td>\n",
       "    </tr>\n",
       "    <tr>\n",
       "      <th>26493</th>\n",
       "      <td>2018-08-31 23:30:00</td>\n",
       "      <td>27</td>\n",
       "    </tr>\n",
       "    <tr>\n",
       "      <th>26494</th>\n",
       "      <td>2018-08-31 23:40:00</td>\n",
       "      <td>39</td>\n",
       "    </tr>\n",
       "    <tr>\n",
       "      <th>26495</th>\n",
       "      <td>2018-08-31 23:50:00</td>\n",
       "      <td>53</td>\n",
       "    </tr>\n",
       "  </tbody>\n",
       "</table>\n",
       "<p>26496 rows × 2 columns</p>\n",
       "</div>"
      ],
      "text/plain": [
       "                  datetime  num_orders\n",
       "0      2018-03-01 00:00:00           9\n",
       "1      2018-03-01 00:10:00          14\n",
       "2      2018-03-01 00:20:00          28\n",
       "3      2018-03-01 00:30:00          20\n",
       "4      2018-03-01 00:40:00          32\n",
       "...                    ...         ...\n",
       "26491  2018-08-31 23:10:00          32\n",
       "26492  2018-08-31 23:20:00          24\n",
       "26493  2018-08-31 23:30:00          27\n",
       "26494  2018-08-31 23:40:00          39\n",
       "26495  2018-08-31 23:50:00          53\n",
       "\n",
       "[26496 rows x 2 columns]"
      ]
     },
     "execution_count": 3,
     "metadata": {},
     "output_type": "execute_result"
    }
   ],
   "source": [
    "data"
   ]
  },
  {
   "cell_type": "code",
   "execution_count": 4,
   "metadata": {},
   "outputs": [
    {
     "name": "stdout",
     "output_type": "stream",
     "text": [
      "<class 'pandas.core.frame.DataFrame'>\n",
      "RangeIndex: 26496 entries, 0 to 26495\n",
      "Data columns (total 2 columns):\n",
      " #   Column      Non-Null Count  Dtype \n",
      "---  ------      --------------  ----- \n",
      " 0   datetime    26496 non-null  object\n",
      " 1   num_orders  26496 non-null  int64 \n",
      "dtypes: int64(1), object(1)\n",
      "memory usage: 414.1+ KB\n"
     ]
    }
   ],
   "source": [
    "data.info()"
   ]
  },
  {
   "cell_type": "markdown",
   "metadata": {},
   "source": [
    "There are 26,496 rows in this dataframe and only 2 columns: (1) a timestamp and (2) the number of taxi orders.  We will read in the data again, this time parsing the dates in the 1st (datetime) column: "
   ]
  },
  {
   "cell_type": "code",
   "execution_count": 5,
   "metadata": {},
   "outputs": [],
   "source": [
    "try:\n",
    "    data = pd.read_csv('/datasets/taxi.csv', index_col=[0], parse_dates=[0])\n",
    "except:\n",
    "    data = pd.read_csv('/Users/Steve Lewis/practicum_datasets/taxi.csv', index_col=[0], parse_dates=[0])"
   ]
  },
  {
   "cell_type": "code",
   "execution_count": 6,
   "metadata": {},
   "outputs": [
    {
     "data": {
      "text/html": [
       "<div>\n",
       "<style scoped>\n",
       "    .dataframe tbody tr th:only-of-type {\n",
       "        vertical-align: middle;\n",
       "    }\n",
       "\n",
       "    .dataframe tbody tr th {\n",
       "        vertical-align: top;\n",
       "    }\n",
       "\n",
       "    .dataframe thead th {\n",
       "        text-align: right;\n",
       "    }\n",
       "</style>\n",
       "<table border=\"1\" class=\"dataframe\">\n",
       "  <thead>\n",
       "    <tr style=\"text-align: right;\">\n",
       "      <th></th>\n",
       "      <th>num_orders</th>\n",
       "    </tr>\n",
       "    <tr>\n",
       "      <th>datetime</th>\n",
       "      <th></th>\n",
       "    </tr>\n",
       "  </thead>\n",
       "  <tbody>\n",
       "    <tr>\n",
       "      <th>2018-03-01 00:00:00</th>\n",
       "      <td>9</td>\n",
       "    </tr>\n",
       "    <tr>\n",
       "      <th>2018-03-01 00:10:00</th>\n",
       "      <td>14</td>\n",
       "    </tr>\n",
       "    <tr>\n",
       "      <th>2018-03-01 00:20:00</th>\n",
       "      <td>28</td>\n",
       "    </tr>\n",
       "    <tr>\n",
       "      <th>2018-03-01 00:30:00</th>\n",
       "      <td>20</td>\n",
       "    </tr>\n",
       "    <tr>\n",
       "      <th>2018-03-01 00:40:00</th>\n",
       "      <td>32</td>\n",
       "    </tr>\n",
       "    <tr>\n",
       "      <th>...</th>\n",
       "      <td>...</td>\n",
       "    </tr>\n",
       "    <tr>\n",
       "      <th>2018-08-31 23:10:00</th>\n",
       "      <td>32</td>\n",
       "    </tr>\n",
       "    <tr>\n",
       "      <th>2018-08-31 23:20:00</th>\n",
       "      <td>24</td>\n",
       "    </tr>\n",
       "    <tr>\n",
       "      <th>2018-08-31 23:30:00</th>\n",
       "      <td>27</td>\n",
       "    </tr>\n",
       "    <tr>\n",
       "      <th>2018-08-31 23:40:00</th>\n",
       "      <td>39</td>\n",
       "    </tr>\n",
       "    <tr>\n",
       "      <th>2018-08-31 23:50:00</th>\n",
       "      <td>53</td>\n",
       "    </tr>\n",
       "  </tbody>\n",
       "</table>\n",
       "<p>26496 rows × 1 columns</p>\n",
       "</div>"
      ],
      "text/plain": [
       "                     num_orders\n",
       "datetime                       \n",
       "2018-03-01 00:00:00           9\n",
       "2018-03-01 00:10:00          14\n",
       "2018-03-01 00:20:00          28\n",
       "2018-03-01 00:30:00          20\n",
       "2018-03-01 00:40:00          32\n",
       "...                         ...\n",
       "2018-08-31 23:10:00          32\n",
       "2018-08-31 23:20:00          24\n",
       "2018-08-31 23:30:00          27\n",
       "2018-08-31 23:40:00          39\n",
       "2018-08-31 23:50:00          53\n",
       "\n",
       "[26496 rows x 1 columns]"
      ]
     },
     "execution_count": 6,
     "metadata": {},
     "output_type": "execute_result"
    }
   ],
   "source": [
    "data"
   ]
  },
  {
   "cell_type": "code",
   "execution_count": 7,
   "metadata": {},
   "outputs": [
    {
     "name": "stdout",
     "output_type": "stream",
     "text": [
      "<class 'pandas.core.frame.DataFrame'>\n",
      "DatetimeIndex: 26496 entries, 2018-03-01 00:00:00 to 2018-08-31 23:50:00\n",
      "Data columns (total 1 columns):\n",
      " #   Column      Non-Null Count  Dtype\n",
      "---  ------      --------------  -----\n",
      " 0   num_orders  26496 non-null  int64\n",
      "dtypes: int64(1)\n",
      "memory usage: 414.0 KB\n"
     ]
    }
   ],
   "source": [
    "data.info()"
   ]
  },
  {
   "cell_type": "markdown",
   "metadata": {},
   "source": [
    "The datatime column is now the index.\n",
    "\n",
    "We need to be sure that the data is in chronological order: "
   ]
  },
  {
   "cell_type": "code",
   "execution_count": 8,
   "metadata": {},
   "outputs": [],
   "source": [
    "data.sort_index(inplace=True)"
   ]
  },
  {
   "cell_type": "code",
   "execution_count": 9,
   "metadata": {},
   "outputs": [
    {
     "name": "stdout",
     "output_type": "stream",
     "text": [
      "True\n"
     ]
    }
   ],
   "source": [
    "print(data.index.is_monotonic)"
   ]
  },
  {
   "cell_type": "markdown",
   "metadata": {},
   "source": [
    "This confirms that the data is chronological for the 6 month period from March 1 to August 31 2018."
   ]
  },
  {
   "cell_type": "markdown",
   "metadata": {},
   "source": [
    "### Resampling the Data by 1 Hour"
   ]
  },
  {
   "cell_type": "markdown",
   "metadata": {},
   "source": [
    "The length of the time intervals in the dataset is 10 minutes. We will change this to 1 hour:"
   ]
  },
  {
   "cell_type": "code",
   "execution_count": 10,
   "metadata": {},
   "outputs": [],
   "source": [
    "data = data.resample('1H').sum()"
   ]
  },
  {
   "cell_type": "code",
   "execution_count": 11,
   "metadata": {},
   "outputs": [
    {
     "name": "stdout",
     "output_type": "stream",
     "text": [
      "<class 'pandas.core.frame.DataFrame'>\n",
      "DatetimeIndex: 4416 entries, 2018-03-01 00:00:00 to 2018-08-31 23:00:00\n",
      "Freq: H\n",
      "Data columns (total 1 columns):\n",
      " #   Column      Non-Null Count  Dtype\n",
      "---  ------      --------------  -----\n",
      " 0   num_orders  4416 non-null   int64\n",
      "dtypes: int64(1)\n",
      "memory usage: 69.0 KB\n"
     ]
    }
   ],
   "source": [
    "data.info()"
   ]
  },
  {
   "cell_type": "markdown",
   "metadata": {},
   "source": [
    "There are now 4416 rows in the dataset. We will do a last check to ascertain if any of the index values are duplicated:"
   ]
  },
  {
   "cell_type": "code",
   "execution_count": 12,
   "metadata": {},
   "outputs": [
    {
     "data": {
      "text/plain": [
       "0"
      ]
     },
     "execution_count": 12,
     "metadata": {},
     "output_type": "execute_result"
    }
   ],
   "source": [
    "data.index.duplicated().sum()"
   ]
  },
  {
   "cell_type": "markdown",
   "metadata": {},
   "source": [
    "## Analysis"
   ]
  },
  {
   "cell_type": "markdown",
   "metadata": {},
   "source": [
    "We need to confirm that the data is *stationary* before we can do forecasting on it, ie that it has constant statistical properties over time.  Specifically, this means that we have to confirm a constant mean and variance.\n",
    "\n",
    "We will create a function that we can use to plot the statistics we need:"
   ]
  },
  {
   "cell_type": "code",
   "execution_count": 13,
   "metadata": {},
   "outputs": [],
   "source": [
    "def plot_data(series, roll_period):\n",
    "   \n",
    "    rolmean = series.rolling(roll_period).mean()\n",
    "    rolstd = series.rolling(roll_period).std()\n",
    "\n",
    "    #Plot rolling statistics:\n",
    "    plt.figure(figsize=(12,8))\n",
    "    orig = plt.plot(series, color='lightblue',label='Original')\n",
    "    mean = plt.plot(rolmean, color='red', label='Rolling Mean')\n",
    "    std = plt.plot(rolstd, color='black', label = 'Rolling Std')\n",
    "    plt.legend(loc='best')\n",
    "    plt.title('Rolling Mean & Standard Deviation')\n",
    "    plt.show(block=False)"
   ]
  },
  {
   "cell_type": "markdown",
   "metadata": {},
   "source": [
    "We will run the funtion on a subset of the data to be sure to be able to view the plot fully:"
   ]
  },
  {
   "cell_type": "code",
   "execution_count": 14,
   "metadata": {},
   "outputs": [
    {
     "data": {
      "image/png": "[encoded data removed]",
      "text/plain": [
       "<Figure size 864x576 with 1 Axes>"
      ]
     },
     "metadata": {
      "needs_background": "light"
     },
     "output_type": "display_data"
    }
   ],
   "source": [
    "# series = timeseries[start:end]['num_orders']\n",
    "series = data['2018-04-01':'2018-05-01']['num_orders']\n",
    "plot_data(series, 24)"
   ]
  },
  {
   "cell_type": "markdown",
   "metadata": {},
   "source": [
    "The mean and STD are fluctuating; it looks like some seasonality is present. In addition it looks like there is an upward trend for the mean.\n",
    "\n",
    "We will mow carry out two investigations to determine if these can be smoothed out: differencing and decomposition."
   ]
  },
  {
   "cell_type": "markdown",
   "metadata": {},
   "source": [
    "### Differencing"
   ]
  },
  {
   "cell_type": "markdown",
   "metadata": {},
   "source": [
    "Differencing calculates the difference between the data and the data shifted by a particular time lag.  The default time lag of shift() is 1 period (which in this case is 1 hour). \n",
    "\n",
    "We will apply this to the log of the values, in order to reduce the range of the data:"
   ]
  },
  {
   "cell_type": "code",
   "execution_count": 15,
   "metadata": {},
   "outputs": [
    {
     "data": {
      "text/plain": [
       "[<matplotlib.lines.Line2D at 0x221970ca220>]"
      ]
     },
     "execution_count": 15,
     "metadata": {},
     "output_type": "execute_result"
    },
    {
     "data": {
      "image/png": "[encoded data removed]",
      "text/plain": [
       "<Figure size 864x576 with 1 Axes>"
      ]
     },
     "metadata": {
      "needs_background": "light"
     },
     "output_type": "display_data"
    }
   ],
   "source": [
    "log_series = np.log(data['2018-04-01':'2018-05-01']['num_orders'])\n",
    "log_diff = log_series - log_series.shift()\n",
    "plt.figure(figsize=(12,8))\n",
    "plt.plot(log_diff)"
   ]
  },
  {
   "cell_type": "markdown",
   "metadata": {},
   "source": [
    "This data now looks much more stationary.  We plot the mean and STD:"
   ]
  },
  {
   "cell_type": "code",
   "execution_count": 16,
   "metadata": {},
   "outputs": [
    {
     "data": {
      "image/png": "[encoded data removed]",
      "text/plain": [
       "<Figure size 864x576 with 1 Axes>"
      ]
     },
     "metadata": {
      "needs_background": "light"
     },
     "output_type": "display_data"
    }
   ],
   "source": [
    "plot_data(log_diff, 24)"
   ]
  },
  {
   "cell_type": "markdown",
   "metadata": {},
   "source": [
    "The mean in the above plot looks to be pretty much horizontal. The standard deviation fluctuates, though within a much narrower range (0.5 to 1)."
   ]
  },
  {
   "cell_type": "markdown",
   "metadata": {},
   "source": [
    "### Decomposition"
   ]
  },
  {
   "cell_type": "markdown",
   "metadata": {},
   "source": [
    "Now we will use the tsa.seasonal module of the statsmodels library to decompose the data into ***trend, seasonal and residual*** components and plot the results:"
   ]
  },
  {
   "cell_type": "code",
   "execution_count": 17,
   "metadata": {},
   "outputs": [
    {
     "data": {
      "text/plain": [
       "<matplotlib.legend.Legend at 0x22196fabd30>"
      ]
     },
     "execution_count": 17,
     "metadata": {},
     "output_type": "execute_result"
    },
    {
     "data": {
      "image/png": "[encoded data removed]",
      "text/plain": [
       "<Figure size 864x576 with 4 Axes>"
      ]
     },
     "metadata": {
      "needs_background": "light"
     },
     "output_type": "display_data"
    }
   ],
   "source": [
    "decomposed = seasonal_decompose(data['2018-04-01':'2018-05-01'])\n",
    "plt.figure(figsize=(12, 8))\n",
    "\n",
    "trend = decomposed.trend\n",
    "seasonal = decomposed.seasonal\n",
    "residual = decomposed.resid\n",
    "\n",
    "plt.subplot(411)\n",
    "plt.plot(data, label='Original')\n",
    "plt.legend(loc='best')\n",
    "\n",
    "plt.subplot(412)\n",
    "plt.plot(trend, label='Trend')\n",
    "plt.legend(loc='best')\n",
    "\n",
    "plt.subplot(413)\n",
    "plt.plot(seasonal,label='Seasonality')\n",
    "plt.legend(loc='best')\n",
    "\n",
    "plt.subplot(414)\n",
    "plt.plot(residual, label='Residuals')\n",
    "plt.legend(loc='best')"
   ]
  },
  {
   "cell_type": "markdown",
   "metadata": {},
   "source": [
    "The 1st graph is the graph of the original (non-decomposed) data. \n",
    "\n",
    "The next graph (of the **Trend**) clearly shows a rising trend over the course of the month.\n",
    "\n",
    "The 3rd graph of **Seasonality** shows a very clear repeating pattern.\n",
    "\n",
    "The last graph is the 'noise' (the **Residuals**).\n",
    "\n",
    "Lets look at an even smaller sample of 3 days only to get a better sense of the seasonality:"
   ]
  },
  {
   "cell_type": "code",
   "execution_count": 18,
   "metadata": {},
   "outputs": [
    {
     "data": {
      "text/plain": [
       "<AxesSubplot:xlabel='datetime'>"
      ]
     },
     "execution_count": 18,
     "metadata": {},
     "output_type": "execute_result"
    },
    {
     "data": {
      "image/png": "[encoded data removed]",
      "text/plain": [
       "<Figure size 1008x432 with 1 Axes>"
      ]
     },
     "metadata": {
      "needs_background": "light"
     },
     "output_type": "display_data"
    }
   ],
   "source": [
    "seasonal['2018-04-09' : '2018-04-11'].plot(figsize=(14, 6))"
   ]
  },
  {
   "cell_type": "markdown",
   "metadata": {},
   "source": [
    "We clearly see a regular daily repeated pattern with a peak at around midnight that falls to a low at around 6am. The number of orders then increases with lower peaks at around 11am and 3pm. The daily swings go from -60 to +60."
   ]
  },
  {
   "cell_type": "markdown",
   "metadata": {},
   "source": [
    "Let's plot the mean and the STD on the residual data only:"
   ]
  },
  {
   "cell_type": "code",
   "execution_count": 19,
   "metadata": {},
   "outputs": [
    {
     "data": {
      "image/png": "[encoded data removed]",
      "text/plain": [
       "<Figure size 864x576 with 1 Axes>"
      ]
     },
     "metadata": {
      "needs_background": "light"
     },
     "output_type": "display_data"
    }
   ],
   "source": [
    "residual.dropna(inplace=True)\n",
    "plot_data(residual, 24)"
   ]
  },
  {
   "cell_type": "markdown",
   "metadata": {},
   "source": [
    "The standard deviation has soothed out somewhat.\n",
    "\n",
    "Conclusion: we confirm that we can create features in order that the data becomes stationary.  We can therefore move to model training."
   ]
  },
  {
   "cell_type": "markdown",
   "metadata": {},
   "source": [
    "## Creating New Features"
   ]
  },
  {
   "cell_type": "markdown",
   "metadata": {},
   "source": [
    "The task now is to create new features from the data with which to train the model:"
   ]
  },
  {
   "cell_type": "code",
   "execution_count": 20,
   "metadata": {},
   "outputs": [
    {
     "data": {
      "text/html": [
       "<div>\n",
       "<style scoped>\n",
       "    .dataframe tbody tr th:only-of-type {\n",
       "        vertical-align: middle;\n",
       "    }\n",
       "\n",
       "    .dataframe tbody tr th {\n",
       "        vertical-align: top;\n",
       "    }\n",
       "\n",
       "    .dataframe thead th {\n",
       "        text-align: right;\n",
       "    }\n",
       "</style>\n",
       "<table border=\"1\" class=\"dataframe\">\n",
       "  <thead>\n",
       "    <tr style=\"text-align: right;\">\n",
       "      <th></th>\n",
       "      <th>num_orders</th>\n",
       "    </tr>\n",
       "    <tr>\n",
       "      <th>datetime</th>\n",
       "      <th></th>\n",
       "    </tr>\n",
       "  </thead>\n",
       "  <tbody>\n",
       "    <tr>\n",
       "      <th>2018-03-01 00:00:00</th>\n",
       "      <td>124</td>\n",
       "    </tr>\n",
       "    <tr>\n",
       "      <th>2018-03-01 01:00:00</th>\n",
       "      <td>85</td>\n",
       "    </tr>\n",
       "    <tr>\n",
       "      <th>2018-03-01 02:00:00</th>\n",
       "      <td>71</td>\n",
       "    </tr>\n",
       "    <tr>\n",
       "      <th>2018-03-01 03:00:00</th>\n",
       "      <td>66</td>\n",
       "    </tr>\n",
       "    <tr>\n",
       "      <th>2018-03-01 04:00:00</th>\n",
       "      <td>43</td>\n",
       "    </tr>\n",
       "  </tbody>\n",
       "</table>\n",
       "</div>"
      ],
      "text/plain": [
       "                     num_orders\n",
       "datetime                       \n",
       "2018-03-01 00:00:00         124\n",
       "2018-03-01 01:00:00          85\n",
       "2018-03-01 02:00:00          71\n",
       "2018-03-01 03:00:00          66\n",
       "2018-03-01 04:00:00          43"
      ]
     },
     "execution_count": 20,
     "metadata": {},
     "output_type": "execute_result"
    }
   ],
   "source": [
    "data.head()"
   ]
  },
  {
   "cell_type": "markdown",
   "metadata": {},
   "source": [
    "We will create the following features:\n",
    "\n",
    "- Datetime features - estracted directly from the date and time of each observation\n",
    "- Lag features - creating lags in the data to see if there is correlation between the lagged data and the target variable\n",
    "- Rolling window statistics - summary statistics (mean, max, min) accross a specified window\n",
    "- Expanding window statistics - summary statistics (mean, max, min) that include *all previous data* in the series.\n",
    "\n",
    "Rolling and expanding window statistics should be calculated on the data shifted back by one period in order to avoid data leakage.\n",
    "\n",
    "We define a function to create these features with given time-series data:"
   ]
  },
  {
   "cell_type": "code",
   "execution_count": 21,
   "metadata": {},
   "outputs": [],
   "source": [
    "def make_features(data, max_lag, rolling_size):\n",
    "    data['month'] = data.index.month\n",
    "    data['day'] = data.index.day\n",
    "    data['hour'] = data.index.hour\n",
    "    data['dayofweek'] = data.index.dayofweek\n",
    "\n",
    "    for lag in range(1, max_lag + 1):\n",
    "        data['lag_{}'.format(lag)] = data['num_orders'].shift(lag)\n",
    "\n",
    "    data['rolling_mean'] = (data['num_orders'].shift().rolling(rolling_size).mean())\n",
    "    data['rolling_max'] = (data['num_orders'].shift().rolling(rolling_size).max())\n",
    "    data['rolling_min'] = (data['num_orders'].shift().rolling(rolling_size).min())\n",
    "    \n",
    "    data['window_mean'] = data['num_orders'].shift().expanding().mean()\n",
    "    data['window_max'] = data['num_orders'].shift().expanding().max()\n",
    "    data['window_min'] = data['num_orders'].shift().expanding().min()\n",
    "    \n",
    "    return data"
   ]
  },
  {
   "cell_type": "markdown",
   "metadata": {},
   "source": [
    "Now we pass the function our data specifying the maximum lag and the size of the rolling window:"
   ]
  },
  {
   "cell_type": "code",
   "execution_count": 22,
   "metadata": {},
   "outputs": [
    {
     "data": {
      "text/html": [
       "<div>\n",
       "<style scoped>\n",
       "    .dataframe tbody tr th:only-of-type {\n",
       "        vertical-align: middle;\n",
       "    }\n",
       "\n",
       "    .dataframe tbody tr th {\n",
       "        vertical-align: top;\n",
       "    }\n",
       "\n",
       "    .dataframe thead th {\n",
       "        text-align: right;\n",
       "    }\n",
       "</style>\n",
       "<table border=\"1\" class=\"dataframe\">\n",
       "  <thead>\n",
       "    <tr style=\"text-align: right;\">\n",
       "      <th></th>\n",
       "      <th>num_orders</th>\n",
       "      <th>month</th>\n",
       "      <th>day</th>\n",
       "      <th>hour</th>\n",
       "      <th>dayofweek</th>\n",
       "      <th>lag_1</th>\n",
       "      <th>lag_2</th>\n",
       "      <th>lag_3</th>\n",
       "      <th>lag_4</th>\n",
       "      <th>lag_5</th>\n",
       "      <th>lag_6</th>\n",
       "      <th>lag_7</th>\n",
       "      <th>lag_8</th>\n",
       "      <th>rolling_mean</th>\n",
       "      <th>rolling_max</th>\n",
       "      <th>rolling_min</th>\n",
       "      <th>window_mean</th>\n",
       "      <th>window_max</th>\n",
       "      <th>window_min</th>\n",
       "    </tr>\n",
       "    <tr>\n",
       "      <th>datetime</th>\n",
       "      <th></th>\n",
       "      <th></th>\n",
       "      <th></th>\n",
       "      <th></th>\n",
       "      <th></th>\n",
       "      <th></th>\n",
       "      <th></th>\n",
       "      <th></th>\n",
       "      <th></th>\n",
       "      <th></th>\n",
       "      <th></th>\n",
       "      <th></th>\n",
       "      <th></th>\n",
       "      <th></th>\n",
       "      <th></th>\n",
       "      <th></th>\n",
       "      <th></th>\n",
       "      <th></th>\n",
       "      <th></th>\n",
       "    </tr>\n",
       "  </thead>\n",
       "  <tbody>\n",
       "    <tr>\n",
       "      <th>2018-03-01 00:00:00</th>\n",
       "      <td>124</td>\n",
       "      <td>3</td>\n",
       "      <td>1</td>\n",
       "      <td>0</td>\n",
       "      <td>3</td>\n",
       "      <td>NaN</td>\n",
       "      <td>NaN</td>\n",
       "      <td>NaN</td>\n",
       "      <td>NaN</td>\n",
       "      <td>NaN</td>\n",
       "      <td>NaN</td>\n",
       "      <td>NaN</td>\n",
       "      <td>NaN</td>\n",
       "      <td>NaN</td>\n",
       "      <td>NaN</td>\n",
       "      <td>NaN</td>\n",
       "      <td>NaN</td>\n",
       "      <td>NaN</td>\n",
       "      <td>NaN</td>\n",
       "    </tr>\n",
       "    <tr>\n",
       "      <th>2018-03-01 01:00:00</th>\n",
       "      <td>85</td>\n",
       "      <td>3</td>\n",
       "      <td>1</td>\n",
       "      <td>1</td>\n",
       "      <td>3</td>\n",
       "      <td>124.0</td>\n",
       "      <td>NaN</td>\n",
       "      <td>NaN</td>\n",
       "      <td>NaN</td>\n",
       "      <td>NaN</td>\n",
       "      <td>NaN</td>\n",
       "      <td>NaN</td>\n",
       "      <td>NaN</td>\n",
       "      <td>NaN</td>\n",
       "      <td>NaN</td>\n",
       "      <td>NaN</td>\n",
       "      <td>124.000000</td>\n",
       "      <td>124.0</td>\n",
       "      <td>124.0</td>\n",
       "    </tr>\n",
       "    <tr>\n",
       "      <th>2018-03-01 02:00:00</th>\n",
       "      <td>71</td>\n",
       "      <td>3</td>\n",
       "      <td>1</td>\n",
       "      <td>2</td>\n",
       "      <td>3</td>\n",
       "      <td>85.0</td>\n",
       "      <td>124.0</td>\n",
       "      <td>NaN</td>\n",
       "      <td>NaN</td>\n",
       "      <td>NaN</td>\n",
       "      <td>NaN</td>\n",
       "      <td>NaN</td>\n",
       "      <td>NaN</td>\n",
       "      <td>NaN</td>\n",
       "      <td>NaN</td>\n",
       "      <td>NaN</td>\n",
       "      <td>104.500000</td>\n",
       "      <td>124.0</td>\n",
       "      <td>85.0</td>\n",
       "    </tr>\n",
       "    <tr>\n",
       "      <th>2018-03-01 03:00:00</th>\n",
       "      <td>66</td>\n",
       "      <td>3</td>\n",
       "      <td>1</td>\n",
       "      <td>3</td>\n",
       "      <td>3</td>\n",
       "      <td>71.0</td>\n",
       "      <td>85.0</td>\n",
       "      <td>124.0</td>\n",
       "      <td>NaN</td>\n",
       "      <td>NaN</td>\n",
       "      <td>NaN</td>\n",
       "      <td>NaN</td>\n",
       "      <td>NaN</td>\n",
       "      <td>NaN</td>\n",
       "      <td>NaN</td>\n",
       "      <td>NaN</td>\n",
       "      <td>93.333333</td>\n",
       "      <td>124.0</td>\n",
       "      <td>71.0</td>\n",
       "    </tr>\n",
       "    <tr>\n",
       "      <th>2018-03-01 04:00:00</th>\n",
       "      <td>43</td>\n",
       "      <td>3</td>\n",
       "      <td>1</td>\n",
       "      <td>4</td>\n",
       "      <td>3</td>\n",
       "      <td>66.0</td>\n",
       "      <td>71.0</td>\n",
       "      <td>85.0</td>\n",
       "      <td>124.0</td>\n",
       "      <td>NaN</td>\n",
       "      <td>NaN</td>\n",
       "      <td>NaN</td>\n",
       "      <td>NaN</td>\n",
       "      <td>NaN</td>\n",
       "      <td>NaN</td>\n",
       "      <td>NaN</td>\n",
       "      <td>86.500000</td>\n",
       "      <td>124.0</td>\n",
       "      <td>66.0</td>\n",
       "    </tr>\n",
       "    <tr>\n",
       "      <th>...</th>\n",
       "      <td>...</td>\n",
       "      <td>...</td>\n",
       "      <td>...</td>\n",
       "      <td>...</td>\n",
       "      <td>...</td>\n",
       "      <td>...</td>\n",
       "      <td>...</td>\n",
       "      <td>...</td>\n",
       "      <td>...</td>\n",
       "      <td>...</td>\n",
       "      <td>...</td>\n",
       "      <td>...</td>\n",
       "      <td>...</td>\n",
       "      <td>...</td>\n",
       "      <td>...</td>\n",
       "      <td>...</td>\n",
       "      <td>...</td>\n",
       "      <td>...</td>\n",
       "      <td>...</td>\n",
       "    </tr>\n",
       "    <tr>\n",
       "      <th>2018-08-31 19:00:00</th>\n",
       "      <td>136</td>\n",
       "      <td>8</td>\n",
       "      <td>31</td>\n",
       "      <td>19</td>\n",
       "      <td>4</td>\n",
       "      <td>207.0</td>\n",
       "      <td>217.0</td>\n",
       "      <td>197.0</td>\n",
       "      <td>116.0</td>\n",
       "      <td>133.0</td>\n",
       "      <td>166.0</td>\n",
       "      <td>136.0</td>\n",
       "      <td>167.0</td>\n",
       "      <td>163.416667</td>\n",
       "      <td>217.0</td>\n",
       "      <td>46.0</td>\n",
       "      <td>84.319655</td>\n",
       "      <td>462.0</td>\n",
       "      <td>0.0</td>\n",
       "    </tr>\n",
       "    <tr>\n",
       "      <th>2018-08-31 20:00:00</th>\n",
       "      <td>154</td>\n",
       "      <td>8</td>\n",
       "      <td>31</td>\n",
       "      <td>20</td>\n",
       "      <td>4</td>\n",
       "      <td>136.0</td>\n",
       "      <td>207.0</td>\n",
       "      <td>217.0</td>\n",
       "      <td>197.0</td>\n",
       "      <td>116.0</td>\n",
       "      <td>133.0</td>\n",
       "      <td>166.0</td>\n",
       "      <td>136.0</td>\n",
       "      <td>170.916667</td>\n",
       "      <td>217.0</td>\n",
       "      <td>116.0</td>\n",
       "      <td>84.331369</td>\n",
       "      <td>462.0</td>\n",
       "      <td>0.0</td>\n",
       "    </tr>\n",
       "    <tr>\n",
       "      <th>2018-08-31 21:00:00</th>\n",
       "      <td>159</td>\n",
       "      <td>8</td>\n",
       "      <td>31</td>\n",
       "      <td>21</td>\n",
       "      <td>4</td>\n",
       "      <td>154.0</td>\n",
       "      <td>136.0</td>\n",
       "      <td>207.0</td>\n",
       "      <td>217.0</td>\n",
       "      <td>197.0</td>\n",
       "      <td>116.0</td>\n",
       "      <td>133.0</td>\n",
       "      <td>166.0</td>\n",
       "      <td>168.583333</td>\n",
       "      <td>217.0</td>\n",
       "      <td>116.0</td>\n",
       "      <td>84.347156</td>\n",
       "      <td>462.0</td>\n",
       "      <td>0.0</td>\n",
       "    </tr>\n",
       "    <tr>\n",
       "      <th>2018-08-31 22:00:00</th>\n",
       "      <td>223</td>\n",
       "      <td>8</td>\n",
       "      <td>31</td>\n",
       "      <td>22</td>\n",
       "      <td>4</td>\n",
       "      <td>159.0</td>\n",
       "      <td>154.0</td>\n",
       "      <td>136.0</td>\n",
       "      <td>207.0</td>\n",
       "      <td>217.0</td>\n",
       "      <td>197.0</td>\n",
       "      <td>116.0</td>\n",
       "      <td>133.0</td>\n",
       "      <td>164.916667</td>\n",
       "      <td>217.0</td>\n",
       "      <td>116.0</td>\n",
       "      <td>84.364069</td>\n",
       "      <td>462.0</td>\n",
       "      <td>0.0</td>\n",
       "    </tr>\n",
       "    <tr>\n",
       "      <th>2018-08-31 23:00:00</th>\n",
       "      <td>205</td>\n",
       "      <td>8</td>\n",
       "      <td>31</td>\n",
       "      <td>23</td>\n",
       "      <td>4</td>\n",
       "      <td>223.0</td>\n",
       "      <td>159.0</td>\n",
       "      <td>154.0</td>\n",
       "      <td>136.0</td>\n",
       "      <td>207.0</td>\n",
       "      <td>217.0</td>\n",
       "      <td>197.0</td>\n",
       "      <td>116.0</td>\n",
       "      <td>167.583333</td>\n",
       "      <td>223.0</td>\n",
       "      <td>116.0</td>\n",
       "      <td>84.395470</td>\n",
       "      <td>462.0</td>\n",
       "      <td>0.0</td>\n",
       "    </tr>\n",
       "  </tbody>\n",
       "</table>\n",
       "<p>4416 rows × 19 columns</p>\n",
       "</div>"
      ],
      "text/plain": [
       "                     num_orders  month  day  hour  dayofweek  lag_1  lag_2  \\\n",
       "datetime                                                                     \n",
       "2018-03-01 00:00:00         124      3    1     0          3    NaN    NaN   \n",
       "2018-03-01 01:00:00          85      3    1     1          3  124.0    NaN   \n",
       "2018-03-01 02:00:00          71      3    1     2          3   85.0  124.0   \n",
       "2018-03-01 03:00:00          66      3    1     3          3   71.0   85.0   \n",
       "2018-03-01 04:00:00          43      3    1     4          3   66.0   71.0   \n",
       "...                         ...    ...  ...   ...        ...    ...    ...   \n",
       "2018-08-31 19:00:00         136      8   31    19          4  207.0  217.0   \n",
       "2018-08-31 20:00:00         154      8   31    20          4  136.0  207.0   \n",
       "2018-08-31 21:00:00         159      8   31    21          4  154.0  136.0   \n",
       "2018-08-31 22:00:00         223      8   31    22          4  159.0  154.0   \n",
       "2018-08-31 23:00:00         205      8   31    23          4  223.0  159.0   \n",
       "\n",
       "                     lag_3  lag_4  lag_5  lag_6  lag_7  lag_8  rolling_mean  \\\n",
       "datetime                                                                      \n",
       "2018-03-01 00:00:00    NaN    NaN    NaN    NaN    NaN    NaN           NaN   \n",
       "2018-03-01 01:00:00    NaN    NaN    NaN    NaN    NaN    NaN           NaN   \n",
       "2018-03-01 02:00:00    NaN    NaN    NaN    NaN    NaN    NaN           NaN   \n",
       "2018-03-01 03:00:00  124.0    NaN    NaN    NaN    NaN    NaN           NaN   \n",
       "2018-03-01 04:00:00   85.0  124.0    NaN    NaN    NaN    NaN           NaN   \n",
       "...                    ...    ...    ...    ...    ...    ...           ...   \n",
       "2018-08-31 19:00:00  197.0  116.0  133.0  166.0  136.0  167.0    163.416667   \n",
       "2018-08-31 20:00:00  217.0  197.0  116.0  133.0  166.0  136.0    170.916667   \n",
       "2018-08-31 21:00:00  207.0  217.0  197.0  116.0  133.0  166.0    168.583333   \n",
       "2018-08-31 22:00:00  136.0  207.0  217.0  197.0  116.0  133.0    164.916667   \n",
       "2018-08-31 23:00:00  154.0  136.0  207.0  217.0  197.0  116.0    167.583333   \n",
       "\n",
       "                     rolling_max  rolling_min  window_mean  window_max  \\\n",
       "datetime                                                                 \n",
       "2018-03-01 00:00:00          NaN          NaN          NaN         NaN   \n",
       "2018-03-01 01:00:00          NaN          NaN   124.000000       124.0   \n",
       "2018-03-01 02:00:00          NaN          NaN   104.500000       124.0   \n",
       "2018-03-01 03:00:00          NaN          NaN    93.333333       124.0   \n",
       "2018-03-01 04:00:00          NaN          NaN    86.500000       124.0   \n",
       "...                          ...          ...          ...         ...   \n",
       "2018-08-31 19:00:00        217.0         46.0    84.319655       462.0   \n",
       "2018-08-31 20:00:00        217.0        116.0    84.331369       462.0   \n",
       "2018-08-31 21:00:00        217.0        116.0    84.347156       462.0   \n",
       "2018-08-31 22:00:00        217.0        116.0    84.364069       462.0   \n",
       "2018-08-31 23:00:00        223.0        116.0    84.395470       462.0   \n",
       "\n",
       "                     window_min  \n",
       "datetime                         \n",
       "2018-03-01 00:00:00         NaN  \n",
       "2018-03-01 01:00:00       124.0  \n",
       "2018-03-01 02:00:00        85.0  \n",
       "2018-03-01 03:00:00        71.0  \n",
       "2018-03-01 04:00:00        66.0  \n",
       "...                         ...  \n",
       "2018-08-31 19:00:00         0.0  \n",
       "2018-08-31 20:00:00         0.0  \n",
       "2018-08-31 21:00:00         0.0  \n",
       "2018-08-31 22:00:00         0.0  \n",
       "2018-08-31 23:00:00         0.0  \n",
       "\n",
       "[4416 rows x 19 columns]"
      ]
     },
     "execution_count": 22,
     "metadata": {},
     "output_type": "execute_result"
    }
   ],
   "source": [
    "make_features(data, 8, 12)"
   ]
  },
  {
   "cell_type": "markdown",
   "metadata": {},
   "source": [
    "Some null values have appeared due to the introduction of the now lag and rolling features, so we will drop these: "
   ]
  },
  {
   "cell_type": "code",
   "execution_count": 23,
   "metadata": {},
   "outputs": [
    {
     "data": {
      "text/plain": [
       "(4404, 19)"
      ]
     },
     "execution_count": 23,
     "metadata": {},
     "output_type": "execute_result"
    }
   ],
   "source": [
    "data = data.dropna()\n",
    "data.shape"
   ]
  },
  {
   "cell_type": "markdown",
   "metadata": {},
   "source": [
    "Our data set (of 4404 rows and 19 columns) is now ready for training."
   ]
  },
  {
   "cell_type": "markdown",
   "metadata": {},
   "source": [
    "## Model Training"
   ]
  },
  {
   "cell_type": "markdown",
   "metadata": {},
   "source": [
    "We separate the target variable from the features:"
   ]
  },
  {
   "cell_type": "code",
   "execution_count": 24,
   "metadata": {},
   "outputs": [],
   "source": [
    "X = data.drop(columns = ['num_orders'])\n",
    "y = data['num_orders']"
   ]
  },
  {
   "cell_type": "markdown",
   "metadata": {},
   "source": [
    "We split the data into 3 sets: training, validation and testing. 10% of the data is reserved for the Test set and 10% of the remainder is allocated to the validation set. Crucially, we must not shuffle the data as it needs to remain in chronological order."
   ]
  },
  {
   "cell_type": "code",
   "execution_count": 25,
   "metadata": {},
   "outputs": [
    {
     "name": "stdout",
     "output_type": "stream",
     "text": [
      "(3566, 18)\n",
      "(3566,)\n",
      "(397, 18)\n",
      "(397,)\n",
      "(441, 18)\n",
      "(441,)\n"
     ]
    }
   ],
   "source": [
    "X_temp, X_test, y_temp, y_test = train_test_split(X, y, shuffle=False, test_size=0.1, random_state=12345)\n",
    "X_train, X_valid, y_train, y_valid = train_test_split(X_temp, y_temp, shuffle=False, test_size=0.1, random_state=12345)\n",
    "print(X_train.shape)\n",
    "print(y_train.shape)\n",
    "print(X_valid.shape)\n",
    "print(y_valid.shape)\n",
    "print(X_test.shape)\n",
    "print(y_test.shape)"
   ]
  },
  {
   "cell_type": "markdown",
   "metadata": {},
   "source": [
    "We will print the beginning and end dates of the datasets to confirm that they are in consecutive order:"
   ]
  },
  {
   "cell_type": "code",
   "execution_count": 26,
   "metadata": {},
   "outputs": [
    {
     "name": "stdout",
     "output_type": "stream",
     "text": [
      "2018-03-01 12:00:00 2018-07-28 01:00:00\n",
      "2018-07-28 02:00:00 2018-08-13 14:00:00\n",
      "2018-08-13 15:00:00 2018-08-31 23:00:00\n"
     ]
    }
   ],
   "source": [
    "print(X_train.index.min(), X_train.index.max())\n",
    "print(X_valid.index.min(), X_valid.index.max())\n",
    "print(X_test.index.min(), X_test.index.max())"
   ]
  },
  {
   "cell_type": "code",
   "execution_count": 27,
   "metadata": {},
   "outputs": [
    {
     "name": "stdout",
     "output_type": "stream",
     "text": [
      "<class 'pandas.core.frame.DataFrame'>\n",
      "DatetimeIndex: 3566 entries, 2018-03-01 12:00:00 to 2018-07-28 01:00:00\n",
      "Freq: H\n",
      "Data columns (total 18 columns):\n",
      " #   Column        Non-Null Count  Dtype  \n",
      "---  ------        --------------  -----  \n",
      " 0   month         3566 non-null   int64  \n",
      " 1   day           3566 non-null   int64  \n",
      " 2   hour          3566 non-null   int64  \n",
      " 3   dayofweek     3566 non-null   int64  \n",
      " 4   lag_1         3566 non-null   float64\n",
      " 5   lag_2         3566 non-null   float64\n",
      " 6   lag_3         3566 non-null   float64\n",
      " 7   lag_4         3566 non-null   float64\n",
      " 8   lag_5         3566 non-null   float64\n",
      " 9   lag_6         3566 non-null   float64\n",
      " 10  lag_7         3566 non-null   float64\n",
      " 11  lag_8         3566 non-null   float64\n",
      " 12  rolling_mean  3566 non-null   float64\n",
      " 13  rolling_max   3566 non-null   float64\n",
      " 14  rolling_min   3566 non-null   float64\n",
      " 15  window_mean   3566 non-null   float64\n",
      " 16  window_max    3566 non-null   float64\n",
      " 17  window_min    3566 non-null   float64\n",
      "dtypes: float64(14), int64(4)\n",
      "memory usage: 529.3 KB\n"
     ]
    }
   ],
   "source": [
    "X_train.info()"
   ]
  },
  {
   "cell_type": "markdown",
   "metadata": {},
   "source": [
    "Everything is in order and the data is ready for model training."
   ]
  },
  {
   "cell_type": "markdown",
   "metadata": {},
   "source": [
    "### Linear Regression\n",
    "\n",
    "We will first train a Linear Regression model:"
   ]
  },
  {
   "cell_type": "code",
   "execution_count": 28,
   "metadata": {},
   "outputs": [],
   "source": [
    "model_lr = LinearRegression()\n",
    "model_lr.fit(X_train, y_train)\n",
    "pred_valid_lr = model_lr.predict(X_valid)"
   ]
  },
  {
   "cell_type": "markdown",
   "metadata": {},
   "source": [
    "We define a function to calculate the Root Mean Squared Error (RMSE) and we will use this metric to compare models:"
   ]
  },
  {
   "cell_type": "code",
   "execution_count": 29,
   "metadata": {},
   "outputs": [],
   "source": [
    "def RMSE(target, predictions):\n",
    "\n",
    "    MSE = mean_squared_error(target, predictions)\n",
    "    RMSE = MSE**0.5\n",
    "    return RMSE"
   ]
  },
  {
   "cell_type": "markdown",
   "metadata": {},
   "source": [
    "Calculating the RMSE of the Linear Regression model on the validation data set:"
   ]
  },
  {
   "cell_type": "code",
   "execution_count": 30,
   "metadata": {},
   "outputs": [
    {
     "data": {
      "text/plain": [
       "40.05699339260105"
      ]
     },
     "execution_count": 30,
     "metadata": {},
     "output_type": "execute_result"
    }
   ],
   "source": [
    "RMSE_valid_lr = RMSE(y_valid, pred_valid_lr)\n",
    "RMSE_valid_lr"
   ]
  },
  {
   "cell_type": "markdown",
   "metadata": {},
   "source": [
    "This will serve as our sanity check model upon which we aim to improve with the other models we will train. \n",
    "\n",
    "Before moving on, we will investigate the coefficents of the Linear Regression model:"
   ]
  },
  {
   "cell_type": "code",
   "execution_count": 31,
   "metadata": {},
   "outputs": [
    {
     "name": "stdout",
     "output_type": "stream",
     "text": [
      "Index(['month', 'day', 'hour', 'dayofweek', 'lag_1', 'lag_2', 'lag_3', 'lag_4',\n",
      "       'lag_5', 'lag_6', 'lag_7', 'lag_8', 'rolling_mean', 'rolling_max',\n",
      "       'rolling_min', 'window_mean', 'window_max', 'window_min'],\n",
      "      dtype='object')\n",
      "[11.8514311   0.61406565  0.29253889  0.03803375  0.37678392  0.06841044\n",
      " -0.06330695 -0.07535752 -0.02317917 -0.08118874  0.04141904  0.03376835\n",
      " -0.05417072 -0.04815072  0.34565807 -0.91509283 -0.04118176  1.68370618]\n",
      "48.7478840587741\n"
     ]
    }
   ],
   "source": [
    "print(X_train.columns)\n",
    "print(model_lr.coef_)\n",
    "print(model_lr.intercept_)"
   ]
  },
  {
   "cell_type": "markdown",
   "metadata": {},
   "source": [
    "### Decision Tree Regression"
   ]
  },
  {
   "cell_type": "markdown",
   "metadata": {},
   "source": [
    "We now train a number of Decision Tree Regression models, varying the max_depth hyperparameter.  We use the validation set to make predictions and we choose the best model based on the lowest RMSE acheived."
   ]
  },
  {
   "cell_type": "code",
   "execution_count": 32,
   "metadata": {},
   "outputs": [
    {
     "name": "stdout",
     "output_type": "stream",
     "text": [
      "max_depth = 1 | RMSE = 51.09867888986869\n",
      "max_depth = 2 | RMSE = 49.14326702088229\n",
      "max_depth = 3 | RMSE = 44.46652216328041\n",
      "max_depth = 4 | RMSE = 42.870596736405666\n",
      "max_depth = 5 | RMSE = 40.39721098067973\n",
      "max_depth = 6 | RMSE = 37.33267005669372\n",
      "max_depth = 7 | RMSE = 35.44085783735616\n",
      "max_depth = 8 | RMSE = 35.1905317800769\n",
      "max_depth = 9 | RMSE = 35.79793747089548\n"
     ]
    }
   ],
   "source": [
    "for depth in range(1,10):\n",
    "    model_dt = DecisionTreeRegressor(random_state=12345, max_depth=depth)\n",
    "    model_dt.fit(X_train, y_train)\n",
    "    pred_valid_dt = model_dt.predict(X_valid)\n",
    "    print('max_depth =', depth, '|', 'RMSE =', RMSE(y_valid, pred_valid_dt))"
   ]
  },
  {
   "cell_type": "markdown",
   "metadata": {},
   "source": [
    "We select the model with max_depth = 8 as it has the lowest RMSE."
   ]
  },
  {
   "cell_type": "code",
   "execution_count": 33,
   "metadata": {},
   "outputs": [
    {
     "data": {
      "text/plain": [
       "35.1905317800769"
      ]
     },
     "execution_count": 33,
     "metadata": {},
     "output_type": "execute_result"
    }
   ],
   "source": [
    "model_dt = DecisionTreeRegressor(random_state=12345, max_depth=8)\n",
    "model_dt.fit(X_train, y_train)\n",
    "pred_valid_dt = model_dt.predict(X_valid)\n",
    "RMSE_valid_dt = RMSE(y_valid, pred_valid_dt)\n",
    "RMSE_valid_dt"
   ]
  },
  {
   "cell_type": "markdown",
   "metadata": {},
   "source": [
    "We have been able to improve on the RMSE of the Linear Regression model."
   ]
  },
  {
   "cell_type": "markdown",
   "metadata": {},
   "source": [
    "### Random Forest Regression"
   ]
  },
  {
   "cell_type": "markdown",
   "metadata": {},
   "source": [
    "We will train Random Forest Regression models and vary the n_estimators hyperparameter:"
   ]
  },
  {
   "cell_type": "code",
   "execution_count": 34,
   "metadata": {},
   "outputs": [
    {
     "name": "stdout",
     "output_type": "stream",
     "text": [
      "n_estimators = 20 | RMSE = 33.19736606042904\n",
      "n_estimators = 21 | RMSE = 33.21924829963714\n",
      "n_estimators = 22 | RMSE = 32.8715901959952\n",
      "n_estimators = 23 | RMSE = 32.79711946820139\n",
      "n_estimators = 24 | RMSE = 32.756390343142854\n",
      "n_estimators = 25 | RMSE = 33.055792116410174\n",
      "n_estimators = 26 | RMSE = 32.795347324957206\n",
      "n_estimators = 27 | RMSE = 32.672710960972516\n",
      "n_estimators = 28 | RMSE = 32.46618027091959\n",
      "n_estimators = 29 | RMSE = 32.50427576373744\n",
      "n_estimators = 30 | RMSE = 32.49034178004361\n",
      "n_estimators = 31 | RMSE = 32.466543267164106\n",
      "n_estimators = 32 | RMSE = 32.34792943980837\n",
      "n_estimators = 33 | RMSE = 32.2224090109669\n",
      "n_estimators = 34 | RMSE = 32.14471573913641\n",
      "n_estimators = 35 | RMSE = 32.07256349517942\n",
      "n_estimators = 36 | RMSE = 32.17798597175552\n",
      "n_estimators = 37 | RMSE = 32.16424906172305\n",
      "n_estimators = 38 | RMSE = 32.03173307810064\n",
      "n_estimators = 39 | RMSE = 32.33053059336697\n",
      "n_estimators = 40 | RMSE = 32.475461526903516\n",
      "n_estimators = 41 | RMSE = 32.449133003457334\n",
      "n_estimators = 42 | RMSE = 32.4164777536446\n",
      "n_estimators = 43 | RMSE = 32.35272739608492\n",
      "n_estimators = 44 | RMSE = 32.49216553074997\n"
     ]
    }
   ],
   "source": [
    "for estimator in range(20,45):\n",
    "    model_rf = RandomForestRegressor(random_state=12345, n_estimators=estimator)\n",
    "    model_rf.fit(X_train, y_train)\n",
    "    pred_valid_rf = model_rf.predict(X_valid)\n",
    "    print('n_estimators =', estimator, '|', 'RMSE =', RMSE(y_valid, pred_valid_rf))"
   ]
  },
  {
   "cell_type": "markdown",
   "metadata": {},
   "source": [
    "We select the model with n_estimators = 40 as it has the lowest RMSE."
   ]
  },
  {
   "cell_type": "code",
   "execution_count": 35,
   "metadata": {},
   "outputs": [
    {
     "data": {
      "text/plain": [
       "32.475461526903516"
      ]
     },
     "execution_count": 35,
     "metadata": {},
     "output_type": "execute_result"
    }
   ],
   "source": [
    "model_rf = RandomForestRegressor(random_state=12345, n_estimators=40)\n",
    "model_rf.fit(X_train, y_train)\n",
    "pred_valid_rf = model_rf.predict(X_valid)\n",
    "RMSE_valid_rf = RMSE(y_valid, pred_valid_rf)\n",
    "RMSE_valid_rf"
   ]
  },
  {
   "cell_type": "markdown",
   "metadata": {},
   "source": [
    "This is a further improvement on the Decision Tree Regression model.\n",
    "\n",
    "We will now train two models that use Gradient Boosting: XGBoost and Catboost."
   ]
  },
  {
   "cell_type": "markdown",
   "metadata": {},
   "source": [
    "### XGBoost"
   ]
  },
  {
   "cell_type": "markdown",
   "metadata": {},
   "source": [
    "We will select the optimum XGBoost model by varying the n_estimators parameter:"
   ]
  },
  {
   "cell_type": "code",
   "execution_count": 36,
   "metadata": {},
   "outputs": [
    {
     "name": "stdout",
     "output_type": "stream",
     "text": [
      "n_estimators = 1 | RMSE = 110.1884883324606\n",
      "n_estimators = 2 | RMSE = 101.47167123956376\n",
      "n_estimators = 3 | RMSE = 94.76004140712145\n",
      "n_estimators = 4 | RMSE = 88.70965718915598\n",
      "n_estimators = 5 | RMSE = 82.68723430239417\n",
      "n_estimators = 6 | RMSE = 77.33564527223638\n",
      "n_estimators = 7 | RMSE = 72.75158104635086\n",
      "n_estimators = 8 | RMSE = 67.02699077976501\n",
      "n_estimators = 9 | RMSE = 63.024202704318434\n",
      "n_estimators = 10 | RMSE = 60.07895062719519\n",
      "n_estimators = 11 | RMSE = 56.96025524752864\n",
      "n_estimators = 12 | RMSE = 54.53745937552333\n",
      "n_estimators = 13 | RMSE = 52.380367252715\n",
      "n_estimators = 14 | RMSE = 50.034838157285186\n",
      "n_estimators = 15 | RMSE = 46.41373143168537\n",
      "n_estimators = 16 | RMSE = 43.40395436288536\n",
      "n_estimators = 17 | RMSE = 41.43074507567378\n",
      "n_estimators = 18 | RMSE = 40.746386712280994\n",
      "n_estimators = 19 | RMSE = 39.798083592559045\n",
      "n_estimators = 20 | RMSE = 38.69883085646055\n",
      "n_estimators = 21 | RMSE = 38.04111665350718\n",
      "n_estimators = 22 | RMSE = 37.57580022788906\n",
      "n_estimators = 23 | RMSE = 36.83371996000058\n",
      "n_estimators = 24 | RMSE = 36.16656326117573\n",
      "n_estimators = 25 | RMSE = 35.82289794072223\n",
      "n_estimators = 26 | RMSE = 35.599201622910165\n",
      "n_estimators = 27 | RMSE = 35.486546322037476\n",
      "n_estimators = 28 | RMSE = 35.342112899938584\n",
      "n_estimators = 29 | RMSE = 35.27640629028896\n",
      "n_estimators = 30 | RMSE = 35.246501350059184\n",
      "n_estimators = 31 | RMSE = 34.83134107111094\n",
      "n_estimators = 32 | RMSE = 34.74980959864017\n",
      "n_estimators = 33 | RMSE = 34.46917934918188\n",
      "n_estimators = 34 | RMSE = 34.314678912206524\n",
      "n_estimators = 35 | RMSE = 34.25680765178908\n",
      "n_estimators = 36 | RMSE = 34.51185189642494\n",
      "n_estimators = 37 | RMSE = 34.55530819404984\n",
      "n_estimators = 38 | RMSE = 34.508546116148956\n",
      "n_estimators = 39 | RMSE = 34.22369490505612\n",
      "n_estimators = 40 | RMSE = 34.30907562679937\n",
      "n_estimators = 41 | RMSE = 34.292896777986705\n",
      "n_estimators = 42 | RMSE = 34.30538471987487\n",
      "n_estimators = 43 | RMSE = 34.49405939298021\n",
      "n_estimators = 44 | RMSE = 34.65259948283512\n",
      "n_estimators = 45 | RMSE = 34.653774487362114\n",
      "n_estimators = 46 | RMSE = 34.471498548266766\n",
      "n_estimators = 47 | RMSE = 34.341230429566544\n",
      "n_estimators = 48 | RMSE = 34.1436313042252\n",
      "n_estimators = 49 | RMSE = 34.12085302430829\n",
      "n_estimators = 50 | RMSE = 34.12273527332452\n",
      "n_estimators = 51 | RMSE = 34.14034277714835\n",
      "n_estimators = 52 | RMSE = 34.11589293785977\n",
      "n_estimators = 53 | RMSE = 34.05252965361679\n",
      "n_estimators = 54 | RMSE = 33.96132789411739\n",
      "n_estimators = 55 | RMSE = 33.945224804979595\n",
      "n_estimators = 56 | RMSE = 33.87955520930091\n",
      "n_estimators = 57 | RMSE = 33.77383684350258\n",
      "n_estimators = 58 | RMSE = 34.14133157279945\n",
      "n_estimators = 59 | RMSE = 34.10432314671661\n",
      "n_estimators = 60 | RMSE = 34.02056589115818\n",
      "n_estimators = 61 | RMSE = 34.34840449428938\n",
      "n_estimators = 62 | RMSE = 34.306560058736366\n",
      "n_estimators = 63 | RMSE = 34.29878965269539\n",
      "n_estimators = 64 | RMSE = 34.35460766658628\n",
      "n_estimators = 65 | RMSE = 34.227241056767184\n",
      "n_estimators = 66 | RMSE = 34.099838716725415\n",
      "n_estimators = 67 | RMSE = 34.080091548574\n",
      "n_estimators = 68 | RMSE = 33.97364085368804\n",
      "n_estimators = 69 | RMSE = 33.95428623768953\n",
      "n_estimators = 70 | RMSE = 33.956459396870024\n",
      "n_estimators = 71 | RMSE = 33.94821710007398\n",
      "n_estimators = 72 | RMSE = 33.890095896472964\n",
      "n_estimators = 73 | RMSE = 33.884924229953384\n",
      "n_estimators = 74 | RMSE = 33.93948445453008\n",
      "n_estimators = 75 | RMSE = 33.846528746577675\n",
      "n_estimators = 76 | RMSE = 33.86710378680594\n",
      "n_estimators = 77 | RMSE = 33.87324882496804\n",
      "n_estimators = 78 | RMSE = 33.76366147860239\n",
      "n_estimators = 79 | RMSE = 33.72021045808639\n",
      "n_estimators = 80 | RMSE = 33.72289716199897\n",
      "n_estimators = 81 | RMSE = 33.732992885004194\n",
      "n_estimators = 82 | RMSE = 33.790753604139184\n",
      "n_estimators = 83 | RMSE = 33.791643553829964\n",
      "n_estimators = 84 | RMSE = 33.76429496427721\n",
      "n_estimators = 85 | RMSE = 33.77162399260909\n",
      "n_estimators = 86 | RMSE = 33.75646391790335\n",
      "n_estimators = 87 | RMSE = 33.8125713502484\n",
      "n_estimators = 88 | RMSE = 33.757831886807644\n",
      "n_estimators = 89 | RMSE = 33.873615633784304\n",
      "n_estimators = 90 | RMSE = 33.863947318589\n",
      "n_estimators = 91 | RMSE = 33.829663395101946\n",
      "n_estimators = 92 | RMSE = 33.80330665707221\n",
      "n_estimators = 93 | RMSE = 33.8563036319775\n",
      "n_estimators = 94 | RMSE = 33.79422051550883\n",
      "n_estimators = 95 | RMSE = 33.77031783284087\n",
      "n_estimators = 96 | RMSE = 33.78154502955989\n",
      "n_estimators = 97 | RMSE = 33.78555116061741\n",
      "n_estimators = 98 | RMSE = 33.83188713314674\n",
      "n_estimators = 99 | RMSE = 33.84020662804439\n"
     ]
    }
   ],
   "source": [
    "for estimator in range(1,100):\n",
    "    XGB_model = xgb.XGBRegressor(objective ='reg:squarederror', colsample_bytree = 0.3, learning_rate = 0.1,\n",
    "                max_depth = 5, alpha = 10, n_estimators = estimator)\n",
    "    XGB_model.fit(X_train,y_train)\n",
    "    y_pred_XGB = XGB_model.predict(X_valid)\n",
    "    print('n_estimators =', estimator, '|', 'RMSE =', RMSE(y_valid, y_pred_XGB))"
   ]
  },
  {
   "cell_type": "markdown",
   "metadata": {},
   "source": [
    "We select the model with n_estimators = 79 as it has the lowest RMSE above"
   ]
  },
  {
   "cell_type": "code",
   "execution_count": 37,
   "metadata": {},
   "outputs": [
    {
     "data": {
      "text/plain": [
       "33.72021045808639"
      ]
     },
     "execution_count": 37,
     "metadata": {},
     "output_type": "execute_result"
    }
   ],
   "source": [
    "XGB_model = xgb.XGBRegressor(objective ='reg:squarederror', colsample_bytree = 0.3, learning_rate = 0.1,\n",
    "                max_depth = 5, alpha = 10, n_estimators = 79)\n",
    "XGB_model.fit(X_train,y_train)\n",
    "pred_valid_XGB = XGB_model.predict(X_valid)\n",
    "RMSE_valid_XGB = RMSE(y_valid, pred_valid_XGB)\n",
    "RMSE_valid_XGB"
   ]
  },
  {
   "cell_type": "markdown",
   "metadata": {},
   "source": [
    "We investigate the importance of the parameters in the XGB Model:"
   ]
  },
  {
   "cell_type": "code",
   "execution_count": 38,
   "metadata": {},
   "outputs": [
    {
     "data": {
      "image/png": "[encoded data removed]",
      "text/plain": [
       "<Figure size 432x288 with 1 Axes>"
      ]
     },
     "metadata": {
      "needs_background": "light"
     },
     "output_type": "display_data"
    }
   ],
   "source": [
    "xgb.plot_importance(XGB_model, height=0.5)\n",
    "plt.rcParams['figure.figsize'] = [15, 15]\n",
    "plt.yticks(fontsize=10)\n",
    "plt.show()"
   ]
  },
  {
   "cell_type": "markdown",
   "metadata": {},
   "source": [
    "The most important feature in the model is the hour.  Next is the previous hour and the previous 2 hours."
   ]
  },
  {
   "cell_type": "markdown",
   "metadata": {},
   "source": [
    "### CatBoost "
   ]
  },
  {
   "cell_type": "markdown",
   "metadata": {},
   "source": [
    "We run a Catboost model with 1000 iterations:"
   ]
  },
  {
   "cell_type": "code",
   "execution_count": 39,
   "metadata": {},
   "outputs": [
    {
     "name": "stdout",
     "output_type": "stream",
     "text": [
      "Learning rate set to 0.050052\n",
      "0:\tlearn: 35.3891546\ttotal: 176ms\tremaining: 2m 55s\n",
      "100:\tlearn: 20.6727144\ttotal: 1.22s\tremaining: 10.8s\n",
      "200:\tlearn: 18.6517135\ttotal: 2.23s\tremaining: 8.88s\n",
      "300:\tlearn: 17.2106973\ttotal: 3.76s\tremaining: 8.74s\n",
      "400:\tlearn: 16.0288785\ttotal: 4.8s\tremaining: 7.17s\n",
      "500:\tlearn: 15.0523971\ttotal: 5.83s\tremaining: 5.8s\n",
      "600:\tlearn: 14.1705054\ttotal: 6.74s\tremaining: 4.48s\n",
      "700:\tlearn: 13.3413849\ttotal: 7.75s\tremaining: 3.3s\n",
      "800:\tlearn: 12.6420304\ttotal: 8.78s\tremaining: 2.18s\n",
      "900:\tlearn: 12.0166906\ttotal: 9.69s\tremaining: 1.06s\n",
      "999:\tlearn: 11.3968561\ttotal: 11s\tremaining: 0us\n",
      "RMSE_cb = 30.28061090377555\n"
     ]
    }
   ],
   "source": [
    "cb_model = cb.CatBoostRegressor(loss_function= 'RMSE', iterations=1000)\n",
    "cb_model.fit(X_train, y_train, verbose=100)\n",
    "valid_pred_cb = cb_model.predict(X_valid)\n",
    "RMSE_valid_cb = RMSE(y_valid, valid_pred_cb)\n",
    "print('RMSE_cb =', RMSE_valid_cb)"
   ]
  },
  {
   "cell_type": "markdown",
   "metadata": {},
   "source": [
    "We investigate the importance of the parameters in the XGB Model:"
   ]
  },
  {
   "cell_type": "code",
   "execution_count": 40,
   "metadata": {},
   "outputs": [
    {
     "data": {
      "text/plain": [
       "array([ 2.18727704,  1.51276109, 41.06635452,  4.17249596,  9.99847606,\n",
       "        4.49251082,  3.51373243,  2.69314197,  3.26830527,  3.17130793,\n",
       "        5.31613093,  3.09087364,  3.37366941,  1.7920449 ,  3.15548616,\n",
       "        5.38732808,  1.20669317,  0.60141061])"
      ]
     },
     "execution_count": 40,
     "metadata": {},
     "output_type": "execute_result"
    }
   ],
   "source": [
    "from catboost import Pool\n",
    "train_pool = cb_model.get_feature_importance(Pool(X_train, y_train))\n",
    "train_pool"
   ]
  },
  {
   "cell_type": "code",
   "execution_count": 41,
   "metadata": {},
   "outputs": [
    {
     "data": {
      "text/html": [
       "<div>\n",
       "<style scoped>\n",
       "    .dataframe tbody tr th:only-of-type {\n",
       "        vertical-align: middle;\n",
       "    }\n",
       "\n",
       "    .dataframe tbody tr th {\n",
       "        vertical-align: top;\n",
       "    }\n",
       "\n",
       "    .dataframe thead th {\n",
       "        text-align: right;\n",
       "    }\n",
       "</style>\n",
       "<table border=\"1\" class=\"dataframe\">\n",
       "  <thead>\n",
       "    <tr style=\"text-align: right;\">\n",
       "      <th></th>\n",
       "      <th>feature_names</th>\n",
       "      <th>feature_importance</th>\n",
       "    </tr>\n",
       "  </thead>\n",
       "  <tbody>\n",
       "    <tr>\n",
       "      <th>17</th>\n",
       "      <td>window_min</td>\n",
       "      <td>0.601411</td>\n",
       "    </tr>\n",
       "    <tr>\n",
       "      <th>16</th>\n",
       "      <td>window_max</td>\n",
       "      <td>1.206693</td>\n",
       "    </tr>\n",
       "    <tr>\n",
       "      <th>1</th>\n",
       "      <td>day</td>\n",
       "      <td>1.512761</td>\n",
       "    </tr>\n",
       "    <tr>\n",
       "      <th>13</th>\n",
       "      <td>rolling_max</td>\n",
       "      <td>1.792045</td>\n",
       "    </tr>\n",
       "    <tr>\n",
       "      <th>0</th>\n",
       "      <td>month</td>\n",
       "      <td>2.187277</td>\n",
       "    </tr>\n",
       "    <tr>\n",
       "      <th>7</th>\n",
       "      <td>lag_4</td>\n",
       "      <td>2.693142</td>\n",
       "    </tr>\n",
       "    <tr>\n",
       "      <th>11</th>\n",
       "      <td>lag_8</td>\n",
       "      <td>3.090874</td>\n",
       "    </tr>\n",
       "    <tr>\n",
       "      <th>14</th>\n",
       "      <td>rolling_min</td>\n",
       "      <td>3.155486</td>\n",
       "    </tr>\n",
       "    <tr>\n",
       "      <th>9</th>\n",
       "      <td>lag_6</td>\n",
       "      <td>3.171308</td>\n",
       "    </tr>\n",
       "    <tr>\n",
       "      <th>8</th>\n",
       "      <td>lag_5</td>\n",
       "      <td>3.268305</td>\n",
       "    </tr>\n",
       "    <tr>\n",
       "      <th>12</th>\n",
       "      <td>rolling_mean</td>\n",
       "      <td>3.373669</td>\n",
       "    </tr>\n",
       "    <tr>\n",
       "      <th>6</th>\n",
       "      <td>lag_3</td>\n",
       "      <td>3.513732</td>\n",
       "    </tr>\n",
       "    <tr>\n",
       "      <th>3</th>\n",
       "      <td>dayofweek</td>\n",
       "      <td>4.172496</td>\n",
       "    </tr>\n",
       "    <tr>\n",
       "      <th>5</th>\n",
       "      <td>lag_2</td>\n",
       "      <td>4.492511</td>\n",
       "    </tr>\n",
       "    <tr>\n",
       "      <th>10</th>\n",
       "      <td>lag_7</td>\n",
       "      <td>5.316131</td>\n",
       "    </tr>\n",
       "    <tr>\n",
       "      <th>15</th>\n",
       "      <td>window_mean</td>\n",
       "      <td>5.387328</td>\n",
       "    </tr>\n",
       "    <tr>\n",
       "      <th>4</th>\n",
       "      <td>lag_1</td>\n",
       "      <td>9.998476</td>\n",
       "    </tr>\n",
       "    <tr>\n",
       "      <th>2</th>\n",
       "      <td>hour</td>\n",
       "      <td>41.066355</td>\n",
       "    </tr>\n",
       "  </tbody>\n",
       "</table>\n",
       "</div>"
      ],
      "text/plain": [
       "   feature_names  feature_importance\n",
       "17    window_min            0.601411\n",
       "16    window_max            1.206693\n",
       "1            day            1.512761\n",
       "13   rolling_max            1.792045\n",
       "0          month            2.187277\n",
       "7          lag_4            2.693142\n",
       "11         lag_8            3.090874\n",
       "14   rolling_min            3.155486\n",
       "9          lag_6            3.171308\n",
       "8          lag_5            3.268305\n",
       "12  rolling_mean            3.373669\n",
       "6          lag_3            3.513732\n",
       "3      dayofweek            4.172496\n",
       "5          lag_2            4.492511\n",
       "10         lag_7            5.316131\n",
       "15   window_mean            5.387328\n",
       "4          lag_1            9.998476\n",
       "2           hour           41.066355"
      ]
     },
     "execution_count": 41,
     "metadata": {},
     "output_type": "execute_result"
    }
   ],
   "source": [
    "catboost_df = pd.DataFrame({'feature_names': X_train.columns, 'feature_importance': train_pool}).sort_values(by=['feature_importance'])\n",
    "catboost_df"
   ]
  },
  {
   "cell_type": "code",
   "execution_count": 42,
   "metadata": {},
   "outputs": [
    {
     "data": {
      "image/png": "[encoded data removed]",
      "text/plain": [
       "<Figure size 1080x1080 with 1 Axes>"
      ]
     },
     "metadata": {
      "needs_background": "light"
     },
     "output_type": "display_data"
    }
   ],
   "source": [
    "catboost_df.plot(kind = 'barh', x='feature_names', y='feature_importance', legend=None, fontsize=10)\n",
    "plt.title('Feature Importance', fontsize=10)\n",
    "plt.yticks(fontsize=10)\n",
    "plt.xlabel('')\n",
    "plt.show()"
   ]
  },
  {
   "cell_type": "markdown",
   "metadata": {},
   "source": [
    "In the Catboost model, the hour is by far the most important feature in the model."
   ]
  },
  {
   "cell_type": "markdown",
   "metadata": {},
   "source": [
    "## Testing"
   ]
  },
  {
   "cell_type": "markdown",
   "metadata": {},
   "source": [
    "We now compare how each of the models performs on the test set data:"
   ]
  },
  {
   "cell_type": "markdown",
   "metadata": {},
   "source": [
    "### Linear Regression"
   ]
  },
  {
   "cell_type": "code",
   "execution_count": 43,
   "metadata": {},
   "outputs": [
    {
     "data": {
      "text/plain": [
       "59.297313314627274"
      ]
     },
     "execution_count": 43,
     "metadata": {},
     "output_type": "execute_result"
    }
   ],
   "source": [
    "pred_test_lr = model_lr.predict(X_test)\n",
    "RMSE_test_lr = RMSE(y_test, pred_test_lr)\n",
    "RMSE_test_lr"
   ]
  },
  {
   "cell_type": "markdown",
   "metadata": {},
   "source": [
    "### Decision Tree Regression"
   ]
  },
  {
   "cell_type": "code",
   "execution_count": 44,
   "metadata": {},
   "outputs": [
    {
     "data": {
      "text/plain": [
       "56.189873146321915"
      ]
     },
     "execution_count": 44,
     "metadata": {},
     "output_type": "execute_result"
    }
   ],
   "source": [
    "pred_test_dt = model_dt.predict(X_test)\n",
    "RMSE_test_dt = RMSE(y_test, pred_test_dt)\n",
    "RMSE_test_dt"
   ]
  },
  {
   "cell_type": "markdown",
   "metadata": {},
   "source": [
    "### Random Forest Regression"
   ]
  },
  {
   "cell_type": "code",
   "execution_count": 45,
   "metadata": {},
   "outputs": [
    {
     "data": {
      "text/plain": [
       "45.78535105903022"
      ]
     },
     "execution_count": 45,
     "metadata": {},
     "output_type": "execute_result"
    }
   ],
   "source": [
    "pred_test_rf = model_rf.predict(X_test)\n",
    "RMSE_test_rf = RMSE(y_test, pred_test_rf)\n",
    "RMSE_test_rf"
   ]
  },
  {
   "cell_type": "markdown",
   "metadata": {},
   "source": [
    "### XGBoost Regression"
   ]
  },
  {
   "cell_type": "code",
   "execution_count": 46,
   "metadata": {},
   "outputs": [
    {
     "data": {
      "text/plain": [
       "48.65116179966605"
      ]
     },
     "execution_count": 46,
     "metadata": {},
     "output_type": "execute_result"
    }
   ],
   "source": [
    "pred_test_xgb = XGB_model.predict(X_test)\n",
    "RMSE_test_xgb = RMSE(y_test, pred_test_xgb)\n",
    "RMSE_test_xgb"
   ]
  },
  {
   "cell_type": "markdown",
   "metadata": {},
   "source": [
    "### Catboost Regression"
   ]
  },
  {
   "cell_type": "code",
   "execution_count": 47,
   "metadata": {},
   "outputs": [
    {
     "name": "stdout",
     "output_type": "stream",
     "text": [
      "Learning rate set to 0.050052\n",
      "0:\tlearn: 35.3891546\ttotal: 19.8ms\tremaining: 19.8s\n",
      "100:\tlearn: 20.6727144\ttotal: 3.89s\tremaining: 34.7s\n",
      "200:\tlearn: 18.6517135\ttotal: 5.57s\tremaining: 22.1s\n",
      "300:\tlearn: 17.2106973\ttotal: 6.76s\tremaining: 15.7s\n",
      "400:\tlearn: 16.0288785\ttotal: 7.88s\tremaining: 11.8s\n",
      "500:\tlearn: 15.0523971\ttotal: 9.21s\tremaining: 9.17s\n",
      "600:\tlearn: 14.1705054\ttotal: 10.3s\tremaining: 6.81s\n",
      "700:\tlearn: 13.3413849\ttotal: 11.4s\tremaining: 4.85s\n",
      "800:\tlearn: 12.6420304\ttotal: 12.5s\tremaining: 3.1s\n",
      "900:\tlearn: 12.0166906\ttotal: 14.8s\tremaining: 1.62s\n",
      "999:\tlearn: 11.3968561\ttotal: 16.9s\tremaining: 0us\n"
     ]
    },
    {
     "data": {
      "text/plain": [
       "50.290074657571644"
      ]
     },
     "execution_count": 47,
     "metadata": {},
     "output_type": "execute_result"
    }
   ],
   "source": [
    "cb_model.fit(X_train, y_train, verbose=100)\n",
    "test_pred_cb = cb_model.predict(X_test)\n",
    "RMSE_test_cb = RMSE(y_test, test_pred_cb)\n",
    "RMSE_test_cb"
   ]
  },
  {
   "cell_type": "code",
   "execution_count": null,
   "metadata": {},
   "outputs": [],
   "source": [
    "We create a table to compare the RMSEs calculated with each model:"
   ]
  },
  {
   "cell_type": "code",
   "execution_count": 48,
   "metadata": {},
   "outputs": [],
   "source": [
    "columns = ['Model', 'RMSE (Validation Set)', 'RMSE (Test Set)']"
   ]
  },
  {
   "cell_type": "code",
   "execution_count": 49,
   "metadata": {},
   "outputs": [],
   "source": [
    "lr = ['Linear Regression', RMSE_valid_lr, RMSE_test_lr]\n",
    "rf = ['Random Forest Regression', RMSE_valid_rf, RMSE_test_rf]\n",
    "dt = ['Decision Tree Regression', RMSE_valid_dt, RMSE_test_dt]\n",
    "xgb = ['XGBoost Regression', RMSE_valid_XGB, RMSE_test_xgb]\n",
    "cb = ['Catboost Regression', RMSE_valid_cb, RMSE_test_cb]"
   ]
  },
  {
   "cell_type": "code",
   "execution_count": 50,
   "metadata": {},
   "outputs": [
    {
     "data": {
      "text/html": [
       "<div>\n",
       "<style scoped>\n",
       "    .dataframe tbody tr th:only-of-type {\n",
       "        vertical-align: middle;\n",
       "    }\n",
       "\n",
       "    .dataframe tbody tr th {\n",
       "        vertical-align: top;\n",
       "    }\n",
       "\n",
       "    .dataframe thead th {\n",
       "        text-align: right;\n",
       "    }\n",
       "</style>\n",
       "<table border=\"1\" class=\"dataframe\">\n",
       "  <thead>\n",
       "    <tr style=\"text-align: right;\">\n",
       "      <th></th>\n",
       "      <th>Model</th>\n",
       "      <th>RMSE (Validation Set)</th>\n",
       "      <th>RMSE (Test Set)</th>\n",
       "    </tr>\n",
       "  </thead>\n",
       "  <tbody>\n",
       "    <tr>\n",
       "      <th>0</th>\n",
       "      <td>Linear Regression</td>\n",
       "      <td>40.056993</td>\n",
       "      <td>59.297313</td>\n",
       "    </tr>\n",
       "    <tr>\n",
       "      <th>1</th>\n",
       "      <td>Random Forest Regression</td>\n",
       "      <td>32.475462</td>\n",
       "      <td>45.785351</td>\n",
       "    </tr>\n",
       "    <tr>\n",
       "      <th>2</th>\n",
       "      <td>Decision Tree Regression</td>\n",
       "      <td>35.190532</td>\n",
       "      <td>56.189873</td>\n",
       "    </tr>\n",
       "    <tr>\n",
       "      <th>3</th>\n",
       "      <td>XGBoost Regression</td>\n",
       "      <td>33.720210</td>\n",
       "      <td>48.651162</td>\n",
       "    </tr>\n",
       "    <tr>\n",
       "      <th>4</th>\n",
       "      <td>Catboost Regression</td>\n",
       "      <td>30.280611</td>\n",
       "      <td>50.290075</td>\n",
       "    </tr>\n",
       "  </tbody>\n",
       "</table>\n",
       "</div>"
      ],
      "text/plain": [
       "                      Model  RMSE (Validation Set)  RMSE (Test Set)\n",
       "0         Linear Regression              40.056993        59.297313\n",
       "1  Random Forest Regression              32.475462        45.785351\n",
       "2  Decision Tree Regression              35.190532        56.189873\n",
       "3        XGBoost Regression              33.720210        48.651162\n",
       "4       Catboost Regression              30.280611        50.290075"
      ]
     },
     "execution_count": 50,
     "metadata": {},
     "output_type": "execute_result"
    }
   ],
   "source": [
    "RMSE = pd.DataFrame([lr, rf, dt, xgb, cb], columns=list(columns))\n",
    "RMSE"
   ]
  },
  {
   "cell_type": "markdown",
   "metadata": {},
   "source": [
    "### Conclusions\n",
    "\n",
    "The Random Forest Regression model performed best on the test set data with an RMSE acheived of 45.78 (which is under the specified threshold of 48). \n",
    "\n",
    "Although the Catboost Regressor performed best on the validation set, the RMSE on the test set was not under the specified threshold.  However, it is possible the XGBoost and Catboost models could be improved with additional hyper-parameter training."
   ]
  }
 ],
 "metadata": {
  "ExecuteTimeLog": [
   {
    "duration": 1093,
    "start_time": "2021-12-03T07:28:34.999Z"
   },
   {
    "duration": 3639,
    "start_time": "2021-12-03T07:28:36.094Z"
   },
   {
    "duration": 115,
    "start_time": "2021-12-03T07:28:39.623Z"
   },
   {
    "duration": 101,
    "start_time": "2021-12-03T07:28:39.638Z"
   },
   {
    "duration": 82,
    "start_time": "2021-12-03T07:28:39.659Z"
   },
   {
    "duration": 62,
    "start_time": "2021-12-03T07:28:39.680Z"
   },
   {
    "duration": 41,
    "start_time": "2021-12-03T07:28:39.702Z"
   },
   {
    "duration": 24,
    "start_time": "2021-12-03T07:28:39.720Z"
   },
   {
    "duration": -98,
    "start_time": "2021-12-03T07:28:39.844Z"
   },
   {
    "duration": -112,
    "start_time": "2021-12-03T07:28:39.859Z"
   },
   {
    "duration": -133,
    "start_time": "2021-12-03T07:28:39.881Z"
   },
   {
    "duration": -160,
    "start_time": "2021-12-03T07:28:39.909Z"
   },
   {
    "duration": -179,
    "start_time": "2021-12-03T07:28:39.930Z"
   },
   {
    "duration": -203,
    "start_time": "2021-12-03T07:28:39.955Z"
   },
   {
    "duration": -215,
    "start_time": "2021-12-03T07:28:39.968Z"
   },
   {
    "duration": -236,
    "start_time": "2021-12-03T07:28:39.991Z"
   },
   {
    "duration": -254,
    "start_time": "2021-12-03T07:28:40.010Z"
   },
   {
    "duration": -274,
    "start_time": "2021-12-03T07:28:40.031Z"
   },
   {
    "duration": -298,
    "start_time": "2021-12-03T07:28:40.057Z"
   },
   {
    "duration": -316,
    "start_time": "2021-12-03T07:28:40.076Z"
   },
   {
    "duration": -343,
    "start_time": "2021-12-03T07:28:40.104Z"
   },
   {
    "duration": -367,
    "start_time": "2021-12-03T07:28:40.129Z"
   },
   {
    "duration": -379,
    "start_time": "2021-12-03T07:28:40.143Z"
   },
   {
    "duration": -435,
    "start_time": "2021-12-03T07:28:40.200Z"
   },
   {
    "duration": -484,
    "start_time": "2021-12-03T07:28:40.250Z"
   },
   {
    "duration": -505,
    "start_time": "2021-12-03T07:28:40.273Z"
   },
   {
    "duration": -517,
    "start_time": "2021-12-03T07:28:40.286Z"
   },
   {
    "duration": -585,
    "start_time": "2021-12-03T07:28:40.355Z"
   },
   {
    "duration": -601,
    "start_time": "2021-12-03T07:28:40.373Z"
   },
   {
    "duration": -654,
    "start_time": "2021-12-03T07:28:40.427Z"
   },
   {
    "duration": -673,
    "start_time": "2021-12-03T07:28:40.447Z"
   },
   {
    "duration": -706,
    "start_time": "2021-12-03T07:28:40.481Z"
   },
   {
    "duration": -723,
    "start_time": "2021-12-03T07:28:40.499Z"
   },
   {
    "duration": -768,
    "start_time": "2021-12-03T07:28:40.545Z"
   },
   {
    "duration": -825,
    "start_time": "2021-12-03T07:28:40.603Z"
   },
   {
    "duration": -886,
    "start_time": "2021-12-03T07:28:40.665Z"
   },
   {
    "duration": -928,
    "start_time": "2021-12-03T07:28:40.707Z"
   },
   {
    "duration": -956,
    "start_time": "2021-12-03T07:28:40.736Z"
   },
   {
    "duration": -983,
    "start_time": "2021-12-03T07:28:40.763Z"
   },
   {
    "duration": -1040,
    "start_time": "2021-12-03T07:28:40.821Z"
   },
   {
    "duration": -1092,
    "start_time": "2021-12-03T07:28:40.873Z"
   },
   {
    "duration": -1130,
    "start_time": "2021-12-03T07:28:40.912Z"
   },
   {
    "duration": -1145,
    "start_time": "2021-12-03T07:28:40.927Z"
   },
   {
    "duration": -1187,
    "start_time": "2021-12-03T07:28:40.974Z"
   },
   {
    "duration": -1212,
    "start_time": "2021-12-03T07:28:41.000Z"
   },
   {
    "duration": -1244,
    "start_time": "2021-12-03T07:28:41.034Z"
   },
   {
    "duration": -1272,
    "start_time": "2021-12-03T07:28:41.063Z"
   },
   {
    "duration": -1293,
    "start_time": "2021-12-03T07:28:41.085Z"
   },
   {
    "duration": -1318,
    "start_time": "2021-12-03T07:28:41.111Z"
   },
   {
    "duration": -1390,
    "start_time": "2021-12-03T07:28:41.185Z"
   },
   {
    "duration": -1415,
    "start_time": "2021-12-03T07:28:41.212Z"
   },
   {
    "duration": -1440,
    "start_time": "2021-12-03T07:28:41.238Z"
   },
   {
    "duration": -1471,
    "start_time": "2021-12-03T07:28:41.270Z"
   },
   {
    "duration": 1132,
    "start_time": "2021-12-03T07:40:30.261Z"
   },
   {
    "duration": 71,
    "start_time": "2021-12-03T07:40:31.395Z"
   },
   {
    "duration": 12,
    "start_time": "2021-12-03T07:40:31.468Z"
   },
   {
    "duration": 3803,
    "start_time": "2021-12-03T07:40:31.481Z"
   },
   {
    "duration": 151,
    "start_time": "2021-12-03T07:40:35.136Z"
   },
   {
    "duration": 134,
    "start_time": "2021-12-03T07:40:35.154Z"
   },
   {
    "duration": 112,
    "start_time": "2021-12-03T07:40:35.177Z"
   },
   {
    "duration": 69,
    "start_time": "2021-12-03T07:40:35.221Z"
   },
   {
    "duration": 52,
    "start_time": "2021-12-03T07:40:35.239Z"
   },
   {
    "duration": 33,
    "start_time": "2021-12-03T07:40:35.258Z"
   },
   {
    "duration": -100,
    "start_time": "2021-12-03T07:40:35.392Z"
   },
   {
    "duration": -123,
    "start_time": "2021-12-03T07:40:35.416Z"
   },
   {
    "duration": -150,
    "start_time": "2021-12-03T07:40:35.444Z"
   },
   {
    "duration": -171,
    "start_time": "2021-12-03T07:40:35.466Z"
   },
   {
    "duration": -191,
    "start_time": "2021-12-03T07:40:35.487Z"
   },
   {
    "duration": -207,
    "start_time": "2021-12-03T07:40:35.504Z"
   },
   {
    "duration": -222,
    "start_time": "2021-12-03T07:40:35.520Z"
   },
   {
    "duration": -236,
    "start_time": "2021-12-03T07:40:35.535Z"
   },
   {
    "duration": -244,
    "start_time": "2021-12-03T07:40:35.544Z"
   },
   {
    "duration": -258,
    "start_time": "2021-12-03T07:40:35.558Z"
   },
   {
    "duration": -270,
    "start_time": "2021-12-03T07:40:35.571Z"
   },
   {
    "duration": -278,
    "start_time": "2021-12-03T07:40:35.580Z"
   },
   {
    "duration": -290,
    "start_time": "2021-12-03T07:40:35.593Z"
   },
   {
    "duration": -302,
    "start_time": "2021-12-03T07:40:35.606Z"
   },
   {
    "duration": -315,
    "start_time": "2021-12-03T07:40:35.620Z"
   },
   {
    "duration": -325,
    "start_time": "2021-12-03T07:40:35.631Z"
   },
   {
    "duration": -339,
    "start_time": "2021-12-03T07:40:35.646Z"
   },
   {
    "duration": -351,
    "start_time": "2021-12-03T07:40:35.659Z"
   },
   {
    "duration": -363,
    "start_time": "2021-12-03T07:40:35.672Z"
   },
   {
    "duration": -378,
    "start_time": "2021-12-03T07:40:35.688Z"
   },
   {
    "duration": -395,
    "start_time": "2021-12-03T07:40:35.705Z"
   },
   {
    "duration": -410,
    "start_time": "2021-12-03T07:40:35.721Z"
   },
   {
    "duration": -426,
    "start_time": "2021-12-03T07:40:35.738Z"
   },
   {
    "duration": -448,
    "start_time": "2021-12-03T07:40:35.761Z"
   },
   {
    "duration": -465,
    "start_time": "2021-12-03T07:40:35.779Z"
   },
   {
    "duration": -484,
    "start_time": "2021-12-03T07:40:35.799Z"
   },
   {
    "duration": -507,
    "start_time": "2021-12-03T07:40:35.823Z"
   },
   {
    "duration": -522,
    "start_time": "2021-12-03T07:40:35.839Z"
   },
   {
    "duration": -537,
    "start_time": "2021-12-03T07:40:35.855Z"
   },
   {
    "duration": -553,
    "start_time": "2021-12-03T07:40:35.872Z"
   },
   {
    "duration": -569,
    "start_time": "2021-12-03T07:40:35.889Z"
   },
   {
    "duration": -583,
    "start_time": "2021-12-03T07:40:35.904Z"
   },
   {
    "duration": -600,
    "start_time": "2021-12-03T07:40:35.921Z"
   },
   {
    "duration": -610,
    "start_time": "2021-12-03T07:40:35.932Z"
   },
   {
    "duration": -661,
    "start_time": "2021-12-03T07:40:35.984Z"
   },
   {
    "duration": -682,
    "start_time": "2021-12-03T07:40:36.006Z"
   },
   {
    "duration": -696,
    "start_time": "2021-12-03T07:40:36.021Z"
   },
   {
    "duration": -714,
    "start_time": "2021-12-03T07:40:36.040Z"
   },
   {
    "duration": -739,
    "start_time": "2021-12-03T07:40:36.066Z"
   },
   {
    "duration": -798,
    "start_time": "2021-12-03T07:40:36.126Z"
   },
   {
    "duration": -783,
    "start_time": "2021-12-03T07:40:36.170Z"
   },
   {
    "duration": -851,
    "start_time": "2021-12-03T07:40:36.240Z"
   },
   {
    "duration": -897,
    "start_time": "2021-12-03T07:40:36.287Z"
   },
   {
    "duration": 1161,
    "start_time": "2021-12-03T07:40:56.544Z"
   },
   {
    "duration": 31,
    "start_time": "2021-12-03T07:40:57.706Z"
   },
   {
    "duration": 11,
    "start_time": "2021-12-03T07:40:57.739Z"
   },
   {
    "duration": 21,
    "start_time": "2021-12-03T07:40:57.752Z"
   },
   {
    "duration": 15,
    "start_time": "2021-12-03T07:40:57.775Z"
   },
   {
    "duration": 4,
    "start_time": "2021-12-03T07:40:57.792Z"
   },
   {
    "duration": 6,
    "start_time": "2021-12-03T07:40:57.797Z"
   },
   {
    "duration": 7,
    "start_time": "2021-12-03T07:40:57.805Z"
   },
   {
    "duration": 8,
    "start_time": "2021-12-03T07:40:57.814Z"
   },
   {
    "duration": 5,
    "start_time": "2021-12-03T07:40:57.823Z"
   },
   {
    "duration": 6,
    "start_time": "2021-12-03T07:40:57.829Z"
   },
   {
    "duration": 5,
    "start_time": "2021-12-03T07:40:57.837Z"
   },
   {
    "duration": 312,
    "start_time": "2021-12-03T07:40:57.843Z"
   },
   {
    "duration": 281,
    "start_time": "2021-12-03T07:40:58.156Z"
   },
   {
    "duration": 292,
    "start_time": "2021-12-03T07:40:58.439Z"
   },
   {
    "duration": 719,
    "start_time": "2021-12-03T07:40:58.732Z"
   },
   {
    "duration": 351,
    "start_time": "2021-12-03T07:40:59.453Z"
   },
   {
    "duration": 295,
    "start_time": "2021-12-03T07:40:59.806Z"
   },
   {
    "duration": 6,
    "start_time": "2021-12-03T07:41:00.103Z"
   },
   {
    "duration": 7,
    "start_time": "2021-12-03T07:41:00.111Z"
   },
   {
    "duration": 39,
    "start_time": "2021-12-03T07:41:00.119Z"
   },
   {
    "duration": 7,
    "start_time": "2021-12-03T07:41:00.159Z"
   },
   {
    "duration": 52,
    "start_time": "2021-12-03T07:41:00.189Z"
   },
   {
    "duration": 3,
    "start_time": "2021-12-03T07:41:00.243Z"
   },
   {
    "duration": 10,
    "start_time": "2021-12-03T07:41:00.248Z"
   },
   {
    "duration": 17,
    "start_time": "2021-12-03T07:41:00.259Z"
   },
   {
    "duration": 16,
    "start_time": "2021-12-03T07:41:00.277Z"
   },
   {
    "duration": 7,
    "start_time": "2021-12-03T07:41:00.294Z"
   },
   {
    "duration": 10,
    "start_time": "2021-12-03T07:41:00.302Z"
   },
   {
    "duration": 7,
    "start_time": "2021-12-03T07:41:00.313Z"
   },
   {
    "duration": 4,
    "start_time": "2021-12-03T07:41:00.322Z"
   },
   {
    "duration": 8,
    "start_time": "2021-12-03T07:41:00.388Z"
   },
   {
    "duration": 91,
    "start_time": "2021-12-03T07:41:00.398Z"
   },
   {
    "duration": 8,
    "start_time": "2021-12-03T07:41:00.491Z"
   },
   {
    "duration": 155,
    "start_time": "2021-12-03T07:41:00.501Z"
   },
   {
    "duration": 30,
    "start_time": "2021-12-03T07:41:00.658Z"
   },
   {
    "duration": 19604,
    "start_time": "2021-12-03T07:41:00.690Z"
   },
   {
    "duration": 987,
    "start_time": "2021-12-03T07:41:20.295Z"
   },
   {
    "duration": 10005,
    "start_time": "2021-12-03T07:41:21.284Z"
   },
   {
    "duration": 198,
    "start_time": "2021-12-03T07:41:31.290Z"
   },
   {
    "duration": 224,
    "start_time": "2021-12-03T07:41:31.490Z"
   },
   {
    "duration": 17215,
    "start_time": "2021-12-03T07:41:31.715Z"
   },
   {
    "duration": 22,
    "start_time": "2021-12-03T07:41:48.932Z"
   },
   {
    "duration": 8,
    "start_time": "2021-12-03T07:41:48.956Z"
   },
   {
    "duration": 364,
    "start_time": "2021-12-03T07:41:48.965Z"
   },
   {
    "duration": 4,
    "start_time": "2021-12-03T07:41:49.331Z"
   },
   {
    "duration": 6,
    "start_time": "2021-12-03T07:41:49.337Z"
   },
   {
    "duration": 9,
    "start_time": "2021-12-03T07:41:49.345Z"
   },
   {
    "duration": 31,
    "start_time": "2021-12-03T07:41:49.356Z"
   },
   {
    "duration": 17747,
    "start_time": "2021-12-03T07:41:49.389Z"
   },
   {
    "duration": 3,
    "start_time": "2021-12-03T07:42:07.137Z"
   },
   {
    "duration": 5,
    "start_time": "2021-12-03T07:42:07.141Z"
   },
   {
    "duration": 10,
    "start_time": "2021-12-03T07:42:07.147Z"
   },
   {
    "duration": 1324,
    "start_time": "2021-12-03T08:14:01.308Z"
   },
   {
    "duration": 41,
    "start_time": "2021-12-03T08:14:02.634Z"
   },
   {
    "duration": 17,
    "start_time": "2021-12-03T08:14:02.677Z"
   },
   {
    "duration": 36,
    "start_time": "2021-12-03T08:14:02.697Z"
   },
   {
    "duration": 10,
    "start_time": "2021-12-03T08:14:02.735Z"
   },
   {
    "duration": 6,
    "start_time": "2021-12-03T08:14:02.747Z"
   },
   {
    "duration": 10,
    "start_time": "2021-12-03T08:14:02.755Z"
   },
   {
    "duration": 9,
    "start_time": "2021-12-03T08:14:02.767Z"
   },
   {
    "duration": 17,
    "start_time": "2021-12-03T08:14:02.778Z"
   },
   {
    "duration": 5,
    "start_time": "2021-12-03T08:14:02.796Z"
   },
   {
    "duration": 5,
    "start_time": "2021-12-03T08:14:02.803Z"
   },
   {
    "duration": 4,
    "start_time": "2021-12-03T08:14:02.810Z"
   },
   {
    "duration": 310,
    "start_time": "2021-12-03T08:14:02.816Z"
   },
   {
    "duration": 287,
    "start_time": "2021-12-03T08:14:03.127Z"
   },
   {
    "duration": 299,
    "start_time": "2021-12-03T08:14:03.415Z"
   },
   {
    "duration": 721,
    "start_time": "2021-12-03T08:14:03.715Z"
   },
   {
    "duration": 260,
    "start_time": "2021-12-03T08:14:04.438Z"
   },
   {
    "duration": 296,
    "start_time": "2021-12-03T08:14:04.700Z"
   },
   {
    "duration": 6,
    "start_time": "2021-12-03T08:14:04.998Z"
   },
   {
    "duration": 6,
    "start_time": "2021-12-03T08:14:05.006Z"
   },
   {
    "duration": 40,
    "start_time": "2021-12-03T08:14:05.014Z"
   },
   {
    "duration": 6,
    "start_time": "2021-12-03T08:14:05.056Z"
   },
   {
    "duration": 5,
    "start_time": "2021-12-03T08:14:05.088Z"
   },
   {
    "duration": 10,
    "start_time": "2021-12-03T08:14:05.095Z"
   },
   {
    "duration": 5,
    "start_time": "2021-12-03T08:14:05.106Z"
   },
   {
    "duration": 10,
    "start_time": "2021-12-03T08:14:05.112Z"
   },
   {
    "duration": 8,
    "start_time": "2021-12-03T08:14:05.124Z"
   },
   {
    "duration": 2,
    "start_time": "2021-12-03T08:14:05.134Z"
   },
   {
    "duration": 54,
    "start_time": "2021-12-03T08:14:05.137Z"
   },
   {
    "duration": 8,
    "start_time": "2021-12-03T08:14:05.194Z"
   },
   {
    "duration": 163,
    "start_time": "2021-12-03T08:14:05.288Z"
   },
   {
    "duration": 35,
    "start_time": "2021-12-03T08:14:05.453Z"
   },
   {
    "duration": 20117,
    "start_time": "2021-12-03T08:14:05.490Z"
   },
   {
    "duration": 997,
    "start_time": "2021-12-03T08:14:25.608Z"
   },
   {
    "duration": 10177,
    "start_time": "2021-12-03T08:14:26.606Z"
   },
   {
    "duration": 194,
    "start_time": "2021-12-03T08:14:36.787Z"
   },
   {
    "duration": 226,
    "start_time": "2021-12-03T08:14:36.983Z"
   },
   {
    "duration": 17074,
    "start_time": "2021-12-03T08:14:37.211Z"
   },
   {
    "duration": 24,
    "start_time": "2021-12-03T08:14:54.286Z"
   },
   {
    "duration": 9,
    "start_time": "2021-12-03T08:14:54.311Z"
   },
   {
    "duration": 442,
    "start_time": "2021-12-03T08:14:54.321Z"
   },
   {
    "duration": 5,
    "start_time": "2021-12-03T08:14:54.764Z"
   },
   {
    "duration": 11,
    "start_time": "2021-12-03T08:14:54.770Z"
   },
   {
    "duration": 8,
    "start_time": "2021-12-03T08:14:54.788Z"
   },
   {
    "duration": 9,
    "start_time": "2021-12-03T08:14:54.797Z"
   },
   {
    "duration": 16931,
    "start_time": "2021-12-03T08:14:54.808Z"
   },
   {
    "duration": 3,
    "start_time": "2021-12-03T08:15:11.740Z"
   },
   {
    "duration": 5,
    "start_time": "2021-12-03T08:15:11.745Z"
   },
   {
    "duration": 12,
    "start_time": "2021-12-03T08:15:11.752Z"
   },
   {
    "duration": 1136,
    "start_time": "2021-12-03T08:19:43.065Z"
   },
   {
    "duration": 32,
    "start_time": "2021-12-03T08:19:44.202Z"
   },
   {
    "duration": 12,
    "start_time": "2021-12-03T08:19:44.237Z"
   },
   {
    "duration": 27,
    "start_time": "2021-12-03T08:19:44.251Z"
   },
   {
    "duration": 10,
    "start_time": "2021-12-03T08:19:44.280Z"
   },
   {
    "duration": 11,
    "start_time": "2021-12-03T08:19:44.291Z"
   },
   {
    "duration": 19,
    "start_time": "2021-12-03T08:19:44.303Z"
   },
   {
    "duration": 20,
    "start_time": "2021-12-03T08:19:44.325Z"
   },
   {
    "duration": 15,
    "start_time": "2021-12-03T08:19:44.347Z"
   },
   {
    "duration": 13,
    "start_time": "2021-12-03T08:19:44.363Z"
   },
   {
    "duration": 12,
    "start_time": "2021-12-03T08:19:44.378Z"
   },
   {
    "duration": 17,
    "start_time": "2021-12-03T08:19:44.392Z"
   },
   {
    "duration": 315,
    "start_time": "2021-12-03T08:19:44.410Z"
   },
   {
    "duration": 273,
    "start_time": "2021-12-03T08:19:44.727Z"
   },
   {
    "duration": 294,
    "start_time": "2021-12-03T08:19:45.002Z"
   },
   {
    "duration": 716,
    "start_time": "2021-12-03T08:19:45.298Z"
   },
   {
    "duration": 249,
    "start_time": "2021-12-03T08:19:46.016Z"
   },
   {
    "duration": 301,
    "start_time": "2021-12-03T08:19:46.267Z"
   },
   {
    "duration": 6,
    "start_time": "2021-12-03T08:19:46.570Z"
   },
   {
    "duration": 36,
    "start_time": "2021-12-03T08:19:46.577Z"
   },
   {
    "duration": 59,
    "start_time": "2021-12-03T08:19:46.614Z"
   },
   {
    "duration": 10,
    "start_time": "2021-12-03T08:19:46.674Z"
   },
   {
    "duration": 9,
    "start_time": "2021-12-03T08:19:46.687Z"
   },
   {
    "duration": 39,
    "start_time": "2021-12-03T08:19:46.698Z"
   },
   {
    "duration": 22,
    "start_time": "2021-12-03T08:19:46.739Z"
   },
   {
    "duration": 41,
    "start_time": "2021-12-03T08:19:46.763Z"
   },
   {
    "duration": 38,
    "start_time": "2021-12-03T08:19:46.806Z"
   },
   {
    "duration": 10,
    "start_time": "2021-12-03T08:19:46.846Z"
   },
   {
    "duration": 12,
    "start_time": "2021-12-03T08:19:46.888Z"
   },
   {
    "duration": 98,
    "start_time": "2021-12-03T08:19:46.902Z"
   },
   {
    "duration": 165,
    "start_time": "2021-12-03T08:19:47.002Z"
   },
   {
    "duration": 26,
    "start_time": "2021-12-03T08:19:47.168Z"
   },
   {
    "duration": 20125,
    "start_time": "2021-12-03T08:19:47.196Z"
   },
   {
    "duration": 1010,
    "start_time": "2021-12-03T08:20:07.322Z"
   },
   {
    "duration": 10260,
    "start_time": "2021-12-03T08:20:08.334Z"
   },
   {
    "duration": 196,
    "start_time": "2021-12-03T08:20:18.596Z"
   },
   {
    "duration": 228,
    "start_time": "2021-12-03T08:20:18.793Z"
   },
   {
    "duration": 16150,
    "start_time": "2021-12-03T08:20:19.022Z"
   },
   {
    "duration": 24,
    "start_time": "2021-12-03T08:20:35.174Z"
   },
   {
    "duration": 10,
    "start_time": "2021-12-03T08:20:35.200Z"
   },
   {
    "duration": 379,
    "start_time": "2021-12-03T08:20:35.211Z"
   },
   {
    "duration": 6,
    "start_time": "2021-12-03T08:20:35.591Z"
   },
   {
    "duration": 7,
    "start_time": "2021-12-03T08:20:35.598Z"
   },
   {
    "duration": 8,
    "start_time": "2021-12-03T08:20:35.606Z"
   },
   {
    "duration": 8,
    "start_time": "2021-12-03T08:20:35.616Z"
   },
   {
    "duration": 16342,
    "start_time": "2021-12-03T08:20:35.625Z"
   },
   {
    "duration": 2,
    "start_time": "2021-12-03T08:20:51.968Z"
   },
   {
    "duration": 5,
    "start_time": "2021-12-03T08:20:51.972Z"
   },
   {
    "duration": 12,
    "start_time": "2021-12-03T08:20:51.978Z"
   },
   {
    "duration": 349,
    "start_time": "2021-12-05T17:43:40.007Z"
   },
   {
    "duration": 6697,
    "start_time": "2021-12-05T17:44:11.250Z"
   },
   {
    "duration": 6089,
    "start_time": "2021-12-05T17:44:48.095Z"
   },
   {
    "duration": 414,
    "start_time": "2021-12-05T17:46:32.921Z"
   },
   {
    "duration": 1974,
    "start_time": "2021-12-05T17:46:50.594Z"
   },
   {
    "duration": 49,
    "start_time": "2021-12-05T17:46:52.572Z"
   },
   {
    "duration": 18,
    "start_time": "2021-12-05T17:46:52.624Z"
   },
   {
    "duration": 63,
    "start_time": "2021-12-05T17:46:52.645Z"
   },
   {
    "duration": 14,
    "start_time": "2021-12-05T17:46:52.711Z"
   },
   {
    "duration": 5,
    "start_time": "2021-12-05T17:46:52.728Z"
   },
   {
    "duration": 7,
    "start_time": "2021-12-05T17:46:52.735Z"
   },
   {
    "duration": 42,
    "start_time": "2021-12-05T17:46:52.747Z"
   },
   {
    "duration": 25,
    "start_time": "2021-12-05T17:46:52.793Z"
   },
   {
    "duration": 8,
    "start_time": "2021-12-05T17:46:52.821Z"
   },
   {
    "duration": 7,
    "start_time": "2021-12-05T17:46:52.832Z"
   },
   {
    "duration": 44,
    "start_time": "2021-12-05T17:46:52.843Z"
   },
   {
    "duration": 524,
    "start_time": "2021-12-05T17:46:52.890Z"
   },
   {
    "duration": 501,
    "start_time": "2021-12-05T17:46:53.416Z"
   },
   {
    "duration": 611,
    "start_time": "2021-12-05T17:46:53.920Z"
   },
   {
    "duration": 1372,
    "start_time": "2021-12-05T17:46:54.534Z"
   },
   {
    "duration": 628,
    "start_time": "2021-12-05T17:46:55.909Z"
   },
   {
    "duration": 747,
    "start_time": "2021-12-05T17:46:56.540Z"
   },
   {
    "duration": 9,
    "start_time": "2021-12-05T17:46:57.291Z"
   },
   {
    "duration": 17,
    "start_time": "2021-12-05T17:46:57.303Z"
   },
   {
    "duration": 119,
    "start_time": "2021-12-05T17:46:57.323Z"
   },
   {
    "duration": 12,
    "start_time": "2021-12-05T17:46:57.445Z"
   },
   {
    "duration": 19,
    "start_time": "2021-12-05T17:46:57.465Z"
   },
   {
    "duration": 19,
    "start_time": "2021-12-05T17:46:57.488Z"
   },
   {
    "duration": 9,
    "start_time": "2021-12-05T17:46:57.510Z"
   },
   {
    "duration": 14,
    "start_time": "2021-12-05T17:46:57.521Z"
   },
   {
    "duration": 53,
    "start_time": "2021-12-05T17:46:57.537Z"
   },
   {
    "duration": 8,
    "start_time": "2021-12-05T17:46:57.593Z"
   },
   {
    "duration": 11,
    "start_time": "2021-12-05T17:46:57.683Z"
   },
   {
    "duration": 8,
    "start_time": "2021-12-05T17:46:57.782Z"
   },
   {
    "duration": 226,
    "start_time": "2021-12-05T17:46:57.793Z"
   },
   {
    "duration": 40,
    "start_time": "2021-12-05T17:46:58.022Z"
   },
   {
    "duration": 42352,
    "start_time": "2021-12-05T17:46:58.082Z"
   },
   {
    "duration": 2112,
    "start_time": "2021-12-05T17:47:40.437Z"
   },
   {
    "duration": 17184,
    "start_time": "2021-12-05T17:47:42.552Z"
   },
   {
    "duration": 321,
    "start_time": "2021-12-05T17:47:59.739Z"
   },
   {
    "duration": 426,
    "start_time": "2021-12-05T17:48:00.063Z"
   },
   {
    "duration": 34639,
    "start_time": "2021-12-05T17:48:00.492Z"
   },
   {
    "duration": 42,
    "start_time": "2021-12-05T17:48:35.133Z"
   },
   {
    "duration": 15,
    "start_time": "2021-12-05T17:48:35.178Z"
   },
   {
    "duration": 966,
    "start_time": "2021-12-05T17:48:35.196Z"
   },
   {
    "duration": 22,
    "start_time": "2021-12-05T17:48:36.165Z"
   },
   {
    "duration": 9,
    "start_time": "2021-12-05T17:48:36.190Z"
   },
   {
    "duration": 18,
    "start_time": "2021-12-05T17:48:36.201Z"
   },
   {
    "duration": 10,
    "start_time": "2021-12-05T17:48:36.222Z"
   },
   {
    "duration": 33389,
    "start_time": "2021-12-05T17:48:36.235Z"
   },
   {
    "duration": 3,
    "start_time": "2021-12-05T17:49:09.627Z"
   },
   {
    "duration": 10,
    "start_time": "2021-12-05T17:49:09.632Z"
   },
   {
    "duration": 15,
    "start_time": "2021-12-05T17:49:09.645Z"
   },
   {
    "duration": 3367,
    "start_time": "2021-12-05T17:49:09.663Z"
   },
   {
    "duration": 1359,
    "start_time": "2021-12-05T17:49:13.033Z"
   },
   {
    "duration": 188190,
    "start_time": "2021-12-05T17:49:14.394Z"
   },
   {
    "duration": 185376,
    "start_time": "2021-12-05T18:01:27.500Z"
   }
  ],
  "kernelspec": {
   "display_name": "Python 3 (ipykernel)",
   "language": "python",
   "name": "python3"
  },
  "language_info": {
   "codemirror_mode": {
    "name": "ipython",
    "version": 3
   },
   "file_extension": ".py",
   "mimetype": "text/x-python",
   "name": "python",
   "nbconvert_exporter": "python",
   "pygments_lexer": "ipython3",
   "version": "3.8.12"
  },
  "toc": {
   "base_numbering": 1,
   "nav_menu": {},
   "number_sections": true,
   "sideBar": true,
   "skip_h1_title": true,
   "title_cell": "Table of Contents",
   "title_sidebar": "Contents",
   "toc_cell": false,
   "toc_position": {},
   "toc_section_display": true,
   "toc_window_display": false
  }
 },
 "nbformat": 4,
 "nbformat_minor": 2
}
