{
 "cells": [
  {
   "cell_type": "markdown",
   "metadata": {},
   "source": [
    "# Identifying Patterns in Video Game Sales"
   ]
  },
  {
   "cell_type": "markdown",
   "metadata": {
    "toc": true
   },
   "source": [
    "<h1>Table of Contents<span class=\"tocSkip\"></span></h1>\n",
    "<div class=\"toc\"><ul class=\"toc-item\"><li><span><a href=\"#Background-to-the-Project\" data-toc-modified-id=\"Background-to-the-Project-1\"><span class=\"toc-item-num\">1&nbsp;&nbsp;</span>Background to the Project</a></span></li><li><span><a href=\"#Loading-the-Data\" data-toc-modified-id=\"Loading-the-Data-2\"><span class=\"toc-item-num\">2&nbsp;&nbsp;</span>Loading the Data</a></span></li><li><span><a href=\"#Data-Preprocessing\" data-toc-modified-id=\"Data-Preprocessing-3\"><span class=\"toc-item-num\">3&nbsp;&nbsp;</span>Data Preprocessing</a></span><ul class=\"toc-item\"><li><span><a href=\"#The-'platform'-column\" data-toc-modified-id=\"The-'platform'-column-3.1\"><span class=\"toc-item-num\">3.1&nbsp;&nbsp;</span>The 'platform' column</a></span></li><li><span><a href=\"#The-'year_of_release'-column\" data-toc-modified-id=\"The-'year_of_release'-column-3.2\"><span class=\"toc-item-num\">3.2&nbsp;&nbsp;</span>The 'year_of_release' column</a></span></li><li><span><a href=\"#The-'name'-column\" data-toc-modified-id=\"The-'name'-column-3.3\"><span class=\"toc-item-num\">3.3&nbsp;&nbsp;</span>The 'name' column</a></span></li><li><span><a href=\"#The-'genre'-column\" data-toc-modified-id=\"The-'genre'-column-3.4\"><span class=\"toc-item-num\">3.4&nbsp;&nbsp;</span>The 'genre' column</a></span></li><li><span><a href=\"#The-'critic_score'-column\" data-toc-modified-id=\"The-'critic_score'-column-3.5\"><span class=\"toc-item-num\">3.5&nbsp;&nbsp;</span>The 'critic_score' column</a></span></li><li><span><a href=\"#The-'user_score'-column\" data-toc-modified-id=\"The-'user_score'-column-3.6\"><span class=\"toc-item-num\">3.6&nbsp;&nbsp;</span>The 'user_score' column</a></span></li><li><span><a href=\"#The-'rating'-column\" data-toc-modified-id=\"The-'rating'-column-3.7\"><span class=\"toc-item-num\">3.7&nbsp;&nbsp;</span>The 'rating' column</a></span></li><li><span><a href=\"#The-sales-columns\" data-toc-modified-id=\"The-sales-columns-3.8\"><span class=\"toc-item-num\">3.8&nbsp;&nbsp;</span>The sales columns</a></span></li><li><span><a href=\"#Adding-a-new-column:-the-'total-sales'-column\" data-toc-modified-id=\"Adding-a-new-column:-the-'total-sales'-column-3.9\"><span class=\"toc-item-num\">3.9&nbsp;&nbsp;</span>Adding a new column: the 'total sales' column</a></span></li></ul></li><li><span><a href=\"#Analysing-the-Data\" data-toc-modified-id=\"Analysing-the-Data-4\"><span class=\"toc-item-num\">4&nbsp;&nbsp;</span>Analysing the Data</a></span><ul class=\"toc-item\"><li><span><a href=\"#How-many-games-were-released-in-different-years?\" data-toc-modified-id=\"How-many-games-were-released-in-different-years?-4.1\"><span class=\"toc-item-num\">4.1&nbsp;&nbsp;</span>How many games were released in different years?</a></span></li><li><span><a href=\"#How-have-sales-varied-by-platform?\" data-toc-modified-id=\"How-have-sales-varied-by-platform?-4.2\"><span class=\"toc-item-num\">4.2&nbsp;&nbsp;</span>How have sales varied by platform?</a></span></li></ul></li><li><span><a href=\"#Determining-the-Lifespan-of-Games\" data-toc-modified-id=\"Determining-the-Lifespan-of-Games-5\"><span class=\"toc-item-num\">5&nbsp;&nbsp;</span>Determining the Lifespan of Games</a></span><ul class=\"toc-item\"><li><span><a href=\"#Sales-Analysis\" data-toc-modified-id=\"Sales-Analysis-5.1\"><span class=\"toc-item-num\">5.1&nbsp;&nbsp;</span>Sales Analysis</a></span></li><li><span><a href=\"#Building-a-box-plot-for-the-global-sales-of-all-games\" data-toc-modified-id=\"Building-a-box-plot-for-the-global-sales-of-all-games-5.2\"><span class=\"toc-item-num\">5.2&nbsp;&nbsp;</span>Building a box plot for the global sales of all games</a></span></li><li><span><a href=\"#How-do-User-and-Professional-Reviews-affect-Sales\" data-toc-modified-id=\"How-do-User-and-Professional-Reviews-affect-Sales-5.3\"><span class=\"toc-item-num\">5.3&nbsp;&nbsp;</span>How do User and Professional Reviews affect Sales</a></span></li><li><span><a href=\"#Comparing-the-Sales-of-the-Same-Games-on-different-Platforms\" data-toc-modified-id=\"Comparing-the-Sales-of-the-Same-Games-on-different-Platforms-5.4\"><span class=\"toc-item-num\">5.4&nbsp;&nbsp;</span>Comparing the Sales of the Same Games on different Platforms</a></span></li><li><span><a href=\"#Distribution-of-Games-by-Genre\" data-toc-modified-id=\"Distribution-of-Games-by-Genre-5.5\"><span class=\"toc-item-num\">5.5&nbsp;&nbsp;</span>Distribution of Games by Genre</a></span></li></ul></li><li><span><a href=\"#Creating-User-Profiles-for-each-Region\" data-toc-modified-id=\"Creating-User-Profiles-for-each-Region-6\"><span class=\"toc-item-num\">6&nbsp;&nbsp;</span>Creating User Profiles for each Region</a></span><ul class=\"toc-item\"><li><span><a href=\"#The-Top-5-Platforms-for-each-Region-(NA,-EU,-JP)\" data-toc-modified-id=\"The-Top-5-Platforms-for-each-Region-(NA,-EU,-JP)-6.1\"><span class=\"toc-item-num\">6.1&nbsp;&nbsp;</span>The Top 5 Platforms for each Region (NA, EU, JP)</a></span></li><li><span><a href=\"#The-Top-5-Genres-for-each-Region-(NA,-EU,-JP)\" data-toc-modified-id=\"The-Top-5-Genres-for-each-Region-(NA,-EU,-JP)-6.2\"><span class=\"toc-item-num\">6.2&nbsp;&nbsp;</span>The Top 5 Genres for each Region (NA, EU, JP)</a></span></li><li><span><a href=\"#Determine-whether-ESRB-Ratings-affect-Sales-in-Different-Regions\" data-toc-modified-id=\"Determine-whether-ESRB-Ratings-affect-Sales-in-Different-Regions-6.3\"><span class=\"toc-item-num\">6.3&nbsp;&nbsp;</span>Determine whether ESRB Ratings affect Sales in Different Regions</a></span></li></ul></li><li><span><a href=\"#Testing-Hypotheses:\" data-toc-modified-id=\"Testing-Hypotheses:-7\"><span class=\"toc-item-num\">7&nbsp;&nbsp;</span>Testing Hypotheses:</a></span><ul class=\"toc-item\"><li><span><a href=\"#Hypothesis-1\" data-toc-modified-id=\"Hypothesis-1-7.1\"><span class=\"toc-item-num\">7.1&nbsp;&nbsp;</span>Hypothesis 1</a></span></li><li><span><a href=\"#Hypothesis-2\" data-toc-modified-id=\"Hypothesis-2-7.2\"><span class=\"toc-item-num\">7.2&nbsp;&nbsp;</span>Hypothesis 2</a></span></li></ul></li><li><span><a href=\"#Overall-Conclusion\" data-toc-modified-id=\"Overall-Conclusion-8\"><span class=\"toc-item-num\">8&nbsp;&nbsp;</span>Overall Conclusion</a></span><ul class=\"toc-item\"><li><span><a href=\"#International-Research\" data-toc-modified-id=\"International-Research-8.1\"><span class=\"toc-item-num\">8.1&nbsp;&nbsp;</span>International Research</a></span></li><li><span><a href=\"#Hypothesis-Testing\" data-toc-modified-id=\"Hypothesis-Testing-8.2\"><span class=\"toc-item-num\">8.2&nbsp;&nbsp;</span>Hypothesis Testing</a></span></li></ul></li></ul></div>"
   ]
  },
  {
   "cell_type": "markdown",
   "metadata": {},
   "source": [
    "## Background to the Project"
   ]
  },
  {
   "cell_type": "markdown",
   "metadata": {},
   "source": [
    "The online store *Ice* sells video games worldwide. The company wishes to identify patterns that determine whether a game succeeds or not to enable it to spot potential big winners and plan advertising campaigns.\n",
    "\n",
    "The objective of this project is to carry out a preliminary analysis of historical data on game sales. It is December 2016 and we are planning a campaign for 2017. \n",
    "\n",
    "The data consists of historical data on game sales, user and expert reviews, genres, platforms (e.g. Xbox or PlayStation) all of which have been obtained from open sources. "
   ]
  },
  {
   "cell_type": "code",
   "execution_count": 1,
   "metadata": {},
   "outputs": [],
   "source": [
    "import pandas as pd\n",
    "from IPython.display import display\n",
    "import numpy as np\n",
    "from scipy import stats as st\n",
    "import matplotlib.pyplot as plt\n",
    "%matplotlib inline\n",
    "import sys\n",
    "import warnings\n",
    "if not sys.warnoptions:\n",
    "    warnings.simplefilter(\"ignore\")"
   ]
  },
  {
   "cell_type": "markdown",
   "metadata": {},
   "source": [
    "## Loading the Data\n",
    "First we'll import and explore the data:"
   ]
  },
  {
   "cell_type": "code",
   "execution_count": 2,
   "metadata": {},
   "outputs": [],
   "source": [
    "try:\n",
    "    games = pd.read_csv('/datasets/games.csv')\n",
    "except:\n",
    "    games = pd.read_csv('/Users/Steve Lewis/practicum_datasets/games.csv')"
   ]
  },
  {
   "cell_type": "code",
   "execution_count": 3,
   "metadata": {},
   "outputs": [
    {
     "data": {
      "text/html": [
       "<div>\n",
       "<style scoped>\n",
       "    .dataframe tbody tr th:only-of-type {\n",
       "        vertical-align: middle;\n",
       "    }\n",
       "\n",
       "    .dataframe tbody tr th {\n",
       "        vertical-align: top;\n",
       "    }\n",
       "\n",
       "    .dataframe thead th {\n",
       "        text-align: right;\n",
       "    }\n",
       "</style>\n",
       "<table border=\"1\" class=\"dataframe\">\n",
       "  <thead>\n",
       "    <tr style=\"text-align: right;\">\n",
       "      <th></th>\n",
       "      <th>Name</th>\n",
       "      <th>Platform</th>\n",
       "      <th>Year_of_Release</th>\n",
       "      <th>Genre</th>\n",
       "      <th>NA_sales</th>\n",
       "      <th>EU_sales</th>\n",
       "      <th>JP_sales</th>\n",
       "      <th>Other_sales</th>\n",
       "      <th>Critic_Score</th>\n",
       "      <th>User_Score</th>\n",
       "      <th>Rating</th>\n",
       "    </tr>\n",
       "  </thead>\n",
       "  <tbody>\n",
       "    <tr>\n",
       "      <th>0</th>\n",
       "      <td>Wii Sports</td>\n",
       "      <td>Wii</td>\n",
       "      <td>2006.0</td>\n",
       "      <td>Sports</td>\n",
       "      <td>41.36</td>\n",
       "      <td>28.96</td>\n",
       "      <td>3.77</td>\n",
       "      <td>8.45</td>\n",
       "      <td>76.0</td>\n",
       "      <td>8</td>\n",
       "      <td>E</td>\n",
       "    </tr>\n",
       "    <tr>\n",
       "      <th>1</th>\n",
       "      <td>Super Mario Bros.</td>\n",
       "      <td>NES</td>\n",
       "      <td>1985.0</td>\n",
       "      <td>Platform</td>\n",
       "      <td>29.08</td>\n",
       "      <td>3.58</td>\n",
       "      <td>6.81</td>\n",
       "      <td>0.77</td>\n",
       "      <td>NaN</td>\n",
       "      <td>NaN</td>\n",
       "      <td>NaN</td>\n",
       "    </tr>\n",
       "    <tr>\n",
       "      <th>2</th>\n",
       "      <td>Mario Kart Wii</td>\n",
       "      <td>Wii</td>\n",
       "      <td>2008.0</td>\n",
       "      <td>Racing</td>\n",
       "      <td>15.68</td>\n",
       "      <td>12.76</td>\n",
       "      <td>3.79</td>\n",
       "      <td>3.29</td>\n",
       "      <td>82.0</td>\n",
       "      <td>8.3</td>\n",
       "      <td>E</td>\n",
       "    </tr>\n",
       "    <tr>\n",
       "      <th>3</th>\n",
       "      <td>Wii Sports Resort</td>\n",
       "      <td>Wii</td>\n",
       "      <td>2009.0</td>\n",
       "      <td>Sports</td>\n",
       "      <td>15.61</td>\n",
       "      <td>10.93</td>\n",
       "      <td>3.28</td>\n",
       "      <td>2.95</td>\n",
       "      <td>80.0</td>\n",
       "      <td>8</td>\n",
       "      <td>E</td>\n",
       "    </tr>\n",
       "    <tr>\n",
       "      <th>4</th>\n",
       "      <td>Pokemon Red/Pokemon Blue</td>\n",
       "      <td>GB</td>\n",
       "      <td>1996.0</td>\n",
       "      <td>Role-Playing</td>\n",
       "      <td>11.27</td>\n",
       "      <td>8.89</td>\n",
       "      <td>10.22</td>\n",
       "      <td>1.00</td>\n",
       "      <td>NaN</td>\n",
       "      <td>NaN</td>\n",
       "      <td>NaN</td>\n",
       "    </tr>\n",
       "    <tr>\n",
       "      <th>...</th>\n",
       "      <td>...</td>\n",
       "      <td>...</td>\n",
       "      <td>...</td>\n",
       "      <td>...</td>\n",
       "      <td>...</td>\n",
       "      <td>...</td>\n",
       "      <td>...</td>\n",
       "      <td>...</td>\n",
       "      <td>...</td>\n",
       "      <td>...</td>\n",
       "      <td>...</td>\n",
       "    </tr>\n",
       "    <tr>\n",
       "      <th>16710</th>\n",
       "      <td>Samurai Warriors: Sanada Maru</td>\n",
       "      <td>PS3</td>\n",
       "      <td>2016.0</td>\n",
       "      <td>Action</td>\n",
       "      <td>0.00</td>\n",
       "      <td>0.00</td>\n",
       "      <td>0.01</td>\n",
       "      <td>0.00</td>\n",
       "      <td>NaN</td>\n",
       "      <td>NaN</td>\n",
       "      <td>NaN</td>\n",
       "    </tr>\n",
       "    <tr>\n",
       "      <th>16711</th>\n",
       "      <td>LMA Manager 2007</td>\n",
       "      <td>X360</td>\n",
       "      <td>2006.0</td>\n",
       "      <td>Sports</td>\n",
       "      <td>0.00</td>\n",
       "      <td>0.01</td>\n",
       "      <td>0.00</td>\n",
       "      <td>0.00</td>\n",
       "      <td>NaN</td>\n",
       "      <td>NaN</td>\n",
       "      <td>NaN</td>\n",
       "    </tr>\n",
       "    <tr>\n",
       "      <th>16712</th>\n",
       "      <td>Haitaka no Psychedelica</td>\n",
       "      <td>PSV</td>\n",
       "      <td>2016.0</td>\n",
       "      <td>Adventure</td>\n",
       "      <td>0.00</td>\n",
       "      <td>0.00</td>\n",
       "      <td>0.01</td>\n",
       "      <td>0.00</td>\n",
       "      <td>NaN</td>\n",
       "      <td>NaN</td>\n",
       "      <td>NaN</td>\n",
       "    </tr>\n",
       "    <tr>\n",
       "      <th>16713</th>\n",
       "      <td>Spirits &amp; Spells</td>\n",
       "      <td>GBA</td>\n",
       "      <td>2003.0</td>\n",
       "      <td>Platform</td>\n",
       "      <td>0.01</td>\n",
       "      <td>0.00</td>\n",
       "      <td>0.00</td>\n",
       "      <td>0.00</td>\n",
       "      <td>NaN</td>\n",
       "      <td>NaN</td>\n",
       "      <td>NaN</td>\n",
       "    </tr>\n",
       "    <tr>\n",
       "      <th>16714</th>\n",
       "      <td>Winning Post 8 2016</td>\n",
       "      <td>PSV</td>\n",
       "      <td>2016.0</td>\n",
       "      <td>Simulation</td>\n",
       "      <td>0.00</td>\n",
       "      <td>0.00</td>\n",
       "      <td>0.01</td>\n",
       "      <td>0.00</td>\n",
       "      <td>NaN</td>\n",
       "      <td>NaN</td>\n",
       "      <td>NaN</td>\n",
       "    </tr>\n",
       "  </tbody>\n",
       "</table>\n",
       "<p>16715 rows × 11 columns</p>\n",
       "</div>"
      ],
      "text/plain": [
       "                                Name Platform  Year_of_Release         Genre  \\\n",
       "0                         Wii Sports      Wii           2006.0        Sports   \n",
       "1                  Super Mario Bros.      NES           1985.0      Platform   \n",
       "2                     Mario Kart Wii      Wii           2008.0        Racing   \n",
       "3                  Wii Sports Resort      Wii           2009.0        Sports   \n",
       "4           Pokemon Red/Pokemon Blue       GB           1996.0  Role-Playing   \n",
       "...                              ...      ...              ...           ...   \n",
       "16710  Samurai Warriors: Sanada Maru      PS3           2016.0        Action   \n",
       "16711               LMA Manager 2007     X360           2006.0        Sports   \n",
       "16712        Haitaka no Psychedelica      PSV           2016.0     Adventure   \n",
       "16713               Spirits & Spells      GBA           2003.0      Platform   \n",
       "16714            Winning Post 8 2016      PSV           2016.0    Simulation   \n",
       "\n",
       "       NA_sales  EU_sales  JP_sales  Other_sales  Critic_Score User_Score  \\\n",
       "0         41.36     28.96      3.77         8.45          76.0          8   \n",
       "1         29.08      3.58      6.81         0.77           NaN        NaN   \n",
       "2         15.68     12.76      3.79         3.29          82.0        8.3   \n",
       "3         15.61     10.93      3.28         2.95          80.0          8   \n",
       "4         11.27      8.89     10.22         1.00           NaN        NaN   \n",
       "...         ...       ...       ...          ...           ...        ...   \n",
       "16710      0.00      0.00      0.01         0.00           NaN        NaN   \n",
       "16711      0.00      0.01      0.00         0.00           NaN        NaN   \n",
       "16712      0.00      0.00      0.01         0.00           NaN        NaN   \n",
       "16713      0.01      0.00      0.00         0.00           NaN        NaN   \n",
       "16714      0.00      0.00      0.01         0.00           NaN        NaN   \n",
       "\n",
       "      Rating  \n",
       "0          E  \n",
       "1        NaN  \n",
       "2          E  \n",
       "3          E  \n",
       "4        NaN  \n",
       "...      ...  \n",
       "16710    NaN  \n",
       "16711    NaN  \n",
       "16712    NaN  \n",
       "16713    NaN  \n",
       "16714    NaN  \n",
       "\n",
       "[16715 rows x 11 columns]"
      ]
     },
     "metadata": {},
     "output_type": "display_data"
    }
   ],
   "source": [
    "display(games)"
   ]
  },
  {
   "cell_type": "markdown",
   "metadata": {},
   "source": [
    "In each row is the information for one video game.\n",
    "\n",
    "Now let's check the data types and whether there are null values:"
   ]
  },
  {
   "cell_type": "code",
   "execution_count": 4,
   "metadata": {
    "scrolled": true
   },
   "outputs": [
    {
     "name": "stdout",
     "output_type": "stream",
     "text": [
      "<class 'pandas.core.frame.DataFrame'>\n",
      "RangeIndex: 16715 entries, 0 to 16714\n",
      "Data columns (total 11 columns):\n",
      " #   Column           Non-Null Count  Dtype  \n",
      "---  ------           --------------  -----  \n",
      " 0   Name             16713 non-null  object \n",
      " 1   Platform         16715 non-null  object \n",
      " 2   Year_of_Release  16446 non-null  float64\n",
      " 3   Genre            16713 non-null  object \n",
      " 4   NA_sales         16715 non-null  float64\n",
      " 5   EU_sales         16715 non-null  float64\n",
      " 6   JP_sales         16715 non-null  float64\n",
      " 7   Other_sales      16715 non-null  float64\n",
      " 8   Critic_Score     8137 non-null   float64\n",
      " 9   User_Score       10014 non-null  object \n",
      " 10  Rating           9949 non-null   object \n",
      "dtypes: float64(6), object(5)\n",
      "memory usage: 1.4+ MB\n"
     ]
    }
   ],
   "source": [
    "games.info()"
   ]
  },
  {
   "cell_type": "markdown",
   "metadata": {},
   "source": [
    "Some of the data types (eg User_Score and Rating) will need to be changed. \n",
    "\n",
    "We can also see that some columns have null values. Let's get a better sense of the scale of these:"
   ]
  },
  {
   "cell_type": "code",
   "execution_count": 5,
   "metadata": {
    "scrolled": true
   },
   "outputs": [
    {
     "data": {
      "text/plain": [
       "Critic_Score       8578\n",
       "Rating             6766\n",
       "User_Score         6701\n",
       "Year_of_Release     269\n",
       "Name                  2\n",
       "Genre                 2\n",
       "Platform              0\n",
       "NA_sales              0\n",
       "EU_sales              0\n",
       "JP_sales              0\n",
       "Other_sales           0\n",
       "dtype: int64"
      ]
     },
     "execution_count": 5,
     "metadata": {},
     "output_type": "execute_result"
    }
   ],
   "source": [
    "games.isna().sum().sort_values(ascending = False)"
   ]
  },
  {
   "cell_type": "markdown",
   "metadata": {},
   "source": [
    "Calculating the % of null values in each column:"
   ]
  },
  {
   "cell_type": "code",
   "execution_count": 6,
   "metadata": {
    "scrolled": true
   },
   "outputs": [
    {
     "data": {
      "text/plain": [
       "Critic_Score       0.513192\n",
       "Rating             0.404786\n",
       "User_Score         0.400897\n",
       "Year_of_Release    0.016093\n",
       "Name               0.000120\n",
       "Genre              0.000120\n",
       "Platform           0.000000\n",
       "NA_sales           0.000000\n",
       "EU_sales           0.000000\n",
       "JP_sales           0.000000\n",
       "Other_sales        0.000000\n",
       "dtype: float64"
      ]
     },
     "execution_count": 6,
     "metadata": {},
     "output_type": "execute_result"
    }
   ],
   "source": [
    "games.isna().sum().sort_values(ascending = False)/len(games)"
   ]
  },
  {
   "cell_type": "markdown",
   "metadata": {},
   "source": [
    "Over 51% of the values in the 'Critic_Score' column are null and over 40% in the 'Rating' and 'User_Score' columns.' In the 'name' and 'Genre' columns there are just 2 rows with null vales and 269 rows in the 'Year_of_Release' column.\n",
    "\n",
    "Let's explore the numeric columns:"
   ]
  },
  {
   "cell_type": "code",
   "execution_count": 7,
   "metadata": {},
   "outputs": [
    {
     "data": {
      "text/html": [
       "<div>\n",
       "<style scoped>\n",
       "    .dataframe tbody tr th:only-of-type {\n",
       "        vertical-align: middle;\n",
       "    }\n",
       "\n",
       "    .dataframe tbody tr th {\n",
       "        vertical-align: top;\n",
       "    }\n",
       "\n",
       "    .dataframe thead th {\n",
       "        text-align: right;\n",
       "    }\n",
       "</style>\n",
       "<table border=\"1\" class=\"dataframe\">\n",
       "  <thead>\n",
       "    <tr style=\"text-align: right;\">\n",
       "      <th></th>\n",
       "      <th>Year_of_Release</th>\n",
       "      <th>NA_sales</th>\n",
       "      <th>EU_sales</th>\n",
       "      <th>JP_sales</th>\n",
       "      <th>Other_sales</th>\n",
       "      <th>Critic_Score</th>\n",
       "    </tr>\n",
       "  </thead>\n",
       "  <tbody>\n",
       "    <tr>\n",
       "      <th>count</th>\n",
       "      <td>16446.000000</td>\n",
       "      <td>16715.000000</td>\n",
       "      <td>16715.000000</td>\n",
       "      <td>16715.000000</td>\n",
       "      <td>16715.000000</td>\n",
       "      <td>8137.000000</td>\n",
       "    </tr>\n",
       "    <tr>\n",
       "      <th>mean</th>\n",
       "      <td>2006.484616</td>\n",
       "      <td>0.263377</td>\n",
       "      <td>0.145060</td>\n",
       "      <td>0.077617</td>\n",
       "      <td>0.047342</td>\n",
       "      <td>68.967679</td>\n",
       "    </tr>\n",
       "    <tr>\n",
       "      <th>std</th>\n",
       "      <td>5.877050</td>\n",
       "      <td>0.813604</td>\n",
       "      <td>0.503339</td>\n",
       "      <td>0.308853</td>\n",
       "      <td>0.186731</td>\n",
       "      <td>13.938165</td>\n",
       "    </tr>\n",
       "    <tr>\n",
       "      <th>min</th>\n",
       "      <td>1980.000000</td>\n",
       "      <td>0.000000</td>\n",
       "      <td>0.000000</td>\n",
       "      <td>0.000000</td>\n",
       "      <td>0.000000</td>\n",
       "      <td>13.000000</td>\n",
       "    </tr>\n",
       "    <tr>\n",
       "      <th>25%</th>\n",
       "      <td>2003.000000</td>\n",
       "      <td>0.000000</td>\n",
       "      <td>0.000000</td>\n",
       "      <td>0.000000</td>\n",
       "      <td>0.000000</td>\n",
       "      <td>60.000000</td>\n",
       "    </tr>\n",
       "    <tr>\n",
       "      <th>50%</th>\n",
       "      <td>2007.000000</td>\n",
       "      <td>0.080000</td>\n",
       "      <td>0.020000</td>\n",
       "      <td>0.000000</td>\n",
       "      <td>0.010000</td>\n",
       "      <td>71.000000</td>\n",
       "    </tr>\n",
       "    <tr>\n",
       "      <th>75%</th>\n",
       "      <td>2010.000000</td>\n",
       "      <td>0.240000</td>\n",
       "      <td>0.110000</td>\n",
       "      <td>0.040000</td>\n",
       "      <td>0.030000</td>\n",
       "      <td>79.000000</td>\n",
       "    </tr>\n",
       "    <tr>\n",
       "      <th>max</th>\n",
       "      <td>2016.000000</td>\n",
       "      <td>41.360000</td>\n",
       "      <td>28.960000</td>\n",
       "      <td>10.220000</td>\n",
       "      <td>10.570000</td>\n",
       "      <td>98.000000</td>\n",
       "    </tr>\n",
       "  </tbody>\n",
       "</table>\n",
       "</div>"
      ],
      "text/plain": [
       "       Year_of_Release      NA_sales      EU_sales      JP_sales  \\\n",
       "count     16446.000000  16715.000000  16715.000000  16715.000000   \n",
       "mean       2006.484616      0.263377      0.145060      0.077617   \n",
       "std           5.877050      0.813604      0.503339      0.308853   \n",
       "min        1980.000000      0.000000      0.000000      0.000000   \n",
       "25%        2003.000000      0.000000      0.000000      0.000000   \n",
       "50%        2007.000000      0.080000      0.020000      0.000000   \n",
       "75%        2010.000000      0.240000      0.110000      0.040000   \n",
       "max        2016.000000     41.360000     28.960000     10.220000   \n",
       "\n",
       "        Other_sales  Critic_Score  \n",
       "count  16715.000000   8137.000000  \n",
       "mean       0.047342     68.967679  \n",
       "std        0.186731     13.938165  \n",
       "min        0.000000     13.000000  \n",
       "25%        0.000000     60.000000  \n",
       "50%        0.010000     71.000000  \n",
       "75%        0.030000     79.000000  \n",
       "max       10.570000     98.000000  "
      ]
     },
     "execution_count": 7,
     "metadata": {},
     "output_type": "execute_result"
    }
   ],
   "source": [
    "games.describe()"
   ]
  },
  {
   "cell_type": "markdown",
   "metadata": {},
   "source": [
    "The data is from 1980 to 2016.  It seems that there are some games that have huge sales as the mean sales are higher than the median sales. In addition, we also see this as the sales of the game with the maximum sales is much higher than the sales of the game at the 75% percentile.  \n",
    "\n",
    "Let's get an overview of the categorical variables too:"
   ]
  },
  {
   "cell_type": "code",
   "execution_count": 8,
   "metadata": {},
   "outputs": [
    {
     "data": {
      "text/html": [
       "<div>\n",
       "<style scoped>\n",
       "    .dataframe tbody tr th:only-of-type {\n",
       "        vertical-align: middle;\n",
       "    }\n",
       "\n",
       "    .dataframe tbody tr th {\n",
       "        vertical-align: top;\n",
       "    }\n",
       "\n",
       "    .dataframe thead th {\n",
       "        text-align: right;\n",
       "    }\n",
       "</style>\n",
       "<table border=\"1\" class=\"dataframe\">\n",
       "  <thead>\n",
       "    <tr style=\"text-align: right;\">\n",
       "      <th></th>\n",
       "      <th>Name</th>\n",
       "      <th>Platform</th>\n",
       "      <th>Genre</th>\n",
       "      <th>User_Score</th>\n",
       "      <th>Rating</th>\n",
       "    </tr>\n",
       "  </thead>\n",
       "  <tbody>\n",
       "    <tr>\n",
       "      <th>count</th>\n",
       "      <td>16713</td>\n",
       "      <td>16715</td>\n",
       "      <td>16713</td>\n",
       "      <td>10014</td>\n",
       "      <td>9949</td>\n",
       "    </tr>\n",
       "    <tr>\n",
       "      <th>unique</th>\n",
       "      <td>11559</td>\n",
       "      <td>31</td>\n",
       "      <td>12</td>\n",
       "      <td>96</td>\n",
       "      <td>8</td>\n",
       "    </tr>\n",
       "    <tr>\n",
       "      <th>top</th>\n",
       "      <td>Need for Speed: Most Wanted</td>\n",
       "      <td>PS2</td>\n",
       "      <td>Action</td>\n",
       "      <td>tbd</td>\n",
       "      <td>E</td>\n",
       "    </tr>\n",
       "    <tr>\n",
       "      <th>freq</th>\n",
       "      <td>12</td>\n",
       "      <td>2161</td>\n",
       "      <td>3369</td>\n",
       "      <td>2424</td>\n",
       "      <td>3990</td>\n",
       "    </tr>\n",
       "  </tbody>\n",
       "</table>\n",
       "</div>"
      ],
      "text/plain": [
       "                               Name Platform   Genre User_Score Rating\n",
       "count                         16713    16715   16713      10014   9949\n",
       "unique                        11559       31      12         96      8\n",
       "top     Need for Speed: Most Wanted      PS2  Action        tbd      E\n",
       "freq                             12     2161    3369       2424   3990"
      ]
     },
     "execution_count": 8,
     "metadata": {},
     "output_type": "execute_result"
    }
   ],
   "source": [
    "games.describe(include = ['object'])"
   ]
  },
  {
   "cell_type": "markdown",
   "metadata": {},
   "source": [
    "'top' is the most frequent value and 'freq' is the frequency of the most frequent value. So there are 12 games with the name *'Need for Speed: Most Wanted'*.<br />  We also see there are 31 different platforms and 12 genres in the dataset."
   ]
  },
  {
   "cell_type": "markdown",
   "metadata": {},
   "source": [
    "## Data Preprocessing\n",
    "We will now look at each column in more detail and ready it for analysis. \n",
    "\n",
    "First we will make all the column names lowercase."
   ]
  },
  {
   "cell_type": "code",
   "execution_count": 9,
   "metadata": {},
   "outputs": [
    {
     "data": {
      "text/plain": [
       "Index(['name', 'platform', 'year_of_release', 'genre', 'na_sales', 'eu_sales',\n",
       "       'jp_sales', 'other_sales', 'critic_score', 'user_score', 'rating'],\n",
       "      dtype='object')"
      ]
     },
     "execution_count": 9,
     "metadata": {},
     "output_type": "execute_result"
    }
   ],
   "source": [
    "games.columns = games.columns.str.lower()\n",
    "games.columns"
   ]
  },
  {
   "cell_type": "markdown",
   "metadata": {},
   "source": [
    "The column names have been succesfully changed to lowercase."
   ]
  },
  {
   "cell_type": "markdown",
   "metadata": {},
   "source": [
    "### The 'platform' column"
   ]
  },
  {
   "cell_type": "code",
   "execution_count": 10,
   "metadata": {},
   "outputs": [
    {
     "data": {
      "text/plain": [
       "PS2     2161\n",
       "DS      2151\n",
       "PS3     1331\n",
       "Wii     1320\n",
       "X360    1262\n",
       "PSP     1209\n",
       "PS      1197\n",
       "PC       974\n",
       "XB       824\n",
       "GBA      822\n",
       "GC       556\n",
       "3DS      520\n",
       "PSV      430\n",
       "PS4      392\n",
       "N64      319\n",
       "XOne     247\n",
       "SNES     239\n",
       "SAT      173\n",
       "WiiU     147\n",
       "2600     133\n",
       "NES       98\n",
       "GB        98\n",
       "DC        52\n",
       "GEN       29\n",
       "NG        12\n",
       "SCD        6\n",
       "WS         6\n",
       "3DO        3\n",
       "TG16       2\n",
       "GG         1\n",
       "PCFX       1\n",
       "Name: platform, dtype: int64"
      ]
     },
     "execution_count": 10,
     "metadata": {},
     "output_type": "execute_result"
    }
   ],
   "source": [
    "games['platform'].value_counts()"
   ]
  },
  {
   "cell_type": "code",
   "execution_count": 11,
   "metadata": {},
   "outputs": [
    {
     "data": {
      "image/png": "[encoded data removed]",
      "text/plain": [
       "<Figure size 720x504 with 1 Axes>"
      ]
     },
     "metadata": {
      "needs_background": "light"
     },
     "output_type": "display_data"
    }
   ],
   "source": [
    "games['platform'].value_counts().plot(kind = 'bar', figsize = (10,7))\n",
    "plt.title('Platform Frequency')\n",
    "plt.xlabel('Platform')\n",
    "plt.ylabel('Frequency')\n",
    "plt. xticks(rotation=45) \n",
    "plt.show()"
   ]
  },
  {
   "cell_type": "markdown",
   "metadata": {},
   "source": [
    "The data seems fine here. We note that the platforms that have the most games are the PS2 and the DS.  Some platforms have very few games. "
   ]
  },
  {
   "cell_type": "markdown",
   "metadata": {},
   "source": [
    "### The 'year_of_release' column"
   ]
  },
  {
   "cell_type": "code",
   "execution_count": 12,
   "metadata": {},
   "outputs": [
    {
     "data": {
      "text/plain": [
       "16715"
      ]
     },
     "execution_count": 12,
     "metadata": {},
     "output_type": "execute_result"
    }
   ],
   "source": [
    "len(games['year_of_release'])"
   ]
  },
  {
   "cell_type": "code",
   "execution_count": 13,
   "metadata": {},
   "outputs": [
    {
     "data": {
      "text/plain": [
       "count    16446.000000\n",
       "mean      2006.484616\n",
       "std          5.877050\n",
       "min       1980.000000\n",
       "25%       2003.000000\n",
       "50%       2007.000000\n",
       "75%       2010.000000\n",
       "max       2016.000000\n",
       "Name: year_of_release, dtype: float64"
      ]
     },
     "execution_count": 13,
     "metadata": {},
     "output_type": "execute_result"
    }
   ],
   "source": [
    "games['year_of_release'].describe()"
   ]
  },
  {
   "cell_type": "markdown",
   "metadata": {},
   "source": [
    "The data includes games that were released between 1980 and 2016.  Let's look at the rows with null values and see if we can identify a pattern we can use to estimate the release years that are missing. "
   ]
  },
  {
   "cell_type": "code",
   "execution_count": 14,
   "metadata": {},
   "outputs": [
    {
     "data": {
      "text/html": [
       "<div>\n",
       "<style scoped>\n",
       "    .dataframe tbody tr th:only-of-type {\n",
       "        vertical-align: middle;\n",
       "    }\n",
       "\n",
       "    .dataframe tbody tr th {\n",
       "        vertical-align: top;\n",
       "    }\n",
       "\n",
       "    .dataframe thead th {\n",
       "        text-align: right;\n",
       "    }\n",
       "</style>\n",
       "<table border=\"1\" class=\"dataframe\">\n",
       "  <thead>\n",
       "    <tr style=\"text-align: right;\">\n",
       "      <th></th>\n",
       "      <th>name</th>\n",
       "      <th>platform</th>\n",
       "      <th>year_of_release</th>\n",
       "      <th>genre</th>\n",
       "      <th>na_sales</th>\n",
       "      <th>eu_sales</th>\n",
       "      <th>jp_sales</th>\n",
       "      <th>other_sales</th>\n",
       "      <th>critic_score</th>\n",
       "      <th>user_score</th>\n",
       "      <th>rating</th>\n",
       "    </tr>\n",
       "  </thead>\n",
       "  <tbody>\n",
       "    <tr>\n",
       "      <th>183</th>\n",
       "      <td>Madden NFL 2004</td>\n",
       "      <td>PS2</td>\n",
       "      <td>NaN</td>\n",
       "      <td>Sports</td>\n",
       "      <td>4.26</td>\n",
       "      <td>0.26</td>\n",
       "      <td>0.01</td>\n",
       "      <td>0.71</td>\n",
       "      <td>94.0</td>\n",
       "      <td>8.5</td>\n",
       "      <td>E</td>\n",
       "    </tr>\n",
       "    <tr>\n",
       "      <th>377</th>\n",
       "      <td>FIFA Soccer 2004</td>\n",
       "      <td>PS2</td>\n",
       "      <td>NaN</td>\n",
       "      <td>Sports</td>\n",
       "      <td>0.59</td>\n",
       "      <td>2.36</td>\n",
       "      <td>0.04</td>\n",
       "      <td>0.51</td>\n",
       "      <td>84.0</td>\n",
       "      <td>6.4</td>\n",
       "      <td>E</td>\n",
       "    </tr>\n",
       "    <tr>\n",
       "      <th>456</th>\n",
       "      <td>LEGO Batman: The Videogame</td>\n",
       "      <td>Wii</td>\n",
       "      <td>NaN</td>\n",
       "      <td>Action</td>\n",
       "      <td>1.80</td>\n",
       "      <td>0.97</td>\n",
       "      <td>0.00</td>\n",
       "      <td>0.29</td>\n",
       "      <td>74.0</td>\n",
       "      <td>7.9</td>\n",
       "      <td>E10+</td>\n",
       "    </tr>\n",
       "    <tr>\n",
       "      <th>475</th>\n",
       "      <td>wwe Smackdown vs. Raw 2006</td>\n",
       "      <td>PS2</td>\n",
       "      <td>NaN</td>\n",
       "      <td>Fighting</td>\n",
       "      <td>1.57</td>\n",
       "      <td>1.02</td>\n",
       "      <td>0.00</td>\n",
       "      <td>0.41</td>\n",
       "      <td>NaN</td>\n",
       "      <td>NaN</td>\n",
       "      <td>NaN</td>\n",
       "    </tr>\n",
       "    <tr>\n",
       "      <th>609</th>\n",
       "      <td>Space Invaders</td>\n",
       "      <td>2600</td>\n",
       "      <td>NaN</td>\n",
       "      <td>Shooter</td>\n",
       "      <td>2.36</td>\n",
       "      <td>0.14</td>\n",
       "      <td>0.00</td>\n",
       "      <td>0.03</td>\n",
       "      <td>NaN</td>\n",
       "      <td>NaN</td>\n",
       "      <td>NaN</td>\n",
       "    </tr>\n",
       "    <tr>\n",
       "      <th>...</th>\n",
       "      <td>...</td>\n",
       "      <td>...</td>\n",
       "      <td>...</td>\n",
       "      <td>...</td>\n",
       "      <td>...</td>\n",
       "      <td>...</td>\n",
       "      <td>...</td>\n",
       "      <td>...</td>\n",
       "      <td>...</td>\n",
       "      <td>...</td>\n",
       "      <td>...</td>\n",
       "    </tr>\n",
       "    <tr>\n",
       "      <th>16373</th>\n",
       "      <td>PDC World Championship Darts 2008</td>\n",
       "      <td>PSP</td>\n",
       "      <td>NaN</td>\n",
       "      <td>Sports</td>\n",
       "      <td>0.01</td>\n",
       "      <td>0.00</td>\n",
       "      <td>0.00</td>\n",
       "      <td>0.00</td>\n",
       "      <td>43.0</td>\n",
       "      <td>tbd</td>\n",
       "      <td>E10+</td>\n",
       "    </tr>\n",
       "    <tr>\n",
       "      <th>16405</th>\n",
       "      <td>Freaky Flyers</td>\n",
       "      <td>GC</td>\n",
       "      <td>NaN</td>\n",
       "      <td>Racing</td>\n",
       "      <td>0.01</td>\n",
       "      <td>0.00</td>\n",
       "      <td>0.00</td>\n",
       "      <td>0.00</td>\n",
       "      <td>69.0</td>\n",
       "      <td>6.5</td>\n",
       "      <td>T</td>\n",
       "    </tr>\n",
       "    <tr>\n",
       "      <th>16448</th>\n",
       "      <td>Inversion</td>\n",
       "      <td>PC</td>\n",
       "      <td>NaN</td>\n",
       "      <td>Shooter</td>\n",
       "      <td>0.01</td>\n",
       "      <td>0.00</td>\n",
       "      <td>0.00</td>\n",
       "      <td>0.00</td>\n",
       "      <td>59.0</td>\n",
       "      <td>6.7</td>\n",
       "      <td>M</td>\n",
       "    </tr>\n",
       "    <tr>\n",
       "      <th>16458</th>\n",
       "      <td>Hakuouki: Shinsengumi Kitan</td>\n",
       "      <td>PS3</td>\n",
       "      <td>NaN</td>\n",
       "      <td>Adventure</td>\n",
       "      <td>0.01</td>\n",
       "      <td>0.00</td>\n",
       "      <td>0.00</td>\n",
       "      <td>0.00</td>\n",
       "      <td>NaN</td>\n",
       "      <td>NaN</td>\n",
       "      <td>NaN</td>\n",
       "    </tr>\n",
       "    <tr>\n",
       "      <th>16522</th>\n",
       "      <td>Virtua Quest</td>\n",
       "      <td>GC</td>\n",
       "      <td>NaN</td>\n",
       "      <td>Role-Playing</td>\n",
       "      <td>0.01</td>\n",
       "      <td>0.00</td>\n",
       "      <td>0.00</td>\n",
       "      <td>0.00</td>\n",
       "      <td>55.0</td>\n",
       "      <td>5.5</td>\n",
       "      <td>T</td>\n",
       "    </tr>\n",
       "  </tbody>\n",
       "</table>\n",
       "<p>269 rows × 11 columns</p>\n",
       "</div>"
      ],
      "text/plain": [
       "                                    name platform  year_of_release  \\\n",
       "183                      Madden NFL 2004      PS2              NaN   \n",
       "377                     FIFA Soccer 2004      PS2              NaN   \n",
       "456           LEGO Batman: The Videogame      Wii              NaN   \n",
       "475           wwe Smackdown vs. Raw 2006      PS2              NaN   \n",
       "609                       Space Invaders     2600              NaN   \n",
       "...                                  ...      ...              ...   \n",
       "16373  PDC World Championship Darts 2008      PSP              NaN   \n",
       "16405                      Freaky Flyers       GC              NaN   \n",
       "16448                          Inversion       PC              NaN   \n",
       "16458        Hakuouki: Shinsengumi Kitan      PS3              NaN   \n",
       "16522                       Virtua Quest       GC              NaN   \n",
       "\n",
       "              genre  na_sales  eu_sales  jp_sales  other_sales  critic_score  \\\n",
       "183          Sports      4.26      0.26      0.01         0.71          94.0   \n",
       "377          Sports      0.59      2.36      0.04         0.51          84.0   \n",
       "456          Action      1.80      0.97      0.00         0.29          74.0   \n",
       "475        Fighting      1.57      1.02      0.00         0.41           NaN   \n",
       "609         Shooter      2.36      0.14      0.00         0.03           NaN   \n",
       "...             ...       ...       ...       ...          ...           ...   \n",
       "16373        Sports      0.01      0.00      0.00         0.00          43.0   \n",
       "16405        Racing      0.01      0.00      0.00         0.00          69.0   \n",
       "16448       Shooter      0.01      0.00      0.00         0.00          59.0   \n",
       "16458     Adventure      0.01      0.00      0.00         0.00           NaN   \n",
       "16522  Role-Playing      0.01      0.00      0.00         0.00          55.0   \n",
       "\n",
       "      user_score rating  \n",
       "183          8.5      E  \n",
       "377          6.4      E  \n",
       "456          7.9   E10+  \n",
       "475          NaN    NaN  \n",
       "609          NaN    NaN  \n",
       "...          ...    ...  \n",
       "16373        tbd   E10+  \n",
       "16405        6.5      T  \n",
       "16448        6.7      M  \n",
       "16458        NaN    NaN  \n",
       "16522        5.5      T  \n",
       "\n",
       "[269 rows x 11 columns]"
      ]
     },
     "execution_count": 14,
     "metadata": {},
     "output_type": "execute_result"
    }
   ],
   "source": [
    "games.loc[games['year_of_release'].isnull()]"
   ]
  },
  {
   "cell_type": "markdown",
   "metadata": {},
   "source": [
    "We don't see any way to estimate the year of release for these games.  We want to change the data type of this column to integer and to do that we will first remove the rows with null values."
   ]
  },
  {
   "cell_type": "code",
   "execution_count": 15,
   "metadata": {},
   "outputs": [],
   "source": [
    "games.dropna(subset = ['year_of_release'], inplace = True)"
   ]
  },
  {
   "cell_type": "code",
   "execution_count": 16,
   "metadata": {},
   "outputs": [
    {
     "data": {
      "text/plain": [
       "(16446, 11)"
      ]
     },
     "execution_count": 16,
     "metadata": {},
     "output_type": "execute_result"
    }
   ],
   "source": [
    "games.shape"
   ]
  },
  {
   "cell_type": "markdown",
   "metadata": {},
   "source": [
    "These 269 rows have been removed from the dataset. We will now change the type of the other values in this column to integer. "
   ]
  },
  {
   "cell_type": "code",
   "execution_count": 17,
   "metadata": {},
   "outputs": [],
   "source": [
    "games['year_of_release'] = games['year_of_release'].astype('int')"
   ]
  },
  {
   "cell_type": "code",
   "execution_count": 18,
   "metadata": {},
   "outputs": [
    {
     "name": "stdout",
     "output_type": "stream",
     "text": [
      "<class 'pandas.core.frame.DataFrame'>\n",
      "Int64Index: 16446 entries, 0 to 16714\n",
      "Data columns (total 11 columns):\n",
      " #   Column           Non-Null Count  Dtype  \n",
      "---  ------           --------------  -----  \n",
      " 0   name             16444 non-null  object \n",
      " 1   platform         16446 non-null  object \n",
      " 2   year_of_release  16446 non-null  int32  \n",
      " 3   genre            16444 non-null  object \n",
      " 4   na_sales         16446 non-null  float64\n",
      " 5   eu_sales         16446 non-null  float64\n",
      " 6   jp_sales         16446 non-null  float64\n",
      " 7   other_sales      16446 non-null  float64\n",
      " 8   critic_score     7983 non-null   float64\n",
      " 9   user_score       9839 non-null   object \n",
      " 10  rating           9768 non-null   object \n",
      "dtypes: float64(5), int32(1), object(5)\n",
      "memory usage: 1.4+ MB\n"
     ]
    }
   ],
   "source": [
    "games.info()"
   ]
  },
  {
   "cell_type": "markdown",
   "metadata": {},
   "source": [
    "The operation has been successful."
   ]
  },
  {
   "cell_type": "markdown",
   "metadata": {},
   "source": [
    "### The 'name' column\n",
    "There are just two rows with null values."
   ]
  },
  {
   "cell_type": "code",
   "execution_count": 19,
   "metadata": {},
   "outputs": [
    {
     "data": {
      "text/html": [
       "<div>\n",
       "<style scoped>\n",
       "    .dataframe tbody tr th:only-of-type {\n",
       "        vertical-align: middle;\n",
       "    }\n",
       "\n",
       "    .dataframe tbody tr th {\n",
       "        vertical-align: top;\n",
       "    }\n",
       "\n",
       "    .dataframe thead th {\n",
       "        text-align: right;\n",
       "    }\n",
       "</style>\n",
       "<table border=\"1\" class=\"dataframe\">\n",
       "  <thead>\n",
       "    <tr style=\"text-align: right;\">\n",
       "      <th></th>\n",
       "      <th>name</th>\n",
       "      <th>platform</th>\n",
       "      <th>year_of_release</th>\n",
       "      <th>genre</th>\n",
       "      <th>na_sales</th>\n",
       "      <th>eu_sales</th>\n",
       "      <th>jp_sales</th>\n",
       "      <th>other_sales</th>\n",
       "      <th>critic_score</th>\n",
       "      <th>user_score</th>\n",
       "      <th>rating</th>\n",
       "    </tr>\n",
       "  </thead>\n",
       "  <tbody>\n",
       "    <tr>\n",
       "      <th>659</th>\n",
       "      <td>NaN</td>\n",
       "      <td>GEN</td>\n",
       "      <td>1993</td>\n",
       "      <td>NaN</td>\n",
       "      <td>1.78</td>\n",
       "      <td>0.53</td>\n",
       "      <td>0.00</td>\n",
       "      <td>0.08</td>\n",
       "      <td>NaN</td>\n",
       "      <td>NaN</td>\n",
       "      <td>NaN</td>\n",
       "    </tr>\n",
       "    <tr>\n",
       "      <th>14244</th>\n",
       "      <td>NaN</td>\n",
       "      <td>GEN</td>\n",
       "      <td>1993</td>\n",
       "      <td>NaN</td>\n",
       "      <td>0.00</td>\n",
       "      <td>0.00</td>\n",
       "      <td>0.03</td>\n",
       "      <td>0.00</td>\n",
       "      <td>NaN</td>\n",
       "      <td>NaN</td>\n",
       "      <td>NaN</td>\n",
       "    </tr>\n",
       "  </tbody>\n",
       "</table>\n",
       "</div>"
      ],
      "text/plain": [
       "      name platform  year_of_release genre  na_sales  eu_sales  jp_sales  \\\n",
       "659    NaN      GEN             1993   NaN      1.78      0.53      0.00   \n",
       "14244  NaN      GEN             1993   NaN      0.00      0.00      0.03   \n",
       "\n",
       "       other_sales  critic_score user_score rating  \n",
       "659           0.08           NaN        NaN    NaN  \n",
       "14244         0.00           NaN        NaN    NaN  "
      ]
     },
     "execution_count": 19,
     "metadata": {},
     "output_type": "execute_result"
    }
   ],
   "source": [
    "games.loc[games['name'].isnull()]"
   ]
  },
  {
   "cell_type": "markdown",
   "metadata": {},
   "source": [
    "These two rows have null vales for both 'year_of_release' and 'genre'.  We will delete them."
   ]
  },
  {
   "cell_type": "code",
   "execution_count": 20,
   "metadata": {},
   "outputs": [],
   "source": [
    "games.dropna(subset = ['name'], inplace = True)"
   ]
  },
  {
   "cell_type": "code",
   "execution_count": 21,
   "metadata": {},
   "outputs": [
    {
     "data": {
      "text/plain": [
       "(16444, 11)"
      ]
     },
     "execution_count": 21,
     "metadata": {},
     "output_type": "execute_result"
    }
   ],
   "source": [
    "games.shape"
   ]
  },
  {
   "cell_type": "markdown",
   "metadata": {},
   "source": [
    "They have been successfully deleted."
   ]
  },
  {
   "cell_type": "markdown",
   "metadata": {},
   "source": [
    "### The 'genre' column"
   ]
  },
  {
   "cell_type": "code",
   "execution_count": 22,
   "metadata": {},
   "outputs": [
    {
     "data": {
      "text/plain": [
       "Action          3307\n",
       "Sports          2306\n",
       "Misc            1721\n",
       "Role-Playing    1481\n",
       "Shooter         1296\n",
       "Adventure       1293\n",
       "Racing          1226\n",
       "Platform         878\n",
       "Simulation       857\n",
       "Fighting         837\n",
       "Strategy         673\n",
       "Puzzle           569\n",
       "Name: genre, dtype: int64"
      ]
     },
     "execution_count": 22,
     "metadata": {},
     "output_type": "execute_result"
    }
   ],
   "source": [
    "games['genre'].value_counts()"
   ]
  },
  {
   "cell_type": "markdown",
   "metadata": {},
   "source": [
    "All now seems fine with the data in this column."
   ]
  },
  {
   "cell_type": "markdown",
   "metadata": {},
   "source": [
    "### The 'critic_score' column"
   ]
  },
  {
   "cell_type": "markdown",
   "metadata": {},
   "source": [
    "We know that over 51% of the values in this column are null. Let's explore some of them:"
   ]
  },
  {
   "cell_type": "code",
   "execution_count": 23,
   "metadata": {},
   "outputs": [
    {
     "data": {
      "text/html": [
       "<div>\n",
       "<style scoped>\n",
       "    .dataframe tbody tr th:only-of-type {\n",
       "        vertical-align: middle;\n",
       "    }\n",
       "\n",
       "    .dataframe tbody tr th {\n",
       "        vertical-align: top;\n",
       "    }\n",
       "\n",
       "    .dataframe thead th {\n",
       "        text-align: right;\n",
       "    }\n",
       "</style>\n",
       "<table border=\"1\" class=\"dataframe\">\n",
       "  <thead>\n",
       "    <tr style=\"text-align: right;\">\n",
       "      <th></th>\n",
       "      <th>name</th>\n",
       "      <th>platform</th>\n",
       "      <th>year_of_release</th>\n",
       "      <th>genre</th>\n",
       "      <th>na_sales</th>\n",
       "      <th>eu_sales</th>\n",
       "      <th>jp_sales</th>\n",
       "      <th>other_sales</th>\n",
       "      <th>critic_score</th>\n",
       "      <th>user_score</th>\n",
       "      <th>rating</th>\n",
       "    </tr>\n",
       "  </thead>\n",
       "  <tbody>\n",
       "    <tr>\n",
       "      <th>1</th>\n",
       "      <td>Super Mario Bros.</td>\n",
       "      <td>NES</td>\n",
       "      <td>1985</td>\n",
       "      <td>Platform</td>\n",
       "      <td>29.08</td>\n",
       "      <td>3.58</td>\n",
       "      <td>6.81</td>\n",
       "      <td>0.77</td>\n",
       "      <td>NaN</td>\n",
       "      <td>NaN</td>\n",
       "      <td>NaN</td>\n",
       "    </tr>\n",
       "    <tr>\n",
       "      <th>4</th>\n",
       "      <td>Pokemon Red/Pokemon Blue</td>\n",
       "      <td>GB</td>\n",
       "      <td>1996</td>\n",
       "      <td>Role-Playing</td>\n",
       "      <td>11.27</td>\n",
       "      <td>8.89</td>\n",
       "      <td>10.22</td>\n",
       "      <td>1.00</td>\n",
       "      <td>NaN</td>\n",
       "      <td>NaN</td>\n",
       "      <td>NaN</td>\n",
       "    </tr>\n",
       "    <tr>\n",
       "      <th>5</th>\n",
       "      <td>Tetris</td>\n",
       "      <td>GB</td>\n",
       "      <td>1989</td>\n",
       "      <td>Puzzle</td>\n",
       "      <td>23.20</td>\n",
       "      <td>2.26</td>\n",
       "      <td>4.22</td>\n",
       "      <td>0.58</td>\n",
       "      <td>NaN</td>\n",
       "      <td>NaN</td>\n",
       "      <td>NaN</td>\n",
       "    </tr>\n",
       "    <tr>\n",
       "      <th>9</th>\n",
       "      <td>Duck Hunt</td>\n",
       "      <td>NES</td>\n",
       "      <td>1984</td>\n",
       "      <td>Shooter</td>\n",
       "      <td>26.93</td>\n",
       "      <td>0.63</td>\n",
       "      <td>0.28</td>\n",
       "      <td>0.47</td>\n",
       "      <td>NaN</td>\n",
       "      <td>NaN</td>\n",
       "      <td>NaN</td>\n",
       "    </tr>\n",
       "    <tr>\n",
       "      <th>10</th>\n",
       "      <td>Nintendogs</td>\n",
       "      <td>DS</td>\n",
       "      <td>2005</td>\n",
       "      <td>Simulation</td>\n",
       "      <td>9.05</td>\n",
       "      <td>10.95</td>\n",
       "      <td>1.93</td>\n",
       "      <td>2.74</td>\n",
       "      <td>NaN</td>\n",
       "      <td>NaN</td>\n",
       "      <td>NaN</td>\n",
       "    </tr>\n",
       "    <tr>\n",
       "      <th>...</th>\n",
       "      <td>...</td>\n",
       "      <td>...</td>\n",
       "      <td>...</td>\n",
       "      <td>...</td>\n",
       "      <td>...</td>\n",
       "      <td>...</td>\n",
       "      <td>...</td>\n",
       "      <td>...</td>\n",
       "      <td>...</td>\n",
       "      <td>...</td>\n",
       "      <td>...</td>\n",
       "    </tr>\n",
       "    <tr>\n",
       "      <th>16710</th>\n",
       "      <td>Samurai Warriors: Sanada Maru</td>\n",
       "      <td>PS3</td>\n",
       "      <td>2016</td>\n",
       "      <td>Action</td>\n",
       "      <td>0.00</td>\n",
       "      <td>0.00</td>\n",
       "      <td>0.01</td>\n",
       "      <td>0.00</td>\n",
       "      <td>NaN</td>\n",
       "      <td>NaN</td>\n",
       "      <td>NaN</td>\n",
       "    </tr>\n",
       "    <tr>\n",
       "      <th>16711</th>\n",
       "      <td>LMA Manager 2007</td>\n",
       "      <td>X360</td>\n",
       "      <td>2006</td>\n",
       "      <td>Sports</td>\n",
       "      <td>0.00</td>\n",
       "      <td>0.01</td>\n",
       "      <td>0.00</td>\n",
       "      <td>0.00</td>\n",
       "      <td>NaN</td>\n",
       "      <td>NaN</td>\n",
       "      <td>NaN</td>\n",
       "    </tr>\n",
       "    <tr>\n",
       "      <th>16712</th>\n",
       "      <td>Haitaka no Psychedelica</td>\n",
       "      <td>PSV</td>\n",
       "      <td>2016</td>\n",
       "      <td>Adventure</td>\n",
       "      <td>0.00</td>\n",
       "      <td>0.00</td>\n",
       "      <td>0.01</td>\n",
       "      <td>0.00</td>\n",
       "      <td>NaN</td>\n",
       "      <td>NaN</td>\n",
       "      <td>NaN</td>\n",
       "    </tr>\n",
       "    <tr>\n",
       "      <th>16713</th>\n",
       "      <td>Spirits &amp; Spells</td>\n",
       "      <td>GBA</td>\n",
       "      <td>2003</td>\n",
       "      <td>Platform</td>\n",
       "      <td>0.01</td>\n",
       "      <td>0.00</td>\n",
       "      <td>0.00</td>\n",
       "      <td>0.00</td>\n",
       "      <td>NaN</td>\n",
       "      <td>NaN</td>\n",
       "      <td>NaN</td>\n",
       "    </tr>\n",
       "    <tr>\n",
       "      <th>16714</th>\n",
       "      <td>Winning Post 8 2016</td>\n",
       "      <td>PSV</td>\n",
       "      <td>2016</td>\n",
       "      <td>Simulation</td>\n",
       "      <td>0.00</td>\n",
       "      <td>0.00</td>\n",
       "      <td>0.01</td>\n",
       "      <td>0.00</td>\n",
       "      <td>NaN</td>\n",
       "      <td>NaN</td>\n",
       "      <td>NaN</td>\n",
       "    </tr>\n",
       "  </tbody>\n",
       "</table>\n",
       "<p>8461 rows × 11 columns</p>\n",
       "</div>"
      ],
      "text/plain": [
       "                                name platform  year_of_release         genre  \\\n",
       "1                  Super Mario Bros.      NES             1985      Platform   \n",
       "4           Pokemon Red/Pokemon Blue       GB             1996  Role-Playing   \n",
       "5                             Tetris       GB             1989        Puzzle   \n",
       "9                          Duck Hunt      NES             1984       Shooter   \n",
       "10                        Nintendogs       DS             2005    Simulation   \n",
       "...                              ...      ...              ...           ...   \n",
       "16710  Samurai Warriors: Sanada Maru      PS3             2016        Action   \n",
       "16711               LMA Manager 2007     X360             2006        Sports   \n",
       "16712        Haitaka no Psychedelica      PSV             2016     Adventure   \n",
       "16713               Spirits & Spells      GBA             2003      Platform   \n",
       "16714            Winning Post 8 2016      PSV             2016    Simulation   \n",
       "\n",
       "       na_sales  eu_sales  jp_sales  other_sales  critic_score user_score  \\\n",
       "1         29.08      3.58      6.81         0.77           NaN        NaN   \n",
       "4         11.27      8.89     10.22         1.00           NaN        NaN   \n",
       "5         23.20      2.26      4.22         0.58           NaN        NaN   \n",
       "9         26.93      0.63      0.28         0.47           NaN        NaN   \n",
       "10         9.05     10.95      1.93         2.74           NaN        NaN   \n",
       "...         ...       ...       ...          ...           ...        ...   \n",
       "16710      0.00      0.00      0.01         0.00           NaN        NaN   \n",
       "16711      0.00      0.01      0.00         0.00           NaN        NaN   \n",
       "16712      0.00      0.00      0.01         0.00           NaN        NaN   \n",
       "16713      0.01      0.00      0.00         0.00           NaN        NaN   \n",
       "16714      0.00      0.00      0.01         0.00           NaN        NaN   \n",
       "\n",
       "      rating  \n",
       "1        NaN  \n",
       "4        NaN  \n",
       "5        NaN  \n",
       "9        NaN  \n",
       "10       NaN  \n",
       "...      ...  \n",
       "16710    NaN  \n",
       "16711    NaN  \n",
       "16712    NaN  \n",
       "16713    NaN  \n",
       "16714    NaN  \n",
       "\n",
       "[8461 rows x 11 columns]"
      ]
     },
     "execution_count": 23,
     "metadata": {},
     "output_type": "execute_result"
    }
   ],
   "source": [
    "games[games['critic_score'].isna()]"
   ]
  },
  {
   "cell_type": "markdown",
   "metadata": {},
   "source": [
    "There are 8461 rows with null values. We don't spot anything unusual about these rows."
   ]
  },
  {
   "cell_type": "code",
   "execution_count": 24,
   "metadata": {},
   "outputs": [
    {
     "data": {
      "text/plain": [
       "count    7983.000000\n",
       "mean       68.994363\n",
       "std        13.920060\n",
       "min        13.000000\n",
       "25%        60.000000\n",
       "50%        71.000000\n",
       "75%        79.000000\n",
       "max        98.000000\n",
       "Name: critic_score, dtype: float64"
      ]
     },
     "execution_count": 24,
     "metadata": {},
     "output_type": "execute_result"
    }
   ],
   "source": [
    "games['critic_score'].describe()"
   ]
  },
  {
   "cell_type": "code",
   "execution_count": 25,
   "metadata": {},
   "outputs": [
    {
     "data": {
      "text/plain": [
       "array([76., nan, 82., 80., 89., 58., 87., 91., 61., 97., 95., 77., 88.,\n",
       "       83., 94., 93., 85., 86., 98., 96., 90., 84., 73., 74., 78., 92.,\n",
       "       71., 72., 68., 62., 49., 67., 81., 66., 56., 79., 70., 59., 64.,\n",
       "       75., 60., 63., 69., 50., 25., 42., 44., 55., 48., 57., 29., 47.,\n",
       "       65., 54., 20., 53., 37., 38., 33., 52., 30., 32., 43., 45., 51.,\n",
       "       40., 46., 39., 34., 41., 36., 31., 27., 35., 26., 19., 28., 23.,\n",
       "       24., 21., 17., 13.])"
      ]
     },
     "execution_count": 25,
     "metadata": {},
     "output_type": "execute_result"
    }
   ],
   "source": [
    "games['critic_score'].unique()"
   ]
  },
  {
   "cell_type": "markdown",
   "metadata": {},
   "source": [
    "From the information provided with the data, we learn that the maximum possible score is 100. \n",
    "\n",
    "We do not know why the data in these columns is missing, we can only hypothesize, and we do not have access to a source that would allow us to replenish the data, restore it.  As there are so many of them (51.3% of the rows) we will leave the null values in place, but replace them with the marker: N/A."
   ]
  },
  {
   "cell_type": "code",
   "execution_count": 26,
   "metadata": {},
   "outputs": [],
   "source": [
    "games['critic_score'] = games['critic_score'].fillna('N/A')"
   ]
  },
  {
   "cell_type": "code",
   "execution_count": 27,
   "metadata": {},
   "outputs": [
    {
     "data": {
      "text/plain": [
       "count     16444\n",
       "unique       82\n",
       "top         N/A\n",
       "freq       8461\n",
       "Name: critic_score, dtype: object"
      ]
     },
     "execution_count": 27,
     "metadata": {},
     "output_type": "execute_result"
    }
   ],
   "source": [
    "games['critic_score'].describe()"
   ]
  },
  {
   "cell_type": "markdown",
   "metadata": {},
   "source": [
    "### The 'user_score' column"
   ]
  },
  {
   "cell_type": "code",
   "execution_count": 28,
   "metadata": {},
   "outputs": [
    {
     "data": {
      "text/plain": [
       "16444"
      ]
     },
     "execution_count": 28,
     "metadata": {},
     "output_type": "execute_result"
    }
   ],
   "source": [
    "len(games['user_score'])"
   ]
  },
  {
   "cell_type": "code",
   "execution_count": 29,
   "metadata": {},
   "outputs": [
    {
     "data": {
      "text/plain": [
       "6605"
      ]
     },
     "execution_count": 29,
     "metadata": {},
     "output_type": "execute_result"
    }
   ],
   "source": [
    "games['user_score'].isna().sum()"
   ]
  },
  {
   "cell_type": "code",
   "execution_count": 30,
   "metadata": {},
   "outputs": [
    {
     "data": {
      "text/plain": [
       "count     9839\n",
       "unique      96\n",
       "top        tbd\n",
       "freq      2376\n",
       "Name: user_score, dtype: object"
      ]
     },
     "execution_count": 30,
     "metadata": {},
     "output_type": "execute_result"
    }
   ],
   "source": [
    "games['user_score'].describe()"
   ]
  },
  {
   "cell_type": "markdown",
   "metadata": {},
   "source": [
    "This column has 6605 null values.  It also has 2376 rows with the value 'tbd'. The remaining 7463 values need to be changed to 'float'."
   ]
  },
  {
   "cell_type": "markdown",
   "metadata": {},
   "source": [
    "Let's have a look at the rows with Nans and 'tbd':"
   ]
  },
  {
   "cell_type": "code",
   "execution_count": 31,
   "metadata": {},
   "outputs": [
    {
     "data": {
      "text/html": [
       "<div>\n",
       "<style scoped>\n",
       "    .dataframe tbody tr th:only-of-type {\n",
       "        vertical-align: middle;\n",
       "    }\n",
       "\n",
       "    .dataframe tbody tr th {\n",
       "        vertical-align: top;\n",
       "    }\n",
       "\n",
       "    .dataframe thead th {\n",
       "        text-align: right;\n",
       "    }\n",
       "</style>\n",
       "<table border=\"1\" class=\"dataframe\">\n",
       "  <thead>\n",
       "    <tr style=\"text-align: right;\">\n",
       "      <th></th>\n",
       "      <th>name</th>\n",
       "      <th>platform</th>\n",
       "      <th>year_of_release</th>\n",
       "      <th>genre</th>\n",
       "      <th>na_sales</th>\n",
       "      <th>eu_sales</th>\n",
       "      <th>jp_sales</th>\n",
       "      <th>other_sales</th>\n",
       "      <th>critic_score</th>\n",
       "      <th>user_score</th>\n",
       "      <th>rating</th>\n",
       "    </tr>\n",
       "  </thead>\n",
       "  <tbody>\n",
       "    <tr>\n",
       "      <th>1</th>\n",
       "      <td>Super Mario Bros.</td>\n",
       "      <td>NES</td>\n",
       "      <td>1985</td>\n",
       "      <td>Platform</td>\n",
       "      <td>29.08</td>\n",
       "      <td>3.58</td>\n",
       "      <td>6.81</td>\n",
       "      <td>0.77</td>\n",
       "      <td>N/A</td>\n",
       "      <td>NaN</td>\n",
       "      <td>NaN</td>\n",
       "    </tr>\n",
       "    <tr>\n",
       "      <th>4</th>\n",
       "      <td>Pokemon Red/Pokemon Blue</td>\n",
       "      <td>GB</td>\n",
       "      <td>1996</td>\n",
       "      <td>Role-Playing</td>\n",
       "      <td>11.27</td>\n",
       "      <td>8.89</td>\n",
       "      <td>10.22</td>\n",
       "      <td>1.00</td>\n",
       "      <td>N/A</td>\n",
       "      <td>NaN</td>\n",
       "      <td>NaN</td>\n",
       "    </tr>\n",
       "    <tr>\n",
       "      <th>5</th>\n",
       "      <td>Tetris</td>\n",
       "      <td>GB</td>\n",
       "      <td>1989</td>\n",
       "      <td>Puzzle</td>\n",
       "      <td>23.20</td>\n",
       "      <td>2.26</td>\n",
       "      <td>4.22</td>\n",
       "      <td>0.58</td>\n",
       "      <td>N/A</td>\n",
       "      <td>NaN</td>\n",
       "      <td>NaN</td>\n",
       "    </tr>\n",
       "    <tr>\n",
       "      <th>9</th>\n",
       "      <td>Duck Hunt</td>\n",
       "      <td>NES</td>\n",
       "      <td>1984</td>\n",
       "      <td>Shooter</td>\n",
       "      <td>26.93</td>\n",
       "      <td>0.63</td>\n",
       "      <td>0.28</td>\n",
       "      <td>0.47</td>\n",
       "      <td>N/A</td>\n",
       "      <td>NaN</td>\n",
       "      <td>NaN</td>\n",
       "    </tr>\n",
       "    <tr>\n",
       "      <th>10</th>\n",
       "      <td>Nintendogs</td>\n",
       "      <td>DS</td>\n",
       "      <td>2005</td>\n",
       "      <td>Simulation</td>\n",
       "      <td>9.05</td>\n",
       "      <td>10.95</td>\n",
       "      <td>1.93</td>\n",
       "      <td>2.74</td>\n",
       "      <td>N/A</td>\n",
       "      <td>NaN</td>\n",
       "      <td>NaN</td>\n",
       "    </tr>\n",
       "    <tr>\n",
       "      <th>...</th>\n",
       "      <td>...</td>\n",
       "      <td>...</td>\n",
       "      <td>...</td>\n",
       "      <td>...</td>\n",
       "      <td>...</td>\n",
       "      <td>...</td>\n",
       "      <td>...</td>\n",
       "      <td>...</td>\n",
       "      <td>...</td>\n",
       "      <td>...</td>\n",
       "      <td>...</td>\n",
       "    </tr>\n",
       "    <tr>\n",
       "      <th>16710</th>\n",
       "      <td>Samurai Warriors: Sanada Maru</td>\n",
       "      <td>PS3</td>\n",
       "      <td>2016</td>\n",
       "      <td>Action</td>\n",
       "      <td>0.00</td>\n",
       "      <td>0.00</td>\n",
       "      <td>0.01</td>\n",
       "      <td>0.00</td>\n",
       "      <td>N/A</td>\n",
       "      <td>NaN</td>\n",
       "      <td>NaN</td>\n",
       "    </tr>\n",
       "    <tr>\n",
       "      <th>16711</th>\n",
       "      <td>LMA Manager 2007</td>\n",
       "      <td>X360</td>\n",
       "      <td>2006</td>\n",
       "      <td>Sports</td>\n",
       "      <td>0.00</td>\n",
       "      <td>0.01</td>\n",
       "      <td>0.00</td>\n",
       "      <td>0.00</td>\n",
       "      <td>N/A</td>\n",
       "      <td>NaN</td>\n",
       "      <td>NaN</td>\n",
       "    </tr>\n",
       "    <tr>\n",
       "      <th>16712</th>\n",
       "      <td>Haitaka no Psychedelica</td>\n",
       "      <td>PSV</td>\n",
       "      <td>2016</td>\n",
       "      <td>Adventure</td>\n",
       "      <td>0.00</td>\n",
       "      <td>0.00</td>\n",
       "      <td>0.01</td>\n",
       "      <td>0.00</td>\n",
       "      <td>N/A</td>\n",
       "      <td>NaN</td>\n",
       "      <td>NaN</td>\n",
       "    </tr>\n",
       "    <tr>\n",
       "      <th>16713</th>\n",
       "      <td>Spirits &amp; Spells</td>\n",
       "      <td>GBA</td>\n",
       "      <td>2003</td>\n",
       "      <td>Platform</td>\n",
       "      <td>0.01</td>\n",
       "      <td>0.00</td>\n",
       "      <td>0.00</td>\n",
       "      <td>0.00</td>\n",
       "      <td>N/A</td>\n",
       "      <td>NaN</td>\n",
       "      <td>NaN</td>\n",
       "    </tr>\n",
       "    <tr>\n",
       "      <th>16714</th>\n",
       "      <td>Winning Post 8 2016</td>\n",
       "      <td>PSV</td>\n",
       "      <td>2016</td>\n",
       "      <td>Simulation</td>\n",
       "      <td>0.00</td>\n",
       "      <td>0.00</td>\n",
       "      <td>0.01</td>\n",
       "      <td>0.00</td>\n",
       "      <td>N/A</td>\n",
       "      <td>NaN</td>\n",
       "      <td>NaN</td>\n",
       "    </tr>\n",
       "  </tbody>\n",
       "</table>\n",
       "<p>6605 rows × 11 columns</p>\n",
       "</div>"
      ],
      "text/plain": [
       "                                name platform  year_of_release         genre  \\\n",
       "1                  Super Mario Bros.      NES             1985      Platform   \n",
       "4           Pokemon Red/Pokemon Blue       GB             1996  Role-Playing   \n",
       "5                             Tetris       GB             1989        Puzzle   \n",
       "9                          Duck Hunt      NES             1984       Shooter   \n",
       "10                        Nintendogs       DS             2005    Simulation   \n",
       "...                              ...      ...              ...           ...   \n",
       "16710  Samurai Warriors: Sanada Maru      PS3             2016        Action   \n",
       "16711               LMA Manager 2007     X360             2006        Sports   \n",
       "16712        Haitaka no Psychedelica      PSV             2016     Adventure   \n",
       "16713               Spirits & Spells      GBA             2003      Platform   \n",
       "16714            Winning Post 8 2016      PSV             2016    Simulation   \n",
       "\n",
       "       na_sales  eu_sales  jp_sales  other_sales critic_score user_score  \\\n",
       "1         29.08      3.58      6.81         0.77          N/A        NaN   \n",
       "4         11.27      8.89     10.22         1.00          N/A        NaN   \n",
       "5         23.20      2.26      4.22         0.58          N/A        NaN   \n",
       "9         26.93      0.63      0.28         0.47          N/A        NaN   \n",
       "10         9.05     10.95      1.93         2.74          N/A        NaN   \n",
       "...         ...       ...       ...          ...          ...        ...   \n",
       "16710      0.00      0.00      0.01         0.00          N/A        NaN   \n",
       "16711      0.00      0.01      0.00         0.00          N/A        NaN   \n",
       "16712      0.00      0.00      0.01         0.00          N/A        NaN   \n",
       "16713      0.01      0.00      0.00         0.00          N/A        NaN   \n",
       "16714      0.00      0.00      0.01         0.00          N/A        NaN   \n",
       "\n",
       "      rating  \n",
       "1        NaN  \n",
       "4        NaN  \n",
       "5        NaN  \n",
       "9        NaN  \n",
       "10       NaN  \n",
       "...      ...  \n",
       "16710    NaN  \n",
       "16711    NaN  \n",
       "16712    NaN  \n",
       "16713    NaN  \n",
       "16714    NaN  \n",
       "\n",
       "[6605 rows x 11 columns]"
      ]
     },
     "execution_count": 31,
     "metadata": {},
     "output_type": "execute_result"
    }
   ],
   "source": [
    "games[games['user_score'].isna()]"
   ]
  },
  {
   "cell_type": "code",
   "execution_count": 32,
   "metadata": {},
   "outputs": [
    {
     "data": {
      "text/html": [
       "<div>\n",
       "<style scoped>\n",
       "    .dataframe tbody tr th:only-of-type {\n",
       "        vertical-align: middle;\n",
       "    }\n",
       "\n",
       "    .dataframe tbody tr th {\n",
       "        vertical-align: top;\n",
       "    }\n",
       "\n",
       "    .dataframe thead th {\n",
       "        text-align: right;\n",
       "    }\n",
       "</style>\n",
       "<table border=\"1\" class=\"dataframe\">\n",
       "  <thead>\n",
       "    <tr style=\"text-align: right;\">\n",
       "      <th></th>\n",
       "      <th>name</th>\n",
       "      <th>platform</th>\n",
       "      <th>year_of_release</th>\n",
       "      <th>genre</th>\n",
       "      <th>na_sales</th>\n",
       "      <th>eu_sales</th>\n",
       "      <th>jp_sales</th>\n",
       "      <th>other_sales</th>\n",
       "      <th>critic_score</th>\n",
       "      <th>user_score</th>\n",
       "      <th>rating</th>\n",
       "    </tr>\n",
       "  </thead>\n",
       "  <tbody>\n",
       "    <tr>\n",
       "      <th>119</th>\n",
       "      <td>Zumba Fitness</td>\n",
       "      <td>Wii</td>\n",
       "      <td>2010</td>\n",
       "      <td>Sports</td>\n",
       "      <td>3.45</td>\n",
       "      <td>2.59</td>\n",
       "      <td>0.0</td>\n",
       "      <td>0.66</td>\n",
       "      <td>N/A</td>\n",
       "      <td>tbd</td>\n",
       "      <td>E</td>\n",
       "    </tr>\n",
       "    <tr>\n",
       "      <th>301</th>\n",
       "      <td>Namco Museum: 50th Anniversary</td>\n",
       "      <td>PS2</td>\n",
       "      <td>2005</td>\n",
       "      <td>Misc</td>\n",
       "      <td>2.08</td>\n",
       "      <td>1.35</td>\n",
       "      <td>0.0</td>\n",
       "      <td>0.54</td>\n",
       "      <td>61.0</td>\n",
       "      <td>tbd</td>\n",
       "      <td>E10+</td>\n",
       "    </tr>\n",
       "    <tr>\n",
       "      <th>520</th>\n",
       "      <td>Zumba Fitness 2</td>\n",
       "      <td>Wii</td>\n",
       "      <td>2011</td>\n",
       "      <td>Sports</td>\n",
       "      <td>1.51</td>\n",
       "      <td>1.03</td>\n",
       "      <td>0.0</td>\n",
       "      <td>0.27</td>\n",
       "      <td>N/A</td>\n",
       "      <td>tbd</td>\n",
       "      <td>T</td>\n",
       "    </tr>\n",
       "    <tr>\n",
       "      <th>645</th>\n",
       "      <td>uDraw Studio</td>\n",
       "      <td>Wii</td>\n",
       "      <td>2010</td>\n",
       "      <td>Misc</td>\n",
       "      <td>1.65</td>\n",
       "      <td>0.57</td>\n",
       "      <td>0.0</td>\n",
       "      <td>0.20</td>\n",
       "      <td>71.0</td>\n",
       "      <td>tbd</td>\n",
       "      <td>E</td>\n",
       "    </tr>\n",
       "    <tr>\n",
       "      <th>718</th>\n",
       "      <td>Just Dance Kids</td>\n",
       "      <td>Wii</td>\n",
       "      <td>2010</td>\n",
       "      <td>Misc</td>\n",
       "      <td>1.52</td>\n",
       "      <td>0.54</td>\n",
       "      <td>0.0</td>\n",
       "      <td>0.18</td>\n",
       "      <td>N/A</td>\n",
       "      <td>tbd</td>\n",
       "      <td>E</td>\n",
       "    </tr>\n",
       "    <tr>\n",
       "      <th>...</th>\n",
       "      <td>...</td>\n",
       "      <td>...</td>\n",
       "      <td>...</td>\n",
       "      <td>...</td>\n",
       "      <td>...</td>\n",
       "      <td>...</td>\n",
       "      <td>...</td>\n",
       "      <td>...</td>\n",
       "      <td>...</td>\n",
       "      <td>...</td>\n",
       "      <td>...</td>\n",
       "    </tr>\n",
       "    <tr>\n",
       "      <th>16695</th>\n",
       "      <td>Planet Monsters</td>\n",
       "      <td>GBA</td>\n",
       "      <td>2001</td>\n",
       "      <td>Action</td>\n",
       "      <td>0.01</td>\n",
       "      <td>0.00</td>\n",
       "      <td>0.0</td>\n",
       "      <td>0.00</td>\n",
       "      <td>67.0</td>\n",
       "      <td>tbd</td>\n",
       "      <td>E</td>\n",
       "    </tr>\n",
       "    <tr>\n",
       "      <th>16697</th>\n",
       "      <td>Bust-A-Move 3000</td>\n",
       "      <td>GC</td>\n",
       "      <td>2003</td>\n",
       "      <td>Puzzle</td>\n",
       "      <td>0.01</td>\n",
       "      <td>0.00</td>\n",
       "      <td>0.0</td>\n",
       "      <td>0.00</td>\n",
       "      <td>53.0</td>\n",
       "      <td>tbd</td>\n",
       "      <td>E</td>\n",
       "    </tr>\n",
       "    <tr>\n",
       "      <th>16698</th>\n",
       "      <td>Mega Brain Boost</td>\n",
       "      <td>DS</td>\n",
       "      <td>2008</td>\n",
       "      <td>Puzzle</td>\n",
       "      <td>0.01</td>\n",
       "      <td>0.00</td>\n",
       "      <td>0.0</td>\n",
       "      <td>0.00</td>\n",
       "      <td>48.0</td>\n",
       "      <td>tbd</td>\n",
       "      <td>E</td>\n",
       "    </tr>\n",
       "    <tr>\n",
       "      <th>16704</th>\n",
       "      <td>Plushees</td>\n",
       "      <td>DS</td>\n",
       "      <td>2008</td>\n",
       "      <td>Simulation</td>\n",
       "      <td>0.01</td>\n",
       "      <td>0.00</td>\n",
       "      <td>0.0</td>\n",
       "      <td>0.00</td>\n",
       "      <td>N/A</td>\n",
       "      <td>tbd</td>\n",
       "      <td>E</td>\n",
       "    </tr>\n",
       "    <tr>\n",
       "      <th>16706</th>\n",
       "      <td>Men in Black II: Alien Escape</td>\n",
       "      <td>GC</td>\n",
       "      <td>2003</td>\n",
       "      <td>Shooter</td>\n",
       "      <td>0.01</td>\n",
       "      <td>0.00</td>\n",
       "      <td>0.0</td>\n",
       "      <td>0.00</td>\n",
       "      <td>N/A</td>\n",
       "      <td>tbd</td>\n",
       "      <td>T</td>\n",
       "    </tr>\n",
       "  </tbody>\n",
       "</table>\n",
       "<p>2376 rows × 11 columns</p>\n",
       "</div>"
      ],
      "text/plain": [
       "                                 name platform  year_of_release       genre  \\\n",
       "119                     Zumba Fitness      Wii             2010      Sports   \n",
       "301    Namco Museum: 50th Anniversary      PS2             2005        Misc   \n",
       "520                   Zumba Fitness 2      Wii             2011      Sports   \n",
       "645                      uDraw Studio      Wii             2010        Misc   \n",
       "718                   Just Dance Kids      Wii             2010        Misc   \n",
       "...                               ...      ...              ...         ...   \n",
       "16695                 Planet Monsters      GBA             2001      Action   \n",
       "16697                Bust-A-Move 3000       GC             2003      Puzzle   \n",
       "16698                Mega Brain Boost       DS             2008      Puzzle   \n",
       "16704                        Plushees       DS             2008  Simulation   \n",
       "16706   Men in Black II: Alien Escape       GC             2003     Shooter   \n",
       "\n",
       "       na_sales  eu_sales  jp_sales  other_sales critic_score user_score  \\\n",
       "119        3.45      2.59       0.0         0.66          N/A        tbd   \n",
       "301        2.08      1.35       0.0         0.54         61.0        tbd   \n",
       "520        1.51      1.03       0.0         0.27          N/A        tbd   \n",
       "645        1.65      0.57       0.0         0.20         71.0        tbd   \n",
       "718        1.52      0.54       0.0         0.18          N/A        tbd   \n",
       "...         ...       ...       ...          ...          ...        ...   \n",
       "16695      0.01      0.00       0.0         0.00         67.0        tbd   \n",
       "16697      0.01      0.00       0.0         0.00         53.0        tbd   \n",
       "16698      0.01      0.00       0.0         0.00         48.0        tbd   \n",
       "16704      0.01      0.00       0.0         0.00          N/A        tbd   \n",
       "16706      0.01      0.00       0.0         0.00          N/A        tbd   \n",
       "\n",
       "      rating  \n",
       "119        E  \n",
       "301     E10+  \n",
       "520        T  \n",
       "645        E  \n",
       "718        E  \n",
       "...      ...  \n",
       "16695      E  \n",
       "16697      E  \n",
       "16698      E  \n",
       "16704      E  \n",
       "16706      T  \n",
       "\n",
       "[2376 rows x 11 columns]"
      ]
     },
     "execution_count": 32,
     "metadata": {},
     "output_type": "execute_result"
    }
   ],
   "source": [
    "games.query('user_score == \"tbd\"')"
   ]
  },
  {
   "cell_type": "markdown",
   "metadata": {},
   "source": [
    "We don't see any pattern to the rows with NaN or 'tbd' values.  \n",
    "\n",
    "We will change the 'tbd' values to 'NaN' to convert the type of all the values in the column to numeric."
   ]
  },
  {
   "cell_type": "code",
   "execution_count": 33,
   "metadata": {},
   "outputs": [],
   "source": [
    "games['user_score'] = games['user_score'].replace('tbd', np.NaN)"
   ]
  },
  {
   "cell_type": "code",
   "execution_count": 34,
   "metadata": {},
   "outputs": [],
   "source": [
    "games['user_score'] = pd.to_numeric(games['user_score'], errors='coerce')"
   ]
  },
  {
   "cell_type": "code",
   "execution_count": 35,
   "metadata": {},
   "outputs": [
    {
     "data": {
      "text/plain": [
       "count    7463.000000\n",
       "mean        7.126330\n",
       "std         1.499447\n",
       "min         0.000000\n",
       "25%         6.400000\n",
       "50%         7.500000\n",
       "75%         8.200000\n",
       "max         9.700000\n",
       "Name: user_score, dtype: float64"
      ]
     },
     "execution_count": 35,
     "metadata": {},
     "output_type": "execute_result"
    }
   ],
   "source": [
    "games['user_score'].describe()"
   ]
  },
  {
   "cell_type": "markdown",
   "metadata": {},
   "source": [
    "These values have been successfully changed to 'float'."
   ]
  },
  {
   "cell_type": "markdown",
   "metadata": {},
   "source": [
    "Let's explore the distribution of the non null values on a histogram:"
   ]
  },
  {
   "cell_type": "code",
   "execution_count": 36,
   "metadata": {},
   "outputs": [
    {
     "data": {
      "image/png": "[encoded data removed]",
      "text/plain": [
       "<Figure size 432x288 with 1 Axes>"
      ]
     },
     "metadata": {
      "needs_background": "light"
     },
     "output_type": "display_data"
    }
   ],
   "source": [
    "games['user_score'].hist(bins = 100)\n",
    "plt.title('Distribution of the \"user_score\" column')\n",
    "plt.xlabel('User Score')\n",
    "plt.ylabel('Frequency')\n",
    "plt.show()"
   ]
  },
  {
   "cell_type": "markdown",
   "metadata": {},
   "source": [
    "Most games get a user score of between 6 and 9. Hardly any games received a user score of 10."
   ]
  },
  {
   "cell_type": "markdown",
   "metadata": {},
   "source": [
    "It is not clear why some games do not have any user scores.  Perhaps they cover a certain time span?  Let's investigate: "
   ]
  },
  {
   "cell_type": "code",
   "execution_count": 37,
   "metadata": {},
   "outputs": [],
   "source": [
    "null_data = games[games['user_score'].isnull()]"
   ]
  },
  {
   "cell_type": "code",
   "execution_count": 38,
   "metadata": {},
   "outputs": [
    {
     "data": {
      "image/png": "[encoded data removed]",
      "text/plain": [
       "<Figure size 432x288 with 1 Axes>"
      ]
     },
     "metadata": {
      "needs_background": "light"
     },
     "output_type": "display_data"
    }
   ],
   "source": [
    "null_data['year_of_release'].hist(bins = 100)\n",
    "plt.title('Distribution of Release Years for Games with no User Scores')\n",
    "plt.xlabel('Release Year')\n",
    "plt.ylabel('Frequency')\n",
    "plt.show()"
   ]
  },
  {
   "cell_type": "markdown",
   "metadata": {},
   "source": [
    "Games with no user-scores cover all the years, so our hypothesis in incorrect and we cannot determine why the missing values are present."
   ]
  },
  {
   "cell_type": "markdown",
   "metadata": {},
   "source": [
    "We will leave them n place, but replace them with the marker: N/A."
   ]
  },
  {
   "cell_type": "code",
   "execution_count": 39,
   "metadata": {},
   "outputs": [],
   "source": [
    "games['user_score'] = games['user_score'].fillna('N/A')"
   ]
  },
  {
   "cell_type": "code",
   "execution_count": 40,
   "metadata": {
    "scrolled": false
   },
   "outputs": [
    {
     "data": {
      "text/plain": [
       "count     16444\n",
       "unique       96\n",
       "top         N/A\n",
       "freq       8981\n",
       "Name: user_score, dtype: object"
      ]
     },
     "execution_count": 40,
     "metadata": {},
     "output_type": "execute_result"
    }
   ],
   "source": [
    "games['user_score'].describe()"
   ]
  },
  {
   "cell_type": "markdown",
   "metadata": {},
   "source": [
    "### The 'rating' column"
   ]
  },
  {
   "cell_type": "code",
   "execution_count": 41,
   "metadata": {},
   "outputs": [
    {
     "data": {
      "text/plain": [
       "16444"
      ]
     },
     "execution_count": 41,
     "metadata": {},
     "output_type": "execute_result"
    }
   ],
   "source": [
    "len(games['rating'])"
   ]
  },
  {
   "cell_type": "code",
   "execution_count": 42,
   "metadata": {},
   "outputs": [
    {
     "data": {
      "text/plain": [
       "E       3921\n",
       "T       2905\n",
       "M       1536\n",
       "E10+    1393\n",
       "EC         8\n",
       "K-A        3\n",
       "AO         1\n",
       "RP         1\n",
       "Name: rating, dtype: int64"
      ]
     },
     "execution_count": 42,
     "metadata": {},
     "output_type": "execute_result"
    }
   ],
   "source": [
    "games['rating'].value_counts()"
   ]
  },
  {
   "cell_type": "code",
   "execution_count": 43,
   "metadata": {},
   "outputs": [
    {
     "data": {
      "text/plain": [
       "6676"
      ]
     },
     "execution_count": 43,
     "metadata": {},
     "output_type": "execute_result"
    }
   ],
   "source": [
    "games['rating'].isna().sum()"
   ]
  },
  {
   "cell_type": "markdown",
   "metadata": {},
   "source": [
    "Again, there are many missing values here. Is it possible that games released before a certain date were not rated?"
   ]
  },
  {
   "cell_type": "code",
   "execution_count": 44,
   "metadata": {},
   "outputs": [],
   "source": [
    "games_not_null_rating = games[games['rating'].notnull()]"
   ]
  },
  {
   "cell_type": "code",
   "execution_count": 45,
   "metadata": {},
   "outputs": [
    {
     "data": {
      "text/plain": [
       "(9768, 11)"
      ]
     },
     "execution_count": 45,
     "metadata": {},
     "output_type": "execute_result"
    }
   ],
   "source": [
    "games_not_null_rating.shape"
   ]
  },
  {
   "cell_type": "code",
   "execution_count": 46,
   "metadata": {},
   "outputs": [
    {
     "data": {
      "text/plain": [
       "1985"
      ]
     },
     "execution_count": 46,
     "metadata": {},
     "output_type": "execute_result"
    }
   ],
   "source": [
    "games_not_null_rating['year_of_release'].min()"
   ]
  },
  {
   "cell_type": "code",
   "execution_count": 47,
   "metadata": {},
   "outputs": [
    {
     "data": {
      "text/plain": [
       "2016"
      ]
     },
     "execution_count": 47,
     "metadata": {},
     "output_type": "execute_result"
    }
   ],
   "source": [
    "games_not_null_rating['year_of_release'].max()"
   ]
  },
  {
   "cell_type": "markdown",
   "metadata": {},
   "source": [
    "It seems games with no ratings span all the years from 1985 to 2016 which covers the full year-range of our dataset.  Perhaps it's just the case that not all games received a rating?  \n",
    "\n",
    "We will replace the null values with 'none'."
   ]
  },
  {
   "cell_type": "code",
   "execution_count": 48,
   "metadata": {},
   "outputs": [],
   "source": [
    "games['rating'] = games['rating'].fillna('none')"
   ]
  },
  {
   "cell_type": "code",
   "execution_count": 49,
   "metadata": {},
   "outputs": [
    {
     "data": {
      "text/plain": [
       "none    6676\n",
       "E       3921\n",
       "T       2905\n",
       "M       1536\n",
       "E10+    1393\n",
       "EC         8\n",
       "K-A        3\n",
       "AO         1\n",
       "RP         1\n",
       "Name: rating, dtype: int64"
      ]
     },
     "execution_count": 49,
     "metadata": {},
     "output_type": "execute_result"
    }
   ],
   "source": [
    "games['rating'].value_counts()"
   ]
  },
  {
   "cell_type": "markdown",
   "metadata": {},
   "source": [
    "The null values have been successfully replaced with the string 'none'."
   ]
  },
  {
   "cell_type": "markdown",
   "metadata": {},
   "source": [
    "### The sales columns"
   ]
  },
  {
   "cell_type": "code",
   "execution_count": 50,
   "metadata": {},
   "outputs": [
    {
     "data": {
      "text/html": [
       "<div>\n",
       "<style scoped>\n",
       "    .dataframe tbody tr th:only-of-type {\n",
       "        vertical-align: middle;\n",
       "    }\n",
       "\n",
       "    .dataframe tbody tr th {\n",
       "        vertical-align: top;\n",
       "    }\n",
       "\n",
       "    .dataframe thead th {\n",
       "        text-align: right;\n",
       "    }\n",
       "</style>\n",
       "<table border=\"1\" class=\"dataframe\">\n",
       "  <thead>\n",
       "    <tr style=\"text-align: right;\">\n",
       "      <th></th>\n",
       "      <th>na_sales</th>\n",
       "      <th>eu_sales</th>\n",
       "      <th>jp_sales</th>\n",
       "      <th>other_sales</th>\n",
       "    </tr>\n",
       "  </thead>\n",
       "  <tbody>\n",
       "    <tr>\n",
       "      <th>count</th>\n",
       "      <td>16444.000000</td>\n",
       "      <td>16444.000000</td>\n",
       "      <td>16444.000000</td>\n",
       "      <td>16444.000000</td>\n",
       "    </tr>\n",
       "    <tr>\n",
       "      <th>mean</th>\n",
       "      <td>0.264012</td>\n",
       "      <td>0.145930</td>\n",
       "      <td>0.078487</td>\n",
       "      <td>0.047594</td>\n",
       "    </tr>\n",
       "    <tr>\n",
       "      <th>std</th>\n",
       "      <td>0.818378</td>\n",
       "      <td>0.506716</td>\n",
       "      <td>0.311100</td>\n",
       "      <td>0.188005</td>\n",
       "    </tr>\n",
       "    <tr>\n",
       "      <th>min</th>\n",
       "      <td>0.000000</td>\n",
       "      <td>0.000000</td>\n",
       "      <td>0.000000</td>\n",
       "      <td>0.000000</td>\n",
       "    </tr>\n",
       "    <tr>\n",
       "      <th>25%</th>\n",
       "      <td>0.000000</td>\n",
       "      <td>0.000000</td>\n",
       "      <td>0.000000</td>\n",
       "      <td>0.000000</td>\n",
       "    </tr>\n",
       "    <tr>\n",
       "      <th>50%</th>\n",
       "      <td>0.080000</td>\n",
       "      <td>0.020000</td>\n",
       "      <td>0.000000</td>\n",
       "      <td>0.010000</td>\n",
       "    </tr>\n",
       "    <tr>\n",
       "      <th>75%</th>\n",
       "      <td>0.240000</td>\n",
       "      <td>0.110000</td>\n",
       "      <td>0.040000</td>\n",
       "      <td>0.030000</td>\n",
       "    </tr>\n",
       "    <tr>\n",
       "      <th>max</th>\n",
       "      <td>41.360000</td>\n",
       "      <td>28.960000</td>\n",
       "      <td>10.220000</td>\n",
       "      <td>10.570000</td>\n",
       "    </tr>\n",
       "  </tbody>\n",
       "</table>\n",
       "</div>"
      ],
      "text/plain": [
       "           na_sales      eu_sales      jp_sales   other_sales\n",
       "count  16444.000000  16444.000000  16444.000000  16444.000000\n",
       "mean       0.264012      0.145930      0.078487      0.047594\n",
       "std        0.818378      0.506716      0.311100      0.188005\n",
       "min        0.000000      0.000000      0.000000      0.000000\n",
       "25%        0.000000      0.000000      0.000000      0.000000\n",
       "50%        0.080000      0.020000      0.000000      0.010000\n",
       "75%        0.240000      0.110000      0.040000      0.030000\n",
       "max       41.360000     28.960000     10.220000     10.570000"
      ]
     },
     "execution_count": 50,
     "metadata": {},
     "output_type": "execute_result"
    }
   ],
   "source": [
    "games[['na_sales', 'eu_sales', 'jp_sales', 'other_sales']].describe()"
   ]
  },
  {
   "cell_type": "markdown",
   "metadata": {},
   "source": [
    "As noted above, the mean for all 4 columns is above the median which indicates there are some high values that are 'pulling them up'.  We can also see that the maximum value is way higher that the 75% value, which indicates there will be high outliers.\n",
    "\n",
    "Let's view this on a boxplot:"
   ]
  },
  {
   "cell_type": "code",
   "execution_count": 51,
   "metadata": {},
   "outputs": [
    {
     "data": {
      "image/png": "[encoded data removed]",
      "text/plain": [
       "<Figure size 432x288 with 1 Axes>"
      ]
     },
     "metadata": {
      "needs_background": "light"
     },
     "output_type": "display_data"
    }
   ],
   "source": [
    "games[['na_sales', 'eu_sales', 'jp_sales', 'other_sales']].boxplot()\n",
    "plt.title('Boxplot for Annual Sales by Geopgraphical Territory')\n",
    "plt.ylabel('USD Million')\n",
    "plt.show()"
   ]
  },
  {
   "cell_type": "markdown",
   "metadata": {},
   "source": [
    "This confirms that there are outliers; some games sell far more than the others."
   ]
  },
  {
   "cell_type": "markdown",
   "metadata": {},
   "source": [
    "This almost concludes the data preparation.  We will do one final check for duplicated rows:"
   ]
  },
  {
   "cell_type": "code",
   "execution_count": 52,
   "metadata": {},
   "outputs": [
    {
     "data": {
      "text/plain": [
       "0"
      ]
     },
     "execution_count": 52,
     "metadata": {},
     "output_type": "execute_result"
    }
   ],
   "source": [
    "games.duplicated().sum()"
   ]
  },
  {
   "cell_type": "markdown",
   "metadata": {},
   "source": [
    "There are no duplicate rows.  "
   ]
  },
  {
   "cell_type": "markdown",
   "metadata": {},
   "source": [
    "### Adding a new column: the 'total sales' column"
   ]
  },
  {
   "cell_type": "markdown",
   "metadata": {},
   "source": [
    "We will calculate the total sales (the sum of sales in all regions) for each game and put these values in a separate column."
   ]
  },
  {
   "cell_type": "code",
   "execution_count": 53,
   "metadata": {},
   "outputs": [],
   "source": [
    "games['total_sales'] = games['na_sales'] + games['eu_sales'] + games['jp_sales'] + games['other_sales']"
   ]
  },
  {
   "cell_type": "code",
   "execution_count": 54,
   "metadata": {},
   "outputs": [
    {
     "data": {
      "text/html": [
       "<div>\n",
       "<style scoped>\n",
       "    .dataframe tbody tr th:only-of-type {\n",
       "        vertical-align: middle;\n",
       "    }\n",
       "\n",
       "    .dataframe tbody tr th {\n",
       "        vertical-align: top;\n",
       "    }\n",
       "\n",
       "    .dataframe thead th {\n",
       "        text-align: right;\n",
       "    }\n",
       "</style>\n",
       "<table border=\"1\" class=\"dataframe\">\n",
       "  <thead>\n",
       "    <tr style=\"text-align: right;\">\n",
       "      <th></th>\n",
       "      <th>name</th>\n",
       "      <th>platform</th>\n",
       "      <th>year_of_release</th>\n",
       "      <th>genre</th>\n",
       "      <th>na_sales</th>\n",
       "      <th>eu_sales</th>\n",
       "      <th>jp_sales</th>\n",
       "      <th>other_sales</th>\n",
       "      <th>critic_score</th>\n",
       "      <th>user_score</th>\n",
       "      <th>rating</th>\n",
       "      <th>total_sales</th>\n",
       "    </tr>\n",
       "  </thead>\n",
       "  <tbody>\n",
       "    <tr>\n",
       "      <th>0</th>\n",
       "      <td>Wii Sports</td>\n",
       "      <td>Wii</td>\n",
       "      <td>2006</td>\n",
       "      <td>Sports</td>\n",
       "      <td>41.36</td>\n",
       "      <td>28.96</td>\n",
       "      <td>3.77</td>\n",
       "      <td>8.45</td>\n",
       "      <td>76.0</td>\n",
       "      <td>8.0</td>\n",
       "      <td>E</td>\n",
       "      <td>82.54</td>\n",
       "    </tr>\n",
       "    <tr>\n",
       "      <th>1</th>\n",
       "      <td>Super Mario Bros.</td>\n",
       "      <td>NES</td>\n",
       "      <td>1985</td>\n",
       "      <td>Platform</td>\n",
       "      <td>29.08</td>\n",
       "      <td>3.58</td>\n",
       "      <td>6.81</td>\n",
       "      <td>0.77</td>\n",
       "      <td>N/A</td>\n",
       "      <td>N/A</td>\n",
       "      <td>none</td>\n",
       "      <td>40.24</td>\n",
       "    </tr>\n",
       "    <tr>\n",
       "      <th>2</th>\n",
       "      <td>Mario Kart Wii</td>\n",
       "      <td>Wii</td>\n",
       "      <td>2008</td>\n",
       "      <td>Racing</td>\n",
       "      <td>15.68</td>\n",
       "      <td>12.76</td>\n",
       "      <td>3.79</td>\n",
       "      <td>3.29</td>\n",
       "      <td>82.0</td>\n",
       "      <td>8.3</td>\n",
       "      <td>E</td>\n",
       "      <td>35.52</td>\n",
       "    </tr>\n",
       "    <tr>\n",
       "      <th>3</th>\n",
       "      <td>Wii Sports Resort</td>\n",
       "      <td>Wii</td>\n",
       "      <td>2009</td>\n",
       "      <td>Sports</td>\n",
       "      <td>15.61</td>\n",
       "      <td>10.93</td>\n",
       "      <td>3.28</td>\n",
       "      <td>2.95</td>\n",
       "      <td>80.0</td>\n",
       "      <td>8.0</td>\n",
       "      <td>E</td>\n",
       "      <td>32.77</td>\n",
       "    </tr>\n",
       "    <tr>\n",
       "      <th>4</th>\n",
       "      <td>Pokemon Red/Pokemon Blue</td>\n",
       "      <td>GB</td>\n",
       "      <td>1996</td>\n",
       "      <td>Role-Playing</td>\n",
       "      <td>11.27</td>\n",
       "      <td>8.89</td>\n",
       "      <td>10.22</td>\n",
       "      <td>1.00</td>\n",
       "      <td>N/A</td>\n",
       "      <td>N/A</td>\n",
       "      <td>none</td>\n",
       "      <td>31.38</td>\n",
       "    </tr>\n",
       "  </tbody>\n",
       "</table>\n",
       "</div>"
      ],
      "text/plain": [
       "                       name platform  year_of_release         genre  na_sales  \\\n",
       "0                Wii Sports      Wii             2006        Sports     41.36   \n",
       "1         Super Mario Bros.      NES             1985      Platform     29.08   \n",
       "2            Mario Kart Wii      Wii             2008        Racing     15.68   \n",
       "3         Wii Sports Resort      Wii             2009        Sports     15.61   \n",
       "4  Pokemon Red/Pokemon Blue       GB             1996  Role-Playing     11.27   \n",
       "\n",
       "   eu_sales  jp_sales  other_sales critic_score user_score rating  total_sales  \n",
       "0     28.96      3.77         8.45         76.0        8.0      E        82.54  \n",
       "1      3.58      6.81         0.77          N/A        N/A   none        40.24  \n",
       "2     12.76      3.79         3.29         82.0        8.3      E        35.52  \n",
       "3     10.93      3.28         2.95         80.0        8.0      E        32.77  \n",
       "4      8.89     10.22         1.00          N/A        N/A   none        31.38  "
      ]
     },
     "execution_count": 54,
     "metadata": {},
     "output_type": "execute_result"
    }
   ],
   "source": [
    "games.head()"
   ]
  },
  {
   "cell_type": "markdown",
   "metadata": {},
   "source": [
    "The new column has been successfully added. \n",
    "\n",
    "We will now proceed to the analysis stage with the data as follows:"
   ]
  },
  {
   "cell_type": "code",
   "execution_count": 55,
   "metadata": {},
   "outputs": [
    {
     "name": "stdout",
     "output_type": "stream",
     "text": [
      "<class 'pandas.core.frame.DataFrame'>\n",
      "Int64Index: 16444 entries, 0 to 16714\n",
      "Data columns (total 12 columns):\n",
      " #   Column           Non-Null Count  Dtype  \n",
      "---  ------           --------------  -----  \n",
      " 0   name             16444 non-null  object \n",
      " 1   platform         16444 non-null  object \n",
      " 2   year_of_release  16444 non-null  int32  \n",
      " 3   genre            16444 non-null  object \n",
      " 4   na_sales         16444 non-null  float64\n",
      " 5   eu_sales         16444 non-null  float64\n",
      " 6   jp_sales         16444 non-null  float64\n",
      " 7   other_sales      16444 non-null  float64\n",
      " 8   critic_score     16444 non-null  object \n",
      " 9   user_score       16444 non-null  object \n",
      " 10  rating           16444 non-null  object \n",
      " 11  total_sales      16444 non-null  float64\n",
      "dtypes: float64(5), int32(1), object(6)\n",
      "memory usage: 1.6+ MB\n"
     ]
    }
   ],
   "source": [
    "games.info()"
   ]
  },
  {
   "cell_type": "markdown",
   "metadata": {},
   "source": [
    " <u>Conclusion</u>\n",
    "\n",
    "As a result of the investigations carried out above, we executed the following:\n",
    "- We deleted two rows that had null vales for both 'year_of_release' and 'genre'. \n",
    "- We also deleted the 269 rows that did not have a Release Year and we changed the data type of this column to integer.\n",
    "- In the critics_score column we left the null values(in 51.3% of the rows) in place, but changed them to 'N/A'.\n",
    "- in the user-scores column we also replaced the 'tbd' values and the null values with 'N/A'\n",
    "- The null values in the ratings column were replaced with the string 'none'.\n",
    "- We added a new column (Total Sales)."
   ]
  },
  {
   "cell_type": "markdown",
   "metadata": {},
   "source": [
    "## Analysing the Data"
   ]
  },
  {
   "cell_type": "markdown",
   "metadata": {},
   "source": [
    "### How many games were released in different years?\n",
    "We will explore the distribution of Year of Release with a histogram:"
   ]
  },
  {
   "cell_type": "code",
   "execution_count": 56,
   "metadata": {},
   "outputs": [
    {
     "data": {
      "image/png": "[encoded data removed]",
      "text/plain": [
       "<Figure size 432x288 with 1 Axes>"
      ]
     },
     "metadata": {
      "needs_background": "light"
     },
     "output_type": "display_data"
    }
   ],
   "source": [
    "games['year_of_release'].hist(bins = 100)\n",
    "plt.title('Distribution of Release Years')\n",
    "plt.xlabel('Year of Release')\n",
    "plt.ylabel('Frequency')\n",
    "plt.show()"
   ]
  },
  {
   "cell_type": "markdown",
   "metadata": {},
   "source": [
    "Very few games were issued before 1995. "
   ]
  },
  {
   "cell_type": "markdown",
   "metadata": {},
   "source": [
    "### How have sales varied by platform?"
   ]
  },
  {
   "cell_type": "markdown",
   "metadata": {},
   "source": [
    "We will investigate how sales varied from platform to platform. We will find the 10 platforms with the greatest total sales and plot distributions for each based on data for each year. \n",
    "We want to discover (1) platforms that used to be popular but now have zero sales and (2) how long it generally takes for new platforms to appear and old ones to fade.\n",
    "\n",
    "First we will find the 10 platforms with the highest total sales over the whole period:"
   ]
  },
  {
   "cell_type": "code",
   "execution_count": 57,
   "metadata": {},
   "outputs": [],
   "source": [
    "top10_pivot = games.pivot_table(index = 'platform', values = 'total_sales', aggfunc = 'sum').sort_values(by = 'total_sales', ascending = False).head(10)"
   ]
  },
  {
   "cell_type": "code",
   "execution_count": 58,
   "metadata": {},
   "outputs": [
    {
     "data": {
      "text/html": [
       "<div>\n",
       "<style scoped>\n",
       "    .dataframe tbody tr th:only-of-type {\n",
       "        vertical-align: middle;\n",
       "    }\n",
       "\n",
       "    .dataframe tbody tr th {\n",
       "        vertical-align: top;\n",
       "    }\n",
       "\n",
       "    .dataframe thead th {\n",
       "        text-align: right;\n",
       "    }\n",
       "</style>\n",
       "<table border=\"1\" class=\"dataframe\">\n",
       "  <thead>\n",
       "    <tr style=\"text-align: right;\">\n",
       "      <th></th>\n",
       "      <th>total_sales</th>\n",
       "    </tr>\n",
       "    <tr>\n",
       "      <th>platform</th>\n",
       "      <th></th>\n",
       "    </tr>\n",
       "  </thead>\n",
       "  <tbody>\n",
       "    <tr>\n",
       "      <th>PS2</th>\n",
       "      <td>1233.56</td>\n",
       "    </tr>\n",
       "    <tr>\n",
       "      <th>X360</th>\n",
       "      <td>961.24</td>\n",
       "    </tr>\n",
       "    <tr>\n",
       "      <th>PS3</th>\n",
       "      <td>931.34</td>\n",
       "    </tr>\n",
       "    <tr>\n",
       "      <th>Wii</th>\n",
       "      <td>891.18</td>\n",
       "    </tr>\n",
       "    <tr>\n",
       "      <th>DS</th>\n",
       "      <td>802.78</td>\n",
       "    </tr>\n",
       "    <tr>\n",
       "      <th>PS</th>\n",
       "      <td>727.58</td>\n",
       "    </tr>\n",
       "    <tr>\n",
       "      <th>PS4</th>\n",
       "      <td>314.14</td>\n",
       "    </tr>\n",
       "    <tr>\n",
       "      <th>GBA</th>\n",
       "      <td>312.88</td>\n",
       "    </tr>\n",
       "    <tr>\n",
       "      <th>PSP</th>\n",
       "      <td>289.53</td>\n",
       "    </tr>\n",
       "    <tr>\n",
       "      <th>3DS</th>\n",
       "      <td>257.81</td>\n",
       "    </tr>\n",
       "  </tbody>\n",
       "</table>\n",
       "</div>"
      ],
      "text/plain": [
       "          total_sales\n",
       "platform             \n",
       "PS2           1233.56\n",
       "X360           961.24\n",
       "PS3            931.34\n",
       "Wii            891.18\n",
       "DS             802.78\n",
       "PS             727.58\n",
       "PS4            314.14\n",
       "GBA            312.88\n",
       "PSP            289.53\n",
       "3DS            257.81"
      ]
     },
     "execution_count": 58,
     "metadata": {},
     "output_type": "execute_result"
    }
   ],
   "source": [
    "top10_pivot"
   ]
  },
  {
   "cell_type": "code",
   "execution_count": 59,
   "metadata": {},
   "outputs": [],
   "source": [
    "top10_pivot_with_reset_index = top10_pivot.reset_index()"
   ]
  },
  {
   "cell_type": "code",
   "execution_count": 60,
   "metadata": {},
   "outputs": [
    {
     "data": {
      "text/html": [
       "<div>\n",
       "<style scoped>\n",
       "    .dataframe tbody tr th:only-of-type {\n",
       "        vertical-align: middle;\n",
       "    }\n",
       "\n",
       "    .dataframe tbody tr th {\n",
       "        vertical-align: top;\n",
       "    }\n",
       "\n",
       "    .dataframe thead th {\n",
       "        text-align: right;\n",
       "    }\n",
       "</style>\n",
       "<table border=\"1\" class=\"dataframe\">\n",
       "  <thead>\n",
       "    <tr style=\"text-align: right;\">\n",
       "      <th></th>\n",
       "      <th>platform</th>\n",
       "      <th>total_sales</th>\n",
       "    </tr>\n",
       "  </thead>\n",
       "  <tbody>\n",
       "    <tr>\n",
       "      <th>0</th>\n",
       "      <td>PS2</td>\n",
       "      <td>1233.56</td>\n",
       "    </tr>\n",
       "    <tr>\n",
       "      <th>1</th>\n",
       "      <td>X360</td>\n",
       "      <td>961.24</td>\n",
       "    </tr>\n",
       "    <tr>\n",
       "      <th>2</th>\n",
       "      <td>PS3</td>\n",
       "      <td>931.34</td>\n",
       "    </tr>\n",
       "    <tr>\n",
       "      <th>3</th>\n",
       "      <td>Wii</td>\n",
       "      <td>891.18</td>\n",
       "    </tr>\n",
       "    <tr>\n",
       "      <th>4</th>\n",
       "      <td>DS</td>\n",
       "      <td>802.78</td>\n",
       "    </tr>\n",
       "    <tr>\n",
       "      <th>5</th>\n",
       "      <td>PS</td>\n",
       "      <td>727.58</td>\n",
       "    </tr>\n",
       "    <tr>\n",
       "      <th>6</th>\n",
       "      <td>PS4</td>\n",
       "      <td>314.14</td>\n",
       "    </tr>\n",
       "    <tr>\n",
       "      <th>7</th>\n",
       "      <td>GBA</td>\n",
       "      <td>312.88</td>\n",
       "    </tr>\n",
       "    <tr>\n",
       "      <th>8</th>\n",
       "      <td>PSP</td>\n",
       "      <td>289.53</td>\n",
       "    </tr>\n",
       "    <tr>\n",
       "      <th>9</th>\n",
       "      <td>3DS</td>\n",
       "      <td>257.81</td>\n",
       "    </tr>\n",
       "  </tbody>\n",
       "</table>\n",
       "</div>"
      ],
      "text/plain": [
       "  platform  total_sales\n",
       "0      PS2      1233.56\n",
       "1     X360       961.24\n",
       "2      PS3       931.34\n",
       "3      Wii       891.18\n",
       "4       DS       802.78\n",
       "5       PS       727.58\n",
       "6      PS4       314.14\n",
       "7      GBA       312.88\n",
       "8      PSP       289.53\n",
       "9      3DS       257.81"
      ]
     },
     "execution_count": 60,
     "metadata": {},
     "output_type": "execute_result"
    }
   ],
   "source": [
    "top10_pivot_with_reset_index"
   ]
  },
  {
   "cell_type": "markdown",
   "metadata": {},
   "source": [
    "These are the 10 most popular platforms for games.\n",
    "\n",
    "Now we will find the sales of games per year on each platform:"
   ]
  },
  {
   "cell_type": "code",
   "execution_count": 61,
   "metadata": {},
   "outputs": [],
   "source": [
    "platform_pivot = games.pivot_table(index = ['platform', 'year_of_release'], values = 'total_sales', aggfunc = 'sum')"
   ]
  },
  {
   "cell_type": "code",
   "execution_count": 62,
   "metadata": {},
   "outputs": [
    {
     "data": {
      "text/html": [
       "<div>\n",
       "<style scoped>\n",
       "    .dataframe tbody tr th:only-of-type {\n",
       "        vertical-align: middle;\n",
       "    }\n",
       "\n",
       "    .dataframe tbody tr th {\n",
       "        vertical-align: top;\n",
       "    }\n",
       "\n",
       "    .dataframe thead th {\n",
       "        text-align: right;\n",
       "    }\n",
       "</style>\n",
       "<table border=\"1\" class=\"dataframe\">\n",
       "  <thead>\n",
       "    <tr style=\"text-align: right;\">\n",
       "      <th></th>\n",
       "      <th></th>\n",
       "      <th>total_sales</th>\n",
       "    </tr>\n",
       "    <tr>\n",
       "      <th>platform</th>\n",
       "      <th>year_of_release</th>\n",
       "      <th></th>\n",
       "    </tr>\n",
       "  </thead>\n",
       "  <tbody>\n",
       "    <tr>\n",
       "      <th rowspan=\"10\" valign=\"top\">2600</th>\n",
       "      <th>1980</th>\n",
       "      <td>11.38</td>\n",
       "    </tr>\n",
       "    <tr>\n",
       "      <th>1981</th>\n",
       "      <td>35.68</td>\n",
       "    </tr>\n",
       "    <tr>\n",
       "      <th>1982</th>\n",
       "      <td>28.88</td>\n",
       "    </tr>\n",
       "    <tr>\n",
       "      <th>1983</th>\n",
       "      <td>5.84</td>\n",
       "    </tr>\n",
       "    <tr>\n",
       "      <th>1984</th>\n",
       "      <td>0.27</td>\n",
       "    </tr>\n",
       "    <tr>\n",
       "      <th>1985</th>\n",
       "      <td>0.45</td>\n",
       "    </tr>\n",
       "    <tr>\n",
       "      <th>1986</th>\n",
       "      <td>0.67</td>\n",
       "    </tr>\n",
       "    <tr>\n",
       "      <th>1987</th>\n",
       "      <td>1.94</td>\n",
       "    </tr>\n",
       "    <tr>\n",
       "      <th>1988</th>\n",
       "      <td>0.74</td>\n",
       "    </tr>\n",
       "    <tr>\n",
       "      <th>1989</th>\n",
       "      <td>0.63</td>\n",
       "    </tr>\n",
       "    <tr>\n",
       "      <th rowspan=\"2\" valign=\"top\">3DO</th>\n",
       "      <th>1994</th>\n",
       "      <td>0.02</td>\n",
       "    </tr>\n",
       "    <tr>\n",
       "      <th>1995</th>\n",
       "      <td>0.08</td>\n",
       "    </tr>\n",
       "    <tr>\n",
       "      <th rowspan=\"3\" valign=\"top\">3DS</th>\n",
       "      <th>2011</th>\n",
       "      <td>63.20</td>\n",
       "    </tr>\n",
       "    <tr>\n",
       "      <th>2012</th>\n",
       "      <td>51.36</td>\n",
       "    </tr>\n",
       "    <tr>\n",
       "      <th>2013</th>\n",
       "      <td>56.57</td>\n",
       "    </tr>\n",
       "  </tbody>\n",
       "</table>\n",
       "</div>"
      ],
      "text/plain": [
       "                          total_sales\n",
       "platform year_of_release             \n",
       "2600     1980                   11.38\n",
       "         1981                   35.68\n",
       "         1982                   28.88\n",
       "         1983                    5.84\n",
       "         1984                    0.27\n",
       "         1985                    0.45\n",
       "         1986                    0.67\n",
       "         1987                    1.94\n",
       "         1988                    0.74\n",
       "         1989                    0.63\n",
       "3DO      1994                    0.02\n",
       "         1995                    0.08\n",
       "3DS      2011                   63.20\n",
       "         2012                   51.36\n",
       "         2013                   56.57"
      ]
     },
     "execution_count": 62,
     "metadata": {},
     "output_type": "execute_result"
    }
   ],
   "source": [
    "platform_pivot.head(15)"
   ]
  },
  {
   "cell_type": "code",
   "execution_count": 63,
   "metadata": {},
   "outputs": [],
   "source": [
    "platform_pivot_with_reset_index = platform_pivot.reset_index()"
   ]
  },
  {
   "cell_type": "code",
   "execution_count": 64,
   "metadata": {},
   "outputs": [
    {
     "data": {
      "text/html": [
       "<div>\n",
       "<style scoped>\n",
       "    .dataframe tbody tr th:only-of-type {\n",
       "        vertical-align: middle;\n",
       "    }\n",
       "\n",
       "    .dataframe tbody tr th {\n",
       "        vertical-align: top;\n",
       "    }\n",
       "\n",
       "    .dataframe thead th {\n",
       "        text-align: right;\n",
       "    }\n",
       "</style>\n",
       "<table border=\"1\" class=\"dataframe\">\n",
       "  <thead>\n",
       "    <tr style=\"text-align: right;\">\n",
       "      <th></th>\n",
       "      <th>platform</th>\n",
       "      <th>year_of_release</th>\n",
       "      <th>total_sales</th>\n",
       "    </tr>\n",
       "  </thead>\n",
       "  <tbody>\n",
       "    <tr>\n",
       "      <th>0</th>\n",
       "      <td>2600</td>\n",
       "      <td>1980</td>\n",
       "      <td>11.38</td>\n",
       "    </tr>\n",
       "    <tr>\n",
       "      <th>1</th>\n",
       "      <td>2600</td>\n",
       "      <td>1981</td>\n",
       "      <td>35.68</td>\n",
       "    </tr>\n",
       "    <tr>\n",
       "      <th>2</th>\n",
       "      <td>2600</td>\n",
       "      <td>1982</td>\n",
       "      <td>28.88</td>\n",
       "    </tr>\n",
       "    <tr>\n",
       "      <th>3</th>\n",
       "      <td>2600</td>\n",
       "      <td>1983</td>\n",
       "      <td>5.84</td>\n",
       "    </tr>\n",
       "    <tr>\n",
       "      <th>4</th>\n",
       "      <td>2600</td>\n",
       "      <td>1984</td>\n",
       "      <td>0.27</td>\n",
       "    </tr>\n",
       "    <tr>\n",
       "      <th>5</th>\n",
       "      <td>2600</td>\n",
       "      <td>1985</td>\n",
       "      <td>0.45</td>\n",
       "    </tr>\n",
       "    <tr>\n",
       "      <th>6</th>\n",
       "      <td>2600</td>\n",
       "      <td>1986</td>\n",
       "      <td>0.67</td>\n",
       "    </tr>\n",
       "    <tr>\n",
       "      <th>7</th>\n",
       "      <td>2600</td>\n",
       "      <td>1987</td>\n",
       "      <td>1.94</td>\n",
       "    </tr>\n",
       "    <tr>\n",
       "      <th>8</th>\n",
       "      <td>2600</td>\n",
       "      <td>1988</td>\n",
       "      <td>0.74</td>\n",
       "    </tr>\n",
       "    <tr>\n",
       "      <th>9</th>\n",
       "      <td>2600</td>\n",
       "      <td>1989</td>\n",
       "      <td>0.63</td>\n",
       "    </tr>\n",
       "    <tr>\n",
       "      <th>10</th>\n",
       "      <td>3DO</td>\n",
       "      <td>1994</td>\n",
       "      <td>0.02</td>\n",
       "    </tr>\n",
       "    <tr>\n",
       "      <th>11</th>\n",
       "      <td>3DO</td>\n",
       "      <td>1995</td>\n",
       "      <td>0.08</td>\n",
       "    </tr>\n",
       "    <tr>\n",
       "      <th>12</th>\n",
       "      <td>3DS</td>\n",
       "      <td>2011</td>\n",
       "      <td>63.20</td>\n",
       "    </tr>\n",
       "    <tr>\n",
       "      <th>13</th>\n",
       "      <td>3DS</td>\n",
       "      <td>2012</td>\n",
       "      <td>51.36</td>\n",
       "    </tr>\n",
       "    <tr>\n",
       "      <th>14</th>\n",
       "      <td>3DS</td>\n",
       "      <td>2013</td>\n",
       "      <td>56.57</td>\n",
       "    </tr>\n",
       "  </tbody>\n",
       "</table>\n",
       "</div>"
      ],
      "text/plain": [
       "   platform  year_of_release  total_sales\n",
       "0      2600             1980        11.38\n",
       "1      2600             1981        35.68\n",
       "2      2600             1982        28.88\n",
       "3      2600             1983         5.84\n",
       "4      2600             1984         0.27\n",
       "5      2600             1985         0.45\n",
       "6      2600             1986         0.67\n",
       "7      2600             1987         1.94\n",
       "8      2600             1988         0.74\n",
       "9      2600             1989         0.63\n",
       "10      3DO             1994         0.02\n",
       "11      3DO             1995         0.08\n",
       "12      3DS             2011        63.20\n",
       "13      3DS             2012        51.36\n",
       "14      3DS             2013        56.57"
      ]
     },
     "execution_count": 64,
     "metadata": {},
     "output_type": "execute_result"
    }
   ],
   "source": [
    "platform_pivot_with_reset_index.head(15)"
   ]
  },
  {
   "cell_type": "code",
   "execution_count": 65,
   "metadata": {},
   "outputs": [
    {
     "data": {
      "text/plain": [
       "238"
      ]
     },
     "execution_count": 65,
     "metadata": {},
     "output_type": "execute_result"
    }
   ],
   "source": [
    "len(platform_pivot_with_reset_index)"
   ]
  },
  {
   "cell_type": "markdown",
   "metadata": {},
   "source": [
    "This table above includes data of all the platforms.  However, we are going to plot distributions only for the 10 with the highest total sales."
   ]
  },
  {
   "cell_type": "code",
   "execution_count": 66,
   "metadata": {},
   "outputs": [],
   "source": [
    "top10_platforms = top10_pivot_with_reset_index['platform']"
   ]
  },
  {
   "cell_type": "code",
   "execution_count": 67,
   "metadata": {},
   "outputs": [
    {
     "data": {
      "image/png": "[encoded data removed]",
      "text/plain": [
       "<Figure size 432x288 with 1 Axes>"
      ]
     },
     "metadata": {
      "needs_background": "light"
     },
     "output_type": "display_data"
    },
    {
     "data": {
      "image/png": "[encoded data removed]",
      "text/plain": [
       "<Figure size 432x288 with 1 Axes>"
      ]
     },
     "metadata": {
      "needs_background": "light"
     },
     "output_type": "display_data"
    },
    {
     "data": {
      "image/png": "[encoded data removed]",
      "text/plain": [
       "<Figure size 432x288 with 1 Axes>"
      ]
     },
     "metadata": {
      "needs_background": "light"
     },
     "output_type": "display_data"
    },
    {
     "data": {
      "image/png": "[encoded data removed]",
      "text/plain": [
       "<Figure size 432x288 with 1 Axes>"
      ]
     },
     "metadata": {
      "needs_background": "light"
     },
     "output_type": "display_data"
    },
    {
     "data": {
      "image/png": "[encoded data removed]",
      "text/plain": [
       "<Figure size 432x288 with 1 Axes>"
      ]
     },
     "metadata": {
      "needs_background": "light"
     },
     "output_type": "display_data"
    },
    {
     "data": {
      "image/png": "[encoded data removed]",
      "text/plain": [
       "<Figure size 432x288 with 1 Axes>"
      ]
     },
     "metadata": {
      "needs_background": "light"
     },
     "output_type": "display_data"
    },
    {
     "data": {
      "image/png": "[encoded data removed]",
      "text/plain": [
       "<Figure size 432x288 with 1 Axes>"
      ]
     },
     "metadata": {
      "needs_background": "light"
     },
     "output_type": "display_data"
    },
    {
     "data": {
      "image/png": "[encoded data removed]",
      "text/plain": [
       "<Figure size 432x288 with 1 Axes>"
      ]
     },
     "metadata": {
      "needs_background": "light"
     },
     "output_type": "display_data"
    },
    {
     "data": {
      "image/png": "[encoded data removed]",
      "text/plain": [
       "<Figure size 432x288 with 1 Axes>"
      ]
     },
     "metadata": {
      "needs_background": "light"
     },
     "output_type": "display_data"
    },
    {
     "data": {
      "image/png": "[encoded data removed]",
      "text/plain": [
       "<Figure size 432x288 with 1 Axes>"
      ]
     },
     "metadata": {
      "needs_background": "light"
     },
     "output_type": "display_data"
    }
   ],
   "source": [
    "for platform in top10_platforms:\n",
    "    platform_pivot_with_reset_index[platform_pivot_with_reset_index['platform'] == platform].plot(x = 'year_of_release', y = 'total_sales', style = 'o', linestyle = 'solid')\n",
    "    plt.title('Total sales by year')\n",
    "    plt.xlabel('Year of Release')\n",
    "    plt.ylabel('USD Million')\n",
    "    plt.legend([platform])\n",
    "    plt.show()"
   ]
  },
  {
   "cell_type": "markdown",
   "metadata": {},
   "source": [
    "With the exception of the PS4 platform, the total sales of all platforms in the top 10 had sales approaching zero at the end of 2016. The life of a platform generally appears to be between 6-10 years."
   ]
  },
  {
   "cell_type": "markdown",
   "metadata": {},
   "source": [
    "## Determining the Lifespan of Games"
   ]
  },
  {
   "cell_type": "markdown",
   "metadata": {},
   "source": [
    "As we noted above, based on the graphs above, it appears that life of a platform generally appears to be between 6-10 years.\n",
    "\n",
    "Let's look more closely at sales of specific games and see how long their lifespan is:\n",
    "\n",
    "We will look at the best selling games in 2012, 2013 and 2014:"
   ]
  },
  {
   "cell_type": "code",
   "execution_count": 68,
   "metadata": {},
   "outputs": [
    {
     "data": {
      "text/html": [
       "<div>\n",
       "<style scoped>\n",
       "    .dataframe tbody tr th:only-of-type {\n",
       "        vertical-align: middle;\n",
       "    }\n",
       "\n",
       "    .dataframe tbody tr th {\n",
       "        vertical-align: top;\n",
       "    }\n",
       "\n",
       "    .dataframe thead th {\n",
       "        text-align: right;\n",
       "    }\n",
       "</style>\n",
       "<table border=\"1\" class=\"dataframe\">\n",
       "  <thead>\n",
       "    <tr style=\"text-align: right;\">\n",
       "      <th></th>\n",
       "      <th></th>\n",
       "      <th>total_sales</th>\n",
       "    </tr>\n",
       "    <tr>\n",
       "      <th>name</th>\n",
       "      <th>platform</th>\n",
       "      <th></th>\n",
       "    </tr>\n",
       "  </thead>\n",
       "  <tbody>\n",
       "    <tr>\n",
       "      <th rowspan=\"2\" valign=\"top\">Call of Duty: Black Ops II</th>\n",
       "      <th>PS3</th>\n",
       "      <td>13.79</td>\n",
       "    </tr>\n",
       "    <tr>\n",
       "      <th>X360</th>\n",
       "      <td>13.68</td>\n",
       "    </tr>\n",
       "    <tr>\n",
       "      <th>New Super Mario Bros. 2</th>\n",
       "      <th>3DS</th>\n",
       "      <td>9.90</td>\n",
       "    </tr>\n",
       "    <tr>\n",
       "      <th>Halo 4</th>\n",
       "      <th>X360</th>\n",
       "      <td>9.71</td>\n",
       "    </tr>\n",
       "    <tr>\n",
       "      <th>Animal Crossing: New Leaf</th>\n",
       "      <th>3DS</th>\n",
       "      <td>9.17</td>\n",
       "    </tr>\n",
       "  </tbody>\n",
       "</table>\n",
       "</div>"
      ],
      "text/plain": [
       "                                     total_sales\n",
       "name                       platform             \n",
       "Call of Duty: Black Ops II PS3             13.79\n",
       "                           X360            13.68\n",
       "New Super Mario Bros. 2    3DS              9.90\n",
       "Halo 4                     X360             9.71\n",
       "Animal Crossing: New Leaf  3DS              9.17"
      ]
     },
     "execution_count": 68,
     "metadata": {},
     "output_type": "execute_result"
    }
   ],
   "source": [
    "games.query('year_of_release == 2012').pivot_table(index = ['name', 'platform'], values = 'total_sales', aggfunc = 'sum').sort_values(by = 'total_sales', ascending = False).head(5)"
   ]
  },
  {
   "cell_type": "code",
   "execution_count": 69,
   "metadata": {},
   "outputs": [
    {
     "data": {
      "text/html": [
       "<div>\n",
       "<style scoped>\n",
       "    .dataframe tbody tr th:only-of-type {\n",
       "        vertical-align: middle;\n",
       "    }\n",
       "\n",
       "    .dataframe tbody tr th {\n",
       "        vertical-align: top;\n",
       "    }\n",
       "\n",
       "    .dataframe thead th {\n",
       "        text-align: right;\n",
       "    }\n",
       "</style>\n",
       "<table border=\"1\" class=\"dataframe\">\n",
       "  <thead>\n",
       "    <tr style=\"text-align: right;\">\n",
       "      <th></th>\n",
       "      <th></th>\n",
       "      <th>total_sales</th>\n",
       "    </tr>\n",
       "    <tr>\n",
       "      <th>name</th>\n",
       "      <th>platform</th>\n",
       "      <th></th>\n",
       "    </tr>\n",
       "  </thead>\n",
       "  <tbody>\n",
       "    <tr>\n",
       "      <th rowspan=\"2\" valign=\"top\">Grand Theft Auto V</th>\n",
       "      <th>PS3</th>\n",
       "      <td>21.05</td>\n",
       "    </tr>\n",
       "    <tr>\n",
       "      <th>X360</th>\n",
       "      <td>16.27</td>\n",
       "    </tr>\n",
       "    <tr>\n",
       "      <th>Pokemon X/Pokemon Y</th>\n",
       "      <th>3DS</th>\n",
       "      <td>14.60</td>\n",
       "    </tr>\n",
       "    <tr>\n",
       "      <th rowspan=\"2\" valign=\"top\">Call of Duty: Ghosts</th>\n",
       "      <th>X360</th>\n",
       "      <td>10.24</td>\n",
       "    </tr>\n",
       "    <tr>\n",
       "      <th>PS3</th>\n",
       "      <td>9.36</td>\n",
       "    </tr>\n",
       "  </tbody>\n",
       "</table>\n",
       "</div>"
      ],
      "text/plain": [
       "                               total_sales\n",
       "name                 platform             \n",
       "Grand Theft Auto V   PS3             21.05\n",
       "                     X360            16.27\n",
       "Pokemon X/Pokemon Y  3DS             14.60\n",
       "Call of Duty: Ghosts X360            10.24\n",
       "                     PS3              9.36"
      ]
     },
     "execution_count": 69,
     "metadata": {},
     "output_type": "execute_result"
    }
   ],
   "source": [
    "games.query('year_of_release == 2013').pivot_table(index = ['name', 'platform'], values = 'total_sales', aggfunc = 'sum').sort_values(by = 'total_sales', ascending = False).head(5)"
   ]
  },
  {
   "cell_type": "code",
   "execution_count": 70,
   "metadata": {},
   "outputs": [
    {
     "data": {
      "text/html": [
       "<div>\n",
       "<style scoped>\n",
       "    .dataframe tbody tr th:only-of-type {\n",
       "        vertical-align: middle;\n",
       "    }\n",
       "\n",
       "    .dataframe tbody tr th {\n",
       "        vertical-align: top;\n",
       "    }\n",
       "\n",
       "    .dataframe thead th {\n",
       "        text-align: right;\n",
       "    }\n",
       "</style>\n",
       "<table border=\"1\" class=\"dataframe\">\n",
       "  <thead>\n",
       "    <tr style=\"text-align: right;\">\n",
       "      <th></th>\n",
       "      <th></th>\n",
       "      <th>total_sales</th>\n",
       "    </tr>\n",
       "    <tr>\n",
       "      <th>name</th>\n",
       "      <th>platform</th>\n",
       "      <th></th>\n",
       "    </tr>\n",
       "  </thead>\n",
       "  <tbody>\n",
       "    <tr>\n",
       "      <th>Grand Theft Auto V</th>\n",
       "      <th>PS4</th>\n",
       "      <td>12.62</td>\n",
       "    </tr>\n",
       "    <tr>\n",
       "      <th>Pokemon Omega Ruby/Pokemon Alpha Sapphire</th>\n",
       "      <th>3DS</th>\n",
       "      <td>11.68</td>\n",
       "    </tr>\n",
       "    <tr>\n",
       "      <th>Call of Duty: Advanced Warfare</th>\n",
       "      <th>PS4</th>\n",
       "      <td>7.66</td>\n",
       "    </tr>\n",
       "    <tr>\n",
       "      <th>Super Smash Bros. for Wii U and 3DS</th>\n",
       "      <th>3DS</th>\n",
       "      <td>7.55</td>\n",
       "    </tr>\n",
       "    <tr>\n",
       "      <th>Mario Kart 8</th>\n",
       "      <th>WiiU</th>\n",
       "      <td>7.09</td>\n",
       "    </tr>\n",
       "  </tbody>\n",
       "</table>\n",
       "</div>"
      ],
      "text/plain": [
       "                                                    total_sales\n",
       "name                                      platform             \n",
       "Grand Theft Auto V                        PS4             12.62\n",
       "Pokemon Omega Ruby/Pokemon Alpha Sapphire 3DS             11.68\n",
       "Call of Duty: Advanced Warfare            PS4              7.66\n",
       "Super Smash Bros. for Wii U and 3DS       3DS              7.55\n",
       "Mario Kart 8                              WiiU             7.09"
      ]
     },
     "execution_count": 70,
     "metadata": {},
     "output_type": "execute_result"
    }
   ],
   "source": [
    "games.query('year_of_release == 2014').pivot_table(index = ['name', 'platform'], values = 'total_sales', aggfunc = 'sum').sort_values(by = 'total_sales', ascending = False).head(5)"
   ]
  },
  {
   "cell_type": "markdown",
   "metadata": {},
   "source": [
    "With the exception of **Grand Theft Auto V** the top 5 games each year are different in each of these 3 years, which indicates their lifespan is short.\n",
    "\n",
    "Lets look at the total sales of 3 best-selling games: **Grand Theft Auto V**, **Pokemon X/Pokemon Y** and **Call of Duty: Black Ops II**:"
   ]
  },
  {
   "cell_type": "code",
   "execution_count": 71,
   "metadata": {},
   "outputs": [
    {
     "data": {
      "image/png": "[encoded data removed]",
      "text/plain": [
       "<Figure size 432x288 with 1 Axes>"
      ]
     },
     "metadata": {
      "needs_background": "light"
     },
     "output_type": "display_data"
    }
   ],
   "source": [
    "games.query('name == \"Grand Theft Auto V\"').pivot_table(index = ['year_of_release'], values = 'total_sales', aggfunc = 'sum').plot(kind = 'bar')\n",
    "plt.title('Total Sales \"Grand Theft Auto V\" by Year')\n",
    "plt.xlabel('Year of Release')\n",
    "plt.ylabel('USD Million')\n",
    "plt.show()"
   ]
  },
  {
   "cell_type": "code",
   "execution_count": 72,
   "metadata": {},
   "outputs": [
    {
     "data": {
      "image/png": "[encoded data removed]",
      "text/plain": [
       "<Figure size 432x288 with 1 Axes>"
      ]
     },
     "metadata": {
      "needs_background": "light"
     },
     "output_type": "display_data"
    }
   ],
   "source": [
    "games.query('name == \"Pokemon X/Pokemon Y\"').pivot_table(index = ['year_of_release'], values = 'total_sales', aggfunc = 'sum').plot(kind = 'bar')\n",
    "plt.title('Total Sales \"Pokemon X/Pokemon Y\" by Year')\n",
    "plt.xlabel('Year of Release')\n",
    "plt.ylabel('USD Million')\n",
    "plt.show()"
   ]
  },
  {
   "cell_type": "code",
   "execution_count": 73,
   "metadata": {},
   "outputs": [
    {
     "data": {
      "image/png": "[encoded data removed]",
      "text/plain": [
       "<Figure size 432x288 with 1 Axes>"
      ]
     },
     "metadata": {
      "needs_background": "light"
     },
     "output_type": "display_data"
    }
   ],
   "source": [
    "games.query('name == \"Call of Duty: Black Ops II\"').pivot_table(index = ['year_of_release'], values = 'total_sales', aggfunc = 'sum').plot(kind = 'bar')\n",
    "plt.title('Total Sales \"Call of Duty: Black Ops II\" by Year')\n",
    "plt.xlabel('Year of Release')\n",
    "plt.ylabel('USD Million')\n",
    "plt.show()"
   ]
  },
  {
   "cell_type": "markdown",
   "metadata": {},
   "source": [
    "Sales of Grand Theft Auto V lasted 3 years, although sales in the 3rd year (2015) we approaching zero. Sales of the other two games lasted one year only.  \n",
    "\n",
    "Given these findings, we will only use data for our analysis from the 3 years proceeding 2017, ie from 2014 to 2016."
   ]
  },
  {
   "cell_type": "code",
   "execution_count": 74,
   "metadata": {},
   "outputs": [],
   "source": [
    "games_recent = games.query('year_of_release >= 2014')"
   ]
  },
  {
   "cell_type": "code",
   "execution_count": 75,
   "metadata": {},
   "outputs": [
    {
     "data": {
      "text/plain": [
       "2014"
      ]
     },
     "execution_count": 75,
     "metadata": {},
     "output_type": "execute_result"
    }
   ],
   "source": [
    "games_recent['year_of_release'].min()"
   ]
  },
  {
   "cell_type": "markdown",
   "metadata": {},
   "source": [
    "### Sales Analysis"
   ]
  },
  {
   "cell_type": "markdown",
   "metadata": {},
   "source": [
    "We explore the sales of games released in 2014 and onwards:"
   ]
  },
  {
   "cell_type": "code",
   "execution_count": 76,
   "metadata": {},
   "outputs": [],
   "source": [
    "games_recent_pivot = games_recent.pivot_table(index = ['platform', 'year_of_release'], values = 'total_sales', aggfunc = 'sum')"
   ]
  },
  {
   "cell_type": "code",
   "execution_count": 77,
   "metadata": {},
   "outputs": [],
   "source": [
    "games_recent_pivot_with_reset_index = games_recent_pivot.reset_index()"
   ]
  },
  {
   "cell_type": "code",
   "execution_count": 78,
   "metadata": {},
   "outputs": [
    {
     "data": {
      "text/html": [
       "<div>\n",
       "<style scoped>\n",
       "    .dataframe tbody tr th:only-of-type {\n",
       "        vertical-align: middle;\n",
       "    }\n",
       "\n",
       "    .dataframe tbody tr th {\n",
       "        vertical-align: top;\n",
       "    }\n",
       "\n",
       "    .dataframe thead th {\n",
       "        text-align: right;\n",
       "    }\n",
       "</style>\n",
       "<table border=\"1\" class=\"dataframe\">\n",
       "  <thead>\n",
       "    <tr style=\"text-align: right;\">\n",
       "      <th></th>\n",
       "      <th>platform</th>\n",
       "      <th>year_of_release</th>\n",
       "      <th>total_sales</th>\n",
       "    </tr>\n",
       "  </thead>\n",
       "  <tbody>\n",
       "    <tr>\n",
       "      <th>0</th>\n",
       "      <td>3DS</td>\n",
       "      <td>2014</td>\n",
       "      <td>43.76</td>\n",
       "    </tr>\n",
       "    <tr>\n",
       "      <th>1</th>\n",
       "      <td>3DS</td>\n",
       "      <td>2015</td>\n",
       "      <td>27.78</td>\n",
       "    </tr>\n",
       "    <tr>\n",
       "      <th>2</th>\n",
       "      <td>3DS</td>\n",
       "      <td>2016</td>\n",
       "      <td>15.14</td>\n",
       "    </tr>\n",
       "    <tr>\n",
       "      <th>3</th>\n",
       "      <td>PC</td>\n",
       "      <td>2014</td>\n",
       "      <td>13.28</td>\n",
       "    </tr>\n",
       "    <tr>\n",
       "      <th>4</th>\n",
       "      <td>PC</td>\n",
       "      <td>2015</td>\n",
       "      <td>8.52</td>\n",
       "    </tr>\n",
       "    <tr>\n",
       "      <th>5</th>\n",
       "      <td>PC</td>\n",
       "      <td>2016</td>\n",
       "      <td>5.25</td>\n",
       "    </tr>\n",
       "    <tr>\n",
       "      <th>6</th>\n",
       "      <td>PS3</td>\n",
       "      <td>2014</td>\n",
       "      <td>47.76</td>\n",
       "    </tr>\n",
       "    <tr>\n",
       "      <th>7</th>\n",
       "      <td>PS3</td>\n",
       "      <td>2015</td>\n",
       "      <td>16.82</td>\n",
       "    </tr>\n",
       "    <tr>\n",
       "      <th>8</th>\n",
       "      <td>PS3</td>\n",
       "      <td>2016</td>\n",
       "      <td>3.60</td>\n",
       "    </tr>\n",
       "    <tr>\n",
       "      <th>9</th>\n",
       "      <td>PS4</td>\n",
       "      <td>2014</td>\n",
       "      <td>100.00</td>\n",
       "    </tr>\n",
       "  </tbody>\n",
       "</table>\n",
       "</div>"
      ],
      "text/plain": [
       "  platform  year_of_release  total_sales\n",
       "0      3DS             2014        43.76\n",
       "1      3DS             2015        27.78\n",
       "2      3DS             2016        15.14\n",
       "3       PC             2014        13.28\n",
       "4       PC             2015         8.52\n",
       "5       PC             2016         5.25\n",
       "6      PS3             2014        47.76\n",
       "7      PS3             2015        16.82\n",
       "8      PS3             2016         3.60\n",
       "9      PS4             2014       100.00"
      ]
     },
     "execution_count": 78,
     "metadata": {},
     "output_type": "execute_result"
    }
   ],
   "source": [
    "games_recent_pivot_with_reset_index.head(10)"
   ]
  },
  {
   "cell_type": "code",
   "execution_count": 79,
   "metadata": {},
   "outputs": [
    {
     "data": {
      "text/plain": [
       "3DS     3\n",
       "PC      3\n",
       "PS3     3\n",
       "PS4     3\n",
       "PSV     3\n",
       "Wii     3\n",
       "WiiU    3\n",
       "X360    3\n",
       "XOne    3\n",
       "PSP     2\n",
       "Name: platform, dtype: int64"
      ]
     },
     "execution_count": 79,
     "metadata": {},
     "output_type": "execute_result"
    }
   ],
   "source": [
    "games_recent_pivot_with_reset_index['platform'].value_counts()"
   ]
  },
  {
   "cell_type": "code",
   "execution_count": 80,
   "metadata": {},
   "outputs": [
    {
     "data": {
      "image/png": "[encoded data removed]",
      "text/plain": [
       "<Figure size 432x288 with 1 Axes>"
      ]
     },
     "metadata": {
      "needs_background": "light"
     },
     "output_type": "display_data"
    },
    {
     "data": {
      "image/png": "[encoded data removed]",
      "text/plain": [
       "<Figure size 432x288 with 1 Axes>"
      ]
     },
     "metadata": {
      "needs_background": "light"
     },
     "output_type": "display_data"
    },
    {
     "data": {
      "image/png": "[encoded data removed]",
      "text/plain": [
       "<Figure size 432x288 with 1 Axes>"
      ]
     },
     "metadata": {
      "needs_background": "light"
     },
     "output_type": "display_data"
    },
    {
     "data": {
      "image/png": "[encoded data removed]",
      "text/plain": [
       "<Figure size 432x288 with 1 Axes>"
      ]
     },
     "metadata": {
      "needs_background": "light"
     },
     "output_type": "display_data"
    },
    {
     "data": {
      "image/png": "[encoded data removed]",
      "text/plain": [
       "<Figure size 432x288 with 1 Axes>"
      ]
     },
     "metadata": {
      "needs_background": "light"
     },
     "output_type": "display_data"
    },
    {
     "data": {
      "image/png": "[encoded data removed]",
      "text/plain": [
       "<Figure size 432x288 with 1 Axes>"
      ]
     },
     "metadata": {
      "needs_background": "light"
     },
     "output_type": "display_data"
    },
    {
     "data": {
      "image/png": "[encoded data removed]",
      "text/plain": [
       "<Figure size 432x288 with 1 Axes>"
      ]
     },
     "metadata": {
      "needs_background": "light"
     },
     "output_type": "display_data"
    },
    {
     "data": {
      "image/png": "[encoded data removed]",
      "text/plain": [
       "<Figure size 432x288 with 1 Axes>"
      ]
     },
     "metadata": {
      "needs_background": "light"
     },
     "output_type": "display_data"
    },
    {
     "data": {
      "image/png": "[encoded data removed]",
      "text/plain": [
       "<Figure size 432x288 with 1 Axes>"
      ]
     },
     "metadata": {
      "needs_background": "light"
     },
     "output_type": "display_data"
    },
    {
     "data": {
      "image/png": "[encoded data removed]",
      "text/plain": [
       "<Figure size 432x288 with 1 Axes>"
      ]
     },
     "metadata": {
      "needs_background": "light"
     },
     "output_type": "display_data"
    }
   ],
   "source": [
    "for recent_platform in games_recent_pivot_with_reset_index['platform'].unique():\n",
    "    games_recent_pivot_with_reset_index[games_recent_pivot_with_reset_index['platform'] == recent_platform].plot(x = 'year_of_release', y = 'total_sales', style = 'o', linestyle = 'solid')\n",
    "    plt.title('Total sales by year')\n",
    "    plt.xlabel('Year of Release')\n",
    "    plt.ylabel('USD Million')\n",
    "    plt.xlim(2014, 2017)\n",
    "    plt.ylim(0,120)\n",
    "    plt.legend([recent_platform])\n",
    "    plt.show()"
   ]
  },
  {
   "cell_type": "markdown",
   "metadata": {},
   "source": [
    "Which platforms are leading in sales and which are growing or shrinking? It appears that all the platforms in this data set experience declining sales in the 2015 - 2016 period. The most profitable platforms at the end of 2016 appear to be PS4 and XOne."
   ]
  },
  {
   "cell_type": "markdown",
   "metadata": {},
   "source": [
    "### Building a box plot for the global sales of all games"
   ]
  },
  {
   "cell_type": "code",
   "execution_count": 81,
   "metadata": {},
   "outputs": [
    {
     "data": {
      "image/png": "[encoded data removed]",
      "text/plain": [
       "<Figure size 432x288 with 1 Axes>"
      ]
     },
     "metadata": {
      "needs_background": "light"
     },
     "output_type": "display_data"
    }
   ],
   "source": [
    "games_recent_pivot_with_reset_index.boxplot(column = 'total_sales', by = 'platform')\n",
    "plt.show()"
   ]
  },
  {
   "cell_type": "markdown",
   "metadata": {},
   "source": [
    "This box plot shows the global sales of all games, broken down by platform for the 3 years we are considering (2014-2016). The differences in sales are significant. The average (median) annual sales is highest for the PS4 at around 100m USD, followed by the XOne at around 55m USD. Many platforms (including the PC, PSP, PSV, Wii, WiiU and X360) have average annual sales under 20m USD globally."
   ]
  },
  {
   "cell_type": "markdown",
   "metadata": {},
   "source": [
    "### How do User and Professional Reviews affect Sales "
   ]
  },
  {
   "cell_type": "markdown",
   "metadata": {},
   "source": [
    "We will investigate how user and professional reviews affect sales for one popular platform: the PS4. We will build a scatter plot and calculate the correlation between reviews and sales."
   ]
  },
  {
   "cell_type": "code",
   "execution_count": 82,
   "metadata": {},
   "outputs": [
    {
     "data": {
      "text/plain": [
       "count     16444\n",
       "unique       82\n",
       "top         N/A\n",
       "freq       8461\n",
       "Name: critic_score, dtype: object"
      ]
     },
     "execution_count": 82,
     "metadata": {},
     "output_type": "execute_result"
    }
   ],
   "source": [
    "games['critic_score'].describe()"
   ]
  },
  {
   "cell_type": "markdown",
   "metadata": {},
   "source": [
    "First we need to remove the rows that do not have a critic_score:"
   ]
  },
  {
   "cell_type": "code",
   "execution_count": 83,
   "metadata": {},
   "outputs": [
    {
     "data": {
      "text/plain": [
       "(7983, 12)"
      ]
     },
     "execution_count": 83,
     "metadata": {},
     "output_type": "execute_result"
    }
   ],
   "source": [
    "games_non_null_critic = games[games['critic_score'] != 'N/A']\n",
    "games_non_null_critic.shape"
   ]
  },
  {
   "cell_type": "markdown",
   "metadata": {},
   "source": [
    "Now we plot a scatterplot of sales vs critic_score:"
   ]
  },
  {
   "cell_type": "code",
   "execution_count": 84,
   "metadata": {},
   "outputs": [
    {
     "data": {
      "image/png": "[encoded data removed]",
      "text/plain": [
       "<Figure size 432x288 with 1 Axes>"
      ]
     },
     "metadata": {
      "needs_background": "light"
     },
     "output_type": "display_data"
    }
   ],
   "source": [
    "games_non_null_critic.query('platform == \"PS4\"').plot(x='critic_score', y='total_sales', kind='scatter', grid = True)\n",
    "plt.title('Scatterplot of Total Sales vs Critics Score')\n",
    "plt.show()"
   ]
  },
  {
   "cell_type": "markdown",
   "metadata": {},
   "source": [
    "Now we perform the same analysis for the games that received a user_score:"
   ]
  },
  {
   "cell_type": "code",
   "execution_count": 85,
   "metadata": {},
   "outputs": [
    {
     "data": {
      "text/plain": [
       "(7463, 12)"
      ]
     },
     "execution_count": 85,
     "metadata": {},
     "output_type": "execute_result"
    }
   ],
   "source": [
    "games_non_null_user = games[games['user_score'] != 'N/A']\n",
    "games_non_null_user.shape"
   ]
  },
  {
   "cell_type": "code",
   "execution_count": 86,
   "metadata": {},
   "outputs": [
    {
     "data": {
      "image/png": "[encoded data removed]",
      "text/plain": [
       "<Figure size 432x288 with 1 Axes>"
      ]
     },
     "metadata": {
      "needs_background": "light"
     },
     "output_type": "display_data"
    }
   ],
   "source": [
    "games_non_null_user.query('platform == \"PS4\"').plot(x='user_score', y='total_sales', kind='scatter', grid = True)\n",
    "plt.title('Scatterplot of Total Sales vs Users Score')\n",
    "plt.show()"
   ]
  },
  {
   "cell_type": "code",
   "execution_count": 87,
   "metadata": {},
   "outputs": [
    {
     "data": {
      "text/plain": [
       "(6894, 12)"
      ]
     },
     "execution_count": 87,
     "metadata": {},
     "output_type": "execute_result"
    }
   ],
   "source": [
    "games_non_null_review = games[(games['user_score'] != 'N/A') & (games['critic_score'] != 'N/A')]\n",
    "games_non_null_review.shape"
   ]
  },
  {
   "cell_type": "markdown",
   "metadata": {},
   "source": [
    "Changing the data types to numeric in order to perform the correlation operation:"
   ]
  },
  {
   "cell_type": "code",
   "execution_count": 88,
   "metadata": {},
   "outputs": [],
   "source": [
    "games_non_null_review[['user_score', 'critic_score']] = games_non_null_review[['user_score', 'critic_score']].astype('int')"
   ]
  },
  {
   "cell_type": "code",
   "execution_count": 89,
   "metadata": {},
   "outputs": [
    {
     "data": {
      "text/html": [
       "<div>\n",
       "<style scoped>\n",
       "    .dataframe tbody tr th:only-of-type {\n",
       "        vertical-align: middle;\n",
       "    }\n",
       "\n",
       "    .dataframe tbody tr th {\n",
       "        vertical-align: top;\n",
       "    }\n",
       "\n",
       "    .dataframe thead th {\n",
       "        text-align: right;\n",
       "    }\n",
       "</style>\n",
       "<table border=\"1\" class=\"dataframe\">\n",
       "  <thead>\n",
       "    <tr style=\"text-align: right;\">\n",
       "      <th></th>\n",
       "      <th>total_sales</th>\n",
       "      <th>critic_score</th>\n",
       "      <th>user_score</th>\n",
       "    </tr>\n",
       "  </thead>\n",
       "  <tbody>\n",
       "    <tr>\n",
       "      <th>total_sales</th>\n",
       "      <td>1.000000</td>\n",
       "      <td>0.405895</td>\n",
       "      <td>-0.027162</td>\n",
       "    </tr>\n",
       "    <tr>\n",
       "      <th>critic_score</th>\n",
       "      <td>0.405895</td>\n",
       "      <td>1.000000</td>\n",
       "      <td>0.562397</td>\n",
       "    </tr>\n",
       "    <tr>\n",
       "      <th>user_score</th>\n",
       "      <td>-0.027162</td>\n",
       "      <td>0.562397</td>\n",
       "      <td>1.000000</td>\n",
       "    </tr>\n",
       "  </tbody>\n",
       "</table>\n",
       "</div>"
      ],
      "text/plain": [
       "              total_sales  critic_score  user_score\n",
       "total_sales      1.000000      0.405895   -0.027162\n",
       "critic_score     0.405895      1.000000    0.562397\n",
       "user_score      -0.027162      0.562397    1.000000"
      ]
     },
     "execution_count": 89,
     "metadata": {},
     "output_type": "execute_result"
    }
   ],
   "source": [
    "games_non_null_review[['total_sales', 'critic_score', 'user_score', 'platform']].query('platform == \"PS4\"').corr()"
   ]
  },
  {
   "cell_type": "markdown",
   "metadata": {},
   "source": [
    "For the PS4 platform, there is a positive correlation between critic_score and total_sales of 0.406. However, there is no significant correlation between user_score and total_sales. We conclude therefore that critics reviews do effect sales but that user reviews are less important for games sales.  \n",
    "\n",
    "We can also see these findings reflected in the two scatterplots above where there is a general upward trend in the points of the first graph, but much less so in the second graph."
   ]
  },
  {
   "cell_type": "markdown",
   "metadata": {},
   "source": [
    "### Comparing the Sales of the Same Games on different Platforms"
   ]
  },
  {
   "cell_type": "markdown",
   "metadata": {},
   "source": [
    "To do this we first find the bestselling games:"
   ]
  },
  {
   "cell_type": "code",
   "execution_count": 90,
   "metadata": {},
   "outputs": [
    {
     "data": {
      "text/html": [
       "<div>\n",
       "<style scoped>\n",
       "    .dataframe tbody tr th:only-of-type {\n",
       "        vertical-align: middle;\n",
       "    }\n",
       "\n",
       "    .dataframe tbody tr th {\n",
       "        vertical-align: top;\n",
       "    }\n",
       "\n",
       "    .dataframe thead th {\n",
       "        text-align: right;\n",
       "    }\n",
       "</style>\n",
       "<table border=\"1\" class=\"dataframe\">\n",
       "  <thead>\n",
       "    <tr style=\"text-align: right;\">\n",
       "      <th></th>\n",
       "      <th>total_sales</th>\n",
       "    </tr>\n",
       "    <tr>\n",
       "      <th>name</th>\n",
       "      <th></th>\n",
       "    </tr>\n",
       "  </thead>\n",
       "  <tbody>\n",
       "    <tr>\n",
       "      <th>Wii Sports</th>\n",
       "      <td>82.54</td>\n",
       "    </tr>\n",
       "    <tr>\n",
       "      <th>Grand Theft Auto V</th>\n",
       "      <td>56.58</td>\n",
       "    </tr>\n",
       "    <tr>\n",
       "      <th>Super Mario Bros.</th>\n",
       "      <td>45.31</td>\n",
       "    </tr>\n",
       "    <tr>\n",
       "      <th>Tetris</th>\n",
       "      <td>35.84</td>\n",
       "    </tr>\n",
       "    <tr>\n",
       "      <th>Mario Kart Wii</th>\n",
       "      <td>35.52</td>\n",
       "    </tr>\n",
       "    <tr>\n",
       "      <th>Wii Sports Resort</th>\n",
       "      <td>32.77</td>\n",
       "    </tr>\n",
       "    <tr>\n",
       "      <th>Pokemon Red/Pokemon Blue</th>\n",
       "      <td>31.38</td>\n",
       "    </tr>\n",
       "    <tr>\n",
       "      <th>Call of Duty: Modern Warfare 3</th>\n",
       "      <td>30.60</td>\n",
       "    </tr>\n",
       "    <tr>\n",
       "      <th>New Super Mario Bros.</th>\n",
       "      <td>29.80</td>\n",
       "    </tr>\n",
       "    <tr>\n",
       "      <th>Call of Duty: Black Ops II</th>\n",
       "      <td>29.40</td>\n",
       "    </tr>\n",
       "  </tbody>\n",
       "</table>\n",
       "</div>"
      ],
      "text/plain": [
       "                                total_sales\n",
       "name                                       \n",
       "Wii Sports                            82.54\n",
       "Grand Theft Auto V                    56.58\n",
       "Super Mario Bros.                     45.31\n",
       "Tetris                                35.84\n",
       "Mario Kart Wii                        35.52\n",
       "Wii Sports Resort                     32.77\n",
       "Pokemon Red/Pokemon Blue              31.38\n",
       "Call of Duty: Modern Warfare 3        30.60\n",
       "New Super Mario Bros.                 29.80\n",
       "Call of Duty: Black Ops II            29.40"
      ]
     },
     "execution_count": 90,
     "metadata": {},
     "output_type": "execute_result"
    }
   ],
   "source": [
    "games.pivot_table(index = 'name', values = 'total_sales', aggfunc = 'sum').sort_values(by = 'total_sales', ascending = False).head(10)"
   ]
  },
  {
   "cell_type": "markdown",
   "metadata": {},
   "source": [
    "Now let's see how the sales of these games compare across platforms and if these sales correlate positively with critics score and user score:"
   ]
  },
  {
   "cell_type": "code",
   "execution_count": 91,
   "metadata": {},
   "outputs": [
    {
     "data": {
      "text/html": [
       "<div>\n",
       "<style scoped>\n",
       "    .dataframe tbody tr th:only-of-type {\n",
       "        vertical-align: middle;\n",
       "    }\n",
       "\n",
       "    .dataframe tbody tr th {\n",
       "        vertical-align: top;\n",
       "    }\n",
       "\n",
       "    .dataframe thead th {\n",
       "        text-align: right;\n",
       "    }\n",
       "</style>\n",
       "<table border=\"1\" class=\"dataframe\">\n",
       "  <thead>\n",
       "    <tr style=\"text-align: right;\">\n",
       "      <th></th>\n",
       "      <th>name</th>\n",
       "      <th>platform</th>\n",
       "      <th>year_of_release</th>\n",
       "      <th>genre</th>\n",
       "      <th>na_sales</th>\n",
       "      <th>eu_sales</th>\n",
       "      <th>jp_sales</th>\n",
       "      <th>other_sales</th>\n",
       "      <th>critic_score</th>\n",
       "      <th>user_score</th>\n",
       "      <th>rating</th>\n",
       "      <th>total_sales</th>\n",
       "    </tr>\n",
       "  </thead>\n",
       "  <tbody>\n",
       "    <tr>\n",
       "      <th>0</th>\n",
       "      <td>Wii Sports</td>\n",
       "      <td>Wii</td>\n",
       "      <td>2006</td>\n",
       "      <td>Sports</td>\n",
       "      <td>41.36</td>\n",
       "      <td>28.96</td>\n",
       "      <td>3.77</td>\n",
       "      <td>8.45</td>\n",
       "      <td>76.0</td>\n",
       "      <td>8.0</td>\n",
       "      <td>E</td>\n",
       "      <td>82.54</td>\n",
       "    </tr>\n",
       "  </tbody>\n",
       "</table>\n",
       "</div>"
      ],
      "text/plain": [
       "         name platform  year_of_release   genre  na_sales  eu_sales  jp_sales  \\\n",
       "0  Wii Sports      Wii             2006  Sports     41.36     28.96      3.77   \n",
       "\n",
       "   other_sales critic_score user_score rating  total_sales  \n",
       "0         8.45         76.0        8.0      E        82.54  "
      ]
     },
     "execution_count": 91,
     "metadata": {},
     "output_type": "execute_result"
    }
   ],
   "source": [
    "games.query('name == \"Wii Sports\"')"
   ]
  },
  {
   "cell_type": "markdown",
   "metadata": {},
   "source": [
    "As we would expect, this game is only available on the W11 platform.  Lets try a few others:"
   ]
  },
  {
   "cell_type": "code",
   "execution_count": 92,
   "metadata": {},
   "outputs": [
    {
     "data": {
      "text/html": [
       "<div>\n",
       "<style scoped>\n",
       "    .dataframe tbody tr th:only-of-type {\n",
       "        vertical-align: middle;\n",
       "    }\n",
       "\n",
       "    .dataframe tbody tr th {\n",
       "        vertical-align: top;\n",
       "    }\n",
       "\n",
       "    .dataframe thead th {\n",
       "        text-align: right;\n",
       "    }\n",
       "</style>\n",
       "<table border=\"1\" class=\"dataframe\">\n",
       "  <thead>\n",
       "    <tr style=\"text-align: right;\">\n",
       "      <th></th>\n",
       "      <th>name</th>\n",
       "      <th>platform</th>\n",
       "      <th>year_of_release</th>\n",
       "      <th>genre</th>\n",
       "      <th>na_sales</th>\n",
       "      <th>eu_sales</th>\n",
       "      <th>jp_sales</th>\n",
       "      <th>other_sales</th>\n",
       "      <th>critic_score</th>\n",
       "      <th>user_score</th>\n",
       "      <th>rating</th>\n",
       "      <th>total_sales</th>\n",
       "    </tr>\n",
       "  </thead>\n",
       "  <tbody>\n",
       "    <tr>\n",
       "      <th>16</th>\n",
       "      <td>Grand Theft Auto V</td>\n",
       "      <td>PS3</td>\n",
       "      <td>2013</td>\n",
       "      <td>Action</td>\n",
       "      <td>7.02</td>\n",
       "      <td>9.09</td>\n",
       "      <td>0.98</td>\n",
       "      <td>3.96</td>\n",
       "      <td>97.0</td>\n",
       "      <td>8.2</td>\n",
       "      <td>M</td>\n",
       "      <td>21.05</td>\n",
       "    </tr>\n",
       "    <tr>\n",
       "      <th>23</th>\n",
       "      <td>Grand Theft Auto V</td>\n",
       "      <td>X360</td>\n",
       "      <td>2013</td>\n",
       "      <td>Action</td>\n",
       "      <td>9.66</td>\n",
       "      <td>5.14</td>\n",
       "      <td>0.06</td>\n",
       "      <td>1.41</td>\n",
       "      <td>97.0</td>\n",
       "      <td>8.1</td>\n",
       "      <td>M</td>\n",
       "      <td>16.27</td>\n",
       "    </tr>\n",
       "    <tr>\n",
       "      <th>42</th>\n",
       "      <td>Grand Theft Auto V</td>\n",
       "      <td>PS4</td>\n",
       "      <td>2014</td>\n",
       "      <td>Action</td>\n",
       "      <td>3.96</td>\n",
       "      <td>6.31</td>\n",
       "      <td>0.38</td>\n",
       "      <td>1.97</td>\n",
       "      <td>97.0</td>\n",
       "      <td>8.3</td>\n",
       "      <td>M</td>\n",
       "      <td>12.62</td>\n",
       "    </tr>\n",
       "    <tr>\n",
       "      <th>165</th>\n",
       "      <td>Grand Theft Auto V</td>\n",
       "      <td>XOne</td>\n",
       "      <td>2014</td>\n",
       "      <td>Action</td>\n",
       "      <td>2.81</td>\n",
       "      <td>2.19</td>\n",
       "      <td>0.00</td>\n",
       "      <td>0.47</td>\n",
       "      <td>97.0</td>\n",
       "      <td>7.9</td>\n",
       "      <td>M</td>\n",
       "      <td>5.47</td>\n",
       "    </tr>\n",
       "    <tr>\n",
       "      <th>1730</th>\n",
       "      <td>Grand Theft Auto V</td>\n",
       "      <td>PC</td>\n",
       "      <td>2015</td>\n",
       "      <td>Action</td>\n",
       "      <td>0.39</td>\n",
       "      <td>0.69</td>\n",
       "      <td>0.00</td>\n",
       "      <td>0.09</td>\n",
       "      <td>96.0</td>\n",
       "      <td>7.9</td>\n",
       "      <td>M</td>\n",
       "      <td>1.17</td>\n",
       "    </tr>\n",
       "  </tbody>\n",
       "</table>\n",
       "</div>"
      ],
      "text/plain": [
       "                    name platform  year_of_release   genre  na_sales  \\\n",
       "16    Grand Theft Auto V      PS3             2013  Action      7.02   \n",
       "23    Grand Theft Auto V     X360             2013  Action      9.66   \n",
       "42    Grand Theft Auto V      PS4             2014  Action      3.96   \n",
       "165   Grand Theft Auto V     XOne             2014  Action      2.81   \n",
       "1730  Grand Theft Auto V       PC             2015  Action      0.39   \n",
       "\n",
       "      eu_sales  jp_sales  other_sales critic_score user_score rating  \\\n",
       "16        9.09      0.98         3.96         97.0        8.2      M   \n",
       "23        5.14      0.06         1.41         97.0        8.1      M   \n",
       "42        6.31      0.38         1.97         97.0        8.3      M   \n",
       "165       2.19      0.00         0.47         97.0        7.9      M   \n",
       "1730      0.69      0.00         0.09         96.0        7.9      M   \n",
       "\n",
       "      total_sales  \n",
       "16          21.05  \n",
       "23          16.27  \n",
       "42          12.62  \n",
       "165          5.47  \n",
       "1730         1.17  "
      ]
     },
     "execution_count": 92,
     "metadata": {},
     "output_type": "execute_result"
    }
   ],
   "source": [
    "games.query('name == \"Grand Theft Auto V\"')"
   ]
  },
  {
   "cell_type": "markdown",
   "metadata": {},
   "source": [
    "We see here that this game (Grand Theft Auto V) is available on 5 platforms.  Critics score is equally high on all platforms, though user score varies a little."
   ]
  },
  {
   "cell_type": "code",
   "execution_count": 93,
   "metadata": {},
   "outputs": [
    {
     "data": {
      "text/html": [
       "<div>\n",
       "<style scoped>\n",
       "    .dataframe tbody tr th:only-of-type {\n",
       "        vertical-align: middle;\n",
       "    }\n",
       "\n",
       "    .dataframe tbody tr th {\n",
       "        vertical-align: top;\n",
       "    }\n",
       "\n",
       "    .dataframe thead th {\n",
       "        text-align: right;\n",
       "    }\n",
       "</style>\n",
       "<table border=\"1\" class=\"dataframe\">\n",
       "  <thead>\n",
       "    <tr style=\"text-align: right;\">\n",
       "      <th></th>\n",
       "      <th>name</th>\n",
       "      <th>platform</th>\n",
       "      <th>year_of_release</th>\n",
       "      <th>genre</th>\n",
       "      <th>na_sales</th>\n",
       "      <th>eu_sales</th>\n",
       "      <th>jp_sales</th>\n",
       "      <th>other_sales</th>\n",
       "      <th>critic_score</th>\n",
       "      <th>user_score</th>\n",
       "      <th>rating</th>\n",
       "      <th>total_sales</th>\n",
       "    </tr>\n",
       "  </thead>\n",
       "  <tbody>\n",
       "    <tr>\n",
       "      <th>29</th>\n",
       "      <td>Call of Duty: Modern Warfare 3</td>\n",
       "      <td>X360</td>\n",
       "      <td>2011</td>\n",
       "      <td>Shooter</td>\n",
       "      <td>9.04</td>\n",
       "      <td>4.24</td>\n",
       "      <td>0.13</td>\n",
       "      <td>1.32</td>\n",
       "      <td>88.0</td>\n",
       "      <td>3.4</td>\n",
       "      <td>M</td>\n",
       "      <td>14.73</td>\n",
       "    </tr>\n",
       "    <tr>\n",
       "      <th>37</th>\n",
       "      <td>Call of Duty: Modern Warfare 3</td>\n",
       "      <td>PS3</td>\n",
       "      <td>2011</td>\n",
       "      <td>Shooter</td>\n",
       "      <td>5.54</td>\n",
       "      <td>5.73</td>\n",
       "      <td>0.49</td>\n",
       "      <td>1.57</td>\n",
       "      <td>88.0</td>\n",
       "      <td>3.2</td>\n",
       "      <td>M</td>\n",
       "      <td>13.33</td>\n",
       "    </tr>\n",
       "    <tr>\n",
       "      <th>1040</th>\n",
       "      <td>Call of Duty: Modern Warfare 3</td>\n",
       "      <td>PC</td>\n",
       "      <td>2011</td>\n",
       "      <td>Shooter</td>\n",
       "      <td>0.41</td>\n",
       "      <td>0.98</td>\n",
       "      <td>0.00</td>\n",
       "      <td>0.32</td>\n",
       "      <td>78.0</td>\n",
       "      <td>2.5</td>\n",
       "      <td>M</td>\n",
       "      <td>1.71</td>\n",
       "    </tr>\n",
       "    <tr>\n",
       "      <th>2500</th>\n",
       "      <td>Call of Duty: Modern Warfare 3</td>\n",
       "      <td>Wii</td>\n",
       "      <td>2011</td>\n",
       "      <td>Shooter</td>\n",
       "      <td>0.55</td>\n",
       "      <td>0.20</td>\n",
       "      <td>0.00</td>\n",
       "      <td>0.08</td>\n",
       "      <td>70.0</td>\n",
       "      <td>1.8</td>\n",
       "      <td>M</td>\n",
       "      <td>0.83</td>\n",
       "    </tr>\n",
       "  </tbody>\n",
       "</table>\n",
       "</div>"
      ],
      "text/plain": [
       "                                name platform  year_of_release    genre  \\\n",
       "29    Call of Duty: Modern Warfare 3     X360             2011  Shooter   \n",
       "37    Call of Duty: Modern Warfare 3      PS3             2011  Shooter   \n",
       "1040  Call of Duty: Modern Warfare 3       PC             2011  Shooter   \n",
       "2500  Call of Duty: Modern Warfare 3      Wii             2011  Shooter   \n",
       "\n",
       "      na_sales  eu_sales  jp_sales  other_sales critic_score user_score  \\\n",
       "29        9.04      4.24      0.13         1.32         88.0        3.4   \n",
       "37        5.54      5.73      0.49         1.57         88.0        3.2   \n",
       "1040      0.41      0.98      0.00         0.32         78.0        2.5   \n",
       "2500      0.55      0.20      0.00         0.08         70.0        1.8   \n",
       "\n",
       "     rating  total_sales  \n",
       "29        M        14.73  \n",
       "37        M        13.33  \n",
       "1040      M         1.71  \n",
       "2500      M         0.83  "
      ]
     },
     "execution_count": 93,
     "metadata": {},
     "output_type": "execute_result"
    }
   ],
   "source": [
    "games.query('name == \"Call of Duty: Modern Warfare 3\"')"
   ]
  },
  {
   "cell_type": "code",
   "execution_count": 94,
   "metadata": {},
   "outputs": [
    {
     "data": {
      "text/html": [
       "<div>\n",
       "<style scoped>\n",
       "    .dataframe tbody tr th:only-of-type {\n",
       "        vertical-align: middle;\n",
       "    }\n",
       "\n",
       "    .dataframe tbody tr th {\n",
       "        vertical-align: top;\n",
       "    }\n",
       "\n",
       "    .dataframe thead th {\n",
       "        text-align: right;\n",
       "    }\n",
       "</style>\n",
       "<table border=\"1\" class=\"dataframe\">\n",
       "  <thead>\n",
       "    <tr style=\"text-align: right;\">\n",
       "      <th></th>\n",
       "      <th>name</th>\n",
       "      <th>platform</th>\n",
       "      <th>year_of_release</th>\n",
       "      <th>genre</th>\n",
       "      <th>na_sales</th>\n",
       "      <th>eu_sales</th>\n",
       "      <th>jp_sales</th>\n",
       "      <th>other_sales</th>\n",
       "      <th>critic_score</th>\n",
       "      <th>user_score</th>\n",
       "      <th>rating</th>\n",
       "      <th>total_sales</th>\n",
       "    </tr>\n",
       "  </thead>\n",
       "  <tbody>\n",
       "    <tr>\n",
       "      <th>34</th>\n",
       "      <td>Call of Duty: Black Ops II</td>\n",
       "      <td>PS3</td>\n",
       "      <td>2012</td>\n",
       "      <td>Shooter</td>\n",
       "      <td>4.99</td>\n",
       "      <td>5.73</td>\n",
       "      <td>0.65</td>\n",
       "      <td>2.42</td>\n",
       "      <td>83.0</td>\n",
       "      <td>5.3</td>\n",
       "      <td>M</td>\n",
       "      <td>13.79</td>\n",
       "    </tr>\n",
       "    <tr>\n",
       "      <th>35</th>\n",
       "      <td>Call of Duty: Black Ops II</td>\n",
       "      <td>X360</td>\n",
       "      <td>2012</td>\n",
       "      <td>Shooter</td>\n",
       "      <td>8.25</td>\n",
       "      <td>4.24</td>\n",
       "      <td>0.07</td>\n",
       "      <td>1.12</td>\n",
       "      <td>83.0</td>\n",
       "      <td>4.8</td>\n",
       "      <td>M</td>\n",
       "      <td>13.68</td>\n",
       "    </tr>\n",
       "    <tr>\n",
       "      <th>1227</th>\n",
       "      <td>Call of Duty: Black Ops II</td>\n",
       "      <td>PC</td>\n",
       "      <td>2012</td>\n",
       "      <td>Shooter</td>\n",
       "      <td>0.64</td>\n",
       "      <td>0.69</td>\n",
       "      <td>0.00</td>\n",
       "      <td>0.19</td>\n",
       "      <td>74.0</td>\n",
       "      <td>4.2</td>\n",
       "      <td>M</td>\n",
       "      <td>1.52</td>\n",
       "    </tr>\n",
       "    <tr>\n",
       "      <th>4706</th>\n",
       "      <td>Call of Duty: Black Ops II</td>\n",
       "      <td>WiiU</td>\n",
       "      <td>2012</td>\n",
       "      <td>Shooter</td>\n",
       "      <td>0.20</td>\n",
       "      <td>0.18</td>\n",
       "      <td>0.00</td>\n",
       "      <td>0.03</td>\n",
       "      <td>81.0</td>\n",
       "      <td>6.9</td>\n",
       "      <td>M</td>\n",
       "      <td>0.41</td>\n",
       "    </tr>\n",
       "  </tbody>\n",
       "</table>\n",
       "</div>"
      ],
      "text/plain": [
       "                            name platform  year_of_release    genre  na_sales  \\\n",
       "34    Call of Duty: Black Ops II      PS3             2012  Shooter      4.99   \n",
       "35    Call of Duty: Black Ops II     X360             2012  Shooter      8.25   \n",
       "1227  Call of Duty: Black Ops II       PC             2012  Shooter      0.64   \n",
       "4706  Call of Duty: Black Ops II     WiiU             2012  Shooter      0.20   \n",
       "\n",
       "      eu_sales  jp_sales  other_sales critic_score user_score rating  \\\n",
       "34        5.73      0.65         2.42         83.0        5.3      M   \n",
       "35        4.24      0.07         1.12         83.0        4.8      M   \n",
       "1227      0.69      0.00         0.19         74.0        4.2      M   \n",
       "4706      0.18      0.00         0.03         81.0        6.9      M   \n",
       "\n",
       "      total_sales  \n",
       "34          13.79  \n",
       "35          13.68  \n",
       "1227         1.52  \n",
       "4706         0.41  "
      ]
     },
     "execution_count": 94,
     "metadata": {},
     "output_type": "execute_result"
    }
   ],
   "source": [
    "games.query('name == \"Call of Duty: Black Ops II\"')"
   ]
  },
  {
   "cell_type": "markdown",
   "metadata": {},
   "source": [
    "It does appear that the higher the critics ratings, the higher the sales, but we would need to understand more about sales per platform to make this call."
   ]
  },
  {
   "cell_type": "markdown",
   "metadata": {},
   "source": [
    "### Distribution of Games by Genre"
   ]
  },
  {
   "cell_type": "code",
   "execution_count": 95,
   "metadata": {},
   "outputs": [
    {
     "data": {
      "text/html": [
       "<div>\n",
       "<style scoped>\n",
       "    .dataframe tbody tr th:only-of-type {\n",
       "        vertical-align: middle;\n",
       "    }\n",
       "\n",
       "    .dataframe tbody tr th {\n",
       "        vertical-align: top;\n",
       "    }\n",
       "\n",
       "    .dataframe thead th {\n",
       "        text-align: right;\n",
       "    }\n",
       "</style>\n",
       "<table border=\"1\" class=\"dataframe\">\n",
       "  <thead>\n",
       "    <tr style=\"text-align: right;\">\n",
       "      <th></th>\n",
       "      <th>total_sales</th>\n",
       "    </tr>\n",
       "    <tr>\n",
       "      <th>genre</th>\n",
       "      <th></th>\n",
       "    </tr>\n",
       "  </thead>\n",
       "  <tbody>\n",
       "    <tr>\n",
       "      <th>Action</th>\n",
       "      <td>1716.52</td>\n",
       "    </tr>\n",
       "    <tr>\n",
       "      <th>Sports</th>\n",
       "      <td>1309.67</td>\n",
       "    </tr>\n",
       "    <tr>\n",
       "      <th>Shooter</th>\n",
       "      <td>1041.36</td>\n",
       "    </tr>\n",
       "    <tr>\n",
       "      <th>Role-Playing</th>\n",
       "      <td>931.08</td>\n",
       "    </tr>\n",
       "    <tr>\n",
       "      <th>Platform</th>\n",
       "      <td>825.55</td>\n",
       "    </tr>\n",
       "    <tr>\n",
       "      <th>Misc</th>\n",
       "      <td>790.29</td>\n",
       "    </tr>\n",
       "    <tr>\n",
       "      <th>Racing</th>\n",
       "      <td>723.49</td>\n",
       "    </tr>\n",
       "    <tr>\n",
       "      <th>Fighting</th>\n",
       "      <td>442.66</td>\n",
       "    </tr>\n",
       "    <tr>\n",
       "      <th>Simulation</th>\n",
       "      <td>387.96</td>\n",
       "    </tr>\n",
       "    <tr>\n",
       "      <th>Puzzle</th>\n",
       "      <td>239.89</td>\n",
       "    </tr>\n",
       "    <tr>\n",
       "      <th>Adventure</th>\n",
       "      <td>233.33</td>\n",
       "    </tr>\n",
       "    <tr>\n",
       "      <th>Strategy</th>\n",
       "      <td>172.57</td>\n",
       "    </tr>\n",
       "  </tbody>\n",
       "</table>\n",
       "</div>"
      ],
      "text/plain": [
       "              total_sales\n",
       "genre                    \n",
       "Action            1716.52\n",
       "Sports            1309.67\n",
       "Shooter           1041.36\n",
       "Role-Playing       931.08\n",
       "Platform           825.55\n",
       "Misc               790.29\n",
       "Racing             723.49\n",
       "Fighting           442.66\n",
       "Simulation         387.96\n",
       "Puzzle             239.89\n",
       "Adventure          233.33\n",
       "Strategy           172.57"
      ]
     },
     "execution_count": 95,
     "metadata": {},
     "output_type": "execute_result"
    }
   ],
   "source": [
    "games.pivot_table(index = 'genre', values = 'total_sales', aggfunc = 'sum').sort_values(by = 'total_sales', ascending = False)"
   ]
  },
  {
   "cell_type": "markdown",
   "metadata": {},
   "source": [
    "The most profitable genres are 'Action'. 'Sports' and 'Shooter'.  We would assume that these are aimed at male audiences.  The genres with the lowest sales are 'Puzzle', 'Adventure' and 'Strategy'.  These, we would assume, are less fast-moving and require more thought and concentration.  It appears that these sorts of games are much less profitable than the action and shooting games."
   ]
  },
  {
   "cell_type": "markdown",
   "metadata": {},
   "source": [
    "## Creating User Profiles for each Region"
   ]
  },
  {
   "cell_type": "markdown",
   "metadata": {},
   "source": [
    "For each region (NA, EU, JP), we will determine:\n",
    "- The top five platforms. We will describe variations in their market shares from region to region.\n",
    "- The top five genres, explaining the difference.\n",
    "- Whether ESRB ratings affect sales in individual regions?"
   ]
  },
  {
   "cell_type": "markdown",
   "metadata": {},
   "source": [
    "### The Top 5 Platforms for each Region (NA, EU, JP)"
   ]
  },
  {
   "cell_type": "markdown",
   "metadata": {},
   "source": [
    "<u>North America</u>"
   ]
  },
  {
   "cell_type": "code",
   "execution_count": 96,
   "metadata": {},
   "outputs": [
    {
     "data": {
      "text/html": [
       "<div>\n",
       "<style scoped>\n",
       "    .dataframe tbody tr th:only-of-type {\n",
       "        vertical-align: middle;\n",
       "    }\n",
       "\n",
       "    .dataframe tbody tr th {\n",
       "        vertical-align: top;\n",
       "    }\n",
       "\n",
       "    .dataframe thead th {\n",
       "        text-align: right;\n",
       "    }\n",
       "</style>\n",
       "<table border=\"1\" class=\"dataframe\">\n",
       "  <thead>\n",
       "    <tr style=\"text-align: right;\">\n",
       "      <th></th>\n",
       "      <th>na_sales</th>\n",
       "    </tr>\n",
       "    <tr>\n",
       "      <th>platform</th>\n",
       "      <th></th>\n",
       "    </tr>\n",
       "  </thead>\n",
       "  <tbody>\n",
       "    <tr>\n",
       "      <th>X360</th>\n",
       "      <td>595.74</td>\n",
       "    </tr>\n",
       "    <tr>\n",
       "      <th>PS2</th>\n",
       "      <td>572.92</td>\n",
       "    </tr>\n",
       "    <tr>\n",
       "      <th>Wii</th>\n",
       "      <td>486.87</td>\n",
       "    </tr>\n",
       "    <tr>\n",
       "      <th>PS3</th>\n",
       "      <td>390.13</td>\n",
       "    </tr>\n",
       "    <tr>\n",
       "      <th>DS</th>\n",
       "      <td>380.31</td>\n",
       "    </tr>\n",
       "  </tbody>\n",
       "</table>\n",
       "</div>"
      ],
      "text/plain": [
       "          na_sales\n",
       "platform          \n",
       "X360        595.74\n",
       "PS2         572.92\n",
       "Wii         486.87\n",
       "PS3         390.13\n",
       "DS          380.31"
      ]
     },
     "execution_count": 96,
     "metadata": {},
     "output_type": "execute_result"
    }
   ],
   "source": [
    "games.pivot_table(index = 'platform', values = 'na_sales', aggfunc = 'sum').sort_values(by = 'na_sales', ascending = False).head(5)"
   ]
  },
  {
   "cell_type": "markdown",
   "metadata": {},
   "source": [
    "<u>Europe</u>"
   ]
  },
  {
   "cell_type": "code",
   "execution_count": 97,
   "metadata": {},
   "outputs": [
    {
     "data": {
      "text/html": [
       "<div>\n",
       "<style scoped>\n",
       "    .dataframe tbody tr th:only-of-type {\n",
       "        vertical-align: middle;\n",
       "    }\n",
       "\n",
       "    .dataframe tbody tr th {\n",
       "        vertical-align: top;\n",
       "    }\n",
       "\n",
       "    .dataframe thead th {\n",
       "        text-align: right;\n",
       "    }\n",
       "</style>\n",
       "<table border=\"1\" class=\"dataframe\">\n",
       "  <thead>\n",
       "    <tr style=\"text-align: right;\">\n",
       "      <th></th>\n",
       "      <th>eu_sales</th>\n",
       "    </tr>\n",
       "    <tr>\n",
       "      <th>platform</th>\n",
       "      <th></th>\n",
       "    </tr>\n",
       "  </thead>\n",
       "  <tbody>\n",
       "    <tr>\n",
       "      <th>PS2</th>\n",
       "      <td>332.63</td>\n",
       "    </tr>\n",
       "    <tr>\n",
       "      <th>PS3</th>\n",
       "      <td>327.21</td>\n",
       "    </tr>\n",
       "    <tr>\n",
       "      <th>X360</th>\n",
       "      <td>268.32</td>\n",
       "    </tr>\n",
       "    <tr>\n",
       "      <th>Wii</th>\n",
       "      <td>258.32</td>\n",
       "    </tr>\n",
       "    <tr>\n",
       "      <th>PS</th>\n",
       "      <td>212.39</td>\n",
       "    </tr>\n",
       "  </tbody>\n",
       "</table>\n",
       "</div>"
      ],
      "text/plain": [
       "          eu_sales\n",
       "platform          \n",
       "PS2         332.63\n",
       "PS3         327.21\n",
       "X360        268.32\n",
       "Wii         258.32\n",
       "PS          212.39"
      ]
     },
     "execution_count": 97,
     "metadata": {},
     "output_type": "execute_result"
    }
   ],
   "source": [
    "games.pivot_table(index = 'platform', values = 'eu_sales', aggfunc = 'sum').sort_values(by = 'eu_sales', ascending = False).head(5)"
   ]
  },
  {
   "cell_type": "markdown",
   "metadata": {},
   "source": [
    "<u>Japan</u>"
   ]
  },
  {
   "cell_type": "code",
   "execution_count": 98,
   "metadata": {},
   "outputs": [
    {
     "data": {
      "text/html": [
       "<div>\n",
       "<style scoped>\n",
       "    .dataframe tbody tr th:only-of-type {\n",
       "        vertical-align: middle;\n",
       "    }\n",
       "\n",
       "    .dataframe tbody tr th {\n",
       "        vertical-align: top;\n",
       "    }\n",
       "\n",
       "    .dataframe thead th {\n",
       "        text-align: right;\n",
       "    }\n",
       "</style>\n",
       "<table border=\"1\" class=\"dataframe\">\n",
       "  <thead>\n",
       "    <tr style=\"text-align: right;\">\n",
       "      <th></th>\n",
       "      <th>jp_sales</th>\n",
       "    </tr>\n",
       "    <tr>\n",
       "      <th>platform</th>\n",
       "      <th></th>\n",
       "    </tr>\n",
       "  </thead>\n",
       "  <tbody>\n",
       "    <tr>\n",
       "      <th>DS</th>\n",
       "      <td>175.02</td>\n",
       "    </tr>\n",
       "    <tr>\n",
       "      <th>PS</th>\n",
       "      <td>139.78</td>\n",
       "    </tr>\n",
       "    <tr>\n",
       "      <th>PS2</th>\n",
       "      <td>137.54</td>\n",
       "    </tr>\n",
       "    <tr>\n",
       "      <th>SNES</th>\n",
       "      <td>116.55</td>\n",
       "    </tr>\n",
       "    <tr>\n",
       "      <th>3DS</th>\n",
       "      <td>100.62</td>\n",
       "    </tr>\n",
       "  </tbody>\n",
       "</table>\n",
       "</div>"
      ],
      "text/plain": [
       "          jp_sales\n",
       "platform          \n",
       "DS          175.02\n",
       "PS          139.78\n",
       "PS2         137.54\n",
       "SNES        116.55\n",
       "3DS         100.62"
      ]
     },
     "execution_count": 98,
     "metadata": {},
     "output_type": "execute_result"
    }
   ],
   "source": [
    "games.pivot_table(index = 'platform', values = 'jp_sales', aggfunc = 'sum').sort_values(by = 'jp_sales', ascending = False).head(5)"
   ]
  },
  {
   "cell_type": "markdown",
   "metadata": {},
   "source": [
    "Conclusion: The X360 is the most popular platform in North America and it is the 3rd most popular in the EU, however it does not rank in the top 5 in Japan. The PS2 is popular in all three territories, but the PS3 does not feature in the top 5 in Japan while it does in both North America and the EU. Finally there are two platforms that appear in the top 5 in Japan (SNES and 3DS) which do not appear in the top 5 for North America and the EU Countries."
   ]
  },
  {
   "cell_type": "markdown",
   "metadata": {},
   "source": [
    "### The Top 5 Genres for each Region (NA, EU, JP)"
   ]
  },
  {
   "cell_type": "markdown",
   "metadata": {},
   "source": [
    "<u>North America</u>"
   ]
  },
  {
   "cell_type": "code",
   "execution_count": 99,
   "metadata": {},
   "outputs": [
    {
     "data": {
      "text/html": [
       "<div>\n",
       "<style scoped>\n",
       "    .dataframe tbody tr th:only-of-type {\n",
       "        vertical-align: middle;\n",
       "    }\n",
       "\n",
       "    .dataframe tbody tr th {\n",
       "        vertical-align: top;\n",
       "    }\n",
       "\n",
       "    .dataframe thead th {\n",
       "        text-align: right;\n",
       "    }\n",
       "</style>\n",
       "<table border=\"1\" class=\"dataframe\">\n",
       "  <thead>\n",
       "    <tr style=\"text-align: right;\">\n",
       "      <th></th>\n",
       "      <th>na_sales</th>\n",
       "    </tr>\n",
       "    <tr>\n",
       "      <th>genre</th>\n",
       "      <th></th>\n",
       "    </tr>\n",
       "  </thead>\n",
       "  <tbody>\n",
       "    <tr>\n",
       "      <th>Action</th>\n",
       "      <td>863.17</td>\n",
       "    </tr>\n",
       "    <tr>\n",
       "      <th>Sports</th>\n",
       "      <td>671.20</td>\n",
       "    </tr>\n",
       "    <tr>\n",
       "      <th>Shooter</th>\n",
       "      <td>584.83</td>\n",
       "    </tr>\n",
       "    <tr>\n",
       "      <th>Platform</th>\n",
       "      <td>444.44</td>\n",
       "    </tr>\n",
       "    <tr>\n",
       "      <th>Misc</th>\n",
       "      <td>399.57</td>\n",
       "    </tr>\n",
       "  </tbody>\n",
       "</table>\n",
       "</div>"
      ],
      "text/plain": [
       "          na_sales\n",
       "genre             \n",
       "Action      863.17\n",
       "Sports      671.20\n",
       "Shooter     584.83\n",
       "Platform    444.44\n",
       "Misc        399.57"
      ]
     },
     "execution_count": 99,
     "metadata": {},
     "output_type": "execute_result"
    }
   ],
   "source": [
    "genres_na = games.pivot_table(index = 'genre', values = 'na_sales', aggfunc = 'sum').sort_values(by = 'na_sales', ascending = False).head(5)\n",
    "genres_na"
   ]
  },
  {
   "cell_type": "code",
   "execution_count": 100,
   "metadata": {},
   "outputs": [
    {
     "data": {
      "image/png": "[encoded data removed]",
      "text/plain": [
       "<Figure size 432x432 with 1 Axes>"
      ]
     },
     "metadata": {},
     "output_type": "display_data"
    }
   ],
   "source": [
    "genres_na.plot(kind = 'pie', y = 'na_sales', figsize = (6,6), startangle = 25)\n",
    "plt.title('Top 5 Genres in North America')\n",
    "plt.legend(title = \"Genres:\")\n",
    "plt.ylabel('')\n",
    "plt.show()"
   ]
  },
  {
   "cell_type": "markdown",
   "metadata": {},
   "source": [
    "<u>Europe</u>"
   ]
  },
  {
   "cell_type": "code",
   "execution_count": 101,
   "metadata": {},
   "outputs": [
    {
     "data": {
      "text/html": [
       "<div>\n",
       "<style scoped>\n",
       "    .dataframe tbody tr th:only-of-type {\n",
       "        vertical-align: middle;\n",
       "    }\n",
       "\n",
       "    .dataframe tbody tr th {\n",
       "        vertical-align: top;\n",
       "    }\n",
       "\n",
       "    .dataframe thead th {\n",
       "        text-align: right;\n",
       "    }\n",
       "</style>\n",
       "<table border=\"1\" class=\"dataframe\">\n",
       "  <thead>\n",
       "    <tr style=\"text-align: right;\">\n",
       "      <th></th>\n",
       "      <th>eu_sales</th>\n",
       "    </tr>\n",
       "    <tr>\n",
       "      <th>genre</th>\n",
       "      <th></th>\n",
       "    </tr>\n",
       "  </thead>\n",
       "  <tbody>\n",
       "    <tr>\n",
       "      <th>Action</th>\n",
       "      <td>510.99</td>\n",
       "    </tr>\n",
       "    <tr>\n",
       "      <th>Sports</th>\n",
       "      <td>371.33</td>\n",
       "    </tr>\n",
       "    <tr>\n",
       "      <th>Shooter</th>\n",
       "      <td>314.52</td>\n",
       "    </tr>\n",
       "    <tr>\n",
       "      <th>Racing</th>\n",
       "      <td>234.49</td>\n",
       "    </tr>\n",
       "    <tr>\n",
       "      <th>Misc</th>\n",
       "      <td>210.60</td>\n",
       "    </tr>\n",
       "  </tbody>\n",
       "</table>\n",
       "</div>"
      ],
      "text/plain": [
       "         eu_sales\n",
       "genre            \n",
       "Action     510.99\n",
       "Sports     371.33\n",
       "Shooter    314.52\n",
       "Racing     234.49\n",
       "Misc       210.60"
      ]
     },
     "execution_count": 101,
     "metadata": {},
     "output_type": "execute_result"
    }
   ],
   "source": [
    "genres_eu = games.pivot_table(index = 'genre', values = 'eu_sales', aggfunc = 'sum').sort_values(by = 'eu_sales', ascending = False).head(5)\n",
    "genres_eu"
   ]
  },
  {
   "cell_type": "code",
   "execution_count": 102,
   "metadata": {},
   "outputs": [
    {
     "data": {
      "image/png": "[encoded data removed]",
      "text/plain": [
       "<Figure size 432x432 with 1 Axes>"
      ]
     },
     "metadata": {},
     "output_type": "display_data"
    }
   ],
   "source": [
    "genres_eu.plot(kind = 'pie', y = 'eu_sales', figsize = (6,6), startangle = 25)\n",
    "plt.title('Top 5 Genres in Europe')\n",
    "plt.legend(title = \"Genres:\")\n",
    "plt.ylabel('')\n",
    "plt.show()"
   ]
  },
  {
   "cell_type": "markdown",
   "metadata": {},
   "source": [
    "<u>Japan</u>"
   ]
  },
  {
   "cell_type": "code",
   "execution_count": 103,
   "metadata": {},
   "outputs": [
    {
     "data": {
      "text/html": [
       "<div>\n",
       "<style scoped>\n",
       "    .dataframe tbody tr th:only-of-type {\n",
       "        vertical-align: middle;\n",
       "    }\n",
       "\n",
       "    .dataframe tbody tr th {\n",
       "        vertical-align: top;\n",
       "    }\n",
       "\n",
       "    .dataframe thead th {\n",
       "        text-align: right;\n",
       "    }\n",
       "</style>\n",
       "<table border=\"1\" class=\"dataframe\">\n",
       "  <thead>\n",
       "    <tr style=\"text-align: right;\">\n",
       "      <th></th>\n",
       "      <th>jp_sales</th>\n",
       "    </tr>\n",
       "    <tr>\n",
       "      <th>genre</th>\n",
       "      <th></th>\n",
       "    </tr>\n",
       "  </thead>\n",
       "  <tbody>\n",
       "    <tr>\n",
       "      <th>Role-Playing</th>\n",
       "      <td>353.39</td>\n",
       "    </tr>\n",
       "    <tr>\n",
       "      <th>Action</th>\n",
       "      <td>160.14</td>\n",
       "    </tr>\n",
       "    <tr>\n",
       "      <th>Sports</th>\n",
       "      <td>134.93</td>\n",
       "    </tr>\n",
       "    <tr>\n",
       "      <th>Platform</th>\n",
       "      <td>130.71</td>\n",
       "    </tr>\n",
       "    <tr>\n",
       "      <th>Misc</th>\n",
       "      <td>107.02</td>\n",
       "    </tr>\n",
       "  </tbody>\n",
       "</table>\n",
       "</div>"
      ],
      "text/plain": [
       "              jp_sales\n",
       "genre                 \n",
       "Role-Playing    353.39\n",
       "Action          160.14\n",
       "Sports          134.93\n",
       "Platform        130.71\n",
       "Misc            107.02"
      ]
     },
     "execution_count": 103,
     "metadata": {},
     "output_type": "execute_result"
    }
   ],
   "source": [
    "genres_jp = games.pivot_table(index = 'genre', values = 'jp_sales', aggfunc = 'sum').sort_values(by = 'jp_sales', ascending = False).head(5)\n",
    "genres_jp"
   ]
  },
  {
   "cell_type": "code",
   "execution_count": 104,
   "metadata": {},
   "outputs": [
    {
     "data": {
      "image/png": "[encoded data removed]",
      "text/plain": [
       "<Figure size 432x432 with 1 Axes>"
      ]
     },
     "metadata": {},
     "output_type": "display_data"
    }
   ],
   "source": [
    "genres_jp.plot(kind = 'pie', y = 'jp_sales', figsize = (6,6), startangle = 25)\n",
    "plt.title('Top 5 Genres in Japan')\n",
    "plt.legend(title = \"Genres:\")\n",
    "plt.ylabel('')\n",
    "plt.show()"
   ]
  },
  {
   "cell_type": "markdown",
   "metadata": {},
   "source": [
    "Conclusion: In North America and Europe, Action, Sports and Shooter games are the 3 most popular.  \n",
    "\n",
    "However, in Japan the most popular genre is 'Role-Playing' games which does not feature in the top 5 genres of either North America or Europe."
   ]
  },
  {
   "cell_type": "markdown",
   "metadata": {},
   "source": [
    "### Determine whether ESRB Ratings affect Sales in Different Regions"
   ]
  },
  {
   "cell_type": "markdown",
   "metadata": {},
   "source": [
    "We will investigate sales by ESRB ratings in the three regions:"
   ]
  },
  {
   "cell_type": "markdown",
   "metadata": {},
   "source": [
    "<u>North America</u>"
   ]
  },
  {
   "cell_type": "code",
   "execution_count": 105,
   "metadata": {},
   "outputs": [
    {
     "data": {
      "text/html": [
       "<div>\n",
       "<style scoped>\n",
       "    .dataframe tbody tr th:only-of-type {\n",
       "        vertical-align: middle;\n",
       "    }\n",
       "\n",
       "    .dataframe tbody tr th {\n",
       "        vertical-align: top;\n",
       "    }\n",
       "\n",
       "    .dataframe thead th {\n",
       "        text-align: right;\n",
       "    }\n",
       "</style>\n",
       "<table border=\"1\" class=\"dataframe\">\n",
       "  <thead>\n",
       "    <tr style=\"text-align: right;\">\n",
       "      <th></th>\n",
       "      <th>na_sales</th>\n",
       "    </tr>\n",
       "    <tr>\n",
       "      <th>rating</th>\n",
       "      <th></th>\n",
       "    </tr>\n",
       "  </thead>\n",
       "  <tbody>\n",
       "    <tr>\n",
       "      <th>E</th>\n",
       "      <td>1274.24</td>\n",
       "    </tr>\n",
       "    <tr>\n",
       "      <th>none</th>\n",
       "      <td>1225.84</td>\n",
       "    </tr>\n",
       "    <tr>\n",
       "      <th>T</th>\n",
       "      <td>747.60</td>\n",
       "    </tr>\n",
       "    <tr>\n",
       "      <th>M</th>\n",
       "      <td>742.89</td>\n",
       "    </tr>\n",
       "    <tr>\n",
       "      <th>E10+</th>\n",
       "      <td>345.50</td>\n",
       "    </tr>\n",
       "  </tbody>\n",
       "</table>\n",
       "</div>"
      ],
      "text/plain": [
       "        na_sales\n",
       "rating          \n",
       "E        1274.24\n",
       "none     1225.84\n",
       "T         747.60\n",
       "M         742.89\n",
       "E10+      345.50"
      ]
     },
     "execution_count": 105,
     "metadata": {},
     "output_type": "execute_result"
    }
   ],
   "source": [
    "games.pivot_table(index = 'rating', values = 'na_sales', aggfunc = 'sum').sort_values(by = 'na_sales', ascending = False).head(5)"
   ]
  },
  {
   "cell_type": "markdown",
   "metadata": {},
   "source": [
    "<u>Europe</u>"
   ]
  },
  {
   "cell_type": "code",
   "execution_count": 106,
   "metadata": {},
   "outputs": [
    {
     "data": {
      "text/html": [
       "<div>\n",
       "<style scoped>\n",
       "    .dataframe tbody tr th:only-of-type {\n",
       "        vertical-align: middle;\n",
       "    }\n",
       "\n",
       "    .dataframe tbody tr th {\n",
       "        vertical-align: top;\n",
       "    }\n",
       "\n",
       "    .dataframe thead th {\n",
       "        text-align: right;\n",
       "    }\n",
       "</style>\n",
       "<table border=\"1\" class=\"dataframe\">\n",
       "  <thead>\n",
       "    <tr style=\"text-align: right;\">\n",
       "      <th></th>\n",
       "      <th>eu_sales</th>\n",
       "    </tr>\n",
       "    <tr>\n",
       "      <th>rating</th>\n",
       "      <th></th>\n",
       "    </tr>\n",
       "  </thead>\n",
       "  <tbody>\n",
       "    <tr>\n",
       "      <th>E</th>\n",
       "      <td>703.87</td>\n",
       "    </tr>\n",
       "    <tr>\n",
       "      <th>none</th>\n",
       "      <td>609.65</td>\n",
       "    </tr>\n",
       "    <tr>\n",
       "      <th>M</th>\n",
       "      <td>480.00</td>\n",
       "    </tr>\n",
       "    <tr>\n",
       "      <th>T</th>\n",
       "      <td>421.79</td>\n",
       "    </tr>\n",
       "    <tr>\n",
       "      <th>E10+</th>\n",
       "      <td>183.35</td>\n",
       "    </tr>\n",
       "  </tbody>\n",
       "</table>\n",
       "</div>"
      ],
      "text/plain": [
       "        eu_sales\n",
       "rating          \n",
       "E         703.87\n",
       "none      609.65\n",
       "M         480.00\n",
       "T         421.79\n",
       "E10+      183.35"
      ]
     },
     "execution_count": 106,
     "metadata": {},
     "output_type": "execute_result"
    }
   ],
   "source": [
    "games.pivot_table(index = 'rating', values = 'eu_sales', aggfunc = 'sum').sort_values(by = 'eu_sales', ascending = False).head(5)"
   ]
  },
  {
   "cell_type": "markdown",
   "metadata": {},
   "source": [
    "<u>Japan</u>"
   ]
  },
  {
   "cell_type": "code",
   "execution_count": 107,
   "metadata": {},
   "outputs": [
    {
     "data": {
      "text/html": [
       "<div>\n",
       "<style scoped>\n",
       "    .dataframe tbody tr th:only-of-type {\n",
       "        vertical-align: middle;\n",
       "    }\n",
       "\n",
       "    .dataframe tbody tr th {\n",
       "        vertical-align: top;\n",
       "    }\n",
       "\n",
       "    .dataframe thead th {\n",
       "        text-align: right;\n",
       "    }\n",
       "</style>\n",
       "<table border=\"1\" class=\"dataframe\">\n",
       "  <thead>\n",
       "    <tr style=\"text-align: right;\">\n",
       "      <th></th>\n",
       "      <th>jp_sales</th>\n",
       "    </tr>\n",
       "    <tr>\n",
       "      <th>rating</th>\n",
       "      <th></th>\n",
       "    </tr>\n",
       "  </thead>\n",
       "  <tbody>\n",
       "    <tr>\n",
       "      <th>none</th>\n",
       "      <td>836.74</td>\n",
       "    </tr>\n",
       "    <tr>\n",
       "      <th>E</th>\n",
       "      <td>197.96</td>\n",
       "    </tr>\n",
       "    <tr>\n",
       "      <th>T</th>\n",
       "      <td>150.70</td>\n",
       "    </tr>\n",
       "    <tr>\n",
       "      <th>M</th>\n",
       "      <td>63.58</td>\n",
       "    </tr>\n",
       "    <tr>\n",
       "      <th>E10+</th>\n",
       "      <td>40.20</td>\n",
       "    </tr>\n",
       "  </tbody>\n",
       "</table>\n",
       "</div>"
      ],
      "text/plain": [
       "        jp_sales\n",
       "rating          \n",
       "none      836.74\n",
       "E         197.96\n",
       "T         150.70\n",
       "M          63.58\n",
       "E10+       40.20"
      ]
     },
     "execution_count": 107,
     "metadata": {},
     "output_type": "execute_result"
    }
   ],
   "source": [
    "games.pivot_table(index = 'rating', values = 'jp_sales', aggfunc = 'sum').sort_values(by = 'jp_sales', ascending = False).head(5)"
   ]
  },
  {
   "cell_type": "markdown",
   "metadata": {},
   "source": [
    "Conclusion: Games with the rating 'E' rating (meaning 'Everyone; ie the content is suitable for all ages) are most popular in North America and Europe. In Japan this seems not to be the case as many games with no rating at all (which we have categorised as 'none' sell over 4 times more than games with an 'E' rating.)"
   ]
  },
  {
   "cell_type": "markdown",
   "metadata": {},
   "source": [
    "## Testing Hypotheses:\n",
    "We will test two hypotheses:\n",
    "- That the average user ratings of the Xbox One and PC platforms are the same. \n",
    "- That the average user ratings for the Action and Sports genres are different."
   ]
  },
  {
   "cell_type": "markdown",
   "metadata": {},
   "source": [
    "### Hypothesis 1\n",
    "We will compare the average user ratings of the Xbox One and the PC platforms and test if they are the same. This is a 2 sided test with data from two independent data sources.  "
   ]
  },
  {
   "cell_type": "code",
   "execution_count": 108,
   "metadata": {},
   "outputs": [
    {
     "data": {
      "text/plain": [
       "6.52142857142857"
      ]
     },
     "execution_count": 108,
     "metadata": {},
     "output_type": "execute_result"
    }
   ],
   "source": [
    "games_non_null_user.query('platform == \"XOne\"')['user_score'].mean()"
   ]
  },
  {
   "cell_type": "code",
   "execution_count": 109,
   "metadata": {},
   "outputs": [
    {
     "data": {
      "text/plain": [
       "1.377141546212499"
      ]
     },
     "execution_count": 109,
     "metadata": {},
     "output_type": "execute_result"
    }
   ],
   "source": [
    "np.std(games_non_null_user.query('platform == \"XOne\"')['user_score'])"
   ]
  },
  {
   "cell_type": "code",
   "execution_count": 110,
   "metadata": {},
   "outputs": [
    {
     "data": {
      "text/plain": [
       "7.065960264900677"
      ]
     },
     "execution_count": 110,
     "metadata": {},
     "output_type": "execute_result"
    }
   ],
   "source": [
    "games_non_null_user.query('platform == \"PC\"')['user_score'].mean()"
   ]
  },
  {
   "cell_type": "code",
   "execution_count": 111,
   "metadata": {},
   "outputs": [
    {
     "data": {
      "text/plain": [
       "1.5317025884985553"
      ]
     },
     "execution_count": 111,
     "metadata": {},
     "output_type": "execute_result"
    }
   ],
   "source": [
    "np.std(games_non_null_user.query('platform == \"PC\"')['user_score'])"
   ]
  },
  {
   "cell_type": "markdown",
   "metadata": {},
   "source": [
    "Average (mean) user score on the Xbox One platform is 6.5 with a standard deviation of 1.37. Average user score on the PC platform is 7.1 with a standard deviation of 1.53. \n",
    "\n",
    "We will formulate a null and alternative hypothesis and use the data to perform a statistical test. The null hypothesis will be: 'the means of the user scores of the two datasets are equal'. We will use a critical statistical significance level (alpha) of 0.05.  If the p-value < alpha, we reject the hypothesis that the mean user scores of the two platforms are equal."
   ]
  },
  {
   "cell_type": "code",
   "execution_count": 112,
   "metadata": {},
   "outputs": [
    {
     "name": "stdout",
     "output_type": "stream",
     "text": [
      "p-value:  4.538580296373914e-06\n",
      "We reject the null hypothesis\n"
     ]
    }
   ],
   "source": [
    "alpha = 0.05\n",
    "\n",
    "sample_1 = games_non_null_user.query('platform == \"XOne\"')['user_score']\n",
    "sample_2 = games_non_null_user.query('platform == \"PC\"')['user_score']\n",
    "results = st.ttest_ind(sample_1, sample_2, equal_var = False) \n",
    "# we set equal_var to False as we don't consider the variances of the statistical populations from which the samples are taken to be are approximately equal.\n",
    "\n",
    "print('p-value: ', results.pvalue)\n",
    "\n",
    "if results.pvalue < alpha:\n",
    "    print(\"We reject the null hypothesis\")\n",
    "else:\n",
    "    print(\"We can't reject the null hypothesis\") "
   ]
  },
  {
   "cell_type": "markdown",
   "metadata": {},
   "source": [
    "This p-value is very small.  It tells us that if the means of the two datasets were indeed the same, only around a 0.000004 of the values would have the same mean. That is, there is a very small probability of them randomly being the same. This probability low enough to conclude that we can reject the null hypothesis; that the average user scores of these two platforms are equal."
   ]
  },
  {
   "cell_type": "markdown",
   "metadata": {},
   "source": [
    "### Hypothesis 2\n",
    "We will compare the average user ratings for the Action and Sports genres and test if they are the same. This is also a 2 sided test with data from two independent data sources. "
   ]
  },
  {
   "cell_type": "code",
   "execution_count": 113,
   "metadata": {},
   "outputs": [
    {
     "data": {
      "text/plain": [
       "7.058129175946543"
      ]
     },
     "execution_count": 113,
     "metadata": {},
     "output_type": "execute_result"
    }
   ],
   "source": [
    "games_non_null_user.query('genre == \"Action\"')['user_score'].mean()"
   ]
  },
  {
   "cell_type": "code",
   "execution_count": 114,
   "metadata": {},
   "outputs": [
    {
     "data": {
      "text/plain": [
       "1.4235044341982823"
      ]
     },
     "execution_count": 114,
     "metadata": {},
     "output_type": "execute_result"
    }
   ],
   "source": [
    "np.std(games_non_null_user.query('genre == \"Action\"')['user_score'])"
   ]
  },
  {
   "cell_type": "code",
   "execution_count": 115,
   "metadata": {},
   "outputs": [
    {
     "data": {
      "text/plain": [
       "6.951433857539316"
      ]
     },
     "execution_count": 115,
     "metadata": {},
     "output_type": "execute_result"
    }
   ],
   "source": [
    "games_non_null_user.query('genre == \"Sports\"')['user_score'].mean()"
   ]
  },
  {
   "cell_type": "code",
   "execution_count": 116,
   "metadata": {},
   "outputs": [
    {
     "data": {
      "text/plain": [
       "1.6188357865776706"
      ]
     },
     "execution_count": 116,
     "metadata": {},
     "output_type": "execute_result"
    }
   ],
   "source": [
    "np.std(games_non_null_user.query('genre == \"Sports\"')['user_score'])"
   ]
  },
  {
   "cell_type": "markdown",
   "metadata": {},
   "source": [
    "Average (mean) user scores for Action games is 7.06 with a standard deviation of 1.42. Average user score for Sports games is 6.95 with a standard deviation of 1.62. \n",
    "\n",
    "We will formulate a null and alternative hypothesis and use the data to perform a statistical test. The null hypothesis will be: 'the means of user scores of the two datasets are equal'. We will use a critical statistical significance level (alpha) of 0.05.  If the p-value < alpha, we reject the hypothesis that the mean user scores of the two genres (Action and Sports) are equal."
   ]
  },
  {
   "cell_type": "code",
   "execution_count": 117,
   "metadata": {},
   "outputs": [
    {
     "name": "stdout",
     "output_type": "stream",
     "text": [
      "p-value:  0.07370217419280174\n",
      "We can't reject the null hypothesis\n"
     ]
    }
   ],
   "source": [
    "alpha = 0.05\n",
    "\n",
    "sample_1 = games_non_null_user.query('genre == \"Action\"')['user_score']\n",
    "sample_2 = games_non_null_user.query('genre == \"Sports\"')['user_score']\n",
    "results = st.ttest_ind(sample_1, sample_2, equal_var = False) \n",
    "# we set equal_var to False as we don't consider the variances of the statistical populations from which the samples are taken to be are approximately equal.\n",
    "\n",
    "print('p-value: ', results.pvalue)\n",
    "\n",
    "if results.pvalue < alpha:\n",
    "    print(\"We reject the null hypothesis\")\n",
    "else:\n",
    "    print(\"We can't reject the null hypothesis\") "
   ]
  },
  {
   "cell_type": "markdown",
   "metadata": {},
   "source": [
    "This time the p-value (at 0.073) is greater than alpha, the critical statistical significance level. This states that if the means of the two datasets were indeed the same, 7.3% of the random samples would have the same mean.  Given this, we cannot reject the null hypothesis that they are the same, ie they are probably not different."
   ]
  },
  {
   "cell_type": "markdown",
   "metadata": {},
   "source": [
    "## Overall Conclusion\n",
    "In this project I analysed historical data on game sales, available from open sources from 1985 to 2016. It is December 2016 and the company is planning an advertising campaign for 2017.\n",
    "\n",
    "I first discovered that very few games were issued before 1995. \n",
    "\n",
    "I then found the platforms with the greatest total sales and plotted distributions for each based on data for each year. With the exception of the PS4 platform, I discovered the total sales of all the other platforms in the top 10 had sales approaching zero at the end of 2016. The life of a platform generally appeared to be between 6-10 years.  It also appeared that all the platforms in the dataset experienced declining sales in the 2015 - 2016 period. \n",
    "\n",
    "The most profitable platforms at the end of 2016 appeared to be PS4 and XOne and I also discovered that the span of a game across all platforms seems to be between 1-3 years, so I selected only data from 2014 to 2016 for the next part of the analysis.\n",
    "\n",
    "I produced a box plot showing the global sales of all games, broken down by platform for the 3 years considered (2014-2016). The differences in sales were significant. The average (median) annual sales was highest for the PS4 at around 100m USD, followed by the XOne at around 55m USD. Many platforms (including the PC, PSP, PSV, Wii, WiiU and X360) had average annual sales under 20m USD globally.\n",
    "\n",
    "I investigated how user and professional reviews affect sales for the PS4 platform. I produced scatter plots and calculated the correlation between reviews and sales. There was a positive correlation between critic_score and total_sales of 0.406 but no correlation between user_score and total_sales. I concluded therefore that critics' reviews do effect sales, but user reviews do not. I looked at games that were produced for multiple platforms and it did appear that total sales decreases as critics score decreases, but the company would also have to take into account the number of installed gaming consoles for each platform before drawing any conclusions. \n",
    "\n",
    "I discovered that the most profitable genres are 'Action'. 'Sports' and 'Shooter'.  The genres with the lowest sales are 'Puzzle', 'Adventure' and 'Strategy'. \n",
    "\n",
    "### International Research\n",
    "\n",
    "The X360 is the most popular platform in North America and it is the 3rd most popular in the EU, however it does not rank in the top 5 in Japan. The PS2 is popular in all three territories, but the PS3 does not feature in the top 5 in Japan while it does in both North America and the EU. There are two platforms that appear in the top 5 in Japan (SNES and 3DS) which do not appear in the top 5 for North America and the EU Countries.\n",
    "\n",
    "In North America and Europe, Action, Sports and Shooter games are the 3 most popular.  In Japan the most popular genre is 'Role-Playing' games which do not feature in the top 5 genres of either North America or Europe.\n",
    "\n",
    "Games with the rating 'E' rating (meaning 'Everyone; ie the content is suitable for all ages) are most popular in North America and Europe. In Japan this seems not to be the case as many games with no rating at all (which we have categorised as 'none' sell over 4 times more than games with an 'E' rating.)\n",
    "\n",
    "### Hypothesis Testing\n",
    "\n",
    "I compared the average user ratings of the Xbox One and the PC platforms to test if they are the same. This was a 2 sided test with data from two independent data sources.  I found the p-value to be very small, which meant that if the means of the two datasets were indeed the same, only around a 0.000004 of the values would have the same mean. That is, there is a very small probability of them randomly being the same. This probability is low enough to conclude that the null hypothesis can be rejected; that the average user scores of these two platforms are equal.\n",
    "\n",
    "I also compared the average user ratings for the Action and Sports genres to test if they are the same. This time the p-value (at 0.073) was greater than alpha, the critical statistical significance level. This means that if the means of the two datasets were indeed the same, 7.3% of the random samples would have the same mean.  Given this, we cannot reject the null hypothesis that they are the same, ie they are probably not different."
   ]
  }
 ],
 "metadata": {
  "ExecuteTimeLog": [
   {
    "duration": 336,
    "start_time": "2021-08-07T21:52:05.292Z"
   },
   {
    "duration": 2278,
    "start_time": "2021-08-07T21:52:23.882Z"
   },
   {
    "duration": 51,
    "start_time": "2021-08-07T21:52:26.163Z"
   },
   {
    "duration": 50,
    "start_time": "2021-08-07T21:52:26.217Z"
   },
   {
    "duration": 15,
    "start_time": "2021-08-07T21:52:26.270Z"
   },
   {
    "duration": 16,
    "start_time": "2021-08-07T21:52:26.288Z"
   },
   {
    "duration": 60,
    "start_time": "2021-08-07T21:52:26.307Z"
   },
   {
    "duration": 4,
    "start_time": "2021-08-07T21:52:26.369Z"
   },
   {
    "duration": 20,
    "start_time": "2021-08-07T21:52:26.377Z"
   },
   {
    "duration": 9,
    "start_time": "2021-08-07T21:52:26.400Z"
   },
   {
    "duration": 8,
    "start_time": "2021-08-07T21:52:26.411Z"
   },
   {
    "duration": 49,
    "start_time": "2021-08-07T21:52:26.421Z"
   },
   {
    "duration": 29,
    "start_time": "2021-08-07T21:52:26.472Z"
   },
   {
    "duration": 9,
    "start_time": "2021-08-07T21:52:26.504Z"
   },
   {
    "duration": 48,
    "start_time": "2021-08-07T21:52:26.516Z"
   },
   {
    "duration": 5,
    "start_time": "2021-08-07T21:52:26.567Z"
   },
   {
    "duration": 15,
    "start_time": "2021-08-07T21:52:26.575Z"
   },
   {
    "duration": 20,
    "start_time": "2021-08-07T21:52:26.592Z"
   },
   {
    "duration": 55,
    "start_time": "2021-08-07T21:52:26.616Z"
   },
   {
    "duration": 5,
    "start_time": "2021-08-07T21:52:26.674Z"
   },
   {
    "duration": 11,
    "start_time": "2021-08-07T21:52:26.681Z"
   },
   {
    "duration": 29,
    "start_time": "2021-08-07T21:52:26.694Z"
   },
   {
    "duration": 46,
    "start_time": "2021-08-07T21:52:26.725Z"
   },
   {
    "duration": 6,
    "start_time": "2021-08-07T21:52:26.777Z"
   },
   {
    "duration": 5,
    "start_time": "2021-08-07T21:52:26.787Z"
   },
   {
    "duration": 14,
    "start_time": "2021-08-07T21:52:26.794Z"
   },
   {
    "duration": 57,
    "start_time": "2021-08-07T21:52:26.810Z"
   },
   {
    "duration": 33,
    "start_time": "2021-08-07T21:52:26.870Z"
   },
   {
    "duration": 63,
    "start_time": "2021-08-07T21:52:26.907Z"
   },
   {
    "duration": 6,
    "start_time": "2021-08-07T21:52:26.972Z"
   },
   {
    "duration": 11,
    "start_time": "2021-08-07T21:52:26.980Z"
   },
   {
    "duration": 18,
    "start_time": "2021-08-07T21:52:26.993Z"
   },
   {
    "duration": 649,
    "start_time": "2021-08-07T21:52:27.013Z"
   },
   {
    "duration": 10,
    "start_time": "2021-08-07T21:52:27.665Z"
   },
   {
    "duration": 649,
    "start_time": "2021-08-07T21:52:27.678Z"
   },
   {
    "duration": 6,
    "start_time": "2021-08-07T21:52:28.329Z"
   },
   {
    "duration": 27,
    "start_time": "2021-08-07T21:52:28.338Z"
   },
   {
    "duration": 10,
    "start_time": "2021-08-07T21:52:28.367Z"
   },
   {
    "duration": 7,
    "start_time": "2021-08-07T21:52:28.380Z"
   },
   {
    "duration": 11,
    "start_time": "2021-08-07T21:52:28.390Z"
   },
   {
    "duration": 8,
    "start_time": "2021-08-07T21:52:28.403Z"
   },
   {
    "duration": 51,
    "start_time": "2021-08-07T21:52:28.414Z"
   },
   {
    "duration": 17,
    "start_time": "2021-08-07T21:52:28.468Z"
   },
   {
    "duration": 15,
    "start_time": "2021-08-07T21:52:28.488Z"
   },
   {
    "duration": 16,
    "start_time": "2021-08-07T21:52:28.506Z"
   },
   {
    "duration": 53,
    "start_time": "2021-08-07T21:52:28.525Z"
   },
   {
    "duration": 404,
    "start_time": "2021-08-07T21:52:28.580Z"
   },
   {
    "duration": 35,
    "start_time": "2021-08-07T21:52:28.987Z"
   },
   {
    "duration": 8,
    "start_time": "2021-08-07T21:52:29.025Z"
   },
   {
    "duration": 30,
    "start_time": "2021-08-07T21:52:29.062Z"
   },
   {
    "duration": 15,
    "start_time": "2021-08-07T21:52:29.095Z"
   },
   {
    "duration": 617,
    "start_time": "2021-08-07T21:52:29.112Z"
   },
   {
    "duration": 33,
    "start_time": "2021-08-07T21:52:29.732Z"
   },
   {
    "duration": 9,
    "start_time": "2021-08-07T21:52:29.768Z"
   },
   {
    "duration": 10,
    "start_time": "2021-08-07T21:52:29.780Z"
   },
   {
    "duration": 13,
    "start_time": "2021-08-07T21:52:29.792Z"
   },
   {
    "duration": 133,
    "start_time": "2021-08-07T21:52:29.807Z"
   },
   {
    "duration": 18,
    "start_time": "2021-08-07T21:52:29.944Z"
   },
   {
    "duration": 7,
    "start_time": "2021-08-07T21:52:29.964Z"
   },
   {
    "duration": 14,
    "start_time": "2021-08-07T21:52:29.973Z"
   },
   {
    "duration": 6,
    "start_time": "2021-08-07T21:52:29.990Z"
   },
   {
    "duration": 8,
    "start_time": "2021-08-07T21:52:29.999Z"
   },
   {
    "duration": 3391,
    "start_time": "2021-08-07T21:52:30.010Z"
   },
   {
    "duration": 564,
    "start_time": "2021-08-07T21:52:33.404Z"
   },
   {
    "duration": 20176,
    "start_time": "2021-08-07T21:52:13.797Z"
   },
   {
    "duration": 20150,
    "start_time": "2021-08-07T21:52:13.825Z"
   },
   {
    "duration": 20126,
    "start_time": "2021-08-07T21:52:13.850Z"
   },
   {
    "duration": 20098,
    "start_time": "2021-08-07T21:52:13.879Z"
   },
   {
    "duration": 20068,
    "start_time": "2021-08-07T21:52:13.911Z"
   },
   {
    "duration": 20035,
    "start_time": "2021-08-07T21:52:13.946Z"
   },
   {
    "duration": 20003,
    "start_time": "2021-08-07T21:52:13.979Z"
   },
   {
    "duration": 19970,
    "start_time": "2021-08-07T21:52:14.013Z"
   },
   {
    "duration": 19942,
    "start_time": "2021-08-07T21:52:14.043Z"
   },
   {
    "duration": 19919,
    "start_time": "2021-08-07T21:52:14.067Z"
   },
   {
    "duration": 19897,
    "start_time": "2021-08-07T21:52:14.091Z"
   },
   {
    "duration": 19875,
    "start_time": "2021-08-07T21:52:14.115Z"
   },
   {
    "duration": 19766,
    "start_time": "2021-08-07T21:52:14.226Z"
   },
   {
    "duration": 19747,
    "start_time": "2021-08-07T21:52:14.247Z"
   },
   {
    "duration": 19720,
    "start_time": "2021-08-07T21:52:14.276Z"
   },
   {
    "duration": 19702,
    "start_time": "2021-08-07T21:52:14.296Z"
   },
   {
    "duration": 19674,
    "start_time": "2021-08-07T21:52:14.325Z"
   },
   {
    "duration": 19656,
    "start_time": "2021-08-07T21:52:14.346Z"
   },
   {
    "duration": 19624,
    "start_time": "2021-08-07T21:52:14.380Z"
   },
   {
    "duration": 19594,
    "start_time": "2021-08-07T21:52:14.412Z"
   },
   {
    "duration": 19560,
    "start_time": "2021-08-07T21:52:14.447Z"
   },
   {
    "duration": 19584,
    "start_time": "2021-08-07T21:52:14.477Z"
   },
   {
    "duration": 19563,
    "start_time": "2021-08-07T21:52:14.500Z"
   },
   {
    "duration": 19537,
    "start_time": "2021-08-07T21:52:14.527Z"
   },
   {
    "duration": 19508,
    "start_time": "2021-08-07T21:52:14.558Z"
   },
   {
    "duration": 19487,
    "start_time": "2021-08-07T21:52:14.580Z"
   },
   {
    "duration": 19461,
    "start_time": "2021-08-07T21:52:14.608Z"
   },
   {
    "duration": 19441,
    "start_time": "2021-08-07T21:52:14.629Z"
   },
   {
    "duration": 19410,
    "start_time": "2021-08-07T21:52:14.662Z"
   },
   {
    "duration": 19380,
    "start_time": "2021-08-07T21:52:14.693Z"
   },
   {
    "duration": 19357,
    "start_time": "2021-08-07T21:52:14.717Z"
   },
   {
    "duration": 19329,
    "start_time": "2021-08-07T21:52:14.747Z"
   },
   {
    "duration": 19300,
    "start_time": "2021-08-07T21:52:14.777Z"
   },
   {
    "duration": 19277,
    "start_time": "2021-08-07T21:52:14.801Z"
   },
   {
    "duration": 19245,
    "start_time": "2021-08-07T21:52:14.834Z"
   },
   {
    "duration": 19220,
    "start_time": "2021-08-07T21:52:14.861Z"
   },
   {
    "duration": 19186,
    "start_time": "2021-08-07T21:52:14.896Z"
   },
   {
    "duration": 26,
    "start_time": "2021-08-07T21:53:51.578Z"
   },
   {
    "duration": 26,
    "start_time": "2021-08-07T21:54:52.123Z"
   },
   {
    "duration": 25,
    "start_time": "2021-08-07T21:55:10.487Z"
   },
   {
    "duration": 23,
    "start_time": "2021-08-07T21:55:46.749Z"
   },
   {
    "duration": 28,
    "start_time": "2021-08-07T21:56:51.761Z"
   },
   {
    "duration": 31,
    "start_time": "2021-08-07T21:57:28.491Z"
   },
   {
    "duration": 27,
    "start_time": "2021-08-07T21:59:03.522Z"
   },
   {
    "duration": 28,
    "start_time": "2021-08-07T21:59:28.893Z"
   },
   {
    "duration": 28,
    "start_time": "2021-08-07T21:59:55.497Z"
   },
   {
    "duration": 109,
    "start_time": "2021-08-08T10:25:05.412Z"
   },
   {
    "duration": 77,
    "start_time": "2021-08-08T10:27:01.494Z"
   },
   {
    "duration": 3,
    "start_time": "2021-08-08T10:33:40.878Z"
   },
   {
    "duration": 3,
    "start_time": "2021-08-08T10:33:48.131Z"
   },
   {
    "duration": 74,
    "start_time": "2021-08-08T10:33:55.168Z"
   },
   {
    "duration": 3,
    "start_time": "2021-08-08T10:34:03.411Z"
   },
   {
    "duration": 77,
    "start_time": "2021-08-08T10:34:34.191Z"
   },
   {
    "duration": 78,
    "start_time": "2021-08-08T10:34:50.051Z"
   },
   {
    "duration": 76,
    "start_time": "2021-08-08T10:37:33.712Z"
   },
   {
    "duration": 78,
    "start_time": "2021-08-08T10:47:21.909Z"
   },
   {
    "duration": 74,
    "start_time": "2021-08-08T10:47:37.432Z"
   },
   {
    "duration": 85,
    "start_time": "2021-08-08T10:47:48.808Z"
   },
   {
    "duration": 1181,
    "start_time": "2021-08-08T10:48:03.567Z"
   },
   {
    "duration": 299,
    "start_time": "2021-08-08T11:04:36.401Z"
   },
   {
    "duration": 1038,
    "start_time": "2021-08-08T11:05:16.604Z"
   },
   {
    "duration": 35,
    "start_time": "2021-08-08T11:05:17.644Z"
   },
   {
    "duration": 21,
    "start_time": "2021-08-08T11:05:17.681Z"
   },
   {
    "duration": 13,
    "start_time": "2021-08-08T11:05:17.704Z"
   },
   {
    "duration": 9,
    "start_time": "2021-08-08T11:05:17.719Z"
   },
   {
    "duration": 11,
    "start_time": "2021-08-08T11:05:17.730Z"
   },
   {
    "duration": 63,
    "start_time": "2021-08-08T11:05:17.743Z"
   },
   {
    "duration": 3,
    "start_time": "2021-08-08T11:05:17.809Z"
   },
   {
    "duration": 11,
    "start_time": "2021-08-08T11:05:17.814Z"
   },
   {
    "duration": 7,
    "start_time": "2021-08-08T11:05:17.827Z"
   },
   {
    "duration": 7,
    "start_time": "2021-08-08T11:05:17.836Z"
   },
   {
    "duration": 13,
    "start_time": "2021-08-08T11:05:17.844Z"
   },
   {
    "duration": 43,
    "start_time": "2021-08-08T11:05:17.859Z"
   },
   {
    "duration": 8,
    "start_time": "2021-08-08T11:05:17.904Z"
   },
   {
    "duration": 5,
    "start_time": "2021-08-08T11:05:17.913Z"
   },
   {
    "duration": 6,
    "start_time": "2021-08-08T11:05:17.919Z"
   },
   {
    "duration": 13,
    "start_time": "2021-08-08T11:05:17.926Z"
   },
   {
    "duration": 14,
    "start_time": "2021-08-08T11:05:17.941Z"
   },
   {
    "duration": 36,
    "start_time": "2021-08-08T11:05:17.957Z"
   },
   {
    "duration": 4,
    "start_time": "2021-08-08T11:05:17.995Z"
   },
   {
    "duration": 10,
    "start_time": "2021-08-08T11:05:18.000Z"
   },
   {
    "duration": 24,
    "start_time": "2021-08-08T11:05:18.012Z"
   },
   {
    "duration": 7,
    "start_time": "2021-08-08T11:05:18.039Z"
   },
   {
    "duration": 7,
    "start_time": "2021-08-08T11:05:18.048Z"
   },
   {
    "duration": 8,
    "start_time": "2021-08-08T11:05:18.056Z"
   },
   {
    "duration": 26,
    "start_time": "2021-08-08T11:05:18.065Z"
   },
   {
    "duration": 7,
    "start_time": "2021-08-08T11:05:18.092Z"
   },
   {
    "duration": 19,
    "start_time": "2021-08-08T11:05:18.101Z"
   },
   {
    "duration": 17,
    "start_time": "2021-08-08T11:05:18.121Z"
   },
   {
    "duration": 3,
    "start_time": "2021-08-08T11:05:18.140Z"
   },
   {
    "duration": 26,
    "start_time": "2021-08-08T11:05:18.144Z"
   },
   {
    "duration": 15,
    "start_time": "2021-08-08T11:05:18.172Z"
   },
   {
    "duration": 321,
    "start_time": "2021-08-08T11:05:18.189Z"
   },
   {
    "duration": 6,
    "start_time": "2021-08-08T11:05:18.512Z"
   },
   {
    "duration": 340,
    "start_time": "2021-08-08T11:05:18.520Z"
   },
   {
    "duration": 5,
    "start_time": "2021-08-08T11:05:18.862Z"
   },
   {
    "duration": 6,
    "start_time": "2021-08-08T11:05:18.868Z"
   },
   {
    "duration": 19,
    "start_time": "2021-08-08T11:05:18.876Z"
   },
   {
    "duration": 6,
    "start_time": "2021-08-08T11:05:18.897Z"
   },
   {
    "duration": 10,
    "start_time": "2021-08-08T11:05:18.905Z"
   },
   {
    "duration": 6,
    "start_time": "2021-08-08T11:05:18.917Z"
   },
   {
    "duration": 7,
    "start_time": "2021-08-08T11:05:18.924Z"
   },
   {
    "duration": 8,
    "start_time": "2021-08-08T11:05:18.932Z"
   },
   {
    "duration": 11,
    "start_time": "2021-08-08T11:05:18.941Z"
   },
   {
    "duration": 14,
    "start_time": "2021-08-08T11:05:18.953Z"
   },
   {
    "duration": 26,
    "start_time": "2021-08-08T11:05:18.968Z"
   },
   {
    "duration": 191,
    "start_time": "2021-08-08T11:05:18.995Z"
   },
   {
    "duration": 14,
    "start_time": "2021-08-08T11:05:19.188Z"
   },
   {
    "duration": 4,
    "start_time": "2021-08-08T11:05:19.203Z"
   },
   {
    "duration": 29,
    "start_time": "2021-08-08T11:05:19.208Z"
   },
   {
    "duration": 12,
    "start_time": "2021-08-08T11:05:19.239Z"
   },
   {
    "duration": 306,
    "start_time": "2021-08-08T11:05:19.253Z"
   },
   {
    "duration": 10,
    "start_time": "2021-08-08T11:05:19.560Z"
   },
   {
    "duration": 20,
    "start_time": "2021-08-08T11:05:19.572Z"
   },
   {
    "duration": 8,
    "start_time": "2021-08-08T11:05:19.593Z"
   },
   {
    "duration": 10,
    "start_time": "2021-08-08T11:05:19.603Z"
   },
   {
    "duration": 77,
    "start_time": "2021-08-08T11:05:19.614Z"
   },
   {
    "duration": 7,
    "start_time": "2021-08-08T11:05:19.692Z"
   },
   {
    "duration": 6,
    "start_time": "2021-08-08T11:05:19.701Z"
   },
   {
    "duration": 8,
    "start_time": "2021-08-08T11:05:19.709Z"
   },
   {
    "duration": 5,
    "start_time": "2021-08-08T11:05:19.719Z"
   },
   {
    "duration": 6,
    "start_time": "2021-08-08T11:05:19.726Z"
   },
   {
    "duration": 1587,
    "start_time": "2021-08-08T11:05:19.733Z"
   },
   {
    "duration": 16,
    "start_time": "2021-08-08T11:05:21.321Z"
   },
   {
    "duration": 14,
    "start_time": "2021-08-08T11:05:21.338Z"
   },
   {
    "duration": 15,
    "start_time": "2021-08-08T11:05:21.353Z"
   },
   {
    "duration": 25,
    "start_time": "2021-08-08T11:05:21.369Z"
   },
   {
    "duration": 3,
    "start_time": "2021-08-08T11:05:21.399Z"
   },
   {
    "duration": 11,
    "start_time": "2021-08-08T11:05:21.404Z"
   },
   {
    "duration": 3,
    "start_time": "2021-08-08T11:05:21.416Z"
   },
   {
    "duration": 11,
    "start_time": "2021-08-08T11:05:21.421Z"
   },
   {
    "duration": 9,
    "start_time": "2021-08-08T11:05:21.433Z"
   },
   {
    "duration": 2248,
    "start_time": "2021-08-08T11:05:21.443Z"
   },
   {
    "duration": 400,
    "start_time": "2021-08-08T11:05:23.693Z"
   },
   {
    "duration": 333,
    "start_time": "2021-08-08T11:05:24.095Z"
   },
   {
    "duration": 274,
    "start_time": "2021-08-08T11:05:24.429Z"
   },
   {
    "duration": 12,
    "start_time": "2021-08-08T11:05:24.705Z"
   },
   {
    "duration": 20,
    "start_time": "2021-08-08T11:05:24.719Z"
   },
   {
    "duration": 12,
    "start_time": "2021-08-08T11:05:24.741Z"
   },
   {
    "duration": 43,
    "start_time": "2021-08-08T11:05:24.754Z"
   },
   {
    "duration": 13,
    "start_time": "2021-08-08T11:05:24.798Z"
   },
   {
    "duration": 13,
    "start_time": "2021-08-08T11:05:24.813Z"
   },
   {
    "duration": 12,
    "start_time": "2021-08-08T11:05:24.828Z"
   },
   {
    "duration": 13,
    "start_time": "2021-08-08T11:05:24.841Z"
   },
   {
    "duration": 44,
    "start_time": "2021-08-08T11:05:24.855Z"
   },
   {
    "duration": 12,
    "start_time": "2021-08-08T11:05:24.900Z"
   },
   {
    "duration": 11,
    "start_time": "2021-08-08T11:05:24.913Z"
   },
   {
    "duration": 11,
    "start_time": "2021-08-08T11:05:24.925Z"
   },
   {
    "duration": 11,
    "start_time": "2021-08-08T11:05:24.937Z"
   },
   {
    "duration": 43,
    "start_time": "2021-08-08T11:05:24.949Z"
   },
   {
    "duration": 11,
    "start_time": "2021-08-08T11:05:24.993Z"
   },
   {
    "duration": 6,
    "start_time": "2021-08-08T11:05:25.005Z"
   },
   {
    "duration": 9,
    "start_time": "2021-08-08T11:05:25.012Z"
   },
   {
    "duration": 10,
    "start_time": "2021-08-08T11:05:25.023Z"
   },
   {
    "duration": 9,
    "start_time": "2021-08-08T11:05:25.034Z"
   },
   {
    "duration": 6,
    "start_time": "2021-08-08T11:05:25.045Z"
   },
   {
    "duration": 8,
    "start_time": "2021-08-08T11:05:25.052Z"
   },
   {
    "duration": 16,
    "start_time": "2021-08-08T11:05:25.061Z"
   },
   {
    "duration": 6,
    "start_time": "2021-08-08T11:05:25.091Z"
   },
   {
    "duration": 9,
    "start_time": "2021-08-08T11:05:25.099Z"
   },
   {
    "duration": 8,
    "start_time": "2021-08-08T11:05:25.109Z"
   },
   {
    "duration": 9,
    "start_time": "2021-08-08T11:05:25.118Z"
   },
   {
    "duration": 11,
    "start_time": "2021-08-08T11:05:25.129Z"
   },
   {
    "duration": 27,
    "start_time": "2021-08-08T11:07:33.901Z"
   },
   {
    "duration": 30,
    "start_time": "2021-08-08T11:18:15.106Z"
   },
   {
    "duration": 297,
    "start_time": "2021-08-08T11:28:26.044Z"
   },
   {
    "duration": 284,
    "start_time": "2021-08-08T11:28:55.678Z"
   },
   {
    "duration": 290,
    "start_time": "2021-08-08T11:29:16.652Z"
   },
   {
    "duration": 104,
    "start_time": "2021-08-08T11:31:48.496Z"
   },
   {
    "duration": 299,
    "start_time": "2021-08-08T11:31:57.424Z"
   },
   {
    "duration": 387,
    "start_time": "2021-08-08T11:32:08.817Z"
   },
   {
    "duration": 79,
    "start_time": "2021-08-08T11:36:37.558Z"
   },
   {
    "duration": 169,
    "start_time": "2021-08-08T12:03:20.749Z"
   },
   {
    "duration": 171,
    "start_time": "2021-08-08T12:03:40.816Z"
   },
   {
    "duration": 600,
    "start_time": "2021-08-08T12:24:57.130Z"
   },
   {
    "duration": 15,
    "start_time": "2021-08-08T12:25:16.030Z"
   },
   {
    "duration": 173,
    "start_time": "2021-08-08T12:27:34.386Z"
   },
   {
    "duration": 145,
    "start_time": "2021-08-08T12:29:04.359Z"
   },
   {
    "duration": 136,
    "start_time": "2021-08-08T12:30:17.662Z"
   },
   {
    "duration": 133,
    "start_time": "2021-08-08T12:31:56.608Z"
   },
   {
    "duration": 133,
    "start_time": "2021-08-08T12:32:33.009Z"
   },
   {
    "duration": 6,
    "start_time": "2021-08-08T12:42:01.066Z"
   },
   {
    "duration": 4,
    "start_time": "2021-08-08T12:42:03.673Z"
   },
   {
    "duration": 1063,
    "start_time": "2021-08-08T12:42:27.266Z"
   },
   {
    "duration": 44,
    "start_time": "2021-08-08T12:42:28.330Z"
   },
   {
    "duration": 19,
    "start_time": "2021-08-08T12:42:28.376Z"
   },
   {
    "duration": 24,
    "start_time": "2021-08-08T12:42:28.397Z"
   },
   {
    "duration": 29,
    "start_time": "2021-08-08T12:42:28.423Z"
   },
   {
    "duration": 8,
    "start_time": "2021-08-08T12:42:28.453Z"
   },
   {
    "duration": 34,
    "start_time": "2021-08-08T12:42:28.463Z"
   },
   {
    "duration": 12,
    "start_time": "2021-08-08T12:42:28.500Z"
   },
   {
    "duration": 5,
    "start_time": "2021-08-08T12:42:28.514Z"
   },
   {
    "duration": 12,
    "start_time": "2021-08-08T12:42:28.520Z"
   },
   {
    "duration": 8,
    "start_time": "2021-08-08T12:42:28.533Z"
   },
   {
    "duration": 7,
    "start_time": "2021-08-08T12:42:28.542Z"
   },
   {
    "duration": 14,
    "start_time": "2021-08-08T12:42:28.550Z"
   },
   {
    "duration": 34,
    "start_time": "2021-08-08T12:42:28.565Z"
   },
   {
    "duration": 6,
    "start_time": "2021-08-08T12:42:28.600Z"
   },
   {
    "duration": 7,
    "start_time": "2021-08-08T12:42:28.607Z"
   },
   {
    "duration": 12,
    "start_time": "2021-08-08T12:42:28.615Z"
   },
   {
    "duration": 12,
    "start_time": "2021-08-08T12:42:28.628Z"
   },
   {
    "duration": 12,
    "start_time": "2021-08-08T12:42:28.642Z"
   },
   {
    "duration": 10,
    "start_time": "2021-08-08T12:42:28.656Z"
   },
   {
    "duration": 22,
    "start_time": "2021-08-08T12:42:28.668Z"
   },
   {
    "duration": 5,
    "start_time": "2021-08-08T12:42:28.692Z"
   },
   {
    "duration": 18,
    "start_time": "2021-08-08T12:42:28.701Z"
   },
   {
    "duration": 7,
    "start_time": "2021-08-08T12:42:28.721Z"
   },
   {
    "duration": 7,
    "start_time": "2021-08-08T12:42:28.729Z"
   },
   {
    "duration": 6,
    "start_time": "2021-08-08T12:42:28.738Z"
   },
   {
    "duration": 10,
    "start_time": "2021-08-08T12:42:28.746Z"
   },
   {
    "duration": 12,
    "start_time": "2021-08-08T12:42:28.758Z"
   },
   {
    "duration": 32,
    "start_time": "2021-08-08T12:42:28.771Z"
   },
   {
    "duration": 17,
    "start_time": "2021-08-08T12:42:28.804Z"
   },
   {
    "duration": 4,
    "start_time": "2021-08-08T12:42:28.822Z"
   },
   {
    "duration": 11,
    "start_time": "2021-08-08T12:42:28.827Z"
   },
   {
    "duration": 14,
    "start_time": "2021-08-08T12:42:28.839Z"
   },
   {
    "duration": 302,
    "start_time": "2021-08-08T12:42:28.854Z"
   },
   {
    "duration": 5,
    "start_time": "2021-08-08T12:42:29.158Z"
   },
   {
    "duration": 307,
    "start_time": "2021-08-08T12:42:29.165Z"
   },
   {
    "duration": 4,
    "start_time": "2021-08-08T12:42:29.473Z"
   },
   {
    "duration": 14,
    "start_time": "2021-08-08T12:42:29.479Z"
   },
   {
    "duration": 8,
    "start_time": "2021-08-08T12:42:29.495Z"
   },
   {
    "duration": 6,
    "start_time": "2021-08-08T12:42:29.505Z"
   },
   {
    "duration": 9,
    "start_time": "2021-08-08T12:42:29.513Z"
   },
   {
    "duration": 5,
    "start_time": "2021-08-08T12:42:29.523Z"
   },
   {
    "duration": 5,
    "start_time": "2021-08-08T12:42:29.530Z"
   },
   {
    "duration": 10,
    "start_time": "2021-08-08T12:42:29.536Z"
   },
   {
    "duration": 11,
    "start_time": "2021-08-08T12:42:29.547Z"
   },
   {
    "duration": 13,
    "start_time": "2021-08-08T12:42:29.559Z"
   },
   {
    "duration": 20,
    "start_time": "2021-08-08T12:42:29.593Z"
   },
   {
    "duration": 186,
    "start_time": "2021-08-08T12:42:29.615Z"
   },
   {
    "duration": 14,
    "start_time": "2021-08-08T12:42:29.803Z"
   },
   {
    "duration": 4,
    "start_time": "2021-08-08T12:42:29.818Z"
   },
   {
    "duration": 16,
    "start_time": "2021-08-08T12:42:29.823Z"
   },
   {
    "duration": 11,
    "start_time": "2021-08-08T12:42:29.840Z"
   },
   {
    "duration": 314,
    "start_time": "2021-08-08T12:42:29.852Z"
   },
   {
    "duration": 9,
    "start_time": "2021-08-08T12:42:30.168Z"
   },
   {
    "duration": 14,
    "start_time": "2021-08-08T12:42:30.179Z"
   },
   {
    "duration": 9,
    "start_time": "2021-08-08T12:42:30.195Z"
   },
   {
    "duration": 12,
    "start_time": "2021-08-08T12:42:30.206Z"
   },
   {
    "duration": 22,
    "start_time": "2021-08-08T12:42:30.220Z"
   },
   {
    "duration": 8,
    "start_time": "2021-08-08T12:42:30.244Z"
   },
   {
    "duration": 8,
    "start_time": "2021-08-08T12:42:30.254Z"
   },
   {
    "duration": 11,
    "start_time": "2021-08-08T12:42:30.264Z"
   },
   {
    "duration": 15,
    "start_time": "2021-08-08T12:42:30.276Z"
   },
   {
    "duration": 2,
    "start_time": "2021-08-08T12:42:30.293Z"
   },
   {
    "duration": 1753,
    "start_time": "2021-08-08T12:42:30.296Z"
   },
   {
    "duration": 15,
    "start_time": "2021-08-08T12:42:32.052Z"
   },
   {
    "duration": 27,
    "start_time": "2021-08-08T12:42:32.069Z"
   },
   {
    "duration": 14,
    "start_time": "2021-08-08T12:42:32.098Z"
   },
   {
    "duration": 153,
    "start_time": "2021-08-08T12:42:32.113Z"
   },
   {
    "duration": 144,
    "start_time": "2021-08-08T12:42:32.268Z"
   },
   {
    "duration": 211,
    "start_time": "2021-08-08T12:42:32.413Z"
   },
   {
    "duration": 5,
    "start_time": "2021-08-08T12:42:32.626Z"
   },
   {
    "duration": 10,
    "start_time": "2021-08-08T12:42:32.632Z"
   },
   {
    "duration": 15,
    "start_time": "2021-08-08T12:42:32.643Z"
   },
   {
    "duration": 17,
    "start_time": "2021-08-08T12:42:32.659Z"
   },
   {
    "duration": 14,
    "start_time": "2021-08-08T12:42:32.678Z"
   },
   {
    "duration": 13,
    "start_time": "2021-08-08T12:42:32.693Z"
   },
   {
    "duration": 1572,
    "start_time": "2021-08-08T12:42:32.707Z"
   },
   {
    "duration": 352,
    "start_time": "2021-08-08T12:42:34.280Z"
   },
   {
    "duration": 286,
    "start_time": "2021-08-08T12:42:34.633Z"
   },
   {
    "duration": 280,
    "start_time": "2021-08-08T12:42:34.920Z"
   },
   {
    "duration": 20,
    "start_time": "2021-08-08T12:42:35.201Z"
   },
   {
    "duration": 20,
    "start_time": "2021-08-08T12:42:35.223Z"
   },
   {
    "duration": 11,
    "start_time": "2021-08-08T12:42:35.245Z"
   },
   {
    "duration": 16,
    "start_time": "2021-08-08T12:42:35.257Z"
   },
   {
    "duration": 24,
    "start_time": "2021-08-08T12:42:35.275Z"
   },
   {
    "duration": 18,
    "start_time": "2021-08-08T12:42:35.300Z"
   },
   {
    "duration": 11,
    "start_time": "2021-08-08T12:42:35.319Z"
   },
   {
    "duration": 11,
    "start_time": "2021-08-08T12:42:35.331Z"
   },
   {
    "duration": 10,
    "start_time": "2021-08-08T12:42:35.343Z"
   },
   {
    "duration": 13,
    "start_time": "2021-08-08T12:42:35.354Z"
   },
   {
    "duration": 32,
    "start_time": "2021-08-08T12:42:35.368Z"
   },
   {
    "duration": 11,
    "start_time": "2021-08-08T12:42:35.401Z"
   },
   {
    "duration": 12,
    "start_time": "2021-08-08T12:42:35.413Z"
   },
   {
    "duration": 11,
    "start_time": "2021-08-08T12:42:35.426Z"
   },
   {
    "duration": 11,
    "start_time": "2021-08-08T12:42:35.440Z"
   },
   {
    "duration": 5,
    "start_time": "2021-08-08T12:42:35.453Z"
   },
   {
    "duration": 7,
    "start_time": "2021-08-08T12:42:35.491Z"
   },
   {
    "duration": 8,
    "start_time": "2021-08-08T12:42:35.499Z"
   },
   {
    "duration": 11,
    "start_time": "2021-08-08T12:42:35.509Z"
   },
   {
    "duration": 6,
    "start_time": "2021-08-08T12:42:35.521Z"
   },
   {
    "duration": 8,
    "start_time": "2021-08-08T12:42:35.528Z"
   },
   {
    "duration": 15,
    "start_time": "2021-08-08T12:42:35.537Z"
   },
   {
    "duration": 8,
    "start_time": "2021-08-08T12:42:35.553Z"
   },
   {
    "duration": 8,
    "start_time": "2021-08-08T12:42:35.563Z"
   },
   {
    "duration": 22,
    "start_time": "2021-08-08T12:42:35.572Z"
   },
   {
    "duration": 10,
    "start_time": "2021-08-08T12:42:35.595Z"
   },
   {
    "duration": 15,
    "start_time": "2021-08-08T12:42:35.606Z"
   },
   {
    "duration": 675,
    "start_time": "2021-08-08T12:45:19.269Z"
   },
   {
    "duration": 1631,
    "start_time": "2021-08-08T12:45:30.809Z"
   },
   {
    "duration": 330,
    "start_time": "2021-08-08T12:52:54.640Z"
   },
   {
    "duration": 290,
    "start_time": "2021-08-08T12:53:14.536Z"
   },
   {
    "duration": 12,
    "start_time": "2021-08-08T12:53:41.636Z"
   },
   {
    "duration": 20,
    "start_time": "2021-08-08T12:56:29.574Z"
   },
   {
    "duration": 19,
    "start_time": "2021-08-08T12:56:55.615Z"
   },
   {
    "duration": 14,
    "start_time": "2021-08-08T12:58:19.114Z"
   },
   {
    "duration": 19,
    "start_time": "2021-08-08T13:01:07.688Z"
   },
   {
    "duration": 18,
    "start_time": "2021-08-08T13:01:54.145Z"
   },
   {
    "duration": 32,
    "start_time": "2021-08-08T13:04:26.342Z"
   },
   {
    "duration": 25,
    "start_time": "2021-08-08T13:05:35.324Z"
   },
   {
    "duration": 13,
    "start_time": "2021-08-08T13:10:59.436Z"
   },
   {
    "duration": 13,
    "start_time": "2021-08-08T13:12:02.614Z"
   },
   {
    "duration": 10,
    "start_time": "2021-08-08T13:12:10.509Z"
   },
   {
    "duration": 14,
    "start_time": "2021-08-08T13:12:15.613Z"
   },
   {
    "duration": 12,
    "start_time": "2021-08-08T13:13:13.169Z"
   },
   {
    "duration": 13,
    "start_time": "2021-08-08T13:13:50.157Z"
   },
   {
    "duration": 14,
    "start_time": "2021-08-08T13:14:25.583Z"
   },
   {
    "duration": 13,
    "start_time": "2021-08-08T13:28:58.328Z"
   },
   {
    "duration": 13,
    "start_time": "2021-08-08T13:29:32.527Z"
   },
   {
    "duration": 17,
    "start_time": "2021-08-08T13:35:01.588Z"
   },
   {
    "duration": 7,
    "start_time": "2021-08-08T13:37:15.277Z"
   },
   {
    "duration": 7,
    "start_time": "2021-08-08T13:37:21.435Z"
   },
   {
    "duration": 1025,
    "start_time": "2021-08-08T13:44:55.935Z"
   },
   {
    "duration": 37,
    "start_time": "2021-08-08T13:44:56.962Z"
   },
   {
    "duration": 21,
    "start_time": "2021-08-08T13:44:57.002Z"
   },
   {
    "duration": 26,
    "start_time": "2021-08-08T13:44:57.025Z"
   },
   {
    "duration": 56,
    "start_time": "2021-08-08T13:44:57.053Z"
   },
   {
    "duration": 10,
    "start_time": "2021-08-08T13:44:57.111Z"
   },
   {
    "duration": 9,
    "start_time": "2021-08-08T13:44:57.123Z"
   },
   {
    "duration": 8,
    "start_time": "2021-08-08T13:44:57.135Z"
   },
   {
    "duration": 4,
    "start_time": "2021-08-08T13:44:57.145Z"
   },
   {
    "duration": 16,
    "start_time": "2021-08-08T13:44:57.150Z"
   },
   {
    "duration": 6,
    "start_time": "2021-08-08T13:44:57.192Z"
   },
   {
    "duration": 7,
    "start_time": "2021-08-08T13:44:57.199Z"
   },
   {
    "duration": 11,
    "start_time": "2021-08-08T13:44:57.207Z"
   },
   {
    "duration": 19,
    "start_time": "2021-08-08T13:44:57.219Z"
   },
   {
    "duration": 6,
    "start_time": "2021-08-08T13:44:57.239Z"
   },
   {
    "duration": 7,
    "start_time": "2021-08-08T13:44:57.247Z"
   },
   {
    "duration": 8,
    "start_time": "2021-08-08T13:44:57.256Z"
   },
   {
    "duration": 32,
    "start_time": "2021-08-08T13:44:57.266Z"
   },
   {
    "duration": 11,
    "start_time": "2021-08-08T13:44:57.300Z"
   },
   {
    "duration": 12,
    "start_time": "2021-08-08T13:44:57.313Z"
   },
   {
    "duration": 7,
    "start_time": "2021-08-08T13:44:57.326Z"
   },
   {
    "duration": 11,
    "start_time": "2021-08-08T13:44:57.334Z"
   },
   {
    "duration": 18,
    "start_time": "2021-08-08T13:44:57.348Z"
   },
   {
    "duration": 7,
    "start_time": "2021-08-08T13:44:57.368Z"
   },
   {
    "duration": 4,
    "start_time": "2021-08-08T13:44:57.391Z"
   },
   {
    "duration": 7,
    "start_time": "2021-08-08T13:44:57.397Z"
   },
   {
    "duration": 9,
    "start_time": "2021-08-08T13:44:57.406Z"
   },
   {
    "duration": 11,
    "start_time": "2021-08-08T13:44:57.417Z"
   },
   {
    "duration": 21,
    "start_time": "2021-08-08T13:44:57.430Z"
   },
   {
    "duration": 18,
    "start_time": "2021-08-08T13:44:57.453Z"
   },
   {
    "duration": 22,
    "start_time": "2021-08-08T13:44:57.473Z"
   },
   {
    "duration": 11,
    "start_time": "2021-08-08T13:44:57.496Z"
   },
   {
    "duration": 12,
    "start_time": "2021-08-08T13:44:57.508Z"
   },
   {
    "duration": 300,
    "start_time": "2021-08-08T13:44:57.521Z"
   },
   {
    "duration": 6,
    "start_time": "2021-08-08T13:44:57.823Z"
   },
   {
    "duration": 310,
    "start_time": "2021-08-08T13:44:57.830Z"
   },
   {
    "duration": 4,
    "start_time": "2021-08-08T13:44:58.142Z"
   },
   {
    "duration": 6,
    "start_time": "2021-08-08T13:44:58.148Z"
   },
   {
    "duration": 8,
    "start_time": "2021-08-08T13:44:58.156Z"
   },
   {
    "duration": 28,
    "start_time": "2021-08-08T13:44:58.165Z"
   },
   {
    "duration": 6,
    "start_time": "2021-08-08T13:44:58.194Z"
   },
   {
    "duration": 4,
    "start_time": "2021-08-08T13:44:58.201Z"
   },
   {
    "duration": 8,
    "start_time": "2021-08-08T13:44:58.207Z"
   },
   {
    "duration": 8,
    "start_time": "2021-08-08T13:44:58.217Z"
   },
   {
    "duration": 9,
    "start_time": "2021-08-08T13:44:58.226Z"
   },
   {
    "duration": 12,
    "start_time": "2021-08-08T13:44:58.236Z"
   },
   {
    "duration": 42,
    "start_time": "2021-08-08T13:44:58.250Z"
   },
   {
    "duration": 179,
    "start_time": "2021-08-08T13:44:58.293Z"
   },
   {
    "duration": 18,
    "start_time": "2021-08-08T13:44:58.474Z"
   },
   {
    "duration": 4,
    "start_time": "2021-08-08T13:44:58.493Z"
   },
   {
    "duration": 14,
    "start_time": "2021-08-08T13:44:58.498Z"
   },
   {
    "duration": 8,
    "start_time": "2021-08-08T13:44:58.514Z"
   },
   {
    "duration": 310,
    "start_time": "2021-08-08T13:44:58.523Z"
   },
   {
    "duration": 10,
    "start_time": "2021-08-08T13:44:58.834Z"
   },
   {
    "duration": 7,
    "start_time": "2021-08-08T13:44:58.845Z"
   },
   {
    "duration": 6,
    "start_time": "2021-08-08T13:44:58.854Z"
   },
   {
    "duration": 9,
    "start_time": "2021-08-08T13:44:58.862Z"
   },
   {
    "duration": 104,
    "start_time": "2021-08-08T13:44:58.873Z"
   },
   {
    "duration": 14,
    "start_time": "2021-08-08T13:44:58.978Z"
   },
   {
    "duration": 9,
    "start_time": "2021-08-08T13:44:58.994Z"
   },
   {
    "duration": 15,
    "start_time": "2021-08-08T13:44:59.004Z"
   },
   {
    "duration": 9,
    "start_time": "2021-08-08T13:44:59.021Z"
   },
   {
    "duration": 5,
    "start_time": "2021-08-08T13:44:59.031Z"
   },
   {
    "duration": 1643,
    "start_time": "2021-08-08T13:44:59.037Z"
   },
   {
    "duration": 25,
    "start_time": "2021-08-08T13:45:00.682Z"
   },
   {
    "duration": 20,
    "start_time": "2021-08-08T13:45:00.708Z"
   },
   {
    "duration": 17,
    "start_time": "2021-08-08T13:45:00.730Z"
   },
   {
    "duration": 162,
    "start_time": "2021-08-08T13:45:00.753Z"
   },
   {
    "duration": 334,
    "start_time": "2021-08-08T13:45:00.918Z"
   },
   {
    "duration": 280,
    "start_time": "2021-08-08T13:45:01.255Z"
   },
   {
    "duration": 5,
    "start_time": "2021-08-08T13:45:01.536Z"
   },
   {
    "duration": 24,
    "start_time": "2021-08-08T13:45:01.543Z"
   },
   {
    "duration": 12,
    "start_time": "2021-08-08T13:45:01.569Z"
   },
   {
    "duration": 11,
    "start_time": "2021-08-08T13:45:01.582Z"
   },
   {
    "duration": 13,
    "start_time": "2021-08-08T13:45:01.594Z"
   },
   {
    "duration": 11,
    "start_time": "2021-08-08T13:45:01.609Z"
   },
   {
    "duration": 1676,
    "start_time": "2021-08-08T13:45:01.621Z"
   },
   {
    "duration": 299,
    "start_time": "2021-08-08T13:45:03.299Z"
   },
   {
    "duration": 339,
    "start_time": "2021-08-08T13:45:03.600Z"
   },
   {
    "duration": 316,
    "start_time": "2021-08-08T13:45:03.940Z"
   },
   {
    "duration": 11,
    "start_time": "2021-08-08T13:45:04.257Z"
   },
   {
    "duration": 40,
    "start_time": "2021-08-08T13:45:04.270Z"
   },
   {
    "duration": 12,
    "start_time": "2021-08-08T13:45:04.312Z"
   },
   {
    "duration": 14,
    "start_time": "2021-08-08T13:45:04.326Z"
   },
   {
    "duration": 14,
    "start_time": "2021-08-08T13:45:04.341Z"
   },
   {
    "duration": 38,
    "start_time": "2021-08-08T13:45:04.357Z"
   },
   {
    "duration": 17,
    "start_time": "2021-08-08T13:45:04.397Z"
   },
   {
    "duration": 12,
    "start_time": "2021-08-08T13:45:04.416Z"
   },
   {
    "duration": 12,
    "start_time": "2021-08-08T13:45:04.429Z"
   },
   {
    "duration": 12,
    "start_time": "2021-08-08T13:45:04.442Z"
   },
   {
    "duration": 45,
    "start_time": "2021-08-08T13:45:04.455Z"
   },
   {
    "duration": 12,
    "start_time": "2021-08-08T13:45:04.501Z"
   },
   {
    "duration": 12,
    "start_time": "2021-08-08T13:45:04.515Z"
   },
   {
    "duration": 13,
    "start_time": "2021-08-08T13:45:04.528Z"
   },
   {
    "duration": 12,
    "start_time": "2021-08-08T13:45:04.542Z"
   },
   {
    "duration": 43,
    "start_time": "2021-08-08T13:45:04.556Z"
   },
   {
    "duration": 7,
    "start_time": "2021-08-08T13:45:04.601Z"
   },
   {
    "duration": 9,
    "start_time": "2021-08-08T13:45:04.609Z"
   },
   {
    "duration": 10,
    "start_time": "2021-08-08T13:45:04.620Z"
   },
   {
    "duration": 7,
    "start_time": "2021-08-08T13:45:04.632Z"
   },
   {
    "duration": 6,
    "start_time": "2021-08-08T13:45:04.641Z"
   },
   {
    "duration": 9,
    "start_time": "2021-08-08T13:45:04.648Z"
   },
   {
    "duration": 9,
    "start_time": "2021-08-08T13:45:04.691Z"
   },
   {
    "duration": 12,
    "start_time": "2021-08-08T13:45:04.702Z"
   },
   {
    "duration": 11,
    "start_time": "2021-08-08T13:45:04.716Z"
   },
   {
    "duration": 9,
    "start_time": "2021-08-08T13:45:04.729Z"
   },
   {
    "duration": 9,
    "start_time": "2021-08-08T13:45:04.739Z"
   },
   {
    "duration": 10,
    "start_time": "2021-08-08T13:45:04.750Z"
   }
  ],
  "kernelspec": {
   "display_name": "Python 3 (ipykernel)",
   "language": "python",
   "name": "python3"
  },
  "language_info": {
   "codemirror_mode": {
    "name": "ipython",
    "version": 3
   },
   "file_extension": ".py",
   "mimetype": "text/x-python",
   "name": "python",
   "nbconvert_exporter": "python",
   "pygments_lexer": "ipython3",
   "version": "3.9.7"
  },
  "toc": {
   "base_numbering": 1,
   "nav_menu": {},
   "number_sections": true,
   "sideBar": true,
   "skip_h1_title": true,
   "title_cell": "Table of Contents",
   "title_sidebar": "Contents",
   "toc_cell": true,
   "toc_position": {
    "height": "calc(100% - 180px)",
    "left": "10px",
    "top": "150px",
    "width": "307.2px"
   },
   "toc_section_display": true,
   "toc_window_display": true
  }
 },
 "nbformat": 4,
 "nbformat_minor": 4
}
